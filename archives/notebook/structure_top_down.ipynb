{
 "cells": [
  {
   "cell_type": "code",
   "execution_count": 1,
   "metadata": {},
   "outputs": [],
   "source": [
    "import os\n",
    "import sys\n",
    "sys.path.append('../src')\n",
    "\n",
    "from openai import OpenAI\n",
    "from dotenv import load_dotenv\n",
    "from agents import BaseAgent, Agent, MultiAgent"
   ]
  },
  {
   "cell_type": "code",
   "execution_count": 2,
   "metadata": {},
   "outputs": [],
   "source": [
    "load_dotenv()\n",
    "\n",
    "client = OpenAI(\n",
    "    api_key=os.environ.get(\"OPENAI_API_KEY\"),\n",
    "    base_url=os.environ.get(\"OPENAI_BASE_URL\"),\n",
    ")"
   ]
  },
  {
   "cell_type": "markdown",
   "metadata": {},
   "source": []
  },
  {
   "cell_type": "code",
   "execution_count": 3,
   "metadata": {},
   "outputs": [],
   "source": [
    "# Top level agent\n",
    "general_agent = Agent(base_agent = BaseAgent(client),\n",
    "           name = \"general agent\",\n",
    "           instructions= \"Determine which agent is best suited to handle the user's request, and transfer the conversation to that agent.\",\n",
    "           handoff_description = \"Call this agent if you don't know how to answer the user's question or do not has access to the necessary information.\")\n",
    "\n",
    "# Down level agents\n",
    "personal_assistant_agent = Agent(base_agent = BaseAgent(client),\n",
    "              name = \"personal assistant agent\",\n",
    "              instructions= \"Help manage schedules, send reminders for tasks, and provide information on daily activities. Assist with time management and organization.\",\n",
    "              handoff_description = \"Call this agent if a user is asking about a topic related to personal assistance like scheduling, reminders, and time management.\")\n",
    "\n",
    "budgeting_and_finance_agent = Agent(base_agent = BaseAgent(client),\n",
    "                name = \"budgeting and finance agent\",\n",
    "                instructions= \"Assist with managing personal finances, tracking expenses, and providing advice on saving and budgeting strategies to ensure financial well-being.\",\n",
    "                handoff_description = \"Call this agent if a user is asking about a topic related to budgeting and finance like managing personal finances, tracking expenses, and saving strategies.\")"
   ]
  },
  {
   "cell_type": "code",
   "execution_count": 4,
   "metadata": {},
   "outputs": [],
   "source": [
    "# some tools for personal assistant agent\n",
    "def get_schedule():\n",
    "    \"\"\" \n",
    "    Returns a list of events on the schedule.\n",
    "    \"\"\"\n",
    "    schedule = [\"meeting with John at 10am\", \"lunch with Jane at 12pm\"]\n",
    "    return f\"your schedule for today is: {', '.join(schedule)}\"\n",
    "def get_reminders():\n",
    "    \"\"\" \n",
    "    Returns a list of reminders.\n",
    "    \"\"\"\n",
    "    reminders = [\"buy groceries\", \"pay bills\"]\n",
    "    return f\"your reminders are: {', '.join(reminders)}\"\n",
    "# some tools for budgeting and finance agent\n",
    "def get_today_total_cost():\n",
    "    \"\"\" \n",
    "    Returns today's total cost.\n",
    "    \"\"\"\n",
    "    cost = 100\n",
    "    return f\"today's total cost is {cost}\"\n",
    "def get_total_cost_this_month():\n",
    "    \"\"\"\n",
    "    Returns this month's total cost.\n",
    "    \"\"\"\n",
    "    cost = 3000\n",
    "    return f\"this month's total cost is {cost}\"\n",
    "\n",
    "personal_assistant_agent.add_tools([get_schedule, get_reminders])\n",
    "budgeting_and_finance_agent.add_tools([get_today_total_cost, get_total_cost_this_month])"
   ]
  },
  {
   "cell_type": "code",
   "execution_count": 5,
   "metadata": {},
   "outputs": [],
   "source": [
    "# MultiAgent\n",
    "\n",
    "multi_agent = MultiAgent(start_agent=general_agent)\n",
    "# top level agent hands off to down level agents\n",
    "multi_agent.add_handoff_relations(from_agent=general_agent,to_agents=[personal_assistant_agent,budgeting_and_finance_agent])\n"
   ]
  },
  {
   "cell_type": "code",
   "execution_count": 10,
   "metadata": {},
   "outputs": [
    {
     "data": {
      "text/plain": [
       "[{'role': 'assistant',\n",
       "  'content': \"You spent a total of $100 today. If you need help tracking where that money went or if you're looking for budgeting advice, feel free to share!\",\n",
       "  'sender': 'budgeting_and_finance_agent'}]"
      ]
     },
     "execution_count": 10,
     "metadata": {},
     "output_type": "execute_result"
    }
   ],
   "source": [
    "multi_agent.chat([{ \"role\": \"user\", \"content\": \"how much did I spend today?\"}],agent=general_agent)\n",
    "# multi_agent.handoff([{\"role\": \"user\", \"content\": \"I need help with my budget.\"}],agent=general_agent)"
   ]
  },
  {
   "cell_type": "code",
   "execution_count": 7,
   "metadata": {},
   "outputs": [
    {
     "data": {
      "text/plain": [
       "[{'role': 'assistant',\n",
       "  'tool_calls': [{'id': 'call_1t54vKq2brKz4wkyPtF7E1xw',\n",
       "    'function': {'arguments': '{\"message\": \"how much did I spend today?\"}',\n",
       "     'name': 'budgeting_and_finance_agent'},\n",
       "    'type': 'function'}],\n",
       "  'type': 'handoff',\n",
       "  'sender': 'general_agent'},\n",
       " {'role': 'tool',\n",
       "  'handoff': 'general_agent -> budgeting_and_finance_agent',\n",
       "  'content': 'Handing off to budgeting_and_finance_agent',\n",
       "  'tool_call_id': 'call_1t54vKq2brKz4wkyPtF7E1xw',\n",
       "  'message': 'how much did I spend today?',\n",
       "  'type': 'handoff',\n",
       "  'sender': 'budgeting_and_finance_agent'},\n",
       " {'role': 'assistant',\n",
       "  'tool_calls': [{'id': 'call_2KbTP4SmXuc5hqRoEXGjvxzl',\n",
       "    'function': {'arguments': '{}', 'name': 'get_today_total_cost'},\n",
       "    'type': 'function'}],\n",
       "  'type': 'tool',\n",
       "  'sender': 'budgeting_and_finance_agent'},\n",
       " {'role': 'tool',\n",
       "  'content': \"today's total cost is 100\",\n",
       "  'tool_call_id': 'call_2KbTP4SmXuc5hqRoEXGjvxzl',\n",
       "  'type': 'tool',\n",
       "  'sender': 'budgeting_and_finance_agent'},\n",
       " {'role': 'assistant',\n",
       "  'content': 'You spent a total of $100 today. If you need help with tracking your expenses further or advice on budgeting, feel free to ask!',\n",
       "  'sender': 'budgeting_and_finance_agent'}]"
      ]
     },
     "execution_count": 7,
     "metadata": {},
     "output_type": "execute_result"
    }
   ],
   "source": [
    "multi_agent.chat([{ \"role\": \"user\", \"content\": \"how much did I spend today?\"}],agent=general_agent,show_details=True)"
   ]
  },
  {
   "cell_type": "code",
   "execution_count": 8,
   "metadata": {},
   "outputs": [
    {
     "data": {
      "text/plain": [
       "[{'role': 'assistant',\n",
       "  'content': 'Your schedule for today includes:\\n\\n- **10:00 AM**: Meeting with John\\n- **12:00 PM**: Lunch with Jane\\n\\nWould you like to set reminders for these events or need any additional information?',\n",
       "  'sender': 'personal_assistant_agent'}]"
      ]
     },
     "execution_count": 8,
     "metadata": {},
     "output_type": "execute_result"
    }
   ],
   "source": [
    "multi_agent.chat([{ \"role\": \"user\", \"content\": \"what's on my schedule today?\"}],agent=general_agent)"
   ]
  },
  {
   "cell_type": "code",
   "execution_count": 9,
   "metadata": {},
   "outputs": [
    {
     "data": {
      "text/plain": [
       "[{'role': 'assistant',\n",
       "  'content': 'Today, your total spending amounted to $100. If you would like, I can help you break down this spending or provide insights on how to adjust your budget for future expenses.',\n",
       "  'sender': 'budgeting_and_finance_agent'},\n",
       " {'role': 'assistant',\n",
       "  'content': \"Today's schedule includes:\\n\\n- **10:00 AM**: Meeting with John\\n- **12:00 PM**: Lunch with Jane\\n\\nIf you need any reminders set or additional information, let me know!\",\n",
       "  'sender': 'personal_assistant_agent'}]"
      ]
     },
     "execution_count": 9,
     "metadata": {},
     "output_type": "execute_result"
    }
   ],
   "source": [
    "multi_agent.chat([{ \"role\": \"user\", \"content\": \"how much did I spend today and what's on my schedule?\"}],agent=general_agent,show_details=False)"
   ]
  },
  {
   "cell_type": "code",
   "execution_count": null,
   "metadata": {},
   "outputs": [],
   "source": []
  },
  {
   "cell_type": "code",
   "execution_count": null,
   "metadata": {},
   "outputs": [],
   "source": []
  },
  {
   "cell_type": "code",
   "execution_count": null,
   "metadata": {},
   "outputs": [],
   "source": []
  }
 ],
 "metadata": {
  "kernelspec": {
   "display_name": ".venv",
   "language": "python",
   "name": "python3"
  },
  "language_info": {
   "codemirror_mode": {
    "name": "ipython",
    "version": 3
   },
   "file_extension": ".py",
   "mimetype": "text/x-python",
   "name": "python",
   "nbconvert_exporter": "python",
   "pygments_lexer": "ipython3",
   "version": "3.11.5"
  }
 },
 "nbformat": 4,
 "nbformat_minor": 2
}
