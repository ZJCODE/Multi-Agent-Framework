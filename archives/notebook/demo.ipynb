{
 "cells": [
  {
   "cell_type": "markdown",
   "metadata": {},
   "source": [
    "# Multi Agent Framework"
   ]
  },
  {
   "cell_type": "code",
   "execution_count": 1,
   "metadata": {},
   "outputs": [],
   "source": [
    "import os\n",
    "import sys\n",
    "sys.path.append('../src')\n",
    "\n",
    "from openai import OpenAI\n",
    "from dotenv import load_dotenv\n",
    "from agents import BaseAgent, Agent, MultiAgent"
   ]
  },
  {
   "cell_type": "markdown",
   "metadata": {},
   "source": [
    "### LLM Preparation "
   ]
  },
  {
   "cell_type": "code",
   "execution_count": 2,
   "metadata": {},
   "outputs": [],
   "source": [
    "load_dotenv()\n",
    "\n",
    "client = OpenAI(\n",
    "    api_key=os.environ.get(\"OPENAI_API_KEY\"),\n",
    "    base_url=os.environ.get(\"OPENAI_BASE_URL\"),\n",
    ")"
   ]
  },
  {
   "cell_type": "markdown",
   "metadata": {},
   "source": [
    "### Init Several Agents"
   ]
  },
  {
   "cell_type": "code",
   "execution_count": 3,
   "metadata": {},
   "outputs": [],
   "source": [
    "general_agent = Agent(base_agent = BaseAgent(client),\n",
    "           name = \"general agent\",\n",
    "           instructions= \"Determine which agent is best suited to handle the user's request, and transfer the conversation to that agent.\",\n",
    "           handoff_description = \"Call this agent if you don't know how to answer the user's question or do not has access to the necessary information.\")\n",
    "\n",
    "science_agent = Agent(base_agent = BaseAgent(client),\n",
    "           name = \"science agent\",\n",
    "           instructions = \"Agent who is knowledgeable about science topics and can answer questions about them.\",\n",
    "           handoff_description = \"Call this agent if a user is asking about a science topic like physics, chemistry, biology, etc.\")\n",
    "\n",
    "music_agent = Agent(base_agent = BaseAgent(client),\n",
    "           name = \"music agent\",\n",
    "           instructions = \"Agent who is knowledgeable about music topics and can answer questions about them.\",\n",
    "           handoff_description = \"Call this agent if a user is asking about a music topic like music theory, music history, music genres, etc.\")\n",
    "\n",
    "daily_agent = Agent(base_agent = BaseAgent(client),\n",
    "           name = \"daily agent\",\n",
    "           instructions = \"Agent who is knowledgeable about daily topics and can answer questions about them.\",\n",
    "           handoff_description = \"Call this agent if a user is asking about a daily topic like weather, news, etc.\")"
   ]
  },
  {
   "cell_type": "markdown",
   "metadata": {},
   "source": [
    "###  Build a Multi-Agent environment & add handoff relationships "
   ]
  },
  {
   "cell_type": "code",
   "execution_count": 4,
   "metadata": {},
   "outputs": [],
   "source": [
    "# Build a Multi-Agent environment & add handoff relationships\n",
    "ma = MultiAgent(start_agent=general_agent)\n",
    "ma.add_handoff_relations(from_agent=general_agent,to_agents=[science_agent,music_agent,daily_agent])\n",
    "ma.add_handoff_relations(from_agent=science_agent,to_agents=[general_agent])\n",
    "ma.add_handoff_relations(from_agent=music_agent,to_agents=[general_agent])\n",
    "ma.add_handoff_relations(from_agent=daily_agent,to_agents=[general_agent])\n",
    "# ma.add_handoff_relations(from_agent=science_agent,to_agents=[general_agent,music_agent,daily_agent])\n",
    "# ma.add_handoff_relations(from_agent=music_agent,to_agents=[general_agent,science_agent,daily_agent])\n",
    "# ma.add_handoff_relations(from_agent=daily_agent,to_agents=[general_agent,science_agent,music_agent])\n",
    "\n"
   ]
  },
  {
   "cell_type": "markdown",
   "metadata": {},
   "source": [
    "### Multi-Agent handoff example\n",
    "\n",
    "use handoff to get the agent who is suitable for the task\n",
    "\n",
    "Then call the agent's pre-designed capabilities, such as streaming, tools, memory, reasoning, etc."
   ]
  },
  {
   "cell_type": "code",
   "execution_count": 5,
   "metadata": {},
   "outputs": [
    {
     "data": {
      "text/plain": [
       "{'science_agent': <agents.Agent at 0x116df58d0>}"
      ]
     },
     "execution_count": 5,
     "metadata": {},
     "output_type": "execute_result"
    }
   ],
   "source": [
    "ma.handoff(messages=[{\"role\": \"user\", \"content\": \"why the sky is blue\"}],agent=general_agent)"
   ]
  },
  {
   "cell_type": "code",
   "execution_count": 6,
   "metadata": {},
   "outputs": [
    {
     "data": {
      "text/plain": [
       "{'science_agent': <agents.Agent at 0x116df58d0>,\n",
       " 'music_agent': <agents.Agent at 0x116df5a10>}"
      ]
     },
     "execution_count": 6,
     "metadata": {},
     "output_type": "execute_result"
    }
   ],
   "source": [
    "ma.handoff(messages=[{\"role\": \"user\", \"content\": \"why the sky is blue and recommend me some music\"}],agent=general_agent)"
   ]
  },
  {
   "cell_type": "markdown",
   "metadata": {},
   "source": [
    "### Multi-Agent dialogue example"
   ]
  },
  {
   "cell_type": "code",
   "execution_count": 7,
   "metadata": {},
   "outputs": [
    {
     "data": {
      "text/plain": [
       "[{'role': 'assistant',\n",
       "  'content': 'The sky appears blue due to a phenomenon called Rayleigh scattering. When sunlight enters Earth’s atmosphere, it interacts with air molecules and small particles. Sunlight is made up of different colors, which correspond to different wavelengths. Blue light has a shorter wavelength compared to other colors like red.\\n\\nBecause of its shorter wavelength, blue light is scattered in all directions by the gases and particles in the atmosphere. This scattering causes more blue light to reach our eyes than other colors when we look up at the sky. During sunrise and sunset, the sunlight has to pass through more atmosphere, which scatters the shorter blue wavelengths out of our line of sight and allows the longer wavelengths (reds and oranges) to become more prominent, which is why the sky can appear red or orange at those times.',\n",
       "  'sender': 'science_agent'}]"
      ]
     },
     "execution_count": 7,
     "metadata": {},
     "output_type": "execute_result"
    }
   ],
   "source": [
    "ma.chat(messages=[{\"role\": \"user\", \"content\": \"why the sky is blue\"}])"
   ]
  },
  {
   "cell_type": "code",
   "execution_count": 8,
   "metadata": {},
   "outputs": [
    {
     "data": {
      "text/plain": [
       "[{'role': 'assistant',\n",
       "  'content': \"I'm an AI developed to assist with questions and topics related to science. Whether you have inquiries about biology, chemistry, physics, or any other scientific field, I'm here to help! What would you like to know?\",\n",
       "  'sender': 'science_agent'}]"
      ]
     },
     "execution_count": 8,
     "metadata": {},
     "output_type": "execute_result"
    }
   ],
   "source": [
    "ma.chat(messages=[{\"role\": \"user\", \"content\": \"who are you\"}])"
   ]
  },
  {
   "cell_type": "code",
   "execution_count": 12,
   "metadata": {},
   "outputs": [
    {
     "data": {
      "text/plain": [
       "[{'role': 'assistant',\n",
       "  'content': 'Sure! To give you the best recommendations, it would help to know your preferences. Are you looking for a specific genre, mood, or time period? Here are some general suggestions across different genres:\\n\\n### Pop\\n- **Dua Lipa** – *Future Nostalgia*\\n- **Harry Styles** – *Fine Line*\\n\\n### Rock\\n- **Foo Fighters** – *Medicine at Midnight*\\n- **The Strokes** – *The New Abnormal*\\n\\n### Hip-Hop\\n- **Kendrick Lamar** – *Mr. Morale & The Big Steppers*\\n- **Tyler, The Creator** – *Call Me If You Get Lost*\\n\\n### Indie/Alternative\\n- **Phoebe Bridgers** – *Punisher*\\n- **Tame Impala** – *The Slow Rush*\\n\\n### Electronic\\n- **ODESZA** – *A Moment Apart*\\n- **Flume** – *Palaces*\\n\\n### R&B/Soul\\n- **H.E.R.** – *Back of My Mind*\\n- **SZA** – *SOS*\\n\\nIf you let me know more about your tastes, I can tailor the recommendations further!',\n",
       "  'sender': 'music_agent'}]"
      ]
     },
     "execution_count": 12,
     "metadata": {},
     "output_type": "execute_result"
    }
   ],
   "source": [
    "ma.chat(messages=[{\"role\": \"user\", \"content\": \"recommend me some music\"}])"
   ]
  },
  {
   "cell_type": "code",
   "execution_count": 14,
   "metadata": {},
   "outputs": [
    {
     "data": {
      "text/plain": [
       "[{'role': 'assistant',\n",
       "  'content': 'Sure! Here are a few dinner recommendations based on different cuisines and preferences:\\n\\n1. **Italian Night**: Try making a classic spaghetti carbonara. Toss spaghetti with eggs, Parmesan cheese, pancetta, and black pepper for a creamy, comforting dish.\\n\\n2. **Taco Tuesday** (any day): Prepare some delicious tacos with grilled chicken or beef, topped with fresh avocado, salsa, cilantro, and lime. Serve with corn tortillas or lettuce wraps for a low-carb option.\\n\\n3. **Asian-Inspired**: Whip up a stir-fry with your choice of protein (tofu, chicken, or shrimp) and an array of colorful vegetables like bell peppers, broccoli, and snap peas. Serve over jasmine rice or noodles.\\n\\n4. **Comfort Food**: Make a hearty chili with ground beef or turkey, kidney beans, tomatoes, and spices. Serve with cornbread or over baked potatoes.\\n\\n5. **Vegetarian Delight**: Try a chickpea curry with coconut milk, spinach, and spices served over basmati rice. It’s flavorful, healthy, and easy to make.\\n\\nLet me know if you have a specific cuisine in mind or any dietary restrictions, and I can tailor the recommendation further!',\n",
       "  'sender': 'daily_agent'}]"
      ]
     },
     "execution_count": 14,
     "metadata": {},
     "output_type": "execute_result"
    }
   ],
   "source": [
    "ma.chat(messages=[{\"role\": \"user\", \"content\": \"dinner recommendation for today\"}])"
   ]
  },
  {
   "cell_type": "code",
   "execution_count": 34,
   "metadata": {},
   "outputs": [
    {
     "data": {
      "text/plain": [
       "[{'role': 'assistant',\n",
       "  'content': \"I'm an AI designed to assist you with questions and topics related to science. Whether you're curious about biology, chemistry, physics, or any other scientific field, feel free to ask!\",\n",
       "  'sender': 'science_agent'}]"
      ]
     },
     "execution_count": 34,
     "metadata": {},
     "output_type": "execute_result"
    }
   ],
   "source": [
    "ma.chat(messages=[{\"role\": \"user\", \"content\": \"who are you\"}],agent=science_agent)"
   ]
  },
  {
   "cell_type": "code",
   "execution_count": 35,
   "metadata": {},
   "outputs": [
    {
     "data": {
      "text/plain": [
       "[{'role': 'assistant',\n",
       "  'content': \"The sky appears blue primarily due to a phenomenon called Rayleigh scattering. This occurs when sunlight enters Earth's atmosphere and interacts with molecules and small particles in the air.\\n\\nSunlight, or white light, is made up of many colors, each with different wavelengths. Blue light has a shorter wavelength compared to colors like red and orange. When sunlight passes through the atmosphere, the shorter wavelengths of light (blue and violet) are scattered in all directions by the gases and particles.\\n\\nAlthough both blue and violet light are scattered, our eyes are more sensitive to blue light, and some of the violet light is absorbed by the ozone layer. As a result, we predominantly see the sky as blue during the day. \\n\\nThe intensity of the blue color can vary based on factors such as the angle of the sun, atmospheric conditions, and the presence of particles or pollutants in the air, which can scatter light differently and sometimes create a more vivid sky.\",\n",
       "  'sender': 'science_agent'},\n",
       " {'role': 'assistant',\n",
       "  'content': 'Sure! Here are some music recommendations across various genres:\\n\\n### Pop\\n- **Dua Lipa** - *Future Nostalgia*\\n- **Billie Eilish** - *Happier Than Ever*\\n\\n### Rock\\n- **Greta Van Fleet** - *The Battle at Gardens Gate*\\n- **Foo Fighters** - *Medicine at Midnight*\\n\\n### Indie/Alternative\\n- **Arctic Monkeys** - *The Car*\\n- **Phoebe Bridgers** - *Punisher*\\n\\n### Hip-Hop/Rap\\n- **Kendrick Lamar** - *Mr. Morale & The Big Steppers*\\n- **Tyler, The Creator** - *Call Me If You Get Lost*\\n\\n### R&B/Soul\\n- **H.E.R.** - *Back of My Mind*\\n- **SZA** - *SOS*\\n\\n### Electronic\\n- **ODESZA** - *A Moment Apart*\\n- **Flume** - *Palaces*\\n\\n### Classical\\n- **Ludovico Einaudi** - *Islands*\\n- **Max Richter** - *Sleep*\\n\\nIf you have a specific mood, theme, or style in mind, let me know, and I can tailor the recommendations!',\n",
       "  'sender': 'music_agent'}]"
      ]
     },
     "execution_count": 35,
     "metadata": {},
     "output_type": "execute_result"
    }
   ],
   "source": [
    "ma.chat(messages=[{\"role\": \"user\", \"content\": \"why the sky is blue and recommend me some music\"}],agent=general_agent)"
   ]
  },
  {
   "cell_type": "markdown",
   "metadata": {},
   "source": [
    "### Multi-Agent tool use example"
   ]
  },
  {
   "cell_type": "code",
   "execution_count": 36,
   "metadata": {},
   "outputs": [],
   "source": [
    "def get_weather(city:str)->str:\n",
    "    \"\"\" \n",
    "    Get the weather for a specified city.\n",
    "    \"\"\"\n",
    "    return f\"The weather in {city} is sunny.\"\n",
    "\n",
    "\n",
    "def get_today_news()->str:\n",
    "    \"\"\" \n",
    "    Get today's news.\n",
    "    \"\"\"\n",
    "    return \"ZJun created an Agent Framework.\""
   ]
  },
  {
   "cell_type": "code",
   "execution_count": 37,
   "metadata": {},
   "outputs": [],
   "source": [
    "daily_agent.add_tools([get_weather,get_today_news])"
   ]
  },
  {
   "cell_type": "code",
   "execution_count": 38,
   "metadata": {},
   "outputs": [
    {
     "data": {
      "text/plain": [
       "[{'role': 'assistant',\n",
       "  'content': 'The weather in Hangzhou is currently sunny. If you need more specific details such as temperature or forecast, just let me know!',\n",
       "  'sender': 'daily_agent'}]"
      ]
     },
     "execution_count": 38,
     "metadata": {},
     "output_type": "execute_result"
    }
   ],
   "source": [
    "ma.chat(messages=[{\"role\": \"user\", \"content\": \"what is the weather in Hangzhou?\"}])"
   ]
  },
  {
   "cell_type": "code",
   "execution_count": 39,
   "metadata": {},
   "outputs": [
    {
     "data": {
      "text/plain": [
       "[{'role': 'assistant',\n",
       "  'content': \"Today, there was a notable development as ZJun created an Agent Framework. If you have specific topics or areas of interest you'd like more details on, feel free to ask!\",\n",
       "  'sender': 'daily_agent'}]"
      ]
     },
     "execution_count": 39,
     "metadata": {},
     "output_type": "execute_result"
    }
   ],
   "source": [
    "ma.chat(messages=[{\"role\": \"user\", \"content\": \"what happened today?\"}])"
   ]
  },
  {
   "cell_type": "code",
   "execution_count": 40,
   "metadata": {},
   "outputs": [
    {
     "data": {
      "text/plain": [
       "[{'role': 'assistant',\n",
       "  'content': 'Today, ZJun announced the creation of an Agent Framework. This new development could have implications for various applications involving AI and automated systems. If you’re interested in more details or specific aspects of this news, feel free to ask!',\n",
       "  'sender': 'daily_agent'},\n",
       " {'role': 'assistant',\n",
       "  'content': 'The weather in Hangzhou is currently sunny. If you need more specific information like temperature or forecast, let me know!',\n",
       "  'sender': 'daily_agent'}]"
      ]
     },
     "execution_count": 40,
     "metadata": {},
     "output_type": "execute_result"
    }
   ],
   "source": [
    "ma.chat(messages=[{\"role\": \"user\", \"content\": \"what is the weather in Hangzhou and what happened today?\"}],\n",
    "        agent=general_agent,\n",
    "        show_details=False)"
   ]
  },
  {
   "cell_type": "code",
   "execution_count": null,
   "metadata": {},
   "outputs": [],
   "source": []
  },
  {
   "cell_type": "code",
   "execution_count": null,
   "metadata": {},
   "outputs": [],
   "source": []
  },
  {
   "cell_type": "code",
   "execution_count": null,
   "metadata": {},
   "outputs": [],
   "source": []
  },
  {
   "cell_type": "code",
   "execution_count": null,
   "metadata": {},
   "outputs": [],
   "source": []
  }
 ],
 "metadata": {
  "kernelspec": {
   "display_name": ".venv",
   "language": "python",
   "name": "python3"
  },
  "language_info": {
   "codemirror_mode": {
    "name": "ipython",
    "version": 3
   },
   "file_extension": ".py",
   "mimetype": "text/x-python",
   "name": "python",
   "nbconvert_exporter": "python",
   "pygments_lexer": "ipython3",
   "version": "3.11.5"
  }
 },
 "nbformat": 4,
 "nbformat_minor": 2
}
