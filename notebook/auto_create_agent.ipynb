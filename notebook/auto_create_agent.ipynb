{
 "cells": [
  {
   "cell_type": "code",
   "execution_count": 16,
   "metadata": {},
   "outputs": [],
   "source": [
    "import os\n",
    "import sys\n",
    "sys.path.append('../src')\n",
    "\n",
    "from openai import OpenAI\n",
    "from dotenv import load_dotenv\n",
    "from agents import BaseAgent, Agent, MultiAgent\n",
    "from pydantic import BaseModel"
   ]
  },
  {
   "cell_type": "code",
   "execution_count": 17,
   "metadata": {},
   "outputs": [],
   "source": [
    "load_dotenv()\n",
    "\n",
    "client = OpenAI(\n",
    "    api_key=os.environ.get(\"OPENAI_API_KEY\"),\n",
    "    base_url=os.environ.get(\"OPENAI_BASE_URL\"),\n",
    ")\n"
   ]
  },
  {
   "cell_type": "code",
   "execution_count": 18,
   "metadata": {},
   "outputs": [],
   "source": [
    "# Top level agent\n",
    "general_agent = Agent(base_agent = BaseAgent(client),\n",
    "           name = \"general agent\",\n",
    "           instructions= \"Determine which agent is best suited to handle the user's request, and transfer the conversation to that agent.\",\n",
    "           handoff_description = \"Call this agent if you don't know how to answer the user's question or do not has access to the necessary information.\")"
   ]
  },
  {
   "cell_type": "code",
   "execution_count": 19,
   "metadata": {},
   "outputs": [],
   "source": [
    "class AgentDesc(BaseModel):\n",
    "    name: str\n",
    "    instructions: str\n",
    "    handoff_description: str\n",
    "    \n",
    "def create_new_agent(input: str)->Agent:\n",
    "    \"\"\" \n",
    "    If there is no other agent or tool can handle the input, call this function to create a new agent.\n",
    "    \"\"\"\n",
    "\n",
    "    model = \"gpt-4o-mini\"\n",
    "\n",
    "    completion = client.beta.chat.completions.parse(\n",
    "    model=model,\n",
    "    messages=[\n",
    "        {\"role\": \"system\", \"content\": \"\"\" \n",
    "         Create a new agent. The agent should be able to handle user request. return the agent description.\n",
    "\n",
    "        ## name example\n",
    "        \n",
    "         science agent (only english characters and spaces are allowed)\n",
    "         \n",
    "        ## instructions example\n",
    "         \n",
    "        You are a Science Agent As a science agent, you have a strong understanding of physics, chemistry, and biology. You can answer a variety of questions in these fields. Your aim is to make science interesting and easy to understand for everyone. If a question is outside your expertise, you can refer the user to another agent.\n",
    "         \n",
    "        ## handoff_description example\n",
    "        \n",
    "        Call this agent if you have a question related to science, physics, chemistry, or biology. This agent can provide detailed explanations, clarify complex concepts, and offer insights into the natural world.\n",
    "         \n",
    "         \"\"\"},\n",
    "        {\"role\": \"user\", \"content\": input},\n",
    "    ],\n",
    "    response_format=AgentDesc,\n",
    ")\n",
    "\n",
    "    event = completion.choices[0].message.parsed\n",
    "\n",
    "    new_agent = Agent(base_agent = BaseAgent(client),name=event.name, instructions=event.instructions, handoff_description=event.handoff_description)\n",
    "\n",
    "    general_agent.add_handoff(new_agent)\n",
    "    new_agent.add_handoff(general_agent)\n",
    "\n",
    "    return \"#CreateNewAgent#\"\n",
    "    \n"
   ]
  },
  {
   "cell_type": "code",
   "execution_count": 20,
   "metadata": {},
   "outputs": [],
   "source": [
    "general_agent.add_tools([create_new_agent])"
   ]
  },
  {
   "cell_type": "code",
   "execution_count": 21,
   "metadata": {},
   "outputs": [],
   "source": [
    "multi_agent = MultiAgent(start_agent=general_agent)"
   ]
  },
  {
   "cell_type": "code",
   "execution_count": 22,
   "metadata": {},
   "outputs": [
    {
     "data": {
      "text/plain": [
       "[{'role': 'assistant',\n",
       "  'tool_calls': [{'id': 'call_lK9JaND8q9gOVQivbaPY9LyO',\n",
       "    'function': {'arguments': '{\"input\":\"how to ride a bike\"}',\n",
       "     'name': 'create_new_agent'},\n",
       "    'type': 'function'}],\n",
       "  'type': 'tool',\n",
       "  'sender': 'general_agent'},\n",
       " {'role': 'tool',\n",
       "  'content': '#CreateNewAgent#',\n",
       "  'tool_call_id': 'call_lK9JaND8q9gOVQivbaPY9LyO',\n",
       "  'type': 'tool',\n",
       "  'sender': 'general_agent'},\n",
       " {'role': 'assistant',\n",
       "  'content': 'I can help you with that! Here are some basic steps to ride a bike:\\n\\n1. **Get the Right Bike**: Make sure the bike is the right size for you. When seated, you should be able to touch the ground with your toes.\\n\\n2. **Wear a Helmet**: Safety first! Always wear a helmet to protect your head in case of a fall.\\n\\n3. **Find a Safe Location**: Look for a flat, open area with minimal traffic, like a park or an empty parking lot.\\n\\n4. **Learn to Balance**: Start by walking alongside the bike. Sit on the saddle and walk the bike while balancing.\\n\\n5. **Use the Pedals**: Place one foot on a pedal while keeping the other foot on the ground. Push off with your grounded foot to get some momentum. \\n\\n6. **Start Pedaling**: Once you have a bit of speed, place your other foot on the pedal and start pedaling. \\n\\n7. **Steering**: Look ahead and gently steer with the handlebars. \\n\\n8. **Practice Stopping**: Use the brakes gently to stop. Practice stopping and starting until you feel comfortable.\\n\\n9. **Keep Practicing**: Like any skill, practice makes perfect! Keep trying until you feel confident.\\n\\nWould you like more detailed information or tips on a specific part of riding a bike?',\n",
       "  'sender': 'general_agent'},\n",
       " {'role': 'assistant',\n",
       "  'tool_calls': [{'id': 'call_wSaDJ5QylIg1An9sDrHZe3bQ',\n",
       "    'function': {'arguments': '{\"message\": \"how to ride a bike?\"}',\n",
       "     'name': 'Bike_Riding_Agent'},\n",
       "    'type': 'function'}],\n",
       "  'type': 'handoff',\n",
       "  'sender': 'general_agent'},\n",
       " {'role': 'tool',\n",
       "  'handoff': 'general_agent -> Bike_Riding_Agent',\n",
       "  'content': 'Handing off to Bike_Riding_Agent',\n",
       "  'tool_call_id': 'call_wSaDJ5QylIg1An9sDrHZe3bQ',\n",
       "  'message': 'how to ride a bike?',\n",
       "  'type': 'handoff',\n",
       "  'sender': 'Bike_Riding_Agent'},\n",
       " {'role': 'assistant',\n",
       "  'content': \"Riding a bike can be an enjoyable and rewarding experience! Here’s a step-by-step guide to help you get started:\\n\\n### Step 1: Choose the Right Bike\\n- **Select the Right Size**: Make sure the bike fits you well. When standing over the bike, there should be 1-2 inches of clearance.\\n- **Check the Equipment**: Ensure that the brakes and tires are functioning properly.\\n\\n### Step 2: Get Familiar with the Bike\\n- **Adjust the Seat**: Make sure the seat is at a comfortable height; your leg should have a slight bend when the pedal is at its lowest point.\\n- **Learn the Controls**: Familiarize yourself with the brakes, gears, and bell (if available).\\n\\n### Step 3: Safety Gear\\n- **Wear a Helmet**: Always put on a properly fitting helmet to protect your head.\\n- **Clothing**: Wear comfortable clothing and closed-toe shoes.\\n\\n### Step 4: Finding a Suitable Place\\n- **Choose a Safe Location**: Look for a flat, open area (like a park or a quiet street) to practice.\\n\\n### Step 5: Starting to Ride\\n1. **Mount the Bike**: Swing your leg over the seat and sit down.\\n2. **Balance**: Place one foot on a pedal at the 2 o’clock position and the other foot on the ground.\\n3. **Push Off**: Push off the ground with your foot while simultaneously pushing down on the pedal and letting your other foot rest on the pedal.\\n\\n### Step 6: Practicing Balancing and Steering\\n- **Look Ahead**: Keep your eyes focused forward, not down at the ground.\\n- **Adjust Your Balance**: Use small adjustments in your body weight to stay upright. Try to relax your grip on the handlebars.\\n- **Steering**: Use gentle movements to steer in the direction you want to go, avoiding sudden turns.\\n\\n### Step 7: Pedaling\\n- **Start Pedaling**: Once you feel stable, start pedaling in a slow, steady motion.\\n- **Practice Stopping**: To stop, gradually squeeze the brakes (start with the rear brake) and put one foot on the ground.\\n\\n### Step 8: Advanced Techniques\\n- **Turning**: Practice making gentle turns by leaning slightly in the direction you want to go.\\n- **Shift Gears**: When you’re more comfortable, learn how to change gears for different terrains.\\n\\n### Step 9: Ride with Confidence\\n- **Practice Regularly**: The more you practice, the more comfortable you'll become.\\n- **Follow Traffic Rules**: If riding on the road, always follow traffic signals and signs.\\n\\n### Additional Tips:\\n- **Practice with a Friend**: It can be helpful to have someone with you for support.\\n- **Stay Patient**: Learning to ride takes time; don't rush the process.\\n\\nIf you encounter any specific difficulties, feel free to ask! Enjoy your ride!\",\n",
       "  'sender': 'Bike_Riding_Agent'}]"
      ]
     },
     "execution_count": 22,
     "metadata": {},
     "output_type": "execute_result"
    }
   ],
   "source": [
    "multi_agent.chat([{ \"role\": \"user\", \"content\": \"how to ride a bike?\"}],show_details=True)"
   ]
  },
  {
   "cell_type": "code",
   "execution_count": 24,
   "metadata": {},
   "outputs": [
    {
     "data": {
      "text/plain": [
       "[{'role': 'assistant',\n",
       "  'content': \"If you're looking to ride in the mountains, a mountain bike is your best option. Here are a few key factors to consider when choosing a mountain bike:\\n\\n1. **Type of Mountain Bike**:\\n   - **Hardtail**: These bikes have a front suspension but no rear suspension, making them lighter and more efficient for climbing. They are good for cross-country trails.\\n   - **Full-Suspension**: These bikes have both front and rear suspension, providing better control and comfort on rough terrain. They are ideal for technical trails and descents.\\n\\n2. **Wheel Size**:\\n   - **26-inch wheels**: Traditional size, good for maneuverability but less common nowadays.\\n   - **27.5-inch wheels**: A good compromise between speed and stability.\\n   - **29-inch wheels**: Better for rolling over obstacles and maintaining speed, great for cross-country terrain.\\n\\n3. **Frame Material**:\\n   - **Aluminum**: Lightweight and reasonably priced, ideal for beginners.\\n   - **Carbon Fiber**: Lighter and more expensive, ideal for serious riders looking for performance.\\n   - **Steel**: Durable and offers a comfortable ride, but heavier.\\n\\n4. **Fit and Comfort**: Ensure the bike fits you well. Test ride a few models to see what feels comfortable.\\n\\n5. **Budget**: Set a budget that includes not just the bike, but also gear like a helmet, gloves, and appropriate clothing.\\n\\n6. **Features**: Look for features like disc brakes (for better stopping power), proper gearing (for climbing steep trails), and a dropper seat post (for adjusting seat height on the fly).\\n\\nOnce you have an idea of what you want, you can visit local bike shops to explore options and get advice from experts.\",\n",
       "  'sender': 'Bike_Riding_Agent'}]"
      ]
     },
     "execution_count": 24,
     "metadata": {},
     "output_type": "execute_result"
    }
   ],
   "source": [
    "multi_agent.chat([{ \"role\": \"user\", \"content\": \"what kind of bike should I buy if i want to ride in the mountain?\"}],show_details=True)"
   ]
  },
  {
   "cell_type": "code",
   "execution_count": 25,
   "metadata": {},
   "outputs": [
    {
     "data": {
      "text/plain": [
       "[{'role': 'assistant',\n",
       "  'tool_calls': [{'id': 'call_CAo1vhxrjDgFUg5ucY6Dqsxl',\n",
       "    'function': {'arguments': '{\"message\": \"can you explain the theory of relativity?\"}',\n",
       "     'name': 'general_agent'},\n",
       "    'type': 'function'}],\n",
       "  'type': 'handoff',\n",
       "  'sender': 'Bike_Riding_Agent'},\n",
       " {'role': 'tool',\n",
       "  'handoff': 'Bike_Riding_Agent -> general_agent',\n",
       "  'content': 'Handing off to general_agent',\n",
       "  'tool_call_id': 'call_CAo1vhxrjDgFUg5ucY6Dqsxl',\n",
       "  'message': 'can you explain the theory of relativity?',\n",
       "  'type': 'handoff',\n",
       "  'sender': 'general_agent'},\n",
       " {'role': 'assistant',\n",
       "  'tool_calls': [{'id': 'call_85Jnn9zXDUjm5PBWWjbkd89T',\n",
       "    'function': {'arguments': '{\"input\":\"Explain the theory of relativity.\"}',\n",
       "     'name': 'create_new_agent'},\n",
       "    'type': 'function'}],\n",
       "  'type': 'tool',\n",
       "  'sender': 'general_agent'},\n",
       " {'role': 'tool',\n",
       "  'content': '#CreateNewAgent#',\n",
       "  'tool_call_id': 'call_85Jnn9zXDUjm5PBWWjbkd89T',\n",
       "  'type': 'tool',\n",
       "  'sender': 'general_agent'},\n",
       " {'role': 'assistant',\n",
       "  'content': 'I am transferring your request to an agent specialized in scientific explanations who can provide a detailed overview of the theory of relativity.',\n",
       "  'sender': 'general_agent'},\n",
       " {'role': 'assistant',\n",
       "  'tool_calls': [{'id': 'call_hw86CwgPzH7nbqDJwofPaeWl',\n",
       "    'function': {'arguments': '{\"message\": \"can you explain the theory of relativity?\"}',\n",
       "     'name': 'Science_Agent'},\n",
       "    'type': 'function'}],\n",
       "  'type': 'handoff',\n",
       "  'sender': 'general_agent'},\n",
       " {'role': 'tool',\n",
       "  'handoff': 'general_agent -> Science_Agent',\n",
       "  'content': 'Handing off to Science_Agent',\n",
       "  'tool_call_id': 'call_hw86CwgPzH7nbqDJwofPaeWl',\n",
       "  'message': 'can you explain the theory of relativity?',\n",
       "  'type': 'handoff',\n",
       "  'sender': 'Science_Agent'},\n",
       " {'role': 'assistant',\n",
       "  'content': 'The theory of relativity is actually two theories developed by Albert Einstein: special relativity and general relativity. Here’s a brief overview of each:\\n\\n### Special Relativity (1905)\\n\\n1. **Key Principles**:\\n   - **The Principle of Relativity**: The laws of physics are the same for all observers, regardless of their relative motion, as long as they are not accelerating.\\n   - **Constancy of the Speed of Light**: The speed of light in a vacuum is the same for all observers, regardless of the motion of light source or observer.\\n\\n2. **Consequences**:\\n   - **Time Dilation**: Time moves slower for objects moving at high speeds compared to stationary observers. For example, if you were on a spaceship traveling near the speed of light, you would age more slowly than people back on Earth.\\n   - **Length Contraction**: Objects appear shorter in the direction they are moving when they are traveling at high speeds.\\n   - **Mass-Energy Equivalence**: The famous equation \\\\( E = mc^2 \\\\) implies that mass can be converted into energy, meaning a small amount of mass can produce a large amount of energy.\\n\\n### General Relativity (1915)\\n\\n1. **Key Principles**:\\n   - **Gravity as Curvature of Space-Time**: Instead of viewing gravity as a force, general relativity describes it as the curvature of space-time caused by mass. Massive objects like planets and stars warp the space around them, and this curvature affects the motion of other objects.\\n\\n2. **Consequences**:\\n   - **Gravitational Time Dilation**: Time runs slower in stronger gravitational fields. For example, a clock on the surface of Earth ticks more slowly than a clock in space.\\n   - **Black Holes**: Regions of space where the gravitational pull is so strong that nothing, not even light, can escape from them.\\n   - **Gravitational Waves**: Ripples in space-time caused by the acceleration of massive objects, such as two colliding black holes.\\n\\n### Comparison & Impact\\n\\n- **Special relativity** is most applicable to situations involving high speeds and flat space-time without gravity, while **general relativity** is needed when dealing with gravity and astronomical scales.\\n- These theories have fundamentally changed our understanding of space, time, and gravity, leading to innovations in technology, such as GPS, which must take relativistic effects into account to provide accurate positioning.\\n\\nEinstein’s theories of relativity have been confirmed through numerous experiments and observations and remain one of the cornerstones of modern physics. If you have any more specific questions about relativity or any related concepts, feel free to ask!',\n",
       "  'sender': 'Science_Agent'}]"
      ]
     },
     "execution_count": 25,
     "metadata": {},
     "output_type": "execute_result"
    }
   ],
   "source": [
    "multi_agent.chat([{ \"role\": \"user\", \"content\": \"can you explain the theory of relativity?\"}],show_details=True)"
   ]
  },
  {
   "cell_type": "code",
   "execution_count": 26,
   "metadata": {},
   "outputs": [
    {
     "data": {
      "text/plain": [
       "[{'type': 'function',\n",
       "  'function': {'name': 'Bike_Riding_Agent',\n",
       "   'description': \"You are a Bike Riding Agent. As a bike riding agent, you have comprehensive knowledge about how to ride various types of bicycles, safety tips, techniques for balancing, pedaling, steering, and overcoming common difficulties new riders face. Your goal is to provide step-by-step guidance and make cycling accessible and enjoyable for everyone. If a user's question is outside your expertise, you can refer them to another agent.\",\n",
       "   'parameters': {'type': 'object',\n",
       "    'properties': {'message': {'type': 'string',\n",
       "      'description': 'The message to send to the agent.'}},\n",
       "    'required': ['message']}}},\n",
       " {'type': 'function',\n",
       "  'function': {'name': 'Science_Agent',\n",
       "   'description': 'You are a Science Agent. As a science agent, you have a strong understanding of physics, chemistry, and biology. You can answer a variety of questions in these fields. Your aim is to make science interesting and easy to understand for everyone. If a question is outside your expertise, you can refer the user to another agent.',\n",
       "   'parameters': {'type': 'object',\n",
       "    'properties': {'message': {'type': 'string',\n",
       "      'description': 'The message to send to the agent.'}},\n",
       "    'required': ['message']}}}]"
      ]
     },
     "execution_count": 26,
     "metadata": {},
     "output_type": "execute_result"
    }
   ],
   "source": [
    "general_agent.handoff_agent_schemas"
   ]
  },
  {
   "cell_type": "code",
   "execution_count": 27,
   "metadata": {},
   "outputs": [
    {
     "data": {
      "text/plain": [
       "[{'role': 'assistant',\n",
       "  'content': 'The speed of light in a vacuum is approximately \\\\(299,792,458\\\\) meters per second (m/s), which is often rounded to \\\\(3.00 \\\\times 10^8\\\\) m/s for simplicity in calculations. This speed is a fundamental constant of nature and is denoted by the symbol \\\\(c\\\\). Light travels at this speed in a vacuum, but it can slow down when passing through different materials, such as water or glass.',\n",
       "  'sender': 'Science_Agent'}]"
      ]
     },
     "execution_count": 27,
     "metadata": {},
     "output_type": "execute_result"
    }
   ],
   "source": [
    "multi_agent.chat([{ \"role\": \"user\", \"content\": \"what is the speed of light?\"}],show_details=True)"
   ]
  },
  {
   "cell_type": "code",
   "execution_count": 28,
   "metadata": {},
   "outputs": [
    {
     "data": {
      "text/plain": [
       "[{'role': 'assistant',\n",
       "  'tool_calls': [{'id': 'call_L6m1XDquOYSDVP0f5Y79mW9u',\n",
       "    'function': {'arguments': '{\"message\": \"what to eat for breakfast?\"}',\n",
       "     'name': 'general_agent'},\n",
       "    'type': 'function'}],\n",
       "  'type': 'handoff',\n",
       "  'sender': 'Science_Agent'},\n",
       " {'role': 'tool',\n",
       "  'handoff': 'Science_Agent -> general_agent',\n",
       "  'content': 'Handing off to general_agent',\n",
       "  'tool_call_id': 'call_L6m1XDquOYSDVP0f5Y79mW9u',\n",
       "  'message': 'what to eat for breakfast?',\n",
       "  'type': 'handoff',\n",
       "  'sender': 'general_agent'},\n",
       " {'role': 'assistant',\n",
       "  'tool_calls': [{'id': 'call_7RpxHesJwc83AkbNAWG41gvI',\n",
       "    'function': {'arguments': '{\"input\":\"I need advice on what to eat for breakfast.\"}',\n",
       "     'name': 'create_new_agent'},\n",
       "    'type': 'function'}],\n",
       "  'type': 'tool',\n",
       "  'sender': 'general_agent'},\n",
       " {'role': 'tool',\n",
       "  'content': '#CreateNewAgent#',\n",
       "  'tool_call_id': 'call_7RpxHesJwc83AkbNAWG41gvI',\n",
       "  'type': 'tool',\n",
       "  'sender': 'general_agent'},\n",
       " {'role': 'assistant',\n",
       "  'content': 'I can help you find breakfast ideas! Would you like something quick and easy, something healthy, or perhaps a specific type of cuisine?',\n",
       "  'sender': 'general_agent'},\n",
       " {'role': 'assistant',\n",
       "  'tool_calls': [{'id': 'call_tH6bg7LlU8SbDB1U5I0CA8c2',\n",
       "    'function': {'arguments': '{\"message\": \"what to eat for breakfast?\"}',\n",
       "     'name': 'Nutrition_Advisor'},\n",
       "    'type': 'function'}],\n",
       "  'type': 'handoff',\n",
       "  'sender': 'general_agent'},\n",
       " {'role': 'tool',\n",
       "  'handoff': 'general_agent -> Nutrition_Advisor',\n",
       "  'content': 'Handing off to Nutrition_Advisor',\n",
       "  'tool_call_id': 'call_tH6bg7LlU8SbDB1U5I0CA8c2',\n",
       "  'message': 'what to eat for breakfast?',\n",
       "  'type': 'handoff',\n",
       "  'sender': 'Nutrition_Advisor'},\n",
       " {'role': 'assistant',\n",
       "  'content': 'Choosing a nutritious breakfast depends on your dietary preferences and any restrictions you may have. Here are some balanced options:\\n\\n1. **Oatmeal Bowl**: Cooked oats topped with fresh fruits (like berries or banana), a sprinkle of nuts or seeds, and a dash of cinnamon. You can add a spoonful of nut butter for extra protein.\\n\\n2. **Greek Yogurt Parfait**: Layer Greek yogurt with granola and mixed fruits. This provides protein, healthy fats, and fiber.\\n\\n3. **Smoothie**: Blend spinach, a banana, protein powder, almond milk, and a tablespoon of flaxseed or chia seeds for a nutrient-packed drink.\\n\\n4. **Avocado Toast**: Whole-grain toast topped with smashed avocado, a sprinkle of salt, pepper, and optional toppings such as poached eggs or cherry tomatoes. \\n\\n5. **Chia Seed Pudding**: Mix chia seeds with almond milk and a touch of honey. Let it sit overnight and top with fresh fruit in the morning.\\n\\n6. **Vegetable Omelet**: Whisk eggs and add in your favorite vegetables like spinach, bell peppers, and onions. Serve with a slice of whole-grain bread.\\n\\n7. **Overnight Quinoa**: Prepare quinoa and mix it with almond milk, honey, and fruit, letting it sit overnight for a ready-to-eat breakfast.\\n\\nIf you have specific dietary restrictions or preferences (vegan, gluten-free, etc.), let me know, and I can tailor these options further!',\n",
       "  'sender': 'Nutrition_Advisor'}]"
      ]
     },
     "execution_count": 28,
     "metadata": {},
     "output_type": "execute_result"
    }
   ],
   "source": [
    "multi_agent.chat([{ \"role\": \"user\", \"content\": \"what to eat for breakfast?\"}],show_details=True)"
   ]
  },
  {
   "cell_type": "code",
   "execution_count": null,
   "metadata": {},
   "outputs": [],
   "source": []
  },
  {
   "cell_type": "code",
   "execution_count": null,
   "metadata": {},
   "outputs": [],
   "source": []
  }
 ],
 "metadata": {
  "kernelspec": {
   "display_name": ".venv",
   "language": "python",
   "name": "python3"
  },
  "language_info": {
   "codemirror_mode": {
    "name": "ipython",
    "version": 3
   },
   "file_extension": ".py",
   "mimetype": "text/x-python",
   "name": "python",
   "nbconvert_exporter": "python",
   "pygments_lexer": "ipython3",
   "version": "3.11.5"
  }
 },
 "nbformat": 4,
 "nbformat_minor": 2
}
