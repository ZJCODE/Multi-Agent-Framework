{
 "cells": [
  {
   "cell_type": "code",
   "execution_count": 13,
   "metadata": {},
   "outputs": [],
   "source": [
    "import os\n",
    "import sys\n",
    "sys.path.append('../src')\n",
    "\n",
    "from openai import OpenAI\n",
    "from dotenv import load_dotenv\n",
    "from agents import BaseAgent, Agent, MultiAgent\n",
    "from pydantic import BaseModel"
   ]
  },
  {
   "cell_type": "code",
   "execution_count": 14,
   "metadata": {},
   "outputs": [],
   "source": [
    "load_dotenv()\n",
    "\n",
    "client = OpenAI(\n",
    "    api_key=os.environ.get(\"OPENAI_API_KEY\"),\n",
    "    base_url=os.environ.get(\"OPENAI_BASE_URL\"),\n",
    ")\n"
   ]
  },
  {
   "cell_type": "code",
   "execution_count": 15,
   "metadata": {},
   "outputs": [],
   "source": [
    "# Top level agent\n",
    "general_agent = Agent(base_agent = BaseAgent(client),\n",
    "           name = \"general agent\",\n",
    "           instructions= \"Determine which agent is best suited to handle the user's request, and transfer the conversation to that agent.\",\n",
    "           handoff_description = \"Call this agent if you don't know how to answer the user's question or do not has access to the necessary information.\")"
   ]
  },
  {
   "cell_type": "code",
   "execution_count": 16,
   "metadata": {},
   "outputs": [],
   "source": [
    "class AgentDesc(BaseModel):\n",
    "    name: str\n",
    "    instructions: str\n",
    "    handoff_description: str\n",
    "    \n",
    "def create_new_agent(input: str)->Agent:\n",
    "    \"\"\" \n",
    "    If there is no other agent or tool can handle the input, call this function to create a new agent.\n",
    "    \"\"\"\n",
    "\n",
    "    model = \"gpt-4o-mini\"\n",
    "\n",
    "    completion = client.beta.chat.completions.parse(\n",
    "    model=model,\n",
    "    messages=[\n",
    "        {\"role\": \"system\", \"content\": \"\"\" \n",
    "         Create a new agent. The agent should be able to handle user request. return the agent description.\n",
    "\n",
    "        ## name example\n",
    "        \n",
    "         science agent (only english characters and spaces are allowed)\n",
    "         \n",
    "        ## instructions example\n",
    "         \n",
    "        You are a Science Agent As a science agent, you have a strong understanding of physics, chemistry, and biology. You can answer a variety of questions in these fields. Your aim is to make science interesting and easy to understand for everyone.\n",
    "         \n",
    "        ## handoff_description example\n",
    "        \n",
    "        Call this agent if you have a question related to science, physics, chemistry, or biology. This agent can provide detailed explanations, clarify complex concepts, and offer insights into the natural world.\n",
    "         \n",
    "         \"\"\"},\n",
    "        {\"role\": \"user\", \"content\": input},\n",
    "    ],\n",
    "    response_format=AgentDesc,\n",
    ")\n",
    "\n",
    "    event = completion.choices[0].message.parsed\n",
    "\n",
    "    new_agent = Agent(base_agent = BaseAgent(client),name=event.name, instructions=event.instructions, handoff_description=event.handoff_description)\n",
    "\n",
    "    general_agent.add_handoff(new_agent)\n",
    "    new_agent.add_handoff(general_agent)\n",
    "\n",
    "    return \"#CreateNewAgent#\"\n",
    "    \n"
   ]
  },
  {
   "cell_type": "code",
   "execution_count": 17,
   "metadata": {},
   "outputs": [],
   "source": [
    "general_agent.add_tools([create_new_agent])"
   ]
  },
  {
   "cell_type": "code",
   "execution_count": 18,
   "metadata": {},
   "outputs": [],
   "source": [
    "multi_agent = MultiAgent(start_agent=general_agent)"
   ]
  },
  {
   "cell_type": "code",
   "execution_count": 19,
   "metadata": {},
   "outputs": [
    {
     "name": "stderr",
     "output_type": "stream",
     "text": [
      "ERROR:root:Unable to generate ChatCompletion response\n",
      "ERROR:root:Exception: 'Agent' object has no attribute 'add_handoff'\n"
     ]
    }
   ],
   "source": [
    "multi_agent.chat([{ \"role\": \"user\", \"content\": \"how to ride a bike?\"}],show_details=True)"
   ]
  },
  {
   "cell_type": "code",
   "execution_count": 9,
   "metadata": {},
   "outputs": [
    {
     "data": {
      "text/plain": [
       "[{'role': 'assistant',\n",
       "  'content': 'To recommend the best bike for you, I need some additional information:\\n\\n1. **Purpose**: What will you primarily use the bike for (e.g., commuting, leisure riding, mountain biking, racing)?\\n2. **Terrain**: What kind of terrain will you be riding on (e.g., paved roads, gravel paths, trails)?\\n3. **Experience Level**: Are you a beginner, intermediate, or advanced rider?\\n4. **Budget**: What is your budget range for the bike?\\n5. **Preferred Style**: Do you have a preference for bike type (e.g., road bike, mountain bike, hybrid, cruiser)?\\n6. **Size**: Do you know what size bike you need (usually based on your height)?\\n\\nOnce you provide this information, I can give you a more tailored recommendation!',\n",
       "  'sender': 'Bike_Riding_Agent'}]"
      ]
     },
     "execution_count": 9,
     "metadata": {},
     "output_type": "execute_result"
    }
   ],
   "source": [
    "multi_agent.chat([{ \"role\": \"user\", \"content\": \"recommend a bike for me?\"}],show_details=True)"
   ]
  },
  {
   "cell_type": "code",
   "execution_count": 11,
   "metadata": {},
   "outputs": [
    {
     "data": {
      "text/plain": [
       "[{'role': 'assistant',\n",
       "  'tool_calls': [{'id': 'call_KDFjNF4S6lJidLB4aa61vX44',\n",
       "    'function': {'arguments': '{\"message\": \"can you explain the theory of relativity?\"}',\n",
       "     'name': 'general_agent'},\n",
       "    'type': 'function'}],\n",
       "  'type': 'handoff',\n",
       "  'sender': 'Bike_Riding_Agent'},\n",
       " {'role': 'tool',\n",
       "  'handoff': 'Bike_Riding_Agent -> general_agent',\n",
       "  'content': 'Handing off to general_agent',\n",
       "  'tool_call_id': 'call_KDFjNF4S6lJidLB4aa61vX44',\n",
       "  'message': 'can you explain the theory of relativity?',\n",
       "  'type': 'handoff',\n",
       "  'sender': 'general_agent'},\n",
       " {'role': 'assistant',\n",
       "  'tool_calls': [{'id': 'call_tJhhFQz7bvRP9vKdQwvcEVVm',\n",
       "    'function': {'arguments': '{\"input\":\"can you explain the theory of relativity?\"}',\n",
       "     'name': 'create_new_agent'},\n",
       "    'type': 'function'}],\n",
       "  'type': 'tool',\n",
       "  'sender': 'general_agent'},\n",
       " {'role': 'tool',\n",
       "  'content': '#CreateNewAgent#',\n",
       "  'tool_call_id': 'call_tJhhFQz7bvRP9vKdQwvcEVVm',\n",
       "  'type': 'tool',\n",
       "  'sender': 'general_agent'},\n",
       " {'role': 'assistant',\n",
       "  'content': 'I will transfer you to our science expert who can provide a detailed explanation of the theory of relativity. Please hold on a moment.',\n",
       "  'sender': 'general_agent'},\n",
       " {'role': 'assistant',\n",
       "  'tool_calls': [{'id': 'call_8TNhbkefDq2FsHjQ47RGIays',\n",
       "    'function': {'arguments': '{\"message\": \"can you explain the theory of relativity?\"}',\n",
       "     'name': 'Relativity_Agent'},\n",
       "    'type': 'function'}],\n",
       "  'type': 'handoff',\n",
       "  'sender': 'general_agent'},\n",
       " {'role': 'tool',\n",
       "  'handoff': 'general_agent -> Relativity_Agent',\n",
       "  'content': 'Handing off to Relativity_Agent',\n",
       "  'tool_call_id': 'call_8TNhbkefDq2FsHjQ47RGIays',\n",
       "  'message': 'can you explain the theory of relativity?',\n",
       "  'type': 'handoff',\n",
       "  'sender': 'Relativity_Agent'},\n",
       " {'role': 'assistant',\n",
       "  'content': 'Certainly! The theory of relativity is primarily composed of two parts: special relativity and general relativity, both developed by Albert Einstein in the early 20th century.\\n\\n### Special Relativity\\n\\n**Published in 1905**, special relativity focuses on the physics of objects moving at constant speeds, particularly at speeds close to the speed of light (denoted as \"c\"). The theory is built on two postulates:\\n\\n1. **The Principle of Relativity**: The laws of physics are the same in all inertial (non-accelerating) reference frames. This means that whether you\\'re at rest or moving at a constant speed, the laws of physics apply equally to you.\\n  \\n2. **The Constancy of the Speed of Light**: The speed of light in a vacuum is always the same, regardless of the observer\\'s motion or the source\\'s motion. This speed is approximately 299,792 kilometers per second (or about 186,282 miles per second).\\n\\n**Key Consequences of Special Relativity**:\\n\\n- **Time Dilation**: Time runs slower for an object in motion relative to a stationary observer. For example, if a spaceship travels close to the speed of light, time aboard the ship passes more slowly compared to time experienced by people on Earth.\\n\\n- **Length Contraction**: Objects in motion are measured to be shorter in the direction of their motion as observed from a stationary frame. Thus, if a spaceship travels rapidly, it would appear shorter to an observer on Earth.\\n\\n- **Mass-Energy Equivalence**: One of the most famous equations from special relativity is \\\\(E=mc^2\\\\), which states that mass (m) can be converted into energy (E), with \"c\" being the speed of light. This equation reveals that even small amounts of mass can release a tremendous amount of energy.\\n\\n### General Relativity\\n\\n**Published in 1915**, general relativity expands the principles of special relativity to include acceleration and gravity. The key idea is that gravity is not just a force but a curvature of space-time caused by mass. \\n\\n**Key Concepts of General Relativity**:\\n\\n- **Space-Time**: Instead of treating space and time as separate entities, general relativity combines them into a four-dimensional fabric called space-time. Massive objects like planets and stars distort this fabric, causing the phenomenon we perceive as gravity.\\n\\n- **Geodesic Motion**: Objects in free fall move along geodesics, which are the straightest possible paths in this curved space-time. This means that when something is in free fall (like an astronaut in space), it moves along the paths dictated by the curvature of space-time rather than being \"pulled\" by a gravitational force.\\n\\n- **Gravitational Time Dilation**: Time passes more slowly in strong gravitational fields than in weaker ones. For example, time on the surface of the Earth (where gravity is stronger) moves more slowly than time for an observer far away in space, where the gravitational field is weaker.\\n\\n- **Black Holes**: These are regions of space where the gravitational pull is so strong that nothing, not even light, can escape from them. General relativity predicts their existence based on the extreme curvature of space-time.\\n\\n**Impact on the Universe**: General relativity has profound implications for cosmology, including our understanding of black holes, the expansion of the universe, and the behavior of light in gravitational fields (gravitational lensing).\\n\\nIn summary, the theory of relativity fundamentally changed our understanding of time, space, and gravity, leading to many technological advances and deepening our insights into the nature of the universe. If you have specific questions about any aspect of relativity, feel free to ask!',\n",
       "  'sender': 'Relativity_Agent'}]"
      ]
     },
     "execution_count": 11,
     "metadata": {},
     "output_type": "execute_result"
    }
   ],
   "source": [
    "multi_agent.chat([{ \"role\": \"user\", \"content\": \"can you explain the theory of relativity?\"}],show_details=True)"
   ]
  },
  {
   "cell_type": "code",
   "execution_count": 12,
   "metadata": {},
   "outputs": [
    {
     "data": {
      "text/plain": [
       "[{'type': 'function',\n",
       "  'function': {'name': 'Relativity_Agent',\n",
       "   'description': 'You are a Relativity Agent. As a relativity agent, you specialize in the theory of relativity, encompassing both special and general relativity. You are able to explain complex concepts such as time dilation, the speed of light, the warping of space-time, and the implications of these theories on our understanding of the universe.',\n",
       "   'parameters': {'type': 'object',\n",
       "    'properties': {'message': {'type': 'string',\n",
       "      'description': 'The message to send to the agent.'}},\n",
       "    'required': ['message']}}}]"
      ]
     },
     "execution_count": 12,
     "metadata": {},
     "output_type": "execute_result"
    }
   ],
   "source": [
    "general_agent.handoff_agent_schemas"
   ]
  },
  {
   "cell_type": "code",
   "execution_count": null,
   "metadata": {},
   "outputs": [],
   "source": []
  }
 ],
 "metadata": {
  "kernelspec": {
   "display_name": ".venv",
   "language": "python",
   "name": "python3"
  },
  "language_info": {
   "codemirror_mode": {
    "name": "ipython",
    "version": 3
   },
   "file_extension": ".py",
   "mimetype": "text/x-python",
   "name": "python",
   "nbconvert_exporter": "python",
   "pygments_lexer": "ipython3",
   "version": "3.11.5"
  }
 },
 "nbformat": 4,
 "nbformat_minor": 2
}
