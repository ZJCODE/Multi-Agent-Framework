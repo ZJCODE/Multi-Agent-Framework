{
 "cells": [
  {
   "cell_type": "markdown",
   "metadata": {},
   "source": [
    "# Multi Agent Framework"
   ]
  },
  {
   "cell_type": "code",
   "execution_count": 1,
   "metadata": {},
   "outputs": [],
   "source": [
    "import os\n",
    "import sys\n",
    "sys.path.append('../src')\n",
    "\n",
    "from openai import OpenAI\n",
    "from dotenv import load_dotenv\n",
    "from agents import BaseAgent, Agent, MultiAgent"
   ]
  },
  {
   "cell_type": "markdown",
   "metadata": {},
   "source": [
    "### LLM Preparation "
   ]
  },
  {
   "cell_type": "code",
   "execution_count": 2,
   "metadata": {},
   "outputs": [],
   "source": [
    "load_dotenv()\n",
    "\n",
    "client = OpenAI(\n",
    "    api_key=os.environ.get(\"OPENAI_API_KEY\"),\n",
    "    base_url=os.environ.get(\"OPENAI_BASE_URL\"),\n",
    ")"
   ]
  },
  {
   "cell_type": "markdown",
   "metadata": {},
   "source": [
    "### Init Several Agents"
   ]
  },
  {
   "cell_type": "code",
   "execution_count": 25,
   "metadata": {},
   "outputs": [],
   "source": [
    "general_agent = Agent(base_agent = BaseAgent(client),\n",
    "           name = \"general agent\",\n",
    "           instructions= \"Determine which agent is best suited to handle the user's request, and transfer the conversation to that agent.\",\n",
    "           handoff_description = \"Call this agent if you don't know how to answer the user's question or do not has access to the necessary information.\")\n",
    "\n",
    "science_agent = Agent(base_agent = BaseAgent(client),\n",
    "           name = \"science agent\",\n",
    "           instructions = \"Agent who is knowledgeable about science topics and can answer questions about them.\",\n",
    "           handoff_description = \"Call this agent if a user is asking about a science topic like physics, chemistry, biology, etc.\")\n",
    "\n",
    "music_agent = Agent(base_agent = BaseAgent(client),\n",
    "           name = \"music agent\",\n",
    "           instructions = \"Agent who is knowledgeable about music topics and can answer questions about them.\",\n",
    "           handoff_description = \"Call this agent if a user is asking about a music topic like music theory, music history, music genres, etc.\")\n",
    "\n",
    "daily_agent = Agent(base_agent = BaseAgent(client),\n",
    "           name = \"daily agent\",\n",
    "           instructions = \"Agent who is knowledgeable about daily topics and can answer questions about them.\",\n",
    "           handoff_description = \"Call this agent if a user is asking about a daily topic like weather, news, etc.\")"
   ]
  },
  {
   "cell_type": "markdown",
   "metadata": {},
   "source": [
    "###  Build a Multi-Agent environment & add handoff relationships "
   ]
  },
  {
   "cell_type": "code",
   "execution_count": 26,
   "metadata": {},
   "outputs": [],
   "source": [
    "# Build a Multi-Agent environment & add handoff relationships\n",
    "ma = MultiAgent(start_agent=general_agent)\n",
    "ma.add_handoff_relations(from_agent=general_agent,to_agents=[science_agent,music_agent,daily_agent])\n",
    "ma.add_handoff_relations(from_agent=science_agent,to_agents=[general_agent])\n",
    "ma.add_handoff_relations(from_agent=music_agent,to_agents=[general_agent])\n",
    "ma.add_handoff_relations(from_agent=daily_agent,to_agents=[general_agent])\n",
    "# ma.add_handoff_relations(from_agent=science_agent,to_agents=[general_agent,music_agent,daily_agent])\n",
    "# ma.add_handoff_relations(from_agent=music_agent,to_agents=[general_agent,science_agent,daily_agent])\n",
    "# ma.add_handoff_relations(from_agent=daily_agent,to_agents=[general_agent,science_agent,music_agent])\n",
    "\n"
   ]
  },
  {
   "cell_type": "markdown",
   "metadata": {},
   "source": [
    "### Multi-Agent handoff example\n",
    "\n",
    "use handoff to get the agent who is suitable for the task\n",
    "\n",
    "Then call the agent's pre-designed capabilities, such as streaming, tools, memory, reasoning, etc."
   ]
  },
  {
   "cell_type": "code",
   "execution_count": 27,
   "metadata": {},
   "outputs": [
    {
     "data": {
      "text/plain": [
       "{'science_agent': <agents.Agent at 0x116a1ed90>}"
      ]
     },
     "execution_count": 27,
     "metadata": {},
     "output_type": "execute_result"
    }
   ],
   "source": [
    "ma.handoff(messages=[{\"role\": \"user\", \"content\": \"why the sky is blue\"}],agent=general_agent)"
   ]
  },
  {
   "cell_type": "code",
   "execution_count": 28,
   "metadata": {},
   "outputs": [
    {
     "data": {
      "text/plain": [
       "{'science_agent': <agents.Agent at 0x116a1ed90>,\n",
       " 'music_agent': <agents.Agent at 0x116a8e1d0>}"
      ]
     },
     "execution_count": 28,
     "metadata": {},
     "output_type": "execute_result"
    }
   ],
   "source": [
    "ma.handoff(messages=[{\"role\": \"user\", \"content\": \"why the sky is blue and recommend me some music\"}],agent=general_agent)"
   ]
  },
  {
   "cell_type": "markdown",
   "metadata": {},
   "source": [
    "### Multi-Agent dialogue example"
   ]
  },
  {
   "cell_type": "code",
   "execution_count": 29,
   "metadata": {},
   "outputs": [
    {
     "data": {
      "text/plain": [
       "[{'role': 'assistant',\n",
       "  'content': \"The sky appears blue due to a phenomenon called Rayleigh scattering. When sunlight enters the Earth's atmosphere, it is made up of different colors, each with different wavelengths. Blue light has a shorter wavelength and is scattered in all directions by the gases and particles in the atmosphere. \\n\\nDuring the day, when the sun is high in the sky, more blue light is scattered than other colors, making the sky appear predominantly blue to our eyes. At sunrise and sunset, the sun's light passes through a larger portion of the atmosphere, which scatters shorter wavelengths and allows the longer wavelengths like red and orange to become more prominent, resulting in beautiful colors during those times.\",\n",
       "  'sender': 'science_agent'}]"
      ]
     },
     "execution_count": 29,
     "metadata": {},
     "output_type": "execute_result"
    }
   ],
   "source": [
    "ma.chat(messages=[{\"role\": \"user\", \"content\": \"why the sky is blue\"}])"
   ]
  },
  {
   "cell_type": "code",
   "execution_count": 30,
   "metadata": {},
   "outputs": [
    {
     "data": {
      "text/plain": [
       "[{'role': 'assistant',\n",
       "  'content': \"I am an AI trained to answer questions about science topics. I'm here to help with any inquiries you may have related to science!\",\n",
       "  'sender': 'science_agent'}]"
      ]
     },
     "execution_count": 30,
     "metadata": {},
     "output_type": "execute_result"
    }
   ],
   "source": [
    "ma.chat(messages=[{\"role\": \"user\", \"content\": \"who are you\"}])"
   ]
  },
  {
   "cell_type": "code",
   "execution_count": 32,
   "metadata": {},
   "outputs": [
    {
     "data": {
      "text/plain": [
       "[{'role': 'assistant',\n",
       "  'content': 'What genre of music are you interested in? Or do you have any specific artists or styles in mind?',\n",
       "  'sender': 'music_agent'}]"
      ]
     },
     "execution_count": 32,
     "metadata": {},
     "output_type": "execute_result"
    }
   ],
   "source": [
    "ma.chat(messages=[{\"role\": \"user\", \"content\": \"recommend me some music\"}])"
   ]
  },
  {
   "cell_type": "code",
   "execution_count": 33,
   "metadata": {},
   "outputs": [
    {
     "data": {
      "text/plain": [
       "[{'role': 'assistant',\n",
       "  'content': \"Could you please clarify what you're looking for regarding dinner tonight? Are you seeking ideas for recipes, restaurant recommendations, or something else?\",\n",
       "  'sender': 'music_agent'}]"
      ]
     },
     "execution_count": 33,
     "metadata": {},
     "output_type": "execute_result"
    }
   ],
   "source": [
    "ma.chat(messages=[{\"role\": \"user\", \"content\": \"dinner tonight\"}])"
   ]
  },
  {
   "cell_type": "code",
   "execution_count": 34,
   "metadata": {},
   "outputs": [
    {
     "data": {
      "text/plain": [
       "[{'role': 'assistant',\n",
       "  'content': \"I'm an AI designed to assist you with questions and topics related to science. Whether you're curious about biology, chemistry, physics, or any other scientific field, feel free to ask!\",\n",
       "  'sender': 'science_agent'}]"
      ]
     },
     "execution_count": 34,
     "metadata": {},
     "output_type": "execute_result"
    }
   ],
   "source": [
    "ma.chat(messages=[{\"role\": \"user\", \"content\": \"who are you\"}],agent=science_agent)"
   ]
  },
  {
   "cell_type": "code",
   "execution_count": 35,
   "metadata": {},
   "outputs": [
    {
     "data": {
      "text/plain": [
       "[{'role': 'assistant',\n",
       "  'content': \"The sky appears blue primarily due to a phenomenon called Rayleigh scattering. This occurs when sunlight enters Earth's atmosphere and interacts with molecules and small particles in the air.\\n\\nSunlight, or white light, is made up of many colors, each with different wavelengths. Blue light has a shorter wavelength compared to colors like red and orange. When sunlight passes through the atmosphere, the shorter wavelengths of light (blue and violet) are scattered in all directions by the gases and particles.\\n\\nAlthough both blue and violet light are scattered, our eyes are more sensitive to blue light, and some of the violet light is absorbed by the ozone layer. As a result, we predominantly see the sky as blue during the day. \\n\\nThe intensity of the blue color can vary based on factors such as the angle of the sun, atmospheric conditions, and the presence of particles or pollutants in the air, which can scatter light differently and sometimes create a more vivid sky.\",\n",
       "  'sender': 'science_agent'},\n",
       " {'role': 'assistant',\n",
       "  'content': 'Sure! Here are some music recommendations across various genres:\\n\\n### Pop\\n- **Dua Lipa** - *Future Nostalgia*\\n- **Billie Eilish** - *Happier Than Ever*\\n\\n### Rock\\n- **Greta Van Fleet** - *The Battle at Gardens Gate*\\n- **Foo Fighters** - *Medicine at Midnight*\\n\\n### Indie/Alternative\\n- **Arctic Monkeys** - *The Car*\\n- **Phoebe Bridgers** - *Punisher*\\n\\n### Hip-Hop/Rap\\n- **Kendrick Lamar** - *Mr. Morale & The Big Steppers*\\n- **Tyler, The Creator** - *Call Me If You Get Lost*\\n\\n### R&B/Soul\\n- **H.E.R.** - *Back of My Mind*\\n- **SZA** - *SOS*\\n\\n### Electronic\\n- **ODESZA** - *A Moment Apart*\\n- **Flume** - *Palaces*\\n\\n### Classical\\n- **Ludovico Einaudi** - *Islands*\\n- **Max Richter** - *Sleep*\\n\\nIf you have a specific mood, theme, or style in mind, let me know, and I can tailor the recommendations!',\n",
       "  'sender': 'music_agent'}]"
      ]
     },
     "execution_count": 35,
     "metadata": {},
     "output_type": "execute_result"
    }
   ],
   "source": [
    "ma.chat(messages=[{\"role\": \"user\", \"content\": \"why the sky is blue and recommend me some music\"}],agent=general_agent)"
   ]
  },
  {
   "cell_type": "markdown",
   "metadata": {},
   "source": [
    "### Multi-Agent tool use example"
   ]
  },
  {
   "cell_type": "code",
   "execution_count": 36,
   "metadata": {},
   "outputs": [],
   "source": [
    "def get_weather(city:str)->str:\n",
    "    \"\"\" \n",
    "    Get the weather for a specified city.\n",
    "    \"\"\"\n",
    "    return f\"The weather in {city} is sunny.\"\n",
    "\n",
    "\n",
    "def get_today_news()->str:\n",
    "    \"\"\" \n",
    "    Get today's news.\n",
    "    \"\"\"\n",
    "    return \"ZJun created an Agent Framework.\""
   ]
  },
  {
   "cell_type": "code",
   "execution_count": 37,
   "metadata": {},
   "outputs": [],
   "source": [
    "daily_agent.add_tools([get_weather,get_today_news])"
   ]
  },
  {
   "cell_type": "code",
   "execution_count": 38,
   "metadata": {},
   "outputs": [
    {
     "data": {
      "text/plain": [
       "[{'role': 'assistant',\n",
       "  'content': 'The weather in Hangzhou is currently sunny. If you need more specific details such as temperature or forecast, just let me know!',\n",
       "  'sender': 'daily_agent'}]"
      ]
     },
     "execution_count": 38,
     "metadata": {},
     "output_type": "execute_result"
    }
   ],
   "source": [
    "ma.chat(messages=[{\"role\": \"user\", \"content\": \"what is the weather in Hangzhou?\"}])"
   ]
  },
  {
   "cell_type": "code",
   "execution_count": 39,
   "metadata": {},
   "outputs": [
    {
     "data": {
      "text/plain": [
       "[{'role': 'assistant',\n",
       "  'content': \"Today, there was a notable development as ZJun created an Agent Framework. If you have specific topics or areas of interest you'd like more details on, feel free to ask!\",\n",
       "  'sender': 'daily_agent'}]"
      ]
     },
     "execution_count": 39,
     "metadata": {},
     "output_type": "execute_result"
    }
   ],
   "source": [
    "ma.chat(messages=[{\"role\": \"user\", \"content\": \"what happened today?\"}])"
   ]
  },
  {
   "cell_type": "code",
   "execution_count": 40,
   "metadata": {},
   "outputs": [
    {
     "data": {
      "text/plain": [
       "[{'role': 'assistant',\n",
       "  'content': 'Today, ZJun announced the creation of an Agent Framework. This new development could have implications for various applications involving AI and automated systems. If you’re interested in more details or specific aspects of this news, feel free to ask!',\n",
       "  'sender': 'daily_agent'},\n",
       " {'role': 'assistant',\n",
       "  'content': 'The weather in Hangzhou is currently sunny. If you need more specific information like temperature or forecast, let me know!',\n",
       "  'sender': 'daily_agent'}]"
      ]
     },
     "execution_count": 40,
     "metadata": {},
     "output_type": "execute_result"
    }
   ],
   "source": [
    "ma.chat(messages=[{\"role\": \"user\", \"content\": \"what is the weather in Hangzhou and what happened today?\"}],\n",
    "        agent=general_agent,\n",
    "        show_details=False)"
   ]
  },
  {
   "cell_type": "code",
   "execution_count": null,
   "metadata": {},
   "outputs": [],
   "source": []
  },
  {
   "cell_type": "code",
   "execution_count": null,
   "metadata": {},
   "outputs": [],
   "source": []
  },
  {
   "cell_type": "code",
   "execution_count": null,
   "metadata": {},
   "outputs": [],
   "source": []
  },
  {
   "cell_type": "code",
   "execution_count": null,
   "metadata": {},
   "outputs": [],
   "source": []
  }
 ],
 "metadata": {
  "kernelspec": {
   "display_name": ".venv",
   "language": "python",
   "name": "python3"
  },
  "language_info": {
   "codemirror_mode": {
    "name": "ipython",
    "version": 3
   },
   "file_extension": ".py",
   "mimetype": "text/x-python",
   "name": "python",
   "nbconvert_exporter": "python",
   "pygments_lexer": "ipython3",
   "version": "3.11.5"
  }
 },
 "nbformat": 4,
 "nbformat_minor": 2
}
