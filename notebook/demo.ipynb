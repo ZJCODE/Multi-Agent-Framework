{
 "cells": [
  {
   "cell_type": "markdown",
   "metadata": {},
   "source": [
    "# Multi Agent Framework"
   ]
  },
  {
   "cell_type": "code",
   "execution_count": 2,
   "metadata": {},
   "outputs": [],
   "source": [
    "import os\n",
    "import sys\n",
    "sys.path.append('../src')\n",
    "\n",
    "from openai import OpenAI\n",
    "from dotenv import load_dotenv\n",
    "from agents import BaseAgent, Agent, MultiAgent"
   ]
  },
  {
   "cell_type": "markdown",
   "metadata": {},
   "source": [
    "### LLM Preparation "
   ]
  },
  {
   "cell_type": "code",
   "execution_count": 3,
   "metadata": {},
   "outputs": [],
   "source": [
    "load_dotenv()\n",
    "\n",
    "client = OpenAI(\n",
    "    api_key=os.environ.get(\"OPENAI_API_KEY\"),\n",
    "    base_url=os.environ.get(\"OPENAI_BASE_URL\"),\n",
    ")"
   ]
  },
  {
   "cell_type": "markdown",
   "metadata": {},
   "source": [
    "### Init Several Agents"
   ]
  },
  {
   "cell_type": "code",
   "execution_count": 4,
   "metadata": {},
   "outputs": [],
   "source": [
    "general_agent = Agent(base_agent = BaseAgent(client),\n",
    "           name = \"general agent\",\n",
    "           instructions= \"Determine which agent is best suited to handle the user's request, and transfer the conversation to that agent.\",\n",
    "           handoff_description = \"Call this agent if a user is asking about a topic that is not handled by the activated agent.\")\n",
    "\n",
    "science_agent = Agent(base_agent = BaseAgent(client),\n",
    "           name = \"science agent\",\n",
    "           instructions = \"Agent used for science questions named Albert.\",\n",
    "           handoff_description = \"Call this agent if a user is asking about a science topic.\")\n",
    "\n",
    "music_agent = Agent(base_agent = BaseAgent(client),\n",
    "           name = \"music agent\",\n",
    "           instructions = \"Agent used for music questions named Mozart.\",\n",
    "           handoff_description = \"Call this agent if a user is asking about a music topic.\")\n",
    "\n",
    "daily_agent = Agent(base_agent = BaseAgent(client),\n",
    "           name = \"daily agent\",\n",
    "           instructions = \"Agent used for daily questions named Ada.\",\n",
    "           handoff_description = \"Call this agent if a user is asking about a daily topic.\")"
   ]
  },
  {
   "cell_type": "markdown",
   "metadata": {},
   "source": [
    "###  Build a Multi-Agent environment & add handoff relationships "
   ]
  },
  {
   "cell_type": "code",
   "execution_count": 5,
   "metadata": {},
   "outputs": [],
   "source": [
    "# Build a Multi-Agent environment & add handoff relationships\n",
    "ma = MultiAgent(start_agent=general_agent)\n",
    "ma.add_handoff_relations(from_agent=general_agent,to_agents=[science_agent,music_agent,daily_agent])\n",
    "ma.add_handoff_relations(from_agent=science_agent,to_agents=[general_agent])\n",
    "ma.add_handoff_relations(from_agent=music_agent,to_agents=[general_agent])\n",
    "ma.add_handoff_relations(from_agent=daily_agent,to_agents=[general_agent])\n",
    "# ma.add_handoff_relations(from_agent=science_agent,to_agents=[general_agent,music_agent,daily_agent])\n",
    "# ma.add_handoff_relations(from_agent=music_agent,to_agents=[general_agent,science_agent,daily_agent])\n",
    "# ma.add_handoff_relations(from_agent=daily_agent,to_agents=[general_agent,science_agent,music_agent])\n",
    "\n"
   ]
  },
  {
   "cell_type": "markdown",
   "metadata": {},
   "source": [
    "### Multi-Agent handoff example\n",
    "\n",
    "use handoff to get the agent who is suitable for the task\n",
    "\n",
    "Then call the agent's pre-designed capabilities, such as streaming, tools, memory, reasoning, etc."
   ]
  },
  {
   "cell_type": "code",
   "execution_count": 6,
   "metadata": {},
   "outputs": [
    {
     "data": {
      "text/plain": [
       "{'science_agent': <agents.Agent at 0x1124e6910>}"
      ]
     },
     "execution_count": 6,
     "metadata": {},
     "output_type": "execute_result"
    }
   ],
   "source": [
    "ma.handoff(messages=[{\"role\": \"user\", \"content\": \"why the sky is blue\"}],agent=general_agent)"
   ]
  },
  {
   "cell_type": "code",
   "execution_count": 7,
   "metadata": {},
   "outputs": [
    {
     "data": {
      "text/plain": [
       "{'science_agent': <agents.Agent at 0x1124e6910>,\n",
       " 'music_agent': <agents.Agent at 0x1124e6b50>}"
      ]
     },
     "execution_count": 7,
     "metadata": {},
     "output_type": "execute_result"
    }
   ],
   "source": [
    "ma.handoff(messages=[{\"role\": \"user\", \"content\": \"why the sky is blue and recommend me some music\"}],agent=general_agent)"
   ]
  },
  {
   "cell_type": "markdown",
   "metadata": {},
   "source": [
    "### Multi-Agent dialogue example"
   ]
  },
  {
   "cell_type": "code",
   "execution_count": 8,
   "metadata": {},
   "outputs": [
    {
     "data": {
      "text/plain": [
       "[{'role': 'handoff',\n",
       "  'handoff': 'general_agent -> science_agent',\n",
       "  'agent_name': 'science_agent',\n",
       "  'agent': <agents.Agent at 0x1124e6910>,\n",
       "  'message': 'why the sky is blue'},\n",
       " {'role': 'assistant',\n",
       "  'content': \"The sky appears blue due to a phenomenon called Rayleigh scattering. Here's how it works:\\n\\n1. **Sunlight Composition**: Sunlight, or white light, is made up of various colors, each with different wavelengths. Blue light has a shorter wavelength compared to other colors like red or yellow.\\n\\n2. **Atmospheric Scattering**: When sunlight enters the Earth's atmosphere, it interacts with gas molecules and small particles. The shorter wavelengths of light (blue and violet) are scattered in all directions much more than the longer wavelengths (red and yellow) due to their smaller size.\\n\\n3. **Human Perception**: Although violet light is scattered even more than blue, our eyes are more sensitive to blue light and some violet is absorbed by the ozone layer. Thus, we perceive the sky as blue during the day.\\n\\nThis scattering effect is why the sky changes color at sunrise and sunset when the sunlight passes through a thicker layer of atmosphere, leading to the longer wavelengths (reds and oranges) becoming more visible.\",\n",
       "  'agent_name': 'science_agent'}]"
      ]
     },
     "execution_count": 8,
     "metadata": {},
     "output_type": "execute_result"
    }
   ],
   "source": [
    "ma.chat(messages=[{\"role\": \"user\", \"content\": \"why the sky is blue\"}])"
   ]
  },
  {
   "cell_type": "code",
   "execution_count": 9,
   "metadata": {},
   "outputs": [
    {
     "data": {
      "text/plain": [
       "[{'role': 'assistant',\n",
       "  'content': 'I am Albert, an AI designed to assist with science-related questions and inquiries. How can I help you today?',\n",
       "  'agent_name': 'science_agent'}]"
      ]
     },
     "execution_count": 9,
     "metadata": {},
     "output_type": "execute_result"
    }
   ],
   "source": [
    "ma.chat(messages=[{\"role\": \"user\", \"content\": \"who are you\"}])"
   ]
  },
  {
   "cell_type": "code",
   "execution_count": 10,
   "metadata": {},
   "outputs": [
    {
     "data": {
      "text/plain": [
       "[{'role': 'handoff',\n",
       "  'handoff': 'science_agent -> general_agent',\n",
       "  'agent_name': 'general_agent',\n",
       "  'agent': <agents.Agent at 0x1124e4a50>,\n",
       "  'message': 'recommend me some music'},\n",
       " {'role': 'handoff',\n",
       "  'handoff': 'general_agent -> music_agent',\n",
       "  'agent_name': 'music_agent',\n",
       "  'agent': <agents.Agent at 0x1124e6b50>,\n",
       "  'message': 'recommend me some music'},\n",
       " {'role': 'assistant',\n",
       "  'content': 'Sure! Here are a few recommendations across different genres:\\n\\n### Classical\\n- **Ludwig van Beethoven** - *Symphony No. 9* (\"Choral\")\\n- **Johann Sebastian Bach** - *Goldberg Variations*\\n- **Claude Debussy** - *Clair de Lune*\\n\\n### Jazz\\n- **Miles Davis** - *Kind of Blue*\\n- **John Coltrane** - *A Love Supreme*\\n- **Ella Fitzgerald & Louis Armstrong** - *Ella and Louis*\\n\\n### Rock\\n- **Led Zeppelin** - *Stairway to Heaven*\\n- **The Beatles** - *Abbey Road* (album)\\n- **Pink Floyd** - *Wish You Were Here*\\n\\n### Pop\\n- **Dua Lipa** - *Future Nostalgia* (album)\\n- **Taylor Swift** - *Folklore*\\n- **Billie Eilish** - *When We All Fall Asleep, Where Do We Go?*\\n\\n### Indie\\n- **Phoebe Bridgers** - *Punisher*\\n- **Tame Impala** - *Currents*\\n- **Vampire Weekend** - *Father of the Bride*\\n\\n### Hip-Hop\\n- **Kendrick Lamar** - *To Pimp a Butterfly*\\n- **J. Cole** - *KOD*\\n- **Run The Jewels** - *RTJ4*\\n\\nLet me know if you\\'re looking for something specific!',\n",
       "  'agent_name': 'music_agent'}]"
      ]
     },
     "execution_count": 10,
     "metadata": {},
     "output_type": "execute_result"
    }
   ],
   "source": [
    "ma.chat(messages=[{\"role\": \"user\", \"content\": \"recommend me some music\"}])"
   ]
  },
  {
   "cell_type": "code",
   "execution_count": 11,
   "metadata": {},
   "outputs": [
    {
     "data": {
      "text/plain": [
       "[{'role': 'handoff',\n",
       "  'handoff': 'music_agent -> general_agent',\n",
       "  'agent_name': 'general_agent',\n",
       "  'agent': <agents.Agent at 0x1124e4a50>,\n",
       "  'message': 'dinner tonight'},\n",
       " {'role': 'handoff',\n",
       "  'handoff': 'general_agent -> daily_agent',\n",
       "  'agent_name': 'daily_agent',\n",
       "  'agent': <agents.Agent at 0x1124e6c90>,\n",
       "  'message': 'dinner tonight'},\n",
       " {'role': 'assistant',\n",
       "  'content': 'What are you in the mood for? I can suggest some ideas based on your preferences—like cuisine type or specific ingredients you have on hand!',\n",
       "  'agent_name': 'daily_agent'}]"
      ]
     },
     "execution_count": 11,
     "metadata": {},
     "output_type": "execute_result"
    }
   ],
   "source": [
    "ma.chat(messages=[{\"role\": \"user\", \"content\": \"dinner tonight\"}])"
   ]
  },
  {
   "cell_type": "code",
   "execution_count": 12,
   "metadata": {},
   "outputs": [
    {
     "data": {
      "text/plain": [
       "[{'role': 'assistant',\n",
       "  'content': 'I am Albert, an AI designed to help answer science-related questions. How can I assist you today?',\n",
       "  'agent_name': 'science_agent'}]"
      ]
     },
     "execution_count": 12,
     "metadata": {},
     "output_type": "execute_result"
    }
   ],
   "source": [
    "ma.chat(messages=[{\"role\": \"user\", \"content\": \"who are you\"}],agent=science_agent)"
   ]
  },
  {
   "cell_type": "code",
   "execution_count": 13,
   "metadata": {},
   "outputs": [
    {
     "data": {
      "text/plain": [
       "[{'role': 'handoff',\n",
       "  'handoff': 'general_agent -> science_agent',\n",
       "  'agent_name': 'science_agent',\n",
       "  'agent': <agents.Agent at 0x1124e6910>,\n",
       "  'message': 'Why is the sky blue?'},\n",
       " {'role': 'handoff',\n",
       "  'handoff': 'general_agent -> music_agent',\n",
       "  'agent_name': 'music_agent',\n",
       "  'agent': <agents.Agent at 0x1124e6b50>,\n",
       "  'message': 'Can you recommend me some music?'},\n",
       " {'role': 'assistant',\n",
       "  'content': \"The sky appears blue primarily due to a phenomenon called Rayleigh scattering. When sunlight enters the Earth's atmosphere, it is made up of various colors, each corresponding to different wavelengths of light. Blue light has a shorter wavelength compared to other colors like red or yellow.\\n\\nAs sunlight passes through the atmosphere, the shorter wavelengths (blue and violet) are scattered in all directions by the gases and particles in the air. Although violet light is scattered even more than blue, our eyes are more sensitive to blue light and some of the violet is absorbed by the ozone layer, making the sky predominantly appear blue.\\n\\nDuring sunrise and sunset, the sky can appear red or orange. This happens because the sunlight passes through a thicker layer of the atmosphere, scattering the shorter wavelengths out of your line of sight and allowing the longer wavelengths (like red and orange) to become more prominent.\",\n",
       "  'agent_name': 'science_agent'},\n",
       " {'role': 'assistant',\n",
       "  'content': 'Absolutely! To better tailor my recommendations, could you let me know your preferences? For example, do you have a specific genre in mind (like classical, rock, jazz, etc.), or are you looking for something upbeat, relaxing, or perhaps a mix of different styles?',\n",
       "  'agent_name': 'music_agent'}]"
      ]
     },
     "execution_count": 13,
     "metadata": {},
     "output_type": "execute_result"
    }
   ],
   "source": [
    "ma.chat(messages=[{\"role\": \"user\", \"content\": \"why the sky is blue and recommend me some music\"}],agent=general_agent)"
   ]
  },
  {
   "cell_type": "markdown",
   "metadata": {},
   "source": [
    "### Multi-Agent tool use example"
   ]
  },
  {
   "cell_type": "code",
   "execution_count": 14,
   "metadata": {},
   "outputs": [],
   "source": [
    "def get_weather(city:str)->str:\n",
    "    \"\"\" \n",
    "    Get the weather for a specified city.\n",
    "    \"\"\"\n",
    "    return f\"The weather in {city} is sunny.\"\n",
    "\n",
    "\n",
    "def get_news()->str:\n",
    "    \"\"\" \n",
    "    Get the latest news.\n",
    "    \"\"\"\n",
    "    return \"The latest news is that the sun is shining.\""
   ]
  },
  {
   "cell_type": "code",
   "execution_count": 15,
   "metadata": {},
   "outputs": [],
   "source": [
    "daily_agent.add_tools([get_weather,get_news])"
   ]
  },
  {
   "cell_type": "code",
   "execution_count": 16,
   "metadata": {},
   "outputs": [
    {
     "data": {
      "text/plain": [
       "[{'role': 'handoff',\n",
       "  'handoff': 'general_agent -> daily_agent',\n",
       "  'agent_name': 'daily_agent',\n",
       "  'agent': <agents.Agent at 0x1124e6c90>,\n",
       "  'message': 'what is the weather in Hangzhou?'},\n",
       " {'role': 'tool', 'content': 'The weather in Hangzhou is sunny.'}]"
      ]
     },
     "execution_count": 16,
     "metadata": {},
     "output_type": "execute_result"
    }
   ],
   "source": [
    "ma.chat(messages=[{\"role\": \"user\", \"content\": \"what is the weather in Hangzhou?\"}])"
   ]
  },
  {
   "cell_type": "code",
   "execution_count": 17,
   "metadata": {},
   "outputs": [
    {
     "data": {
      "text/plain": [
       "[{'role': 'tool', 'content': 'The latest news is that the sun is shining.'}]"
      ]
     },
     "execution_count": 17,
     "metadata": {},
     "output_type": "execute_result"
    }
   ],
   "source": [
    "ma.chat(messages=[{\"role\": \"user\", \"content\": \"what happened today?\"}])"
   ]
  },
  {
   "cell_type": "code",
   "execution_count": 18,
   "metadata": {},
   "outputs": [
    {
     "data": {
      "text/plain": [
       "[{'role': 'tool', 'content': 'The weather in Hangzhou is sunny.'},\n",
       " {'role': 'tool', 'content': 'The latest news is that the sun is shining.'}]"
      ]
     },
     "execution_count": 18,
     "metadata": {},
     "output_type": "execute_result"
    }
   ],
   "source": [
    "ma.chat(messages=[{\"role\": \"user\", \"content\": \"what is the weather in Hangzhou and what happened today?\"}])"
   ]
  }
 ],
 "metadata": {
  "kernelspec": {
   "display_name": ".venv",
   "language": "python",
   "name": "python3"
  },
  "language_info": {
   "codemirror_mode": {
    "name": "ipython",
    "version": 3
   },
   "file_extension": ".py",
   "mimetype": "text/x-python",
   "name": "python",
   "nbconvert_exporter": "python",
   "pygments_lexer": "ipython3",
   "version": "3.11.5"
  }
 },
 "nbformat": 4,
 "nbformat_minor": 2
}
