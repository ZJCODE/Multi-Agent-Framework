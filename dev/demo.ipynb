{
 "cells": [
  {
   "cell_type": "code",
   "execution_count": 31,
   "metadata": {},
   "outputs": [],
   "source": [
    "import os\n",
    "import json\n",
    "from dataclasses import asdict\n",
    "from dotenv import load_dotenv\n",
    "from openai import OpenAI\n",
    "from protocol import Env,Member,Message\n",
    "from agents import Group"
   ]
  },
  {
   "cell_type": "code",
   "execution_count": 32,
   "metadata": {},
   "outputs": [],
   "source": [
    "# load the environment variables\n",
    "load_dotenv()\n",
    "# create a model client\n",
    "model_client = OpenAI()\n",
    "# create an environment\n",
    "env = Env(\n",
    "    description=\"This is a test environment\",\n",
    "    members=[\n",
    "        Member(name=\"agent1\", role=\"Mathematician\", description=\"Transfer to me if you need help with math.\", access_token=os.environ.get(\"AGENT1_ACCESS_TOKEN\")),\n",
    "        Member(name=\"agent2\", role=\"Musician\", description=\"Transfer to me if you need help with music.\", access_token=os.environ.get(\"AGENT2_ACCESS_TOKEN\")),\n",
    "        Member(name=\"agent3\", role=\"Artist\", description=\"Transfer to me if you need help with art.\", access_token=os.environ.get(\"AGENT3_ACCESS_TOKEN\")),\n",
    "    ]\n",
    ")\n",
    "# create a group of agents\n",
    "g = Group(env=env,model_client=model_client) \n",
    "\n",
    "# from IPython.display import Image\n",
    "# Image(g.draw_relations())"
   ]
  },
  {
   "cell_type": "code",
   "execution_count": 33,
   "metadata": {},
   "outputs": [],
   "source": [
    "g.update_group_messages(Message(sender=\"user\", action=\"talk\", result=\"Can anyone help me with math? 2+2=?\"))\n",
    "g.update_group_messages(Message(sender=\"agent1\", action=\"solve\", result=\"2+2=4\"))\n",
    "g.update_group_messages(Message(sender=\"user\", action=\"talk\", result=\"Can anyone help me with music?\"))"
   ]
  },
  {
   "cell_type": "code",
   "execution_count": 34,
   "metadata": {},
   "outputs": [
    {
     "name": "stdout",
     "output_type": "stream",
     "text": [
      "--------------------------------------------------\n",
      "Below Is The Group Message Protocol Instance\n",
      "--------------------------------------------------\n",
      "{\n",
      "    \"group_id\": \"79f5c87f-c74b-4af3-8662-ccc0e4d5c2e1\",\n",
      "    \"env\": {\n",
      "        \"description\": \"This is a test environment\",\n",
      "        \"members\": [\n",
      "            {\n",
      "                \"name\": \"agent1\",\n",
      "                \"role\": \"Mathematician\",\n",
      "                \"description\": \"Transfer to me if you need help with math.\",\n",
      "                \"access_token\": null\n",
      "            },\n",
      "            {\n",
      "                \"name\": \"agent2\",\n",
      "                \"role\": \"Musician\",\n",
      "                \"description\": \"Transfer to me if you need help with music.\",\n",
      "                \"access_token\": null\n",
      "            },\n",
      "            {\n",
      "                \"name\": \"agent3\",\n",
      "                \"role\": \"Artist\",\n",
      "                \"description\": \"Transfer to me if you need help with art.\",\n",
      "                \"access_token\": null\n",
      "            }\n",
      "        ],\n",
      "        \"relationships\": {\n",
      "            \"agent1\": [\n",
      "                \"agent2\",\n",
      "                \"agent3\"\n",
      "            ],\n",
      "            \"agent2\": [\n",
      "                \"agent1\",\n",
      "                \"agent3\"\n",
      "            ],\n",
      "            \"agent3\": [\n",
      "                \"agent1\",\n",
      "                \"agent2\"\n",
      "            ]\n",
      "        }\n",
      "    },\n",
      "    \"context\": [\n",
      "        {\n",
      "            \"sender\": \"user\",\n",
      "            \"action\": \"talk\",\n",
      "            \"result\": \"Can anyone help me with math? 2+2=?\"\n",
      "        },\n",
      "        {\n",
      "            \"sender\": \"agent1\",\n",
      "            \"action\": \"solve\",\n",
      "            \"result\": \"2+2=4\"\n",
      "        },\n",
      "        {\n",
      "            \"sender\": \"user\",\n",
      "            \"action\": \"talk\",\n",
      "            \"result\": \"Can anyone help me with music?\"\n",
      "        }\n",
      "    ],\n",
      "    \"next_agent\": \"agent2\"\n",
      "}\n",
      "--------------------------------------------------\n",
      "Below Message Send To `agent2` who is Musician\n",
      "--------------------------------------------------\n",
      "### Background Information\n",
      "\n",
      "This is a test environment\n",
      "\n",
      "### Members\n",
      "\n",
      "- agent1 (Mathematician)\n",
      "- agent2 (Musician)\n",
      "- agent3 (Artist)\n",
      "\n",
      "### Your Previous Message\n",
      "\n",
      "\n",
      "\n",
      "### Other people's Messages\n",
      "\n",
      "```agent1:solve\n",
      "2+2=4\n",
      "```\n",
      "\n",
      "```user:talk\n",
      "Can anyone help me with music?\n",
      "```\n",
      "\n",
      "### Task\n",
      "\n",
      "Consider the Background Information and the previous messages. Now, it's your turn.\n"
     ]
    }
   ],
   "source": [
    "# Do handoff\n",
    "res = g.handoff(next_speaker_select_mode=\"auto2\",model=\"gpt-4o-mini\",include_current=True)\n",
    "\n",
    "# Print the group message protocol instance\n",
    "print('-'*50)\n",
    "print(\"Below Is The Group Message Protocol Instance\")\n",
    "print('-'*50)\n",
    "print(json.dumps(asdict(res), indent=4))\n",
    "print('-'*50)\n",
    "print(\"Below Message Send To `{}` who is {}\".format(res.next_agent,g.members_map[res.next_agent].role))\n",
    "print('-'*50)\n",
    "print(g._build_send_message(res,cut_off=2))"
   ]
  },
  {
   "cell_type": "code",
   "execution_count": 35,
   "metadata": {},
   "outputs": [
    {
     "data": {
      "text/plain": [
       "Message(sender='agent2', action='talk', result='If you\\'re looking for music to accompany your reading, I would recommend selecting pieces that are soothing and non-distracting. Instrumental music often works best, as it allows you to focus on the text without the interference of lyrics. Here are a few genres and specific recommendations:\\n\\n1. **Classical Music**: Composers like Johann Sebastian Bach and Claude Debussy have created beautiful pieces that can enhance your reading experience. For example, Bach\\'s \"Goldberg Variations\" is calming and uplifting, while Debussy\\'s \"Clair de Lune\" offers a dreamy atmosphere.\\n\\n2. **Ambient Music**: Artists like Brian Eno specialize in ambient music that is designed to create a tranquil environment. His album \"Music for Airports\" is an excellent choice for a peaceful backdrop.\\n\\n3. **Jazz**: Soft jazz can also be a great option. Look for smooth jazz playlists that feature artists like Miles Davis or Bill Evans, whose gentle melodies can create a relaxing vibe.\\n\\n4. **Lo-fi Hip Hop**: This genre has gained popularity for studying and reading. You can find countless \"lo-fi hip hop\" playlists on streaming platforms that offer a blend of mellow beats ideal for concentration.\\n\\n5. **Nature Sounds**: If you prefer something even more minimal, consider listening to nature sounds or soundscapes. These can range from gentle rain to ocean waves, providing a serene backdrop without any musical distraction.\\n\\nFeel free to explore these suggestions and find what resonates best with your reading style!')"
      ]
     },
     "execution_count": 35,
     "metadata": {},
     "output_type": "execute_result"
    }
   ],
   "source": [
    "g.update_group_messages(Message(sender=\"user\", action=\"talk\", result=\"How about music for reading?\"))\n",
    "g.call_agent(next_speaker_select_mode=\"auto2\",model=\"gpt-4o-mini\",include_current=True)"
   ]
  },
  {
   "cell_type": "code",
   "execution_count": 36,
   "metadata": {},
   "outputs": [
    {
     "data": {
      "text/plain": [
       "Message(sender='agent3', action='talk', result='Beauty is a complex and subjective concept that has been explored by philosophers, artists, and thinkers throughout history. It often encompasses qualities that provide pleasure or satisfaction to the senses, particularly in art, nature, and human expressions.\\n\\nFrom an artistic standpoint, beauty can be seen in the harmony of colors, the balance of composition, and the emotional responses elicited by a piece of work. Different cultures and eras have had varying definitions of beauty, influenced by societal values, historical contexts, and individual perspectives.\\n\\nPhilosophically, beauty has been associated with ideas of truth and goodness. The ancient Greeks, for instance, considered beauty to be a reflection of an underlying order and symmetry in the universe. In contrast, modern interpretations may emphasize the diversity of beauty, acknowledging that it can manifest in unconventional forms and experiences.\\n\\nUltimately, beauty is not merely a visual or auditory phenomenon; it invites introspection and can provoke deep emotional responses. It is a reminder of the richness of human experience, encouraging us to appreciate the world around us in all its complexity.')"
      ]
     },
     "execution_count": 36,
     "metadata": {},
     "output_type": "execute_result"
    }
   ],
   "source": [
    "g.update_group_messages(Message(sender=\"user\", action=\"talk\", result=\"Let's discuss what is beauty.\"))\n",
    "g.call_agent(next_speaker_select_mode=\"auto2\",model=\"gpt-4o-mini\",include_current=False)"
   ]
  },
  {
   "cell_type": "code",
   "execution_count": 37,
   "metadata": {},
   "outputs": [
    {
     "data": {
      "text/plain": [
       "Message(sender='agent1', action='talk', result='Beauty can be perceived in various forms and contexts, making it a multifaceted concept. Mathematically, one might argue that beauty exists in symmetry, patterns, and the elegant solutions to complex problems. For example, the Fibonacci sequence and the Golden Ratio are often cited as mathematical representations of beauty due to their prevalence in nature and art.\\n\\nIn mathematics, beauty can also be found in the simplicity of a proof or the elegance of a theorem. A well-structured equation or a concise solution to a problem can evoke a sense of aesthetic appreciation, much like a painting or a piece of music.\\n\\nUltimately, whether in art, nature, or mathematics, beauty invites us to explore, appreciate, and reflect on the world in ways that transcend mere functionality, connecting us to deeper truths and experiences.')"
      ]
     },
     "execution_count": 37,
     "metadata": {},
     "output_type": "execute_result"
    }
   ],
   "source": [
    "g.call_agent(next_speaker_select_mode=\"auto2\",model=\"gpt-4o-mini\",include_current=False)"
   ]
  },
  {
   "cell_type": "code",
   "execution_count": 38,
   "metadata": {},
   "outputs": [
    {
     "data": {
      "text/plain": [
       "Message(sender='agent2', action='talk', result='Beauty is indeed a topic that resonates across various disciplines, including art, mathematics, and music. Each perspective brings its own unique insights and interpretations to the concept of beauty.\\n\\nFrom the standpoint of music, beauty can be found in harmony, melody, and rhythm. A well-composed piece can evoke a range of emotions, transporting listeners to different places and times. The interplay of notes, the rise and fall of melodies, and the intricate arrangements can create a profound experience that resonates deeply within us. \\n\\nTake, for example, the works of composers like Claude Debussy, whose music often embodies the essence of beauty through impressionistic soundscapes. Pieces such as \"Clair de Lune\" capture fleeting moments of beauty, with their gentle melodies and rich harmonies, inviting listeners to reflect and feel. Similarly, the intricate fugues of Johann Sebastian Bach showcase mathematical precision and emotional depth, revealing beauty in both structure and expression.\\n\\nIn the realm of popular music, artists like Adele use raw emotion and powerful vocal delivery to explore themes of love and heartbreak, creating beautiful moments that resonate universally. Her song \"Someone Like You\" is a poignant example of how music can encapsulate beauty through lyrical storytelling and melodic craftsmanship.\\n\\nUltimately, beauty in music, like in other forms of art, is about connection—connecting with oneself, with others, and with the world. It invites us to experience life more fully, reminding us of the profound emotions and stories that shape our human experience.')"
      ]
     },
     "execution_count": 38,
     "metadata": {},
     "output_type": "execute_result"
    }
   ],
   "source": [
    "g.call_agent(next_speaker_select_mode=\"auto2\",model=\"gpt-4o-mini\",include_current=False)"
   ]
  },
  {
   "cell_type": "code",
   "execution_count": 39,
   "metadata": {},
   "outputs": [
    {
     "name": "stdout",
     "output_type": "stream",
     "text": [
      "--------------------------------------------------\n",
      "agent2\n",
      "--------------------------------------------------\n",
      "### Background Information\n",
      "\n",
      "This is a test environment\n",
      "\n",
      "### Members\n",
      "\n",
      "- agent1 (Mathematician)\n",
      "- agent2 (Musician)\n",
      "- agent3 (Artist)\n",
      "\n",
      "### Your Previous Message\n",
      "\n",
      "```agent2:talk\n",
      "Beauty is indeed a topic that resonates across various disciplines, including art, mathematics, and music. Each perspective brings its own unique insights and interpretations to the concept of beauty.\n",
      "\n",
      "From the standpoint of music, beauty can be found in harmony, melody, and rhythm. A well-composed piece can evoke a range of emotions, transporting listeners to different places and times. The interplay of notes, the rise and fall of melodies, and the intricate arrangements can create a profound experience that resonates deeply within us. \n",
      "\n",
      "Take, for example, the works of composers like Claude Debussy, whose music often embodies the essence of beauty through impressionistic soundscapes. Pieces such as \"Clair de Lune\" capture fleeting moments of beauty, with their gentle melodies and rich harmonies, inviting listeners to reflect and feel. Similarly, the intricate fugues of Johann Sebastian Bach showcase mathematical precision and emotional depth, revealing beauty in both structure and expression.\n",
      "\n",
      "In the realm of popular music, artists like Adele use raw emotion and powerful vocal delivery to explore themes of love and heartbreak, creating beautiful moments that resonate universally. Her song \"Someone Like You\" is a poignant example of how music can encapsulate beauty through lyrical storytelling and melodic craftsmanship.\n",
      "\n",
      "Ultimately, beauty in music, like in other forms of art, is about connection—connecting with oneself, with others, and with the world. It invites us to experience life more fully, reminding us of the profound emotions and stories that shape our human experience.\n",
      "```\n",
      "\n",
      "### Other people's Messages\n",
      "\n",
      "```agent3:talk\n",
      "Beauty is a complex and subjective concept that has been explored by philosophers, artists, and thinkers throughout history. It often encompasses qualities that provide pleasure or satisfaction to the senses, particularly in art, nature, and human expressions.\n",
      "\n",
      "From an artistic standpoint, beauty can be seen in the harmony of colors, the balance of composition, and the emotional responses elicited by a piece of work. Different cultures and eras have had varying definitions of beauty, influenced by societal values, historical contexts, and individual perspectives.\n",
      "\n",
      "Philosophically, beauty has been associated with ideas of truth and goodness. The ancient Greeks, for instance, considered beauty to be a reflection of an underlying order and symmetry in the universe. In contrast, modern interpretations may emphasize the diversity of beauty, acknowledging that it can manifest in unconventional forms and experiences.\n",
      "\n",
      "Ultimately, beauty is not merely a visual or auditory phenomenon; it invites introspection and can provoke deep emotional responses. It is a reminder of the richness of human experience, encouraging us to appreciate the world around us in all its complexity.\n",
      "```\n",
      "\n",
      "```agent1:talk\n",
      "Beauty can be perceived in various forms and contexts, making it a multifaceted concept. Mathematically, one might argue that beauty exists in symmetry, patterns, and the elegant solutions to complex problems. For example, the Fibonacci sequence and the Golden Ratio are often cited as mathematical representations of beauty due to their prevalence in nature and art.\n",
      "\n",
      "In mathematics, beauty can also be found in the simplicity of a proof or the elegance of a theorem. A well-structured equation or a concise solution to a problem can evoke a sense of aesthetic appreciation, much like a painting or a piece of music.\n",
      "\n",
      "Ultimately, whether in art, nature, or mathematics, beauty invites us to explore, appreciate, and reflect on the world in ways that transcend mere functionality, connecting us to deeper truths and experiences.\n",
      "```\n",
      "\n",
      "### Task\n",
      "\n",
      "Consider the Background Information and the previous messages. Now, it's your turn.\n"
     ]
    }
   ],
   "source": [
    "print('-'*50)\n",
    "print(g.current_agent)\n",
    "print('-'*50)\n",
    "print(g._build_send_message(g.group_messages,cut_off=3))"
   ]
  },
  {
   "cell_type": "code",
   "execution_count": null,
   "metadata": {},
   "outputs": [],
   "source": []
  }
 ],
 "metadata": {
  "kernelspec": {
   "display_name": ".venv",
   "language": "python",
   "name": "python3"
  },
  "language_info": {
   "codemirror_mode": {
    "name": "ipython",
    "version": 3
   },
   "file_extension": ".py",
   "mimetype": "text/x-python",
   "name": "python",
   "nbconvert_exporter": "python",
   "pygments_lexer": "ipython3",
   "version": "3.11.5"
  }
 },
 "nbformat": 4,
 "nbformat_minor": 2
}
