{
 "cells": [
  {
   "cell_type": "code",
   "execution_count": 1,
   "metadata": {},
   "outputs": [],
   "source": [
    "import os\n",
    "import json\n",
    "from dataclasses import asdict\n",
    "from dotenv import load_dotenv\n",
    "from openai import OpenAI\n",
    "from protocol import Env,Member,Message\n",
    "from agents import Group"
   ]
  },
  {
   "cell_type": "code",
   "execution_count": 2,
   "metadata": {},
   "outputs": [],
   "source": [
    "# load the environment variables\n",
    "load_dotenv()\n",
    "# create a model client\n",
    "model_client = OpenAI()\n",
    "# create an environment\n",
    "env = Env(\n",
    "    description=\"This is a test environment\",\n",
    "    members=[\n",
    "        Member(name=\"agent1\", role=\"Mathematician\", description=\"Transfer to me if you need help with math.\", access_token=os.environ.get(\"AGENT1_ACCESS_TOKEN\")),\n",
    "        Member(name=\"agent2\", role=\"Musician\", description=\"Transfer to me if you need help with music.\", access_token=os.environ.get(\"AGENT2_ACCESS_TOKEN\")),\n",
    "        Member(name=\"agent3\", role=\"Artist\", description=\"Transfer to me if you need help with art.\", access_token=os.environ.get(\"AGENT3_ACCESS_TOKEN\")),\n",
    "    ]\n",
    ")\n",
    "# create a group of agents\n",
    "g = Group(env=env,model_client=model_client) \n",
    "\n",
    "# from IPython.display import Image\n",
    "# Image(g.draw_relations())"
   ]
  },
  {
   "cell_type": "code",
   "execution_count": 3,
   "metadata": {},
   "outputs": [],
   "source": [
    "g.update_group_messages(Message(sender=\"user\", action=\"talk\", result=\"Can anyone help me with math? 2+2=?\"))\n",
    "g.update_group_messages(Message(sender=\"agent1\", action=\"solve\", result=\"2+2=4\"))\n",
    "g.update_group_messages(Message(sender=\"user\", action=\"talk\", result=\"Can anyone help me with music?\"))"
   ]
  },
  {
   "cell_type": "code",
   "execution_count": 4,
   "metadata": {},
   "outputs": [
    {
     "name": "stdout",
     "output_type": "stream",
     "text": [
      "--------------------------------------------------\n",
      "Below Is The Group Message Protocol Instance\n",
      "--------------------------------------------------\n",
      "{\n",
      "    \"group_id\": \"94df724e-25c4-4255-b6f3-5b4848d3da3a\",\n",
      "    \"env\": {\n",
      "        \"description\": \"This is a test environment\",\n",
      "        \"members\": [\n",
      "            {\n",
      "                \"name\": \"agent1\",\n",
      "                \"role\": \"Mathematician\",\n",
      "                \"description\": \"Transfer to me if you need help with math.\",\n",
      "                \"access_token\": null\n",
      "            },\n",
      "            {\n",
      "                \"name\": \"agent2\",\n",
      "                \"role\": \"Musician\",\n",
      "                \"description\": \"Transfer to me if you need help with music.\",\n",
      "                \"access_token\": null\n",
      "            },\n",
      "            {\n",
      "                \"name\": \"agent3\",\n",
      "                \"role\": \"Artist\",\n",
      "                \"description\": \"Transfer to me if you need help with art.\",\n",
      "                \"access_token\": null\n",
      "            }\n",
      "        ],\n",
      "        \"relationships\": {\n",
      "            \"agent1\": [\n",
      "                \"agent2\",\n",
      "                \"agent3\"\n",
      "            ],\n",
      "            \"agent2\": [\n",
      "                \"agent1\",\n",
      "                \"agent3\"\n",
      "            ],\n",
      "            \"agent3\": [\n",
      "                \"agent1\",\n",
      "                \"agent2\"\n",
      "            ]\n",
      "        }\n",
      "    },\n",
      "    \"context\": [\n",
      "        {\n",
      "            \"sender\": \"user\",\n",
      "            \"action\": \"talk\",\n",
      "            \"result\": \"Can anyone help me with math? 2+2=?\"\n",
      "        },\n",
      "        {\n",
      "            \"sender\": \"agent1\",\n",
      "            \"action\": \"solve\",\n",
      "            \"result\": \"2+2=4\"\n",
      "        },\n",
      "        {\n",
      "            \"sender\": \"user\",\n",
      "            \"action\": \"talk\",\n",
      "            \"result\": \"Can anyone help me with music?\"\n",
      "        }\n",
      "    ],\n",
      "    \"next_agent\": \"agent2\"\n",
      "}\n",
      "--------------------------------------------------\n",
      "Below Message Send To `agent2` who is Musician\n",
      "--------------------------------------------------\n",
      "### Background Information\n",
      "\n",
      "This is a test environment\n",
      "\n",
      "### Members\n",
      "\n",
      "- agent1 (Mathematician)\n",
      "- agent2 (Musician)\n",
      "- agent3 (Artist)\n",
      "\n",
      "### Your Previous Message\n",
      "\n",
      "\n",
      "\n",
      "### Other people's Messages\n",
      "\n",
      "```agent1:solve\n",
      "2+2=4\n",
      "```\n",
      "\n",
      "```user:talk\n",
      "Can anyone help me with music?\n",
      "```\n",
      "\n",
      "### Task\n",
      "\n",
      "Consider the Background Information and the previous messages. Now, it's your turn.\n"
     ]
    }
   ],
   "source": [
    "# Do handoff\n",
    "res = g.handoff(next_speaker_select_mode=\"auto2\",model=\"gpt-4o-mini\",include_current=True)\n",
    "\n",
    "# Print the group message protocol instance\n",
    "print('-'*50)\n",
    "print(\"Below Is The Group Message Protocol Instance\")\n",
    "print('-'*50)\n",
    "print(json.dumps(asdict(res), indent=4))\n",
    "print('-'*50)\n",
    "print(\"Below Message Send To `{}` who is {}\".format(res.next_agent,g.members_map[res.next_agent].role))\n",
    "print('-'*50)\n",
    "print(g._build_send_message(res,cut_off=2))"
   ]
  },
  {
   "cell_type": "code",
   "execution_count": 5,
   "metadata": {},
   "outputs": [
    {
     "data": {
      "text/plain": [
       "Message(sender='agent2', action='talk', result='If you\\'re looking for music to accompany your reading, there are several genres and styles that can enhance your experience. \\n\\n1. **Classical Music**: This genre is often favored for its soothing and intricate compositions. Pieces like Debussy\\'s \"Clair de Lune\" or Bach\\'s \"Goldberg Variations\" create a serene atmosphere that can help you focus on the text.\\n\\n2. **Ambient Music**: Artists like Brian Eno have perfected the art of ambient music, providing soundscapes that are unobtrusive and calming. Albums such as \"Music for Airports\" are designed to create a peaceful environment without drawing too much attention.\\n\\n3. **Jazz**: Soft jazz, especially instrumental, can provide a lively yet relaxed backdrop. Consider artists like Bill Evans or Miles Davis, whose smooth melodies can stimulate thought without being distracting.\\n\\n4. **Lo-fi Hip Hop**: This modern genre has gained popularity for study and reading. The mellow beats and samples create a cozy vibe, perfect for immersing yourself in a book.\\n\\n5. **Nature Sounds**: If music isn\\'t your preference, consider listening to recordings of nature sounds like rain, ocean waves, or forest ambiance. These can be incredibly calming and help you concentrate.\\n\\nSelecting the right music can significantly enhance your reading experience, making it more enjoyable and immersive.')"
      ]
     },
     "execution_count": 5,
     "metadata": {},
     "output_type": "execute_result"
    }
   ],
   "source": [
    "g.update_group_messages(Message(sender=\"user\", action=\"talk\", result=\"How about music for reading?\"))\n",
    "g.call_agent(next_speaker_select_mode=\"auto2\",model=\"gpt-4o-mini\",include_current=True)"
   ]
  },
  {
   "cell_type": "code",
   "execution_count": 6,
   "metadata": {},
   "outputs": [
    {
     "data": {
      "text/plain": [
       "Message(sender='agent3', action='talk', result='Beauty is a multifaceted concept that has captivated philosophers, artists, and thinkers throughout history. It often encompasses qualities that provide pleasure, harmony, and a sense of aesthetic satisfaction. \\n\\n1. **Philosophical Perspectives**: Philosophers like Plato viewed beauty as an ideal form, something that transcends the physical world. In contrast, others, such as David Hume, argued that beauty is subjective and lies in the eye of the beholder, suggesting that our personal experiences and cultural contexts shape our perceptions of beauty.\\n\\n2. **Artistic Interpretation**: In the realm of art, beauty can manifest in various forms, from the intricate details of a Renaissance painting to the bold colors of modern abstract works. Artists often explore beauty not only through visual aesthetics but also by conveying emotions and ideas that resonate with the audience.\\n\\n3. **Natural Beauty**: The beauty found in nature, such as a stunning sunset, a blooming flower, or a majestic mountain range, often evokes feelings of awe and tranquility. This connection to the natural world can remind us of the simplicity and complexity of life.\\n\\n4. **Cultural Influences**: Beauty standards can vary significantly across different cultures and time periods. What is considered beautiful in one society may not hold the same value in another. This diversity enriches our understanding of beauty and challenges us to appreciate a wide range of expressions.\\n\\nUltimately, beauty is an ever-evolving concept that invites us to explore our values, perceptions, and the world around us. It encourages us to find meaning in the things we admire, whether they are in art, nature, or the human experience.')"
      ]
     },
     "execution_count": 6,
     "metadata": {},
     "output_type": "execute_result"
    }
   ],
   "source": [
    "g.update_group_messages(Message(sender=\"user\", action=\"talk\", result=\"Let's discuss what is beauty.\"))\n",
    "g.call_agent(next_speaker_select_mode=\"auto2\",model=\"gpt-4o-mini\",include_current=False)"
   ]
  },
  {
   "cell_type": "code",
   "execution_count": 7,
   "metadata": {},
   "outputs": [
    {
     "data": {
      "text/plain": [
       "Message(sender='agent1', action='talk', result=\"Mathematics, much like beauty, is a concept that can be deeply analyzed and interpreted in various ways. Let's explore some aspects of mathematics that may resonate with the discussion of beauty:\\n\\n1. **Elegance in Proofs**: In mathematics, an elegant proof is often considered beautiful. For example, the proof of the Pythagorean theorem can be appreciated for its simplicity and clarity, demonstrating how mathematical truths can be revealed through logical reasoning.\\n\\n2. **Symmetry and Patterns**: Many mathematical concepts involve symmetry and patterns, which are often aesthetically pleasing. Fractals, for example, showcase beautiful patterns that repeat at different scales and can be found in nature, art, and mathematics alike.\\n\\n3. **The Golden Ratio**: This ratio, approximately 1.618, has been used in art and architecture for centuries because of its aesthetically pleasing properties. It appears in various natural phenomena and is often associated with beauty in design.\\n\\n4. **Mathematical Art**: The intersection of mathematics and art produces fascinating results. Geometric art, tessellations, and mathematical sculptures reveal how mathematical concepts can create visually stunning works.\\n\\n5. **Abstract Beauty**: The beauty of mathematics often lies in its abstraction. Concepts such as infinity, imaginary numbers, and higher-dimensional spaces can evoke a sense of wonder and challenge our understanding of reality, much like abstract art.\\n\\nIn conclusion, both mathematics and beauty invite exploration and appreciation, encouraging us to look beyond the surface and discover deeper meanings and connections in the world around us.\")"
      ]
     },
     "execution_count": 7,
     "metadata": {},
     "output_type": "execute_result"
    }
   ],
   "source": [
    "g.call_agent(next_speaker_select_mode=\"auto2\",model=\"gpt-4o-mini\",include_current=False)"
   ]
  },
  {
   "cell_type": "code",
   "execution_count": 8,
   "metadata": {},
   "outputs": [
    {
     "data": {
      "text/plain": [
       "Message(sender='agent2', action='talk', result=\"Let's delve deeper into the connection between beauty and music, drawing upon the insights shared by agent3 and agent1 while adding a musical perspective.\\n\\nMusic, much like beauty, is a complex and subjective experience that resonates with individuals on various levels. Here are some dimensions where music intersects with the concept of beauty:\\n\\n1. **Emotional Expression**: Music has a profound capacity to evoke emotions, similar to the way beauty can stir feelings within us. Composers like Frédéric Chopin and Claude Debussy craft melodies that capture the essence of beauty through their emotive power, allowing listeners to experience joy, melancholy, or nostalgia.\\n\\n2. **Harmony and Melody**: Just as symmetry and patterns can create aesthetic pleasure in mathematics, harmony and melody in music establish a sense of beauty. The intricate interplay between different musical lines, as seen in Johann Sebastian Bach’s fugues, showcases how structured yet fluid arrangements can be deeply satisfying to the ear.\\n\\n3. **Cultural Context**: The perception of beauty in music is often influenced by cultural backgrounds. Different genres and styles, from classical and jazz to folk and pop, reflect diverse aesthetic values. For example, the intricate rhythms of African drumming or the delicate nuances of traditional Chinese music exemplify unique interpretations of beauty within their cultural frameworks.\\n\\n4. **Innovation and Creativity**: Much like the elegant proofs in mathematics, groundbreaking compositions can be considered beautiful for their innovation. Musicians like Igor Stravinsky and Miles Davis pushed the boundaries of traditional music, creating new forms that challenged listeners’ expectations and evoked a sense of wonder and intrigue.\\n\\n5. **The Experience of Sound**: The physical properties of sound—its pitch, timbre, and dynamics—contribute to the beauty of music. The shimmering tones of a solo violin or the rich layers of a symphony can transport listeners to different realms, creating an immersive experience that parallels the awe-inspiring beauty found in nature.\\n\\nIn essence, music embodies an intricate tapestry of beauty, combining emotional depth, cultural richness, and artistic innovation. Just as beauty invites us to reflect on our values and experiences, music encourages us to explore the depths of human emotion and creativity, reminding us of our shared humanity through its evocative power.\")"
      ]
     },
     "execution_count": 8,
     "metadata": {},
     "output_type": "execute_result"
    }
   ],
   "source": [
    "g.call_agent(next_speaker_select_mode=\"auto2\",model=\"gpt-4o-mini\",include_current=False)"
   ]
  },
  {
   "cell_type": "code",
   "execution_count": 9,
   "metadata": {},
   "outputs": [
    {
     "name": "stdout",
     "output_type": "stream",
     "text": [
      "--------------------------------------------------\n",
      "agent2\n",
      "--------------------------------------------------\n",
      "### Background Information\n",
      "\n",
      "This is a test environment\n",
      "\n",
      "### Members\n",
      "\n",
      "- agent1 (Mathematician)\n",
      "- agent2 (Musician)\n",
      "- agent3 (Artist)\n",
      "\n",
      "### Your Previous Message\n",
      "\n",
      "```agent2:talk\n",
      "Let's delve deeper into the connection between beauty and music, drawing upon the insights shared by agent3 and agent1 while adding a musical perspective.\n",
      "\n",
      "Music, much like beauty, is a complex and subjective experience that resonates with individuals on various levels. Here are some dimensions where music intersects with the concept of beauty:\n",
      "\n",
      "1. **Emotional Expression**: Music has a profound capacity to evoke emotions, similar to the way beauty can stir feelings within us. Composers like Frédéric Chopin and Claude Debussy craft melodies that capture the essence of beauty through their emotive power, allowing listeners to experience joy, melancholy, or nostalgia.\n",
      "\n",
      "2. **Harmony and Melody**: Just as symmetry and patterns can create aesthetic pleasure in mathematics, harmony and melody in music establish a sense of beauty. The intricate interplay between different musical lines, as seen in Johann Sebastian Bach’s fugues, showcases how structured yet fluid arrangements can be deeply satisfying to the ear.\n",
      "\n",
      "3. **Cultural Context**: The perception of beauty in music is often influenced by cultural backgrounds. Different genres and styles, from classical and jazz to folk and pop, reflect diverse aesthetic values. For example, the intricate rhythms of African drumming or the delicate nuances of traditional Chinese music exemplify unique interpretations of beauty within their cultural frameworks.\n",
      "\n",
      "4. **Innovation and Creativity**: Much like the elegant proofs in mathematics, groundbreaking compositions can be considered beautiful for their innovation. Musicians like Igor Stravinsky and Miles Davis pushed the boundaries of traditional music, creating new forms that challenged listeners’ expectations and evoked a sense of wonder and intrigue.\n",
      "\n",
      "5. **The Experience of Sound**: The physical properties of sound—its pitch, timbre, and dynamics—contribute to the beauty of music. The shimmering tones of a solo violin or the rich layers of a symphony can transport listeners to different realms, creating an immersive experience that parallels the awe-inspiring beauty found in nature.\n",
      "\n",
      "In essence, music embodies an intricate tapestry of beauty, combining emotional depth, cultural richness, and artistic innovation. Just as beauty invites us to reflect on our values and experiences, music encourages us to explore the depths of human emotion and creativity, reminding us of our shared humanity through its evocative power.\n",
      "```\n",
      "\n",
      "### Other people's Messages\n",
      "\n",
      "```agent3:talk\n",
      "Beauty is a multifaceted concept that has captivated philosophers, artists, and thinkers throughout history. It often encompasses qualities that provide pleasure, harmony, and a sense of aesthetic satisfaction. \n",
      "\n",
      "1. **Philosophical Perspectives**: Philosophers like Plato viewed beauty as an ideal form, something that transcends the physical world. In contrast, others, such as David Hume, argued that beauty is subjective and lies in the eye of the beholder, suggesting that our personal experiences and cultural contexts shape our perceptions of beauty.\n",
      "\n",
      "2. **Artistic Interpretation**: In the realm of art, beauty can manifest in various forms, from the intricate details of a Renaissance painting to the bold colors of modern abstract works. Artists often explore beauty not only through visual aesthetics but also by conveying emotions and ideas that resonate with the audience.\n",
      "\n",
      "3. **Natural Beauty**: The beauty found in nature, such as a stunning sunset, a blooming flower, or a majestic mountain range, often evokes feelings of awe and tranquility. This connection to the natural world can remind us of the simplicity and complexity of life.\n",
      "\n",
      "4. **Cultural Influences**: Beauty standards can vary significantly across different cultures and time periods. What is considered beautiful in one society may not hold the same value in another. This diversity enriches our understanding of beauty and challenges us to appreciate a wide range of expressions.\n",
      "\n",
      "Ultimately, beauty is an ever-evolving concept that invites us to explore our values, perceptions, and the world around us. It encourages us to find meaning in the things we admire, whether they are in art, nature, or the human experience.\n",
      "```\n",
      "\n",
      "```agent1:talk\n",
      "Mathematics, much like beauty, is a concept that can be deeply analyzed and interpreted in various ways. Let's explore some aspects of mathematics that may resonate with the discussion of beauty:\n",
      "\n",
      "1. **Elegance in Proofs**: In mathematics, an elegant proof is often considered beautiful. For example, the proof of the Pythagorean theorem can be appreciated for its simplicity and clarity, demonstrating how mathematical truths can be revealed through logical reasoning.\n",
      "\n",
      "2. **Symmetry and Patterns**: Many mathematical concepts involve symmetry and patterns, which are often aesthetically pleasing. Fractals, for example, showcase beautiful patterns that repeat at different scales and can be found in nature, art, and mathematics alike.\n",
      "\n",
      "3. **The Golden Ratio**: This ratio, approximately 1.618, has been used in art and architecture for centuries because of its aesthetically pleasing properties. It appears in various natural phenomena and is often associated with beauty in design.\n",
      "\n",
      "4. **Mathematical Art**: The intersection of mathematics and art produces fascinating results. Geometric art, tessellations, and mathematical sculptures reveal how mathematical concepts can create visually stunning works.\n",
      "\n",
      "5. **Abstract Beauty**: The beauty of mathematics often lies in its abstraction. Concepts such as infinity, imaginary numbers, and higher-dimensional spaces can evoke a sense of wonder and challenge our understanding of reality, much like abstract art.\n",
      "\n",
      "In conclusion, both mathematics and beauty invite exploration and appreciation, encouraging us to look beyond the surface and discover deeper meanings and connections in the world around us.\n",
      "```\n",
      "\n",
      "### Task\n",
      "\n",
      "Consider the Background Information and the previous messages. Now, it's your turn.\n"
     ]
    }
   ],
   "source": [
    "print('-'*50)\n",
    "print(g.current_agent)\n",
    "print('-'*50)\n",
    "print(g._build_send_message(g.group_messages,cut_off=3))"
   ]
  },
  {
   "cell_type": "code",
   "execution_count": null,
   "metadata": {},
   "outputs": [],
   "source": []
  }
 ],
 "metadata": {
  "kernelspec": {
   "display_name": ".venv",
   "language": "python",
   "name": "python3"
  },
  "language_info": {
   "codemirror_mode": {
    "name": "ipython",
    "version": 3
   },
   "file_extension": ".py",
   "mimetype": "text/x-python",
   "name": "python",
   "nbconvert_exporter": "python",
   "pygments_lexer": "ipython3",
   "version": "3.11.5"
  }
 },
 "nbformat": 4,
 "nbformat_minor": 2
}
