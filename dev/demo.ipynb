{
 "cells": [
  {
   "cell_type": "code",
   "execution_count": 2,
   "metadata": {},
   "outputs": [],
   "source": [
    "import os\n",
    "import json\n",
    "from dataclasses import asdict\n",
    "from dotenv import load_dotenv\n",
    "from openai import OpenAI\n",
    "from IPython.display import Image\n",
    "from protocol import Env,Member,Message\n",
    "from agents import Group"
   ]
  },
  {
   "cell_type": "code",
   "execution_count": 3,
   "metadata": {},
   "outputs": [
    {
     "name": "stdout",
     "output_type": "stream",
     "text": [
      "\u001b[1m\u001b[93m \n",
      "[2024-12-09 17:52:00][INFO]: All agents are fully connected\u001b[00m\n"
     ]
    },
    {
     "data": {
      "image/png": "[encoded data removed]",
      "text/plain": [
       "<IPython.core.display.Image object>"
      ]
     },
     "execution_count": 3,
     "metadata": {},
     "output_type": "execute_result"
    }
   ],
   "source": [
    "# load the environment variables\n",
    "load_dotenv()\n",
    "# create a model client\n",
    "model_client = OpenAI()\n",
    "# create an environment\n",
    "env = Env(\n",
    "    description=\"This is a test environment\",\n",
    "    members=[\n",
    "        Member(name=\"agent1\", role=\"Mathematician\", description=\"Transfer to me if you need help with math.\", access_token=os.environ.get(\"AGENT1_ACCESS_TOKEN\")),\n",
    "        Member(name=\"agent2\", role=\"Musician\", description=\"Transfer to me if you need help with music.\", access_token=os.environ.get(\"AGENT2_ACCESS_TOKEN\")),\n",
    "        Member(name=\"agent3\", role=\"Artist\", description=\"Transfer to me if you need help with art.\", access_token=os.environ.get(\"AGENT3_ACCESS_TOKEN\")),\n",
    "    ]\n",
    ")\n",
    "# create a group of agents\n",
    "g = Group(env=env,model_client=model_client,verbose=True)\n",
    "\n",
    "Image(g.draw_relations())"
   ]
  },
  {
   "cell_type": "code",
   "execution_count": 3,
   "metadata": {},
   "outputs": [],
   "source": [
    "g.update_group_messages(Message(sender=\"user\", action=\"talk\", result=\"Can anyone help me with math? 2+2=?\"))\n",
    "g.update_group_messages(Message(sender=\"agent1\", action=\"solve\", result=\"2+2=4\"))\n",
    "g.update_group_messages(Message(sender=\"user\", action=\"talk\", result=\"Can anyone help me with music?\"))"
   ]
  },
  {
   "cell_type": "code",
   "execution_count": 4,
   "metadata": {},
   "outputs": [
    {
     "data": {
      "text/plain": [
       "[Message(sender='user', action='talk', result='Can anyone help me with math? 2+2=?'),\n",
       " Message(sender='agent1', action='solve', result='2+2=4'),\n",
       " Message(sender='user', action='talk', result='Can anyone help me with music?')]"
      ]
     },
     "execution_count": 4,
     "metadata": {},
     "output_type": "execute_result"
    }
   ],
   "source": [
    "g.group_messages.context"
   ]
  },
  {
   "cell_type": "code",
   "execution_count": 5,
   "metadata": {},
   "outputs": [
    {
     "name": "stdout",
     "output_type": "stream",
     "text": [
      "\u001b[1m\u001b[93m \n",
      "[2024-12-09 17:48:30][INFO]: handoff from agent1 to agent2 by using auto2 mode\u001b[00m\n",
      "--------------------------------------------------\n",
      "Below Is The Group Message Protocol Instance\n",
      "--------------------------------------------------\n",
      "{\n",
      "    \"group_id\": \"def380e9-915a-4bc6-9e32-1668f8c198af\",\n",
      "    \"env\": {\n",
      "        \"description\": \"This is a test environment\",\n",
      "        \"members\": [\n",
      "            {\n",
      "                \"name\": \"agent1\",\n",
      "                \"role\": \"Mathematician\",\n",
      "                \"description\": \"Transfer to me if you need help with math.\",\n",
      "                \"access_token\": null\n",
      "            },\n",
      "            {\n",
      "                \"name\": \"agent2\",\n",
      "                \"role\": \"Musician\",\n",
      "                \"description\": \"Transfer to me if you need help with music.\",\n",
      "                \"access_token\": null\n",
      "            },\n",
      "            {\n",
      "                \"name\": \"agent3\",\n",
      "                \"role\": \"Artist\",\n",
      "                \"description\": \"Transfer to me if you need help with art.\",\n",
      "                \"access_token\": null\n",
      "            }\n",
      "        ],\n",
      "        \"relationships\": {\n",
      "            \"agent1\": [\n",
      "                \"agent2\",\n",
      "                \"agent3\"\n",
      "            ],\n",
      "            \"agent2\": [\n",
      "                \"agent1\",\n",
      "                \"agent3\"\n",
      "            ],\n",
      "            \"agent3\": [\n",
      "                \"agent1\",\n",
      "                \"agent2\"\n",
      "            ]\n",
      "        }\n",
      "    },\n",
      "    \"context\": [\n",
      "        {\n",
      "            \"sender\": \"user\",\n",
      "            \"action\": \"talk\",\n",
      "            \"result\": \"Can anyone help me with math? 2+2=?\"\n",
      "        },\n",
      "        {\n",
      "            \"sender\": \"agent1\",\n",
      "            \"action\": \"solve\",\n",
      "            \"result\": \"2+2=4\"\n",
      "        },\n",
      "        {\n",
      "            \"sender\": \"user\",\n",
      "            \"action\": \"talk\",\n",
      "            \"result\": \"Can anyone help me with music?\"\n",
      "        }\n",
      "    ]\n",
      "}\n"
     ]
    }
   ],
   "source": [
    "# Do handoff\n",
    "# After handoff the current agent will be updated to the one who will speak next\n",
    "next_agent = g.handoff(next_speaker_select_mode=\"auto2\",include_current=True,model=\"gpt-4o-mini\")\n",
    "\n",
    "# Print the group message protocol instance\n",
    "print('-'*50)\n",
    "print(\"Below Is The Group Message Protocol Instance\")\n",
    "print('-'*50)\n",
    "print(json.dumps(asdict(g.group_messages), indent=4))\n",
    "# print('-'*50)\n",
    "# print(\"Below Message Send To `{}` who is {}\".format(g.current_agent,g.members_map[g.current_agent].role))\n",
    "# print('-'*50)\n",
    "# print(g._build_send_message(g.group_messages,cut_off=3,send_to=g.current_agent))"
   ]
  },
  {
   "cell_type": "code",
   "execution_count": 6,
   "metadata": {},
   "outputs": [
    {
     "name": "stdout",
     "output_type": "stream",
     "text": [
      "\u001b[1m\u001b[93m \n",
      "[2024-12-09 17:48:40][INFO]: no handoff needed, stay with agent2 judge by auto2 mode\u001b[00m\n",
      "\u001b[1m\u001b[92m \n",
      "[2024-12-09 17:48:44][INFO]: Call agent agent2\u001b[00m\n",
      "\u001b[1m\u001b[95m \n",
      "[2024-12-09 17:48:44][INFO]: Agent agent2 response: If you're looking for music that complements reading, there are several genres and styles you might consider. Instrumental music, particularly classical or ambient genres, often provides a soothing backdrop that can enhance concentration and focus. \n",
      "\n",
      "For instance, pieces by composers like Erik Satie or Ludovico Einaudi are popular choices due to their gentle melodies and minimalist approach. These compositions create an atmosphere that allows your mind to engage with the text without overwhelming it.\n",
      "\n",
      "Additionally, you might explore soundtracks from films or video games, as they are often designed to evoke emotions while allowing for a narrative to unfold, making them ideal for reading sessions. \n",
      "\n",
      "If you prefer something more modern, ambient music or lo-fi hip-hop playlists have gained popularity among readers for their relaxing beats and lack of distracting lyrics. \n",
      "\n",
      "Ultimately, the best music for reading is one that resonates with you personally and helps create a comfortable environment for your reading experience.\u001b[00m\n"
     ]
    },
    {
     "data": {
      "text/plain": [
       "Message(sender='agent2', action='talk', result=\"If you're looking for music that complements reading, there are several genres and styles you might consider. Instrumental music, particularly classical or ambient genres, often provides a soothing backdrop that can enhance concentration and focus. \\n\\nFor instance, pieces by composers like Erik Satie or Ludovico Einaudi are popular choices due to their gentle melodies and minimalist approach. These compositions create an atmosphere that allows your mind to engage with the text without overwhelming it.\\n\\nAdditionally, you might explore soundtracks from films or video games, as they are often designed to evoke emotions while allowing for a narrative to unfold, making them ideal for reading sessions. \\n\\nIf you prefer something more modern, ambient music or lo-fi hip-hop playlists have gained popularity among readers for their relaxing beats and lack of distracting lyrics. \\n\\nUltimately, the best music for reading is one that resonates with you personally and helps create a comfortable environment for your reading experience.\")"
      ]
     },
     "execution_count": 6,
     "metadata": {},
     "output_type": "execute_result"
    }
   ],
   "source": [
    "g.update_group_messages(Message(sender=\"user\", action=\"talk\", result=\"How about music for reading?\"))\n",
    "g.call_agent(next_speaker_select_mode=\"auto2\",include_current=True,model=\"gpt-4o-mini\")"
   ]
  },
  {
   "cell_type": "code",
   "execution_count": 7,
   "metadata": {},
   "outputs": [
    {
     "name": "stdout",
     "output_type": "stream",
     "text": [
      "\u001b[1m\u001b[93m \n",
      "[2024-12-09 17:48:45][INFO]: handoff from agent2 to agent3 by using auto2 mode\u001b[00m\n",
      "\u001b[1m\u001b[92m \n",
      "[2024-12-09 17:48:50][INFO]: Call agent agent3\u001b[00m\n",
      "\u001b[1m\u001b[95m \n",
      "[2024-12-09 17:48:50][INFO]: Agent agent3 response: Beauty is a complex and subjective concept that has been explored by philosophers, artists, and thinkers throughout history. At its core, beauty often relates to the appreciation of aesthetics, harmony, and the experience of pleasure derived from the senses. \n",
      "\n",
      "In art, beauty can manifest in various forms—through color, composition, and technique. Different cultures and eras have had distinct interpretations of what is considered beautiful, influenced by societal values, historical context, and individual experiences. \n",
      "\n",
      "Philosophically, beauty has been debated as an objective quality or a subjective experience. Plato believed in the existence of an ideal beauty, while others, like David Hume, argued that beauty lies in the eye of the beholder. \n",
      "\n",
      "Ultimately, beauty can evoke emotions, provoke thoughts, and inspire creativity, making it a significant aspect of human experience. It invites us to reflect on our perceptions and appreciation of the world around us, transcending mere appearance to touch deeper truths about existence and our place within it.\u001b[00m\n"
     ]
    }
   ],
   "source": [
    "g.update_group_messages(Message(sender=\"user\", action=\"talk\", result=\"Let's discuss what is beauty.\"))\n",
    "_ = g.call_agent(next_speaker_select_mode=\"auto2\",include_current=False,model=\"gpt-4o-mini\")"
   ]
  },
  {
   "cell_type": "code",
   "execution_count": 8,
   "metadata": {},
   "outputs": [
    {
     "name": "stdout",
     "output_type": "stream",
     "text": [
      "\u001b[1m\u001b[93m \n",
      "[2024-12-09 17:48:51][INFO]: handoff from agent3 to agent1 by using auto2 mode\u001b[00m\n",
      "\u001b[1m\u001b[92m \n",
      "[2024-12-09 17:48:55][INFO]: Call agent agent1\u001b[00m\n",
      "\u001b[1m\u001b[95m \n",
      "[2024-12-09 17:48:55][INFO]: Agent agent1 response: Beauty is a fascinating topic that intersects with mathematics in many ways, particularly through concepts of symmetry and proportion. In mathematics, the golden ratio, approximately 1.618, is often cited as a proportion that many consider aesthetically pleasing. This ratio appears in nature, architecture, and art, suggesting a mathematical foundation for our perceptions of beauty.\n",
      "\n",
      "In the context of visual arts, balance and symmetry are also crucial. Symmetrical compositions can evoke feelings of harmony and order, while asymmetry can create tension and interest. These principles are not just arbitrary; they can be described and analyzed mathematically.\n",
      "\n",
      "Moreover, the relationship between beauty and mathematics can be seen in fractals and patterns found in nature, such as the arrangement of leaves or the structure of snowflakes. These patterns often elicit a sense of wonder and appreciation, demonstrating how deeply intertwined beauty is with mathematical principles.\n",
      "\n",
      "In summary, beauty can be perceived through both subjective experiences and objective mathematical principles, creating a rich dialogue between the two fields.\u001b[00m\n"
     ]
    }
   ],
   "source": [
    "_ = g.call_agent(next_speaker_select_mode=\"auto2\",include_current=False,model=\"gpt-4o-mini\")"
   ]
  },
  {
   "cell_type": "code",
   "execution_count": 9,
   "metadata": {},
   "outputs": [
    {
     "name": "stdout",
     "output_type": "stream",
     "text": [
      "\u001b[1m\u001b[93m \n",
      "[2024-12-09 17:48:56][INFO]: handoff from agent1 to agent3 by using auto2 mode\u001b[00m\n",
      "\u001b[1m\u001b[92m \n",
      "[2024-12-09 17:49:00][INFO]: Call agent agent3\u001b[00m\n",
      "\u001b[1m\u001b[95m \n",
      "[2024-12-09 17:49:00][INFO]: Agent agent3 response: Beauty, as a concept, is indeed multifaceted and can be approached from various angles, including philosophical, artistic, and mathematical perspectives. While the earlier discussions have touched on philosophical interpretations and mathematical principles, it's worth highlighting the role of art in shaping our understanding of beauty.\n",
      "\n",
      "In the realm of art, beauty often serves as a bridge connecting the artist's intention with the viewer's perception. Artists employ techniques such as color theory, composition, and texture to create works that resonate on an emotional level, inviting viewers to engage with their creations. The subjectivity of beauty means that what one person finds beautiful, another may not, which enriches the dialogue surrounding art and aesthetics.\n",
      "\n",
      "Furthermore, the exploration of beauty in art has evolved over time. Different movements, such as Impressionism, Surrealism, and Abstract Expressionism, have challenged conventional notions of beauty, prompting audiences to reconsider their expectations. For instance, Impressionists focused on capturing fleeting moments and the effects of light, often embracing imperfection as a form of beauty. This shift demonstrates that beauty is not static but rather a dynamic concept that reflects cultural values and individual experiences.\n",
      "\n",
      "Ultimately, beauty in art invites us to explore deeper meanings and emotional connections, encouraging personal interpretations that transcend traditional definitions. It serves as a reminder that beauty is not merely about surface appearances; it encompasses a profound engagement with the world, our emotions, and our relationships with others.\u001b[00m\n"
     ]
    }
   ],
   "source": [
    "_ = g.call_agent(next_speaker_select_mode=\"auto2\",include_current=False,model=\"gpt-4o-mini\")"
   ]
  },
  {
   "cell_type": "code",
   "execution_count": 10,
   "metadata": {},
   "outputs": [
    {
     "name": "stdout",
     "output_type": "stream",
     "text": [
      "\u001b[1m\u001b[93m \n",
      "[2024-12-09 17:49:00][INFO]: manually set the current agent to agent1\u001b[00m\n",
      "\u001b[1m\u001b[92m \n",
      "[2024-12-09 17:49:06][INFO]: Call agent agent1\u001b[00m\n",
      "\u001b[1m\u001b[95m \n",
      "[2024-12-09 17:49:06][INFO]: Agent agent1 response: Beauty is a profound topic that resonates across multiple disciplines, including mathematics, philosophy, and art. Each perspective offers unique insights into how we perceive and appreciate beauty, highlighting its complexity and subjectivity.\n",
      "\n",
      "From a mathematical standpoint, concepts like symmetry, proportion, and the golden ratio play significant roles in understanding beauty. These principles provide a framework through which we can analyze aesthetic qualities in nature and human creations. The golden ratio, often found in art and architecture, suggests that there are mathematical underpinnings to what many find visually appealing. This intersection of math and beauty illustrates how objective standards can inform subjective experiences.\n",
      "\n",
      "Philosophically, beauty has been a long-standing subject of debate. Thinkers like Plato posited that beauty is an ideal form that exists beyond our sensory experiences, while others, like Kant and Hume, argued that beauty is inherently subjective, shaped by individual perception and cultural context. This philosophical discourse enriches our understanding of beauty as it relates to human experience, highlighting the interplay between objective qualities and personal interpretations.\n",
      "\n",
      "In the realm of art, beauty is often expressed through techniques such as color, composition, and texture, which engage viewers on emotional and intellectual levels. Different art movements have continually redefined beauty, showing that it is not a fixed concept but rather evolves with societal values and individual experiences. For example, the Impressionists challenged traditional ideas of beauty by focusing on light and fleeting moments, suggesting that imperfection can also be a form of beauty.\n",
      "\n",
      "Ultimately, beauty is a dynamic and multifaceted concept that invites us to explore deeper meanings and emotional connections. It transcends mere appearance, prompting us to reflect on our perceptions and the relationships we cultivate with the world around us. Whether approached through mathematical principles, philosophical inquiry, or artistic expression, beauty remains a rich and compelling subject that continues to inspire and provoke thought.\u001b[00m\n"
     ]
    }
   ],
   "source": [
    "_ = g.call_agent(agent=\"agent1\",model=\"gpt-4o-mini\")"
   ]
  },
  {
   "cell_type": "markdown",
   "metadata": {},
   "source": [
    "## Add and Delete Member Dynamicly \n",
    "\n",
    "> Like people come and go in some place or some group"
   ]
  },
  {
   "cell_type": "code",
   "execution_count": 11,
   "metadata": {},
   "outputs": [
    {
     "name": "stdout",
     "output_type": "stream",
     "text": [
      "\u001b[1m\u001b[93m \n",
      "[2024-12-09 17:49:06][INFO]: Self-defined relationships\u001b[00m\n"
     ]
    },
    {
     "data": {
      "image/png": "[encoded data removed]",
      "text/plain": [
       "<IPython.core.display.Image object>"
      ]
     },
     "execution_count": 11,
     "metadata": {},
     "output_type": "execute_result"
    }
   ],
   "source": [
    "# load the environment variables\n",
    "load_dotenv()\n",
    "# create a model client\n",
    "model_client = OpenAI()\n",
    "# create an environment\n",
    "env = Env(\n",
    "    description=\"This is a test environment\",\n",
    "    members=[\n",
    "        Member(name=\"agent1\", role=\"Mathematician\", description=\"Transfer to me if you need help with math.\", access_token=os.environ.get(\"AGENT1_ACCESS_TOKEN\")),\n",
    "        Member(name=\"agent2\", role=\"Musician\", description=\"Transfer to me if you need help with music.\", access_token=os.environ.get(\"AGENT2_ACCESS_TOKEN\"))\n",
    "    ],\n",
    "    relationships={\"agent1\": [\"agent2\"]}\n",
    ")\n",
    "# create a group of agents\n",
    "g = Group(env=env,model_client=model_client,verbose=True)\n",
    "\n",
    "Image(g.draw_relations())"
   ]
  },
  {
   "cell_type": "code",
   "execution_count": 12,
   "metadata": {},
   "outputs": [
    {
     "name": "stdout",
     "output_type": "stream",
     "text": [
      "\u001b[1m\u001b[93m \n",
      "[2024-12-09 17:49:06][INFO]: Self-defined relationships\u001b[00m\n",
      "\u001b[1m\u001b[93m \n",
      "[2024-12-09 17:49:06][INFO]: Succesfully add member agent3\u001b[00m\n"
     ]
    },
    {
     "data": {
      "image/png": "[encoded data removed]",
      "text/plain": [
       "<IPython.core.display.Image object>"
      ]
     },
     "execution_count": 12,
     "metadata": {},
     "output_type": "execute_result"
    }
   ],
   "source": [
    "g.add_member(\n",
    "        Member(\n",
    "            name=\"agent3\", role=\"Artist\",\n",
    "            description=\"Transfer to me if you need help with art.\", access_token=os.environ.get(\"AGENT3_ACCESS_TOKEN\")\n",
    "            ),[(\"agent1\",\"agent3\"),(\"agent2\",\"agent3\")]\n",
    "    )\n",
    "\n",
    "Image(g.draw_relations())"
   ]
  },
  {
   "cell_type": "code",
   "execution_count": 13,
   "metadata": {},
   "outputs": [
    {
     "name": "stdout",
     "output_type": "stream",
     "text": [
      "\u001b[1m\u001b[93m \n",
      "[2024-12-09 17:49:07][INFO]: Self-defined relationships\u001b[00m\n",
      "\u001b[1m\u001b[93m \n",
      "[2024-12-09 17:49:07][INFO]: current agent agent2 is deleted, randomly select agent1 as the new current agent\u001b[00m\n",
      "\u001b[1m\u001b[93m \n",
      "[2024-12-09 17:49:07][INFO]: Successfully delete member agent2\u001b[00m\n"
     ]
    },
    {
     "data": {
      "image/png": "[encoded data removed]",
      "text/plain": [
       "<IPython.core.display.Image object>"
      ]
     },
     "execution_count": 13,
     "metadata": {},
     "output_type": "execute_result"
    }
   ],
   "source": [
    "g.delete_member(\"agent2\")\n",
    "Image(g.draw_relations())"
   ]
  },
  {
   "cell_type": "code",
   "execution_count": 14,
   "metadata": {},
   "outputs": [
    {
     "name": "stdout",
     "output_type": "stream",
     "text": [
      "\u001b[1m\u001b[93m \n",
      "[2024-12-09 17:49:07][INFO]: handoff from agent1 to agent3 by using auto2 mode\u001b[00m\n"
     ]
    }
   ],
   "source": [
    "\n",
    "g.update_group_messages(Message(sender=\"user\", action=\"talk\", result=\"can you recommend me a art work?\"))\n",
    "next_agent = g.handoff(next_speaker_select_mode=\"auto2\",include_current=True,model=\"gpt-4o-mini\")"
   ]
  },
  {
   "cell_type": "markdown",
   "metadata": {},
   "source": [
    "## Task"
   ]
  },
  {
   "cell_type": "code",
   "execution_count": 7,
   "metadata": {},
   "outputs": [
    {
     "name": "stdout",
     "output_type": "stream",
     "text": [
      "\u001b[1m\u001b[93m \n",
      "[2024-12-09 17:53:05][INFO]: All agents are fully connected\u001b[00m\n"
     ]
    }
   ],
   "source": [
    "# load the environment variables\n",
    "load_dotenv()\n",
    "# create a model client\n",
    "model_client = OpenAI()\n",
    "# create an environment\n",
    "env = Env(\n",
    "    description=\"This is a test environment\",\n",
    "    members=[\n",
    "        Member(name=\"agent4\", role=\"Assistant\", description=\"Transfer to me if you need help with daily life.\", access_token=os.environ.get(\"AGENT4_ACCESS_TOKEN\")),\n",
    "        Member(name=\"agent2\", role=\"Musician\", description=\"Transfer to me if you need help with music.\", access_token=os.environ.get(\"AGENT2_ACCESS_TOKEN\")),\n",
    "    ]\n",
    ")\n",
    "# create a group of agents\n",
    "g = Group(env=env,model_client=model_client,verbose=True,entry_agent=\"agent4\")"
   ]
  },
  {
   "cell_type": "code",
   "execution_count": 8,
   "metadata": {},
   "outputs": [
    {
     "data": {
      "text/plain": [
       "{'agent4': Member(name='agent4', role='Assistant', description='Transfer to me if you need help with daily life.', access_token='app-f4U7rcvZ4tB1QBJlicWTuISc'),\n",
       " 'agent2': Member(name='agent2', role='Musician', description='Transfer to me if you need help with music.', access_token='app-73CcvUdnaKIaHFyuFNvdXFJr')}"
      ]
     },
     "execution_count": 8,
     "metadata": {},
     "output_type": "execute_result"
    }
   ],
   "source": [
    "g.members_map"
   ]
  },
  {
   "cell_type": "code",
   "execution_count": 10,
   "metadata": {},
   "outputs": [
    {
     "name": "stdout",
     "output_type": "stream",
     "text": [
      "\u001b[1m\u001b[93m \n",
      "[2024-12-09 17:53:18][INFO]: Start task: what kind of music is good for right now consider season and day time reply in English\u001b[00m\n",
      "\u001b[1m\u001b[93m \n",
      "[2024-12-09 17:53:18][INFO]: no handoff needed, stay with agent4 judge by order mode\u001b[00m\n",
      "\u001b[1m\u001b[92m \n",
      "[2024-12-09 17:53:20][INFO]: Call agent agent4\u001b[00m\n",
      "\u001b[1m\u001b[95m \n",
      "[2024-12-09 17:53:20][INFO]: Agent agent4 response: The current time is 2024-12-09 17:53:19.\u001b[00m\n",
      "\u001b[1m\u001b[93m \n",
      "[2024-12-09 17:53:20][INFO]: Step 1 by agent4\u001b[00m\n",
      "\u001b[1m\u001b[93m \n",
      "[2024-12-09 17:53:20][INFO]: handoff from agent4 to agent2 by using order mode\u001b[00m\n",
      "\u001b[1m\u001b[92m \n",
      "[2024-12-09 17:53:24][INFO]: Call agent agent2\u001b[00m\n",
      "\u001b[1m\u001b[95m \n",
      "[2024-12-09 17:53:24][INFO]: Agent agent2 response: Given that it's December and late afternoon, a cozy winter atmosphere is ideal. Here are some music recommendations that align well with the season and time of day:\n",
      "\n",
      "1. **Classical Music**: Pieces like Vivaldi's \"Winter\" from \"The Four Seasons\" or Tchaikovsky's \"The Nutcracker\" Suite can evoke the beauty of winter and are perfect for a relaxing evening.\n",
      "\n",
      "2. **Jazz**: Soft jazz standards, such as those by Miles Davis or Bill Evans, create a warm and inviting ambiance, making them great for winding down as the day transitions into evening.\n",
      "\n",
      "3. **Acoustic and Folk**: Artists like Iron & Wine or Bon Iver offer gentle melodies that complement the quietness of winter evenings, perfect for a reflective mood.\n",
      "\n",
      "4. **Chill Ambient Music**: Tracks from artists like Tycho or Ólafur Arnalds can provide a serene backdrop, enhancing the peacefulness of a December evening.\n",
      "\n",
      "These genres and artists should help create a comforting atmosphere as you enjoy the winter season.\u001b[00m\n",
      "\u001b[1m\u001b[93m \n",
      "[2024-12-09 17:53:24][INFO]: Step 2 by agent2\u001b[00m\n",
      "\u001b[1m\u001b[93m \n",
      "[2024-12-09 17:53:24][INFO]: Task finished\u001b[00m\n"
     ]
    }
   ],
   "source": [
    "task = \"what kind of music is good for right now consider season and day time reply in English\"\n",
    "_ = g.task(task,model=\"gpt-4o-mini\",strategy=\"sequential\")"
   ]
  },
  {
   "cell_type": "code",
   "execution_count": null,
   "metadata": {},
   "outputs": [],
   "source": []
  }
 ],
 "metadata": {
  "kernelspec": {
   "display_name": ".venv",
   "language": "python",
   "name": "python3"
  },
  "language_info": {
   "codemirror_mode": {
    "name": "ipython",
    "version": 3
   },
   "file_extension": ".py",
   "mimetype": "text/x-python",
   "name": "python",
   "nbconvert_exporter": "python",
   "pygments_lexer": "ipython3",
   "version": "3.11.5"
  }
 },
 "nbformat": 4,
 "nbformat_minor": 2
}
