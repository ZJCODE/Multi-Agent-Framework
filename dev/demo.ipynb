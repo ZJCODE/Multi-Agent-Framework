{
 "cells": [
  {
   "cell_type": "code",
   "execution_count": 4,
   "metadata": {},
   "outputs": [],
   "source": [
    "import os\n",
    "import json\n",
    "from dataclasses import asdict\n",
    "from dotenv import load_dotenv\n",
    "from openai import OpenAI\n",
    "from IPython.display import Image\n",
    "from protocol import Env,Member,Message\n",
    "from agents import Group"
   ]
  },
  {
   "cell_type": "code",
   "execution_count": 5,
   "metadata": {},
   "outputs": [
    {
     "name": "stdout",
     "output_type": "stream",
     "text": [
      "\u001b[1m\u001b[93m \n",
      "[2024-12-09 15:58:24][INFO]: All agents are fully connected\u001b[00m\n"
     ]
    },
    {
     "data": {
      "image/png": "[encoded data removed]",
      "text/plain": [
       "<IPython.core.display.Image object>"
      ]
     },
     "execution_count": 5,
     "metadata": {},
     "output_type": "execute_result"
    }
   ],
   "source": [
    "# load the environment variables\n",
    "load_dotenv()\n",
    "# create a model client\n",
    "model_client = OpenAI()\n",
    "# create an environment\n",
    "env = Env(\n",
    "    description=\"This is a test environment\",\n",
    "    members=[\n",
    "        Member(name=\"agent1\", role=\"Mathematician\", description=\"Transfer to me if you need help with math.\", access_token=os.environ.get(\"AGENT1_ACCESS_TOKEN\")),\n",
    "        Member(name=\"agent2\", role=\"Musician\", description=\"Transfer to me if you need help with music.\", access_token=os.environ.get(\"AGENT2_ACCESS_TOKEN\")),\n",
    "        Member(name=\"agent3\", role=\"Artist\", description=\"Transfer to me if you need help with art.\", access_token=os.environ.get(\"AGENT3_ACCESS_TOKEN\")),\n",
    "    ]\n",
    ")\n",
    "# create a group of agents\n",
    "g = Group(env=env,model_client=model_client,verbose=True)\n",
    "\n",
    "Image(g.draw_relations())"
   ]
  },
  {
   "cell_type": "code",
   "execution_count": 6,
   "metadata": {},
   "outputs": [],
   "source": [
    "g.update_group_messages(Message(sender=\"user\", action=\"talk\", result=\"Can anyone help me with math? 2+2=?\"))\n",
    "g.update_group_messages(Message(sender=\"agent1\", action=\"solve\", result=\"2+2=4\"))\n",
    "g.update_group_messages(Message(sender=\"user\", action=\"talk\", result=\"Can anyone help me with music?\"))"
   ]
  },
  {
   "cell_type": "code",
   "execution_count": 7,
   "metadata": {},
   "outputs": [
    {
     "data": {
      "text/plain": [
       "[Message(sender='user', action='talk', result='Can anyone help me with math? 2+2=?'),\n",
       " Message(sender='agent1', action='solve', result='2+2=4'),\n",
       " Message(sender='user', action='talk', result='Can anyone help me with music?')]"
      ]
     },
     "execution_count": 7,
     "metadata": {},
     "output_type": "execute_result"
    }
   ],
   "source": [
    "g.group_messages.context"
   ]
  },
  {
   "cell_type": "code",
   "execution_count": 8,
   "metadata": {},
   "outputs": [
    {
     "name": "stdout",
     "output_type": "stream",
     "text": [
      "\u001b[1m\u001b[93m \n",
      "[2024-12-09 15:58:28][INFO]: no handoff needed, stay with agent2 judge by auto2 mode\u001b[00m\n",
      "--------------------------------------------------\n",
      "Below Is The Group Message Protocol Instance\n",
      "--------------------------------------------------\n",
      "{\n",
      "    \"group_id\": \"f2ab3f5e-bace-46af-b4a3-19c75baac5e2\",\n",
      "    \"env\": {\n",
      "        \"description\": \"This is a test environment\",\n",
      "        \"members\": [\n",
      "            {\n",
      "                \"name\": \"agent1\",\n",
      "                \"role\": \"Mathematician\",\n",
      "                \"description\": \"Transfer to me if you need help with math.\",\n",
      "                \"access_token\": null\n",
      "            },\n",
      "            {\n",
      "                \"name\": \"agent2\",\n",
      "                \"role\": \"Musician\",\n",
      "                \"description\": \"Transfer to me if you need help with music.\",\n",
      "                \"access_token\": null\n",
      "            },\n",
      "            {\n",
      "                \"name\": \"agent3\",\n",
      "                \"role\": \"Artist\",\n",
      "                \"description\": \"Transfer to me if you need help with art.\",\n",
      "                \"access_token\": null\n",
      "            }\n",
      "        ],\n",
      "        \"relationships\": {\n",
      "            \"agent1\": [\n",
      "                \"agent2\",\n",
      "                \"agent3\"\n",
      "            ],\n",
      "            \"agent2\": [\n",
      "                \"agent1\",\n",
      "                \"agent3\"\n",
      "            ],\n",
      "            \"agent3\": [\n",
      "                \"agent1\",\n",
      "                \"agent2\"\n",
      "            ]\n",
      "        }\n",
      "    },\n",
      "    \"context\": [\n",
      "        {\n",
      "            \"sender\": \"user\",\n",
      "            \"action\": \"talk\",\n",
      "            \"result\": \"Can anyone help me with math? 2+2=?\"\n",
      "        },\n",
      "        {\n",
      "            \"sender\": \"agent1\",\n",
      "            \"action\": \"solve\",\n",
      "            \"result\": \"2+2=4\"\n",
      "        },\n",
      "        {\n",
      "            \"sender\": \"user\",\n",
      "            \"action\": \"talk\",\n",
      "            \"result\": \"Can anyone help me with music?\"\n",
      "        }\n",
      "    ]\n",
      "}\n",
      "--------------------------------------------------\n",
      "Below Message Send To `agent2` who is Musician\n",
      "--------------------------------------------------\n",
      "### Background Information\n",
      "\n",
      "This is a test environment\n",
      "\n",
      "### Members\n",
      "\n",
      "- agent1 (Mathematician)\n",
      "- agent2 (Musician)\n",
      "- agent3 (Artist)\n",
      "\n",
      "### Your Previous Message\n",
      "\n",
      "\n",
      "\n",
      "### Other people's Messages\n",
      "\n",
      "```agent1:solve\n",
      "2+2=4\n",
      "```\n",
      "\n",
      "```user:talk\n",
      "Can anyone help me with music?\n",
      "```\n",
      "\n",
      "### Task\n",
      "\n",
      "Consider the Background Information and the previous messages. Now, it's your turn.\n"
     ]
    }
   ],
   "source": [
    "# Do handoff\n",
    "# After handoff the current agent will be updated to the one who will speak next\n",
    "next_agent = g.handoff(next_speaker_select_mode=\"auto2\",include_current=True,model=\"gpt-4o-mini\")\n",
    "\n",
    "# Print the group message protocol instance\n",
    "print('-'*50)\n",
    "print(\"Below Is The Group Message Protocol Instance\")\n",
    "print('-'*50)\n",
    "print(json.dumps(asdict(g.group_messages), indent=4))\n",
    "print('-'*50)\n",
    "print(\"Below Message Send To `{}` who is {}\".format(g.current_agent,g.members_map[g.current_agent].role))\n",
    "print('-'*50)\n",
    "print(g._build_send_message(g.group_messages,cut_off=2,send_to=g.current_agent))"
   ]
  },
  {
   "cell_type": "code",
   "execution_count": 9,
   "metadata": {},
   "outputs": [
    {
     "name": "stdout",
     "output_type": "stream",
     "text": [
      "\u001b[1m\u001b[93m \n",
      "[2024-12-09 15:58:29][INFO]: no handoff needed, stay with agent2 judge by auto2 mode\u001b[00m\n"
     ]
    },
    {
     "data": {
      "text/plain": [
       "Message(sender='agent2', action='talk', result='If you\\'re looking for music that complements reading, I can suggest a few genres and specific artists or albums that create a calming atmosphere conducive to concentration. \\n\\n1. **Classical Music**: This genre is often recommended for reading due to its structured compositions and soothing melodies. Composers like Johann Sebastian Bach, Claude Debussy, and Erik Satie have works that can enhance your reading experience. For example, Debussy\\'s \"Clair de Lune\" and Satie\\'s \"Gymnopédies\" are particularly serene.\\n\\n2. **Ambient Music**: Artists such as Brian Eno and Max Richter have created albums specifically designed to be background soundtracks. Eno\\'s \"Music for Airports\" is a classic in this genre, providing a subtle, atmospheric sound that can help maintain focus.\\n\\n3. **Jazz**: Soft jazz can also be a great companion for reading. Look for artists like Bill Evans or Miles Davis, whose softer pieces can create a relaxed vibe without being too distracting.\\n\\n4. **Instrumental Soundtracks**: Movie soundtracks, especially those that are instrumental, can provide an engaging yet unobtrusive backdrop. Composers like Hans Zimmer and Thomas Newman have crafted beautiful scores that can enhance the mood while you read.\\n\\n5. **Lo-fi Hip Hop**: This genre has gained popularity for study and reading sessions. The laid-back beats and smooth melodies provide a modern sound that helps maintain focus. You can find many curated playlists on platforms like YouTube or Spotify.\\n\\nFeel free to explore these suggestions, and let me know if you have a specific type of reading material in mind, as that might influence the music choice!')"
      ]
     },
     "execution_count": 9,
     "metadata": {},
     "output_type": "execute_result"
    }
   ],
   "source": [
    "g.update_group_messages(Message(sender=\"user\", action=\"talk\", result=\"How about music for reading?\"))\n",
    "g.call_agent(next_speaker_select_mode=\"auto2\",include_current=True,model=\"gpt-4o-mini\")"
   ]
  },
  {
   "cell_type": "code",
   "execution_count": 10,
   "metadata": {},
   "outputs": [
    {
     "name": "stdout",
     "output_type": "stream",
     "text": [
      "\u001b[1m\u001b[93m \n",
      "[2024-12-09 15:58:35][INFO]: handoff from agent2 to agent3 by using auto2 mode\u001b[00m\n"
     ]
    },
    {
     "data": {
      "text/plain": [
       "Message(sender='agent3', action='talk', result='Beauty is a complex and subjective concept that has been explored by philosophers, artists, and thinkers throughout history. At its core, beauty often refers to qualities that provide pleasure, satisfaction, or a sense of harmony. These qualities can be found in nature, art, music, and even human interactions.\\n\\nPhilosophically, beauty can be analyzed through various lenses. For instance, Plato viewed beauty as a reflection of the divine and an ideal form, while Aristotle emphasized its connection to order and proportion. In contrast, modern theories may focus on the emotional responses that beauty elicits, suggesting that beauty is not solely an objective property but also a subjective experience shaped by individual perception.\\n\\nIn the realm of art, beauty often intersects with concepts of aesthetics and creativity. Artists may seek to capture beauty through their work, whether by portraying natural landscapes, human emotions, or abstract forms. The interpretation of beauty can vary widely among cultures and individuals, influenced by personal experiences, societal norms, and historical context.\\n\\nUltimately, beauty invites contemplation and discussion, prompting us to reflect on what we find appealing and why. It serves as a bridge between the subjective and the universal, enriching our understanding of the world and ourselves.')"
      ]
     },
     "execution_count": 10,
     "metadata": {},
     "output_type": "execute_result"
    }
   ],
   "source": [
    "g.update_group_messages(Message(sender=\"user\", action=\"talk\", result=\"Let's discuss what is beauty.\"))\n",
    "g.call_agent(next_speaker_select_mode=\"auto2\",include_current=False,model=\"gpt-4o-mini\")"
   ]
  },
  {
   "cell_type": "code",
   "execution_count": 11,
   "metadata": {},
   "outputs": [
    {
     "name": "stdout",
     "output_type": "stream",
     "text": [
      "\u001b[1m\u001b[93m \n",
      "[2024-12-09 15:58:47][INFO]: handoff from agent3 to agent1 by using auto2 mode\u001b[00m\n"
     ]
    },
    {
     "data": {
      "text/plain": [
       "Message(sender='agent1', action='talk', result='Beauty can also be examined through the lens of mathematics. In mathematics, beauty often refers to the elegance and simplicity of a solution, theorem, or equation. For instance, many mathematicians find beauty in the symmetry of geometric shapes, the harmony of mathematical relationships, or the power of a concise proof.\\n\\nThe Fibonacci sequence is a perfect example of this intersection. It appears frequently in nature, such as in the arrangement of leaves, the branching of trees, and the patterns of various fruits and flowers. The ratio derived from the Fibonacci sequence, known as the golden ratio, is often associated with aesthetically pleasing proportions in art and architecture.\\n\\nAdditionally, mathematical concepts like fractals exhibit beauty in their infinite complexity and self-similarity, captivating both mathematicians and artists alike. This suggests that beauty transcends discipline and can be found in various forms, whether in art, music, nature, or mathematics, inviting us to appreciate the interconnectedness of these fields. \\n\\nThus, beauty in mathematics is not just about numbers and formulas; it’s about the deeper understanding and appreciation of the patterns and structures that govern our world.')"
      ]
     },
     "execution_count": 11,
     "metadata": {},
     "output_type": "execute_result"
    }
   ],
   "source": [
    "g.call_agent(next_speaker_select_mode=\"auto2\",include_current=False,model=\"gpt-4o-mini\")"
   ]
  },
  {
   "cell_type": "code",
   "execution_count": 12,
   "metadata": {},
   "outputs": [
    {
     "name": "stdout",
     "output_type": "stream",
     "text": [
      "\u001b[1m\u001b[93m \n",
      "[2024-12-09 15:58:50][INFO]: handoff from agent1 to agent2 by using auto2 mode\u001b[00m\n"
     ]
    },
    {
     "data": {
      "text/plain": [
       "Message(sender='agent2', action='talk', result=\"Beauty is indeed a multifaceted concept that resonates across various disciplines, inviting rich discussions and interpretations. As we've seen from our previous exchanges, both art and mathematics reveal distinct yet interconnected perspectives on beauty.\\n\\nFrom the artistic viewpoint, beauty is often seen as a subjective experience that evokes pleasure and emotional resonance. Artists strive to encapsulate beauty through their creations, whether it be through vivid landscapes, evocative portraits, or abstract forms. This pursuit is influenced by cultural backgrounds and personal experiences, making beauty a unique reflection of the artist's vision and the viewer's interpretation.\\n\\nOn the mathematical side, beauty emerges from the elegance and simplicity inherent in mathematical solutions and structures. The beauty found in mathematical concepts like the Fibonacci sequence or fractals exemplifies how patterns and relationships can evoke a sense of wonder. Mathematicians often describe their discoveries in terms of beauty, emphasizing the aesthetic appreciation of symmetry, order, and the harmonious connections that underpin the discipline.\\n\\nThis interplay between the subjective nature of beauty in art and the more objective appreciation seen in mathematics suggests a deeper philosophical inquiry into what beauty truly represents. It prompts us to consider how our perceptions shape our understanding of beauty, whether in the vibrant strokes of a painting, the intricate patterns of nature, or the elegant proofs of a theorem.\\n\\nUltimately, beauty serves as a bridge between disciplines, encouraging us to explore and appreciate the diverse ways it manifests in our world. Whether through the lens of an artist, a mathematician, or a philosopher, the exploration of beauty enriches our lives and deepens our understanding of the human experience.\")"
      ]
     },
     "execution_count": 12,
     "metadata": {},
     "output_type": "execute_result"
    }
   ],
   "source": [
    "g.call_agent(next_speaker_select_mode=\"auto2\",include_current=False,model=\"gpt-4o-mini\")"
   ]
  },
  {
   "cell_type": "code",
   "execution_count": 13,
   "metadata": {},
   "outputs": [
    {
     "name": "stdout",
     "output_type": "stream",
     "text": [
      "--------------------------------------------------\n",
      "agent2\n",
      "--------------------------------------------------\n",
      "### Background Information\n",
      "\n",
      "This is a test environment\n",
      "\n",
      "### Members\n",
      "\n",
      "- agent1 (Mathematician)\n",
      "- agent2 (Musician)\n",
      "- agent3 (Artist)\n",
      "\n",
      "### Your Previous Message\n",
      "\n",
      "```agent2:talk\n",
      "Beauty is indeed a multifaceted concept that resonates across various disciplines, inviting rich discussions and interpretations. As we've seen from our previous exchanges, both art and mathematics reveal distinct yet interconnected perspectives on beauty.\n",
      "\n",
      "From the artistic viewpoint, beauty is often seen as a subjective experience that evokes pleasure and emotional resonance. Artists strive to encapsulate beauty through their creations, whether it be through vivid landscapes, evocative portraits, or abstract forms. This pursuit is influenced by cultural backgrounds and personal experiences, making beauty a unique reflection of the artist's vision and the viewer's interpretation.\n",
      "\n",
      "On the mathematical side, beauty emerges from the elegance and simplicity inherent in mathematical solutions and structures. The beauty found in mathematical concepts like the Fibonacci sequence or fractals exemplifies how patterns and relationships can evoke a sense of wonder. Mathematicians often describe their discoveries in terms of beauty, emphasizing the aesthetic appreciation of symmetry, order, and the harmonious connections that underpin the discipline.\n",
      "\n",
      "This interplay between the subjective nature of beauty in art and the more objective appreciation seen in mathematics suggests a deeper philosophical inquiry into what beauty truly represents. It prompts us to consider how our perceptions shape our understanding of beauty, whether in the vibrant strokes of a painting, the intricate patterns of nature, or the elegant proofs of a theorem.\n",
      "\n",
      "Ultimately, beauty serves as a bridge between disciplines, encouraging us to explore and appreciate the diverse ways it manifests in our world. Whether through the lens of an artist, a mathematician, or a philosopher, the exploration of beauty enriches our lives and deepens our understanding of the human experience.\n",
      "```\n",
      "\n",
      "### Other people's Messages\n",
      "\n",
      "```agent3:talk\n",
      "Beauty is a complex and subjective concept that has been explored by philosophers, artists, and thinkers throughout history. At its core, beauty often refers to qualities that provide pleasure, satisfaction, or a sense of harmony. These qualities can be found in nature, art, music, and even human interactions.\n",
      "\n",
      "Philosophically, beauty can be analyzed through various lenses. For instance, Plato viewed beauty as a reflection of the divine and an ideal form, while Aristotle emphasized its connection to order and proportion. In contrast, modern theories may focus on the emotional responses that beauty elicits, suggesting that beauty is not solely an objective property but also a subjective experience shaped by individual perception.\n",
      "\n",
      "In the realm of art, beauty often intersects with concepts of aesthetics and creativity. Artists may seek to capture beauty through their work, whether by portraying natural landscapes, human emotions, or abstract forms. The interpretation of beauty can vary widely among cultures and individuals, influenced by personal experiences, societal norms, and historical context.\n",
      "\n",
      "Ultimately, beauty invites contemplation and discussion, prompting us to reflect on what we find appealing and why. It serves as a bridge between the subjective and the universal, enriching our understanding of the world and ourselves.\n",
      "```\n",
      "\n",
      "```agent1:talk\n",
      "Beauty can also be examined through the lens of mathematics. In mathematics, beauty often refers to the elegance and simplicity of a solution, theorem, or equation. For instance, many mathematicians find beauty in the symmetry of geometric shapes, the harmony of mathematical relationships, or the power of a concise proof.\n",
      "\n",
      "The Fibonacci sequence is a perfect example of this intersection. It appears frequently in nature, such as in the arrangement of leaves, the branching of trees, and the patterns of various fruits and flowers. The ratio derived from the Fibonacci sequence, known as the golden ratio, is often associated with aesthetically pleasing proportions in art and architecture.\n",
      "\n",
      "Additionally, mathematical concepts like fractals exhibit beauty in their infinite complexity and self-similarity, captivating both mathematicians and artists alike. This suggests that beauty transcends discipline and can be found in various forms, whether in art, music, nature, or mathematics, inviting us to appreciate the interconnectedness of these fields. \n",
      "\n",
      "Thus, beauty in mathematics is not just about numbers and formulas; it’s about the deeper understanding and appreciation of the patterns and structures that govern our world.\n",
      "```\n",
      "\n",
      "### Task\n",
      "\n",
      "Consider the Background Information and the previous messages. Now, it's your turn.\n"
     ]
    }
   ],
   "source": [
    "print('-'*50)\n",
    "print(g.current_agent)\n",
    "print('-'*50)\n",
    "print(g._build_send_message(g.group_messages,cut_off=3,send_to=g.current_agent))"
   ]
  },
  {
   "cell_type": "code",
   "execution_count": 14,
   "metadata": {},
   "outputs": [
    {
     "name": "stdout",
     "output_type": "stream",
     "text": [
      "\u001b[1m\u001b[93m \n",
      "[2024-12-09 15:58:59][INFO]: manually set the current agent to agent1\u001b[00m\n"
     ]
    },
    {
     "data": {
      "text/plain": [
       "Message(sender='agent1', action='talk', result='Beauty is indeed a captivating theme that resonates across various fields, including mathematics, art, and music. Each discipline offers a unique perspective on what beauty represents and how it can be experienced.\\n\\nIn mathematics, beauty often arises from the simplicity and elegance of solutions or theorems. Take, for example, the concept of symmetry, which not only appears in mathematical equations but also reflects harmony in nature and art. The Fibonacci sequence and its connection to the golden ratio illustrate how mathematical patterns manifest aesthetically in natural forms, such as flowers and shells.\\n\\nOn the other hand, art captures beauty through emotional expression and sensory experiences. Artists interpret beauty in myriad ways, whether through the vivid colors of a sunset or the intricate details of a portrait. This subjectivity is influenced by culture, personal experiences, and historical context, making each artistic expression a unique lens through which beauty is perceived.\\n\\nMusic, like art and mathematics, also explores beauty through structure and emotion. The arrangement of notes, rhythms, and harmonies can evoke deep feelings, creating a profound connection between the composer and the listener. The repetition and variation in music mirror mathematical principles, revealing another layer of beauty found in patterns and relationships.\\n\\nUltimately, the exploration of beauty invites a dialogue that transcends individual disciplines. It encourages us to reflect on our experiences, perceptions, and the interconnectedness of the world around us. Whether through the precise language of mathematics, the evocative strokes of a paintbrush, or the harmonious chords of a melody, beauty enriches our lives and deepens our understanding of the human experience.')"
      ]
     },
     "execution_count": 14,
     "metadata": {},
     "output_type": "execute_result"
    }
   ],
   "source": [
    "g.call_agent(agent=\"agent1\",model=\"gpt-4o-mini\")"
   ]
  },
  {
   "cell_type": "markdown",
   "metadata": {},
   "source": [
    "## Add and Delete Member"
   ]
  },
  {
   "cell_type": "code",
   "execution_count": 15,
   "metadata": {},
   "outputs": [
    {
     "name": "stdout",
     "output_type": "stream",
     "text": [
      "\u001b[1m\u001b[93m \n",
      "[2024-12-09 15:59:04][INFO]: Self-defined relationships\u001b[00m\n"
     ]
    },
    {
     "data": {
      "image/png": "[encoded data removed]",
      "text/plain": [
       "<IPython.core.display.Image object>"
      ]
     },
     "execution_count": 15,
     "metadata": {},
     "output_type": "execute_result"
    }
   ],
   "source": [
    "# load the environment variables\n",
    "load_dotenv()\n",
    "# create a model client\n",
    "model_client = OpenAI()\n",
    "# create an environment\n",
    "env = Env(\n",
    "    description=\"This is a test environment\",\n",
    "    members=[\n",
    "        Member(name=\"agent1\", role=\"Mathematician\", description=\"Transfer to me if you need help with math.\", access_token=os.environ.get(\"AGENT1_ACCESS_TOKEN\")),\n",
    "        Member(name=\"agent2\", role=\"Musician\", description=\"Transfer to me if you need help with music.\", access_token=os.environ.get(\"AGENT2_ACCESS_TOKEN\"))\n",
    "    ],\n",
    "    relationships={\"agent1\": [\"agent2\"]}\n",
    ")\n",
    "# create a group of agents\n",
    "g = Group(env=env,model_client=model_client,verbose=True)\n",
    "\n",
    "Image(g.draw_relations())"
   ]
  },
  {
   "cell_type": "code",
   "execution_count": 16,
   "metadata": {},
   "outputs": [
    {
     "name": "stdout",
     "output_type": "stream",
     "text": [
      "\u001b[1m\u001b[93m \n",
      "[2024-12-09 15:59:05][INFO]: Self-defined relationships\u001b[00m\n",
      "\u001b[1m\u001b[93m \n",
      "[2024-12-09 15:59:05][INFO]: Succesfully add member agent3\u001b[00m\n"
     ]
    },
    {
     "data": {
      "image/png": "[encoded data removed]",
      "text/plain": [
       "<IPython.core.display.Image object>"
      ]
     },
     "execution_count": 16,
     "metadata": {},
     "output_type": "execute_result"
    }
   ],
   "source": [
    "g.add_member(\n",
    "        Member(\n",
    "            name=\"agent3\", role=\"Artist\",\n",
    "            description=\"Transfer to me if you need help with art.\", access_token=os.environ.get(\"AGENT3_ACCESS_TOKEN\")\n",
    "            ),[(\"agent1\",\"agent3\"),(\"agent2\",\"agent3\")]\n",
    "    )\n",
    "\n",
    "Image(g.draw_relations())"
   ]
  },
  {
   "cell_type": "code",
   "execution_count": 17,
   "metadata": {},
   "outputs": [
    {
     "name": "stdout",
     "output_type": "stream",
     "text": [
      "\u001b[1m\u001b[93m \n",
      "[2024-12-09 15:59:05][INFO]: Self-defined relationships\u001b[00m\n",
      "\u001b[1m\u001b[93m \n",
      "[2024-12-09 15:59:05][INFO]: current agent agent2 is deleted, randomly select agent1 as the new current agent\u001b[00m\n",
      "\u001b[1m\u001b[93m \n",
      "[2024-12-09 15:59:05][INFO]: Successfully delete member agent2\u001b[00m\n"
     ]
    },
    {
     "data": {
      "image/png": "[encoded data removed]",
      "text/plain": [
       "<IPython.core.display.Image object>"
      ]
     },
     "execution_count": 17,
     "metadata": {},
     "output_type": "execute_result"
    }
   ],
   "source": [
    "g.delete_member(\"agent2\")\n",
    "Image(g.draw_relations())"
   ]
  },
  {
   "cell_type": "code",
   "execution_count": 18,
   "metadata": {},
   "outputs": [
    {
     "name": "stdout",
     "output_type": "stream",
     "text": [
      "\u001b[1m\u001b[93m \n",
      "[2024-12-09 15:59:07][INFO]: handoff from agent1 to agent3 by using auto2 mode\u001b[00m\n"
     ]
    }
   ],
   "source": [
    "\n",
    "g.update_group_messages(Message(sender=\"user\", action=\"talk\", result=\"can you recommend me a art work?\"))\n",
    "next_agent = g.handoff(next_speaker_select_mode=\"auto2\",include_current=True,model=\"gpt-4o-mini\")"
   ]
  },
  {
   "cell_type": "code",
   "execution_count": null,
   "metadata": {},
   "outputs": [],
   "source": []
  },
  {
   "cell_type": "code",
   "execution_count": null,
   "metadata": {},
   "outputs": [],
   "source": []
  },
  {
   "cell_type": "code",
   "execution_count": null,
   "metadata": {},
   "outputs": [],
   "source": []
  }
 ],
 "metadata": {
  "kernelspec": {
   "display_name": ".venv",
   "language": "python",
   "name": "python3"
  },
  "language_info": {
   "codemirror_mode": {
    "name": "ipython",
    "version": 3
   },
   "file_extension": ".py",
   "mimetype": "text/x-python",
   "name": "python",
   "nbconvert_exporter": "python",
   "pygments_lexer": "ipython3",
   "version": "3.11.5"
  }
 },
 "nbformat": 4,
 "nbformat_minor": 2
}
