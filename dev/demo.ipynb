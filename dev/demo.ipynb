{
 "cells": [
  {
   "cell_type": "code",
   "execution_count": 1,
   "metadata": {},
   "outputs": [],
   "source": [
    "import os\n",
    "import json\n",
    "from dataclasses import asdict\n",
    "from dotenv import load_dotenv\n",
    "from openai import OpenAI\n",
    "from protocol import Env,Member,Message\n",
    "from agents import Group"
   ]
  },
  {
   "cell_type": "code",
   "execution_count": 2,
   "metadata": {},
   "outputs": [
    {
     "data": {
      "image/png": "[encoded data removed]",
      "text/plain": [
       "<IPython.core.display.Image object>"
      ]
     },
     "execution_count": 2,
     "metadata": {},
     "output_type": "execute_result"
    }
   ],
   "source": [
    "# load the environment variables\n",
    "load_dotenv()\n",
    "# create a model client\n",
    "model_client = OpenAI()\n",
    "# create an environment\n",
    "env = Env(\n",
    "    description=\"This is a test environment\",\n",
    "    members=[\n",
    "        Member(name=\"agent1\", role=\"Mathematician\", description=\"Transfer to me if you need help with math.\", access_token=os.environ.get(\"AGENT1_ACCESS_TOKEN\")),\n",
    "        Member(name=\"agent2\", role=\"Musician\", description=\"Transfer to me if you need help with music.\", access_token=os.environ.get(\"AGENT2_ACCESS_TOKEN\")),\n",
    "        Member(name=\"agent3\", role=\"Artist\", description=\"Transfer to me if you need help with art.\", access_token=os.environ.get(\"AGENT3_ACCESS_TOKEN\")),\n",
    "    ]\n",
    ")\n",
    "# create a group of agents\n",
    "g = Group(env=env,model_client=model_client) \n",
    "\n",
    "from IPython.display import Image\n",
    "Image(g.draw_relations())"
   ]
  },
  {
   "cell_type": "code",
   "execution_count": 3,
   "metadata": {},
   "outputs": [],
   "source": [
    "g.update_group_messages(Message(sender=\"user\", action=\"talk\", result=\"Can anyone help me with math? 2+2=?\"))\n",
    "g.update_group_messages(Message(sender=\"agent1\", action=\"solve\", result=\"2+2=4\"))\n",
    "g.update_group_messages(Message(sender=\"user\", action=\"talk\", result=\"Can anyone help me with music?\"))"
   ]
  },
  {
   "cell_type": "code",
   "execution_count": 8,
   "metadata": {},
   "outputs": [
    {
     "data": {
      "text/plain": [
       "[Message(sender='user', action='talk', result='Can anyone help me with math? 2+2=?'),\n",
       " Message(sender='agent1', action='solve', result='2+2=4'),\n",
       " Message(sender='user', action='talk', result='Can anyone help me with music?')]"
      ]
     },
     "execution_count": 8,
     "metadata": {},
     "output_type": "execute_result"
    }
   ],
   "source": [
    "g.group_messages.context"
   ]
  },
  {
   "cell_type": "code",
   "execution_count": 11,
   "metadata": {},
   "outputs": [
    {
     "name": "stdout",
     "output_type": "stream",
     "text": [
      "--------------------------------------------------\n",
      "Below Is The Group Message Protocol Instance\n",
      "--------------------------------------------------\n",
      "{\n",
      "    \"group_id\": \"ee70e66f-f845-4d76-943c-f492f7083057\",\n",
      "    \"env\": {\n",
      "        \"description\": \"This is a test environment\",\n",
      "        \"members\": [\n",
      "            {\n",
      "                \"name\": \"agent1\",\n",
      "                \"role\": \"Mathematician\",\n",
      "                \"description\": \"Transfer to me if you need help with math.\",\n",
      "                \"access_token\": null\n",
      "            },\n",
      "            {\n",
      "                \"name\": \"agent2\",\n",
      "                \"role\": \"Musician\",\n",
      "                \"description\": \"Transfer to me if you need help with music.\",\n",
      "                \"access_token\": null\n",
      "            },\n",
      "            {\n",
      "                \"name\": \"agent3\",\n",
      "                \"role\": \"Artist\",\n",
      "                \"description\": \"Transfer to me if you need help with art.\",\n",
      "                \"access_token\": null\n",
      "            }\n",
      "        ],\n",
      "        \"relationships\": {\n",
      "            \"agent1\": [\n",
      "                \"agent2\",\n",
      "                \"agent3\"\n",
      "            ],\n",
      "            \"agent2\": [\n",
      "                \"agent1\",\n",
      "                \"agent3\"\n",
      "            ],\n",
      "            \"agent3\": [\n",
      "                \"agent1\",\n",
      "                \"agent2\"\n",
      "            ]\n",
      "        }\n",
      "    },\n",
      "    \"context\": [\n",
      "        {\n",
      "            \"sender\": \"user\",\n",
      "            \"action\": \"talk\",\n",
      "            \"result\": \"Can anyone help me with math? 2+2=?\"\n",
      "        },\n",
      "        {\n",
      "            \"sender\": \"agent1\",\n",
      "            \"action\": \"solve\",\n",
      "            \"result\": \"2+2=4\"\n",
      "        },\n",
      "        {\n",
      "            \"sender\": \"user\",\n",
      "            \"action\": \"talk\",\n",
      "            \"result\": \"Can anyone help me with music?\"\n",
      "        }\n",
      "    ],\n",
      "    \"next_agent\": \"agent2\"\n",
      "}\n",
      "--------------------------------------------------\n",
      "Below Message Send To `agent2` who is Musician\n",
      "--------------------------------------------------\n",
      "### Background Information\n",
      "\n",
      "This is a test environment\n",
      "\n",
      "### Members\n",
      "\n",
      "- agent1 (Mathematician)\n",
      "- agent2 (Musician)\n",
      "- agent3 (Artist)\n",
      "\n",
      "### Your Previous Message\n",
      "\n",
      "\n",
      "\n",
      "### Other people's Messages\n",
      "\n",
      "```agent1:solve\n",
      "2+2=4\n",
      "```\n",
      "\n",
      "```user:talk\n",
      "Can anyone help me with music?\n",
      "```\n",
      "\n",
      "### Task\n",
      "\n",
      "Consider the Background Information and the previous messages. Now, it's your turn.\n"
     ]
    }
   ],
   "source": [
    "# Do handoff\n",
    "# After handoff the current agent will be updated to the one who will speak next\n",
    "g.handoff(next_speaker_select_mode=\"auto2\",include_current=True,model=\"gpt-4o-mini\")\n",
    "\n",
    "# Print the group message protocol instance\n",
    "print('-'*50)\n",
    "print(\"Below Is The Group Message Protocol Instance\")\n",
    "print('-'*50)\n",
    "print(json.dumps(asdict(g.group_messages), indent=4))\n",
    "print('-'*50)\n",
    "print(\"Below Message Send To `{}` who is {}\".format(g.current_agent,g.members_map[g.current_agent].role))\n",
    "print('-'*50)\n",
    "print(g._build_send_message(g.group_messages,cut_off=2))"
   ]
  },
  {
   "cell_type": "code",
   "execution_count": 5,
   "metadata": {},
   "outputs": [
    {
     "data": {
      "text/plain": [
       "Message(sender='agent2', action='talk', result='It seems you\\'re looking for music recommendations, especially for reading. Music can greatly enhance the reading experience, creating a calming atmosphere that helps with concentration. Here are some genres and specific types of music that are often favored for reading:\\n\\n1. **Classical Music**: This genre is a popular choice due to its soothing melodies and lack of lyrics, which can be distracting. Composers like Johann Sebastian Bach, Claude Debussy, and Erik Satie are great options. Pieces like Bach\\'s \"Goldberg Variations\" or Debussy\\'s \"Clair de Lune\" can create a serene environment.\\n\\n2. **Ambient Music**: Artists such as Brian Eno, known for his ambient soundscapes, can provide a gentle background that fades into the background while you read. Albums like \"Music for Airports\" are specifically designed to be unobtrusive.\\n\\n3. **Instrumental Jazz**: Soft jazz can also be an excellent choice. Artists like Miles Davis or Bill Evans offer smooth melodies that can enhance focus without overpowering the text. Try Davis\\'s \"Kind of Blue\" for a classic experience.\\n\\n4. **Lo-fi Beats**: This genre has gained popularity for study sessions and reading. Lo-fi hip-hop mixes often include mellow beats and samples that create a relaxed vibe, perfect for keeping you engaged with your book.\\n\\n5. **Nature Sounds**: Sometimes, instrumental sounds that mimic nature—like rain, ocean waves, or forest sounds—can be incredibly calming and help you concentrate.\\n\\nFeel free to explore these suggestions and see which resonates with you the most while you read! If you have specific preferences or genres in mind, I can provide more tailored recommendations.')"
      ]
     },
     "execution_count": 5,
     "metadata": {},
     "output_type": "execute_result"
    }
   ],
   "source": [
    "g.update_group_messages(Message(sender=\"user\", action=\"talk\", result=\"How about music for reading?\"))\n",
    "g.call_agent(next_speaker_select_mode=\"auto2\",include_current=True,model=\"gpt-4o-mini\")"
   ]
  },
  {
   "cell_type": "code",
   "execution_count": 6,
   "metadata": {},
   "outputs": [
    {
     "data": {
      "text/plain": [
       "Message(sender='agent3', action='talk', result='Beauty is a complex and multifaceted concept that has been explored by philosophers, artists, and thinkers throughout history. At its core, beauty can be perceived as a quality that brings pleasure, harmony, and aesthetic enjoyment to the observer. It often elicits emotional responses and can be found in various forms, including nature, art, music, and human experiences.\\n\\nFrom a philosophical perspective, beauty has been debated in terms of its subjective versus objective nature. Some argue that beauty is entirely subjective, rooted in individual preferences and cultural contexts, while others believe there are universal standards of beauty that transcend personal opinion.\\n\\nIn the realm of art, beauty is often linked to balance, proportion, and the skillful use of color and form. Different artistic movements have defined beauty in unique ways, from the idealized forms of classical art to the raw and emotional expressions found in modern and contemporary works.\\n\\nUltimately, beauty can be seen as a reflection of our values, experiences, and emotions. It invites us to engage deeply with the world around us and encourages us to explore our own perceptions and interpretations. What do you think about beauty? How do you define it in your own life?')"
      ]
     },
     "execution_count": 6,
     "metadata": {},
     "output_type": "execute_result"
    }
   ],
   "source": [
    "g.update_group_messages(Message(sender=\"user\", action=\"talk\", result=\"Let's discuss what is beauty.\"))\n",
    "g.call_agent(next_speaker_select_mode=\"auto2\",include_current=False,model=\"gpt-4o-mini\")"
   ]
  },
  {
   "cell_type": "code",
   "execution_count": 7,
   "metadata": {},
   "outputs": [
    {
     "data": {
      "text/plain": [
       "Message(sender='agent1', action='talk', result=\"Beauty is indeed a profound topic that invites various interpretations and discussions. As a mathematician, I might approach beauty through the lens of symmetry, order, and mathematical elegance. In mathematics, beauty often manifests in the simplicity of a solution, the elegance of a theorem, or the harmony of a mathematical structure. \\n\\nFor instance, the Fibonacci sequence and its connection to the golden ratio can be seen as a beautiful representation of growth patterns in nature, such as in flowers and shells. This intersection of mathematics and nature highlights how beauty can be perceived in both abstract concepts and tangible forms.\\n\\nFurthermore, the aesthetic appeal of mathematical proofs, where a complex problem is solved through a series of elegant steps, also reflects a kind of beauty. The clarity and efficiency of a solution can evoke a sense of satisfaction similar to that found in art or music.\\n\\nIn my view, beauty in mathematics is not just about the numbers or the equations themselves, but about the connections, patterns, and insights they reveal about the world around us. How do you see the relationship between beauty and your field, whether it's music or art?\")"
      ]
     },
     "execution_count": 7,
     "metadata": {},
     "output_type": "execute_result"
    }
   ],
   "source": [
    "g.call_agent(next_speaker_select_mode=\"auto2\",include_current=False,model=\"gpt-4o-mini\")"
   ]
  },
  {
   "cell_type": "code",
   "execution_count": 8,
   "metadata": {},
   "outputs": [
    {
     "data": {
      "text/plain": [
       "Message(sender='agent2', action='talk', result=\"As a musician, I find beauty in the intricate interplay of sound, melody, and emotion. Music has a unique ability to transcend language and cultural barriers, allowing us to connect deeply with one another on an emotional level. The beauty of music often lies in its capacity to evoke feelings, tell stories, and create atmospheres that resonate with our experiences.\\n\\nFrom a compositional standpoint, beauty can be found in the harmony of chords, the rhythm of a melody, and the dynamics of a performance. For instance, the way a crescendo builds tension before resolving into a gentle decrescendo can mirror the ebb and flow of life's emotions. Composers like Johann Sebastian Bach, with his intricate counterpoint, or Ludwig van Beethoven, with his passionate expressions, showcase how musical structures can be both complex and profoundly beautiful.\\n\\nFurthermore, the beauty of music often emerges in live performances, where the energy of the musicians and the audience creates a shared experience. The spontaneity of a jazz improvisation, for example, captures the essence of beauty in the moment—each note a reflection of the artist's emotions and the collective spirit of the listeners.\\n\\nIn my opinion, beauty in music is not solely about technical proficiency or perfect pitch; it's about the ability to convey deep emotions and connect with others. How do you experience beauty in your own artistic expressions, whether through visual art or other forms?\")"
      ]
     },
     "execution_count": 8,
     "metadata": {},
     "output_type": "execute_result"
    }
   ],
   "source": [
    "g.call_agent(next_speaker_select_mode=\"auto2\",include_current=False,model=\"gpt-4o-mini\")"
   ]
  },
  {
   "cell_type": "code",
   "execution_count": 9,
   "metadata": {},
   "outputs": [
    {
     "name": "stdout",
     "output_type": "stream",
     "text": [
      "--------------------------------------------------\n",
      "agent2\n",
      "--------------------------------------------------\n",
      "### Background Information\n",
      "\n",
      "This is a test environment\n",
      "\n",
      "### Members\n",
      "\n",
      "- agent1 (Mathematician)\n",
      "- agent2 (Musician)\n",
      "- agent3 (Artist)\n",
      "\n",
      "### Your Previous Message\n",
      "\n",
      "```agent2:talk\n",
      "As a musician, I find beauty in the intricate interplay of sound, melody, and emotion. Music has a unique ability to transcend language and cultural barriers, allowing us to connect deeply with one another on an emotional level. The beauty of music often lies in its capacity to evoke feelings, tell stories, and create atmospheres that resonate with our experiences.\n",
      "\n",
      "From a compositional standpoint, beauty can be found in the harmony of chords, the rhythm of a melody, and the dynamics of a performance. For instance, the way a crescendo builds tension before resolving into a gentle decrescendo can mirror the ebb and flow of life's emotions. Composers like Johann Sebastian Bach, with his intricate counterpoint, or Ludwig van Beethoven, with his passionate expressions, showcase how musical structures can be both complex and profoundly beautiful.\n",
      "\n",
      "Furthermore, the beauty of music often emerges in live performances, where the energy of the musicians and the audience creates a shared experience. The spontaneity of a jazz improvisation, for example, captures the essence of beauty in the moment—each note a reflection of the artist's emotions and the collective spirit of the listeners.\n",
      "\n",
      "In my opinion, beauty in music is not solely about technical proficiency or perfect pitch; it's about the ability to convey deep emotions and connect with others. How do you experience beauty in your own artistic expressions, whether through visual art or other forms?\n",
      "```\n",
      "\n",
      "### Other people's Messages\n",
      "\n",
      "```agent3:talk\n",
      "Beauty is a complex and multifaceted concept that has been explored by philosophers, artists, and thinkers throughout history. At its core, beauty can be perceived as a quality that brings pleasure, harmony, and aesthetic enjoyment to the observer. It often elicits emotional responses and can be found in various forms, including nature, art, music, and human experiences.\n",
      "\n",
      "From a philosophical perspective, beauty has been debated in terms of its subjective versus objective nature. Some argue that beauty is entirely subjective, rooted in individual preferences and cultural contexts, while others believe there are universal standards of beauty that transcend personal opinion.\n",
      "\n",
      "In the realm of art, beauty is often linked to balance, proportion, and the skillful use of color and form. Different artistic movements have defined beauty in unique ways, from the idealized forms of classical art to the raw and emotional expressions found in modern and contemporary works.\n",
      "\n",
      "Ultimately, beauty can be seen as a reflection of our values, experiences, and emotions. It invites us to engage deeply with the world around us and encourages us to explore our own perceptions and interpretations. What do you think about beauty? How do you define it in your own life?\n",
      "```\n",
      "\n",
      "```agent1:talk\n",
      "Beauty is indeed a profound topic that invites various interpretations and discussions. As a mathematician, I might approach beauty through the lens of symmetry, order, and mathematical elegance. In mathematics, beauty often manifests in the simplicity of a solution, the elegance of a theorem, or the harmony of a mathematical structure. \n",
      "\n",
      "For instance, the Fibonacci sequence and its connection to the golden ratio can be seen as a beautiful representation of growth patterns in nature, such as in flowers and shells. This intersection of mathematics and nature highlights how beauty can be perceived in both abstract concepts and tangible forms.\n",
      "\n",
      "Furthermore, the aesthetic appeal of mathematical proofs, where a complex problem is solved through a series of elegant steps, also reflects a kind of beauty. The clarity and efficiency of a solution can evoke a sense of satisfaction similar to that found in art or music.\n",
      "\n",
      "In my view, beauty in mathematics is not just about the numbers or the equations themselves, but about the connections, patterns, and insights they reveal about the world around us. How do you see the relationship between beauty and your field, whether it's music or art?\n",
      "```\n",
      "\n",
      "### Task\n",
      "\n",
      "Consider the Background Information and the previous messages. Now, it's your turn.\n"
     ]
    }
   ],
   "source": [
    "print('-'*50)\n",
    "print(g.current_agent)\n",
    "print('-'*50)\n",
    "print(g._build_send_message(g.group_messages,cut_off=3))"
   ]
  },
  {
   "cell_type": "code",
   "execution_count": 10,
   "metadata": {},
   "outputs": [
    {
     "data": {
      "text/plain": [
       "Message(sender='agent1', action='talk', result='As a mathematician, I perceive beauty through the clarity and elegance of mathematical truths. The structure of a well-crafted proof or the surprising connections between seemingly disparate areas of mathematics can evoke a sense of wonder akin to that experienced in art or music. For instance, the relationship between prime numbers and the distribution of natural numbers is a beautiful manifestation of order in chaos.\\n\\nMoreover, the aesthetic quality of mathematical objects, such as geometric shapes or fractals, illustrates how mathematical concepts can be visually striking. The symmetry of a circle or the intricate patterns of a Mandelbrot set reveal a harmony that resonates with our appreciation for beauty in nature.\\n\\nIn my view, beauty in mathematics transcends mere numbers and formulas; it lies in the insights they provide into the universe. Just as an artist or musician captures emotions through their medium, mathematicians express the underlying truths of reality through the language of mathematics.\\n\\nWhat are your thoughts on how beauty manifests in your own fields? How do you find connections between your work and the concept of beauty?')"
      ]
     },
     "execution_count": 10,
     "metadata": {},
     "output_type": "execute_result"
    }
   ],
   "source": [
    "g.call_agent(agent=\"agent1\",model=\"gpt-4o-mini\")"
   ]
  }
 ],
 "metadata": {
  "kernelspec": {
   "display_name": ".venv",
   "language": "python",
   "name": "python3"
  },
  "language_info": {
   "codemirror_mode": {
    "name": "ipython",
    "version": 3
   },
   "file_extension": ".py",
   "mimetype": "text/x-python",
   "name": "python",
   "nbconvert_exporter": "python",
   "pygments_lexer": "ipython3",
   "version": "3.11.5"
  }
 },
 "nbformat": 4,
 "nbformat_minor": 2
}
