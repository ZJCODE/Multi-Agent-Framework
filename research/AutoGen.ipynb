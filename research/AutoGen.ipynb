{
 "cells": [
  {
   "cell_type": "markdown",
   "metadata": {},
   "source": [
    "### AutoGen\n",
    "\n",
    "A framework for building AI agents and applications\n",
    "\n",
    "https://microsoft.github.io/autogen/stable/index.html"
   ]
  },
  {
   "cell_type": "code",
   "execution_count": 1,
   "metadata": {},
   "outputs": [
    {
     "data": {
      "text/plain": [
       "True"
      ]
     },
     "execution_count": 1,
     "metadata": {},
     "output_type": "execute_result"
    }
   ],
   "source": [
    "# !pip install -U \"autogen-agentchat\" \"autogen-ext[openai]\"\n",
    "from autogen_agentchat.agents import AssistantAgent\n",
    "from autogen_ext.models.openai import OpenAIChatCompletionClient\n",
    "from dotenv import load_dotenv\n",
    "load_dotenv()"
   ]
  },
  {
   "cell_type": "code",
   "execution_count": 3,
   "metadata": {},
   "outputs": [
    {
     "data": {
      "text/plain": [
       "TaskResult(messages=[TextMessage(source='user', models_usage=None, content=\"Say 'Hello World!'\", type='TextMessage'), TextMessage(source='assistant', models_usage=RequestUsage(prompt_tokens=41, completion_tokens=3), content='Hello World!', type='TextMessage')], stop_reason=None)"
      ]
     },
     "execution_count": 3,
     "metadata": {},
     "output_type": "execute_result"
    }
   ],
   "source": [
    "agent = AssistantAgent(\"assistant\", OpenAIChatCompletionClient(model=\"gpt-4o-mini\"))\n",
    "await agent.run(task=\"Say 'Hello World!'\")"
   ]
  },
  {
   "cell_type": "markdown",
   "metadata": {},
   "source": [
    "### Quickstart"
   ]
  },
  {
   "cell_type": "code",
   "execution_count": 4,
   "metadata": {},
   "outputs": [],
   "source": [
    "from autogen_agentchat.agents import AssistantAgent\n",
    "from autogen_agentchat.teams import RoundRobinGroupChat\n",
    "from autogen_agentchat.ui import Console\n",
    "from autogen_ext.models.openai import OpenAIChatCompletionClient\n"
   ]
  },
  {
   "cell_type": "code",
   "execution_count": 5,
   "metadata": {},
   "outputs": [
    {
     "name": "stdout",
     "output_type": "stream",
     "text": [
      "---------- user ----------\n",
      "hangzhou\n",
      "---------- weather_agent ----------\n",
      "[FunctionCall(id='call_T4UV6X7aSCzFA5TSPF4cCB4A', arguments='{\"city\":\"Hangzhou\"}', name='get_weather')]\n",
      "---------- weather_agent ----------\n",
      "[FunctionExecutionResult(content='The weather in Hangzhou is 73 degrees and Sunny.', call_id='call_T4UV6X7aSCzFA5TSPF4cCB4A')]\n",
      "---------- weather_agent ----------\n",
      "The weather in Hangzhou is 73 degrees and Sunny.\n"
     ]
    }
   ],
   "source": [
    "# Define a tool\n",
    "async def get_weather(city: str) -> str:\n",
    "    return f\"The weather in {city} is 73 degrees and Sunny.\"\n",
    "\n",
    "# Define an agent\n",
    "weather_agent = AssistantAgent(\n",
    "    name=\"weather_agent\",\n",
    "    model_client=OpenAIChatCompletionClient(model=\"gpt-4o-mini\"),\n",
    "    tools=[get_weather],\n",
    ")\n",
    "\n",
    "# Define a team with a single agent and maximum auto-gen turns of 1.\n",
    "agent_team = RoundRobinGroupChat([weather_agent], max_turns=1)\n",
    "\n",
    "while True:\n",
    "    # Get user input from the console.\n",
    "    user_input = input(\"Enter a message (type 'exit' to leave): \")\n",
    "    if user_input.strip().lower() == \"exit\":\n",
    "        break\n",
    "    # Run the team and stream messages to the console.\n",
    "    stream = agent_team.run_stream(task=user_input)\n",
    "    await Console(stream)"
   ]
  },
  {
   "cell_type": "markdown",
   "metadata": {},
   "source": [
    "### Models"
   ]
  },
  {
   "cell_type": "code",
   "execution_count": 6,
   "metadata": {},
   "outputs": [
    {
     "name": "stdout",
     "output_type": "stream",
     "text": [
      "finish_reason='unknown' content='The capital of France is Paris.' usage=RequestUsage(prompt_tokens=15, completion_tokens=7) cached=False logprobs=None\n"
     ]
    }
   ],
   "source": [
    "from autogen_ext.models.openai import OpenAIChatCompletionClient\n",
    "from autogen_core.models import UserMessage\n",
    "\n",
    "openai_model_client = OpenAIChatCompletionClient(model=\"gpt-4o-mini\")\n",
    "result = await openai_model_client.create([UserMessage(content=\"What is the capital of France?\", source=\"user\")])\n",
    "\n",
    "print(result)"
   ]
  },
  {
   "cell_type": "markdown",
   "metadata": {},
   "source": [
    "### Message"
   ]
  },
  {
   "cell_type": "markdown",
   "metadata": {},
   "source": [
    "Types of Messages\n",
    "\n",
    "At a high level, messages in AgentChat can be categorized into two types: agent-agent messages and an agent’s internal events and messages."
   ]
  },
  {
   "cell_type": "code",
   "execution_count": 7,
   "metadata": {},
   "outputs": [
    {
     "data": {
      "text/plain": [
       "TextMessage(source='User', models_usage=None, content='Hello, world!', type='TextMessage')"
      ]
     },
     "execution_count": 7,
     "metadata": {},
     "output_type": "execute_result"
    }
   ],
   "source": [
    "from autogen_agentchat.messages import TextMessage\n",
    "\n",
    "text_message = TextMessage(content=\"Hello, world!\", source=\"User\")\n",
    "\n",
    "text_message"
   ]
  },
  {
   "cell_type": "code",
   "execution_count": 42,
   "metadata": {},
   "outputs": [
    {
     "data": {
      "text/plain": [
       "MultiModalMessage(source='User', models_usage=None, content=['Can you describe the content of this image?', <autogen_core._image.Image object at 0x1166120d0>], type='MultiModalMessage')"
      ]
     },
     "execution_count": 42,
     "metadata": {},
     "output_type": "execute_result"
    }
   ],
   "source": [
    "from io import BytesIO\n",
    "\n",
    "import requests\n",
    "from autogen_agentchat.messages import MultiModalMessage\n",
    "from autogen_core import Image as AGImage\n",
    "from PIL import Image\n",
    "\n",
    "pil_image = Image.open(BytesIO(requests.get(\"https://picsum.photos/300/200\").content))\n",
    "img = AGImage(pil_image)\n",
    "multi_modal_message = MultiModalMessage(content=[\"Can you describe the content of this image?\", img], source=\"User\")\n",
    "\n",
    "multi_modal_message"
   ]
  },
  {
   "cell_type": "markdown",
   "metadata": {},
   "source": [
    "### Agents"
   ]
  },
  {
   "cell_type": "code",
   "execution_count": 7,
   "metadata": {},
   "outputs": [],
   "source": [
    "from autogen_agentchat.agents import AssistantAgent\n",
    "from autogen_agentchat.messages import TextMessage\n",
    "from autogen_agentchat.ui import Console\n",
    "from autogen_core import CancellationToken\n",
    "from autogen_ext.models.openai import OpenAIChatCompletionClient\n",
    "\n",
    "\n",
    "# Define a tool that searches the web for information.\n",
    "async def web_search(query: str) -> str:\n",
    "    \"\"\"Find information on the web\"\"\"\n",
    "    return \"AutoGen is a programming framework for building multi-agent applications.\"\n",
    "\n",
    "\n",
    "# Create an agent that uses the OpenAI GPT-4o model.\n",
    "model_client = OpenAIChatCompletionClient(model=\"gpt-4o-mini\")\n",
    "agent = AssistantAgent(\n",
    "    name=\"assistant\",\n",
    "    model_client=model_client,\n",
    "    tools=[web_search],\n",
    "    system_message=\"Use tools to solve tasks.\",\n",
    ")"
   ]
  },
  {
   "cell_type": "code",
   "execution_count": 8,
   "metadata": {},
   "outputs": [
    {
     "name": "stdout",
     "output_type": "stream",
     "text": [
      "Inner Messages:\n",
      "[ToolCallRequestEvent(source='assistant', models_usage=RequestUsage(prompt_tokens=61, completion_tokens=15), content=[FunctionCall(id='call_obMFYHxfryeKriEf2o7HeW2O', arguments='{\"query\":\"AutoGen\"}', name='web_search')], type='ToolCallRequestEvent'), ToolCallExecutionEvent(source='assistant', models_usage=None, content=[FunctionExecutionResult(content='AutoGen is a programming framework for building multi-agent applications.', call_id='call_obMFYHxfryeKriEf2o7HeW2O')], type='ToolCallExecutionEvent')]\n",
      "Chat Message:\n",
      "source='assistant' models_usage=None content='AutoGen is a programming framework for building multi-agent applications.' type='ToolCallSummaryMessage'\n"
     ]
    }
   ],
   "source": [
    "response = await agent.on_messages(\n",
    "    [TextMessage(content=\"Find information on AutoGen\", source=\"user\")],\n",
    "    cancellation_token=CancellationToken(),\n",
    ")\n",
    "\n",
    "print(\"Inner Messages:\")\n",
    "print(response.inner_messages)\n",
    "print(\"Chat Message:\")\n",
    "print(response.chat_message)\n"
   ]
  },
  {
   "cell_type": "code",
   "execution_count": 9,
   "metadata": {},
   "outputs": [
    {
     "name": "stdout",
     "output_type": "stream",
     "text": [
      "---------- assistant ----------\n",
      "[FunctionCall(id='call_jtN93hIzVEuvAJi3XqlePCR0', arguments='{\"query\":\"AutoGen software\"}', name='web_search')]\n",
      "---------- assistant ----------\n",
      "[FunctionExecutionResult(content='AutoGen is a programming framework for building multi-agent applications.', call_id='call_jtN93hIzVEuvAJi3XqlePCR0')]\n",
      "---------- assistant ----------\n",
      "AutoGen is a programming framework for building multi-agent applications.\n"
     ]
    }
   ],
   "source": [
    "response = await Console(\n",
    "    agent.on_messages_stream(\n",
    "        [TextMessage(content=\"Find information on AutoGen\", source=\"user\")],\n",
    "        cancellation_token=CancellationToken(),\n",
    "    )\n",
    ")"
   ]
  },
  {
   "cell_type": "code",
   "execution_count": 10,
   "metadata": {},
   "outputs": [
    {
     "name": "stdout",
     "output_type": "stream",
     "text": [
      "source='assistant' models_usage=RequestUsage(prompt_tokens=156, completion_tokens=19) content=[FunctionCall(id='call_eckUMTkuoq9sx1HNkcdlD3Bs', arguments='{\"query\":\"AutoGen project or software overview\"}', name='web_search')] type='ToolCallRequestEvent'\n",
      "source='assistant' models_usage=None content=[FunctionExecutionResult(content='AutoGen is a programming framework for building multi-agent applications.', call_id='call_eckUMTkuoq9sx1HNkcdlD3Bs')] type='ToolCallExecutionEvent'\n",
      "Response(chat_message=ToolCallSummaryMessage(source='assistant', models_usage=None, content='AutoGen is a programming framework for building multi-agent applications.', type='ToolCallSummaryMessage'), inner_messages=[ToolCallRequestEvent(source='assistant', models_usage=RequestUsage(prompt_tokens=156, completion_tokens=19), content=[FunctionCall(id='call_eckUMTkuoq9sx1HNkcdlD3Bs', arguments='{\"query\":\"AutoGen project or software overview\"}', name='web_search')], type='ToolCallRequestEvent'), ToolCallExecutionEvent(source='assistant', models_usage=None, content=[FunctionExecutionResult(content='AutoGen is a programming framework for building multi-agent applications.', call_id='call_eckUMTkuoq9sx1HNkcdlD3Bs')], type='ToolCallExecutionEvent')])\n"
     ]
    }
   ],
   "source": [
    "async for response in agent.on_messages_stream(\n",
    "    [TextMessage(content=\"Find information on AutoGen\", source=\"user\")],\n",
    "    cancellation_token=CancellationToken(),\n",
    "):\n",
    "    print(response)"
   ]
  },
  {
   "cell_type": "code",
   "execution_count": 11,
   "metadata": {},
   "outputs": [
    {
     "name": "stdout",
     "output_type": "stream",
     "text": [
      "---------- assistant ----------\n",
      "[FunctionCall(id='call_PvZFmJm3aH0rEJ7pzOLlmCH0', arguments='{\"query\":\"df[\\'Age\\'].mean()\"}', name='python_repl_ast')]\n",
      "---------- assistant ----------\n",
      "[FunctionExecutionResult(content='29.69911764705882', call_id='call_PvZFmJm3aH0rEJ7pzOLlmCH0')]\n",
      "---------- assistant ----------\n",
      "29.69911764705882\n"
     ]
    },
    {
     "data": {
      "text/plain": [
       "Response(chat_message=ToolCallSummaryMessage(source='assistant', models_usage=None, content='28.343689655172415\\nSex\\nfemale    28.847716\\nmale      27.276022\\nName: Age, dtype: float64', type='ToolCallSummaryMessage'), inner_messages=[ToolCallRequestEvent(source='assistant', models_usage=RequestUsage(prompt_tokens=234, completion_tokens=81), content=[FunctionCall(id='call_MsotkfjQbzu3LpLimzNjiZtZ', arguments='{\"query\": \"df[df[\\'Survived\\'] == 1][\\'Age\\'].mean()\"}', name='python_repl_ast'), FunctionCall(id='call_4eTgTz3oihVwpNVLLCJWB74O', arguments='{\"query\": \"df[df[\\'Survived\\'] == 1].groupby(\\'Sex\\')[\\'Age\\'].mean()\"}', name='python_repl_ast')], type='ToolCallRequestEvent'), ToolCallExecutionEvent(source='assistant', models_usage=None, content=[FunctionExecutionResult(content='28.343689655172415', call_id='call_MsotkfjQbzu3LpLimzNjiZtZ'), FunctionExecutionResult(content='Sex\\nfemale    28.847716\\nmale      27.276022\\nName: Age, dtype: float64', call_id='call_4eTgTz3oihVwpNVLLCJWB74O')], type='ToolCallExecutionEvent')])"
      ]
     },
     "execution_count": 11,
     "metadata": {},
     "output_type": "execute_result"
    },
    {
     "name": "stdout",
     "output_type": "stream",
     "text": [
      "---------- assistant ----------\n",
      "[FunctionCall(id='call_MsotkfjQbzu3LpLimzNjiZtZ', arguments='{\"query\": \"df[df[\\'Survived\\'] == 1][\\'Age\\'].mean()\"}', name='python_repl_ast'), FunctionCall(id='call_4eTgTz3oihVwpNVLLCJWB74O', arguments='{\"query\": \"df[df[\\'Survived\\'] == 1].groupby(\\'Sex\\')[\\'Age\\'].mean()\"}', name='python_repl_ast')]\n"
     ]
    }
   ],
   "source": [
    "import pandas as pd\n",
    "from autogen_ext.tools.langchain import LangChainToolAdapter\n",
    "from langchain_experimental.tools.python.tool import PythonAstREPLTool\n",
    "\n",
    "df = pd.read_csv(\"https://raw.githubusercontent.com/pandas-dev/pandas/main/doc/data/titanic.csv\")\n",
    "tool = LangChainToolAdapter(PythonAstREPLTool(locals={\"df\": df}))\n",
    "model_client = OpenAIChatCompletionClient(model=\"gpt-4o-mini\")\n",
    "agent = AssistantAgent(\n",
    "    \"assistant\", tools=[tool], model_client=model_client, \n",
    "    system_message=f\"Use the `df` variable to access the dataset,column names are {df.columns}.\",\n",
    "    reflect_on_tool_use=False\n",
    ")\n",
    "\n",
    "await Console(\n",
    "    agent.on_messages_stream(\n",
    "        [TextMessage(content=\"What's the average age of the passengers?\", source=\"user\")], CancellationToken()\n",
    "    )\n",
    ")\n",
    "\n",
    "await Console(\n",
    "    agent.on_messages_stream(\n",
    "        [TextMessage(content=\"What is the average age of survivors? Please display the results for all genders as well as separately for each gender.\", source=\"user\")], CancellationToken()\n",
    "    )\n",
    ")"
   ]
  },
  {
   "cell_type": "markdown",
   "metadata": {},
   "source": [
    "By default, `AssistantAgent` uses the `UnboundedChatCompletionContext` which sends the full conversation history to the model.\n",
    "\n",
    "To limit the context to the last n messages, you can use the `BufferedChatCompletionContext`."
   ]
  },
  {
   "cell_type": "code",
   "execution_count": 5,
   "metadata": {},
   "outputs": [
    {
     "name": "stdout",
     "output_type": "stream",
     "text": [
      "Inner Messages:\n",
      "[ToolCallRequestEvent(source='assistant', models_usage=RequestUsage(prompt_tokens=61, completion_tokens=15), content=[FunctionCall(id='call_DFCw6ETBs5lSVrPdxbczGnZf', arguments='{\"query\":\"AutoGen\"}', name='web_search')], type='ToolCallRequestEvent'), ToolCallExecutionEvent(source='assistant', models_usage=None, content=[FunctionExecutionResult(content='AutoGen is a programming framework for building multi-agent applications.', call_id='call_DFCw6ETBs5lSVrPdxbczGnZf')], type='ToolCallExecutionEvent')]\n",
      "Chat Message:\n",
      "source='assistant' models_usage=None content='AutoGen is a programming framework for building multi-agent applications.' type='ToolCallSummaryMessage'\n"
     ]
    }
   ],
   "source": [
    "from autogen_core.model_context import BufferedChatCompletionContext\n",
    "from autogen_ext.models.openai import OpenAIChatCompletionClient\n",
    "from autogen_agentchat.agents import AssistantAgent\n",
    "from autogen_agentchat.messages import TextMessage\n",
    "from autogen_core import CancellationToken\n",
    "\n",
    "# Define a tool that searches the web for information.\n",
    "async def web_search(query: str) -> str:\n",
    "    \"\"\"Find information on the web\"\"\"\n",
    "    return \"AutoGen is a programming framework for building multi-agent applications.\"\n",
    "\n",
    "\n",
    "model_client = OpenAIChatCompletionClient(model=\"gpt-4o-mini\")\n",
    "\n",
    "# Create an agent that uses only the last 5 messages in the context to generate responses.\n",
    "agent = AssistantAgent(\n",
    "    name=\"assistant\",\n",
    "    model_client=model_client,\n",
    "    tools=[web_search],\n",
    "    system_message=\"Use tools to solve tasks.\",\n",
    "    model_context=BufferedChatCompletionContext(buffer_size=5),  # Only use the last 5 messages in the context.\n",
    ")\n",
    "\n",
    "response = await agent.on_messages(\n",
    "    [TextMessage(content=\"Find information on AutoGen\", source=\"user\")],\n",
    "    cancellation_token=CancellationToken(),\n",
    ")\n",
    "\n",
    "print(\"Inner Messages:\")\n",
    "print(response.inner_messages)\n",
    "print(\"Chat Message:\")\n",
    "print(response.chat_message)"
   ]
  },
  {
   "cell_type": "markdown",
   "metadata": {},
   "source": [
    "### Team"
   ]
  },
  {
   "cell_type": "code",
   "execution_count": 1,
   "metadata": {},
   "outputs": [],
   "source": [
    "import asyncio\n",
    "\n",
    "from autogen_agentchat.agents import AssistantAgent\n",
    "from autogen_agentchat.base import TaskResult\n",
    "from autogen_agentchat.conditions import ExternalTermination, TextMentionTermination\n",
    "from autogen_agentchat.teams import RoundRobinGroupChat\n",
    "from autogen_agentchat.ui import Console\n",
    "from autogen_core import CancellationToken\n",
    "from autogen_ext.models.openai import OpenAIChatCompletionClient\n",
    "\n",
    "# Create an OpenAI model client.\n",
    "model_client = OpenAIChatCompletionClient(\n",
    "    model=\"gpt-4o-mini\",\n",
    ")\n",
    "\n",
    "# Create the primary agent.\n",
    "primary_agent = AssistantAgent(\n",
    "    \"primary\",\n",
    "    model_client=model_client,\n",
    "    system_message=\"You are a helpful AI assistant.\",\n",
    ")\n",
    "\n",
    "# Create the critic agent.\n",
    "critic_agent = AssistantAgent(\n",
    "    \"critic\",\n",
    "    model_client=model_client,\n",
    "    system_message=\"Provide constructive feedback. Respond with 'APPROVE' to when your feedbacks are addressed.\",\n",
    ")\n",
    "\n",
    "# Define a termination condition that stops the task if the critic approves.\n",
    "text_termination = TextMentionTermination(\"APPROVE\")\n",
    "\n",
    "# Create a team with the primary and critic agents.\n",
    "team = RoundRobinGroupChat([primary_agent, critic_agent], termination_condition=text_termination)"
   ]
  },
  {
   "cell_type": "code",
   "execution_count": 2,
   "metadata": {},
   "outputs": [
    {
     "name": "stdout",
     "output_type": "stream",
     "text": [
      "TaskResult(messages=[TextMessage(source='user', models_usage=None, content='Write a short poem about the fall season.', type='TextMessage'), TextMessage(source='primary', models_usage=RequestUsage(prompt_tokens=28, completion_tokens=107), content='In amber hues the leaves descend,  \\nA gentle dance, the seasons blend,  \\nCrisp whispers in the cooling air,  \\nNature’s quilt, a soft repair.  \\n\\nPumpkins shine on doorsteps bright,  \\nWhile harvest moons bring cozy nights,  \\nThe rustling trees, a soothing sound,  \\nAs autumn’s magic wraps the ground.  \\n\\nSweaters on, we gather near,  \\nWith laughter shared and warmth sincere,  \\nIn every swirl of gold and brown,  \\nThe beauty of fall brings joy renowned.  ', type='TextMessage'), TextMessage(source='critic', models_usage=RequestUsage(prompt_tokens=153, completion_tokens=241), content='This poem beautifully captures the essence of the fall season. The imagery of amber hues and cozy nights evokes a strong sense of warmth and nostalgia. Here are a few points of feedback that could enhance the poem:\\n\\n1. **Line Variation**: While the poem flows nicely, consider varying the line lengths to add more rhythm and emphasis to certain phrases. Shorter, punchier lines can create a nice contrast.\\n\\n2. **Imagery Expansion**: You have vivid imagery with pumpkins and harvest moons. Perhaps adding another specific image or two, like a mention of apple cider or crisp morning air, could further enrich the sensory experience.\\n\\n3. **Emotional Connection**: The feelings of warmth and togetherness are lovely. You might delve a little deeper into the emotions associated with this season, either through personal reflection or a broader cultural tradition.\\n\\n4. **Rhyme Scheme Consistency**: The rhyme scheme is pleasant, but ensuring that all the stanzas consistently follow the same pattern would help with cohesion.\\n\\nOverall, it’s a lovely poem that effectively conveys the spirit of fall! With these adjustments, it can resonate even more. \\n\\nLet me know when you’re ready to move forward with the changes!', type='TextMessage'), TextMessage(source='primary', models_usage=RequestUsage(prompt_tokens=388, completion_tokens=188), content=\"Thank you for your thoughtful feedback! I appreciate your insights and would love to incorporate your suggestions to enhance the poem. Here’s a revised version that addresses your points:\\n\\n---\\n\\nIn golden hues, the leaves cascade,  \\nA dance of whispers, autumn's parade.  \\nCrisp mornings greet with a tender breath,  \\nWhile nature weaves a quilt of rest.  \\n\\nPumpkins glow by porch lights’ cheer,  \\nApple cider warms the atmosphere.  \\nThe rustling trees hum a soothing tune,  \\nAs harvest moons cast silver noon.  \\n\\nSweaters wrapped, we gather close,  \\nIn laughter’s comfort, we find our dose.  \\nBeneath the boughs where memories blend,  \\nFall’s embrace is a cherished friend.  \\n\\n---\\n\\nI've varied the line lengths, expanded on imagery, and deepened the emotional connection. I hope this resonates even more! Let me know if there are further adjustments you'd like to see.\", type='TextMessage'), TextMessage(source='critic', models_usage=RequestUsage(prompt_tokens=594, completion_tokens=3), content='APPROVE', type='TextMessage')], stop_reason=\"Text 'APPROVE' mentioned\")\n"
     ]
    }
   ],
   "source": [
    "result = await team.run(task=\"Write a short poem about the fall season.\")\n",
    "print(result)"
   ]
  },
  {
   "cell_type": "code",
   "execution_count": 7,
   "metadata": {},
   "outputs": [
    {
     "name": "stdout",
     "output_type": "stream",
     "text": [
      "source='user' models_usage=None content='Write a short poem about the fall season.' type='TextMessage'\n",
      "source='primary' models_usage=RequestUsage(prompt_tokens=28, completion_tokens=125) content=\"In autumn's glow, the leaves cascade,  \\nA tapestry of golds and reds displayed.  \\nCrisp air whispers secrets from the trees,  \\nAs acorns tumble, carried by the breeze.  \\n\\nPumpkins glow beneath the harvest moon,  \\nWhile cinnamon scents fill each cozy room.  \\nNature's palette, vibrant, rich, and bright,  \\nAs days grow shorter, kissed by fading light.  \\n\\nOh, fall, with your charm, so bittersweet,  \\nA time for gathering, where hearts can meet.  \\nIn every rustle, in every sigh,  \\nThe magic of the season bids goodbye.\" type='TextMessage'\n",
      "source='critic' models_usage=RequestUsage(prompt_tokens=171, completion_tokens=234) content='Your poem beautifully captures the essence of fall with vivid imagery and a rhythmic flow. The use of sensory details, such as \"crisp air\" and \"cinnamon scents,\" effectively immerses the reader in the season. \\n\\nHere are a few suggestions for refinement:\\n\\n1. **Consistency in Tone**: The poem shifts slightly from a joyful celebration of fall to a more bittersweet finale. You might consider maintaining a more consistent tone throughout, whether it\\'s celebratory or nostalgic.\\n\\n2. **Imagery Variations**: While the colors and scents are beautifully described, you could incorporate more imagery related to fall activities, like cider-making or leaf piles, to evoke a stronger sense of the season\\'s communal spirit.\\n\\n3. **Ending Line Impact**: The last line, \"The magic of the season bids goodbye,\" is certainly poignant. However, consider a phrase that serves as a stronger call-back to the joy before the farewell, perhaps depicting a specific joyful moment as a way to conclude.\\n\\nOverall, this is a lovely piece. With a few adjustments, it can become even more impactful. \\n\\nLet me know when you\\'ve made these changes or if you need further guidance!' type='TextMessage'\n",
      "source='primary' models_usage=RequestUsage(prompt_tokens=399, completion_tokens=189) content=\"Thank you for your thoughtful feedback! I've revised the poem to create a more consistent tone, incorporate additional imagery, and strengthen the concluding impact. Here’s the edited version:\\n\\n---\\n\\nIn autumn’s glow, the leaves cascade,  \\nA tapestry of golds and reds displayed.  \\nCrisp air whispers secrets from the trees,  \\nAs laughter echoes, carried by the breeze.  \\n\\nPumpkins bright in fields, a harvest fair,  \\nWhile cider simmers, spices fill the air.  \\nNature’s palette, vibrant, rich, and clear,  \\nWith every bonfire, friends and warmth draw near.  \\n\\nIn playful piles, the leaves dance and sway,  \\nA season of gathering, where hearts find play.  \\nSo let us bask in this enchanted light,  \\nAs autumn wraps us in its love each night.  \\n\\n---\\n\\nI hope this revision aligns better with your suggestions! Let me know what you think or if you'd like further adjustments.\" type='TextMessage'\n",
      "source='critic' models_usage=RequestUsage(prompt_tokens=606, completion_tokens=163) content='Your revisions have successfully enhanced the poem, creating a more consistent tone and incorporating additional imagery that resonates with the joys of fall. The added lines about laughter and bonfires strengthen the communal spirit beautifully. \\n\\n1. **Imagery and Tone**: The use of \"laughter echoes\" and “cider simmers” adds a lively touch, capturing the essence of togetherness during the season. This aligns well with the overall theme of warmth and joy.\\n\\n2. **Concluding Impact**: The ending line “As autumn wraps us in its love each night” provides a lovely, warm closure that wraps the poem up nicely, echoing a sense of comfort and community.\\n\\nOverall, your poem reads wonderfully now, evoking the charm and magic of autumn effectively. Great job addressing the feedback! \\n\\nAPPROVE' type='TextMessage'\n",
      "Stop Reason: Text 'APPROVE' mentioned\n"
     ]
    }
   ],
   "source": [
    "await team.reset()  # Reset the team for a new task.\n",
    "async for message in team.run_stream(task=\"Write a short poem about the fall season.\"):  # type: ignore\n",
    "    if isinstance(message, TaskResult):\n",
    "        print(\"Stop Reason:\", message.stop_reason)\n",
    "    else:\n",
    "        print(message)"
   ]
  },
  {
   "cell_type": "code",
   "execution_count": 10,
   "metadata": {},
   "outputs": [
    {
     "name": "stdout",
     "output_type": "stream",
     "text": [
      "---------- user ----------\n",
      "Write a short poem about the fall season.\n",
      "---------- primary ----------\n",
      "In autumn's glow, the leaves descend,  \n",
      "A tapestry of gold and red,  \n",
      "The crisp air whispers, summers end,  \n",
      "As nature dons her vibrant bed.  \n",
      "\n",
      "With pumpkins bright and harvest cheer,  \n",
      "The fields are ripe, the skies are clear,  \n",
      "A fleeting dance, the world in tune,  \n",
      "Embracing change, beneath the moon.  \n",
      "\n",
      "So gather 'round as days grow short,  \n",
      "With cider warm and laughter's sport,  \n",
      "In every shade, a story spun,  \n",
      "The fall's sweet breath, our hearts have won.\n",
      "---------- critic ----------\n",
      "Your poem beautifully captures the essence of autumn with vivid imagery and a rhythmic flow. I appreciate how you evoke the sensory experiences of the season, from the visual beauty of the leaves to the warmth of cider. \n",
      "\n",
      "To enhance your poem further, consider the following feedback:\n",
      "\n",
      "1. **Imagery**: While you have great imagery, adding a few more specific details could enrich the visual experience. Perhaps describe the sound of leaves crunching or the smell of the harvest.\n",
      "\n",
      "2. **Emotion**: Instead of a general embrace of change, you might delve a bit deeper into the emotions that come with the end of summer, such as nostalgia or anticipation for the winter.\n",
      "\n",
      "3. **Structure**: The poem flows well, but varying the length of your lines or stanzas could create more dynamic rhythms and emphasize key moments.\n",
      "\n",
      "Addressing these areas could make your already lovely poem even more captivating. Would you like to make adjustments based on this feedback?\n",
      "---------- primary ----------\n",
      "Thank you for your thoughtful feedback! I appreciate your insights and would love to enhance the poem based on your suggestions. Here’s a revised version:\n",
      "\n",
      "---\n",
      "\n",
      "In autumn’s glow, the leaves descend,  \n",
      "A tapestry of gold and red,  \n",
      "With crisp air whispering, summer’s end,  \n",
      "The scent of harvest fills our heads.  \n",
      "\n",
      "The crunch of leaves beneath our tread,  \n",
      "Soft whispers of the chill that’s near,  \n",
      "A mingling of both joy and dread,  \n",
      "As twilight paints the skies sincere.  \n",
      "\n",
      "With pumpkins bright in fields ablaze,  \n",
      "And cider's warmth against the cold,  \n",
      "We gather close in the fading days,  \n",
      "While stories of the past unfold.  \n",
      "\n",
      "So let us treasure the fleeting light,  \n",
      "For beneath the moon, the world will rest,  \n",
      "In every shade, nostalgia's bite,  \n",
      "The fall’s sweet breath—a heart’s own quest.  \n",
      "\n",
      "---\n",
      "\n",
      "I hope this revision captures more of what you mentioned! Thank you again for your guidance.\n",
      "---------- critic ----------\n",
      "Your revised poem is fantastic! You've successfully incorporated more sensory details, enhancing both the imagery and emotional depth. The addition of sounds, scents, and the interplay of joy and nostalgia adds richness to the experience of autumn. \n",
      "\n",
      "1. **Imagery**: The sound of crunching leaves and the smell of harvest really draw the reader in. It creates a strong connection to the season.\n",
      "\n",
      "2. **Emotion**: The inclusion of \"joy and dread\" alongside \"nostalgia's bite\" beautifully conveys the complexity of feelings during this transitional time.\n",
      "\n",
      "3. **Structure**: The varied line lengths add a nice dynamic quality, keeping the reader engaged.\n",
      "\n",
      "Overall, this revision has elevated your poem gracefully. I’m impressed with the changes! \n",
      "\n",
      "APPROVE\n"
     ]
    },
    {
     "data": {
      "text/plain": [
       "TaskResult(messages=[TextMessage(source='user', models_usage=None, content='Write a short poem about the fall season.', type='TextMessage'), TextMessage(source='primary', models_usage=RequestUsage(prompt_tokens=28, completion_tokens=113), content=\"In autumn's glow, the leaves descend,  \\nA tapestry of gold and red,  \\nThe crisp air whispers, summers end,  \\nAs nature dons her vibrant bed.  \\n\\nWith pumpkins bright and harvest cheer,  \\nThe fields are ripe, the skies are clear,  \\nA fleeting dance, the world in tune,  \\nEmbracing change, beneath the moon.  \\n\\nSo gather 'round as days grow short,  \\nWith cider warm and laughter's sport,  \\nIn every shade, a story spun,  \\nThe fall's sweet breath, our hearts have won.\", type='TextMessage'), TextMessage(source='critic', models_usage=RequestUsage(prompt_tokens=159, completion_tokens=189), content='Your poem beautifully captures the essence of autumn with vivid imagery and a rhythmic flow. I appreciate how you evoke the sensory experiences of the season, from the visual beauty of the leaves to the warmth of cider. \\n\\nTo enhance your poem further, consider the following feedback:\\n\\n1. **Imagery**: While you have great imagery, adding a few more specific details could enrich the visual experience. Perhaps describe the sound of leaves crunching or the smell of the harvest.\\n\\n2. **Emotion**: Instead of a general embrace of change, you might delve a bit deeper into the emotions that come with the end of summer, such as nostalgia or anticipation for the winter.\\n\\n3. **Structure**: The poem flows well, but varying the length of your lines or stanzas could create more dynamic rhythms and emphasize key moments.\\n\\nAddressing these areas could make your already lovely poem even more captivating. Would you like to make adjustments based on this feedback?', type='TextMessage'), TextMessage(source='primary', models_usage=RequestUsage(prompt_tokens=342, completion_tokens=200), content=\"Thank you for your thoughtful feedback! I appreciate your insights and would love to enhance the poem based on your suggestions. Here’s a revised version:\\n\\n---\\n\\nIn autumn’s glow, the leaves descend,  \\nA tapestry of gold and red,  \\nWith crisp air whispering, summer’s end,  \\nThe scent of harvest fills our heads.  \\n\\nThe crunch of leaves beneath our tread,  \\nSoft whispers of the chill that’s near,  \\nA mingling of both joy and dread,  \\nAs twilight paints the skies sincere.  \\n\\nWith pumpkins bright in fields ablaze,  \\nAnd cider's warmth against the cold,  \\nWe gather close in the fading days,  \\nWhile stories of the past unfold.  \\n\\nSo let us treasure the fleeting light,  \\nFor beneath the moon, the world will rest,  \\nIn every shade, nostalgia's bite,  \\nThe fall’s sweet breath—a heart’s own quest.  \\n\\n---\\n\\nI hope this revision captures more of what you mentioned! Thank you again for your guidance.\", type='TextMessage'), TextMessage(source='critic', models_usage=RequestUsage(prompt_tokens=560, completion_tokens=151), content='Your revised poem is fantastic! You\\'ve successfully incorporated more sensory details, enhancing both the imagery and emotional depth. The addition of sounds, scents, and the interplay of joy and nostalgia adds richness to the experience of autumn. \\n\\n1. **Imagery**: The sound of crunching leaves and the smell of harvest really draw the reader in. It creates a strong connection to the season.\\n\\n2. **Emotion**: The inclusion of \"joy and dread\" alongside \"nostalgia\\'s bite\" beautifully conveys the complexity of feelings during this transitional time.\\n\\n3. **Structure**: The varied line lengths add a nice dynamic quality, keeping the reader engaged.\\n\\nOverall, this revision has elevated your poem gracefully. I’m impressed with the changes! \\n\\nAPPROVE', type='TextMessage')], stop_reason=\"Text 'APPROVE' mentioned\")"
      ]
     },
     "execution_count": 10,
     "metadata": {},
     "output_type": "execute_result"
    }
   ],
   "source": [
    "await team.reset()  # Reset the team for a new task.\n",
    "await Console(team.run_stream(task=\"Write a short poem about the fall season.\"))  # Stream the messages to the console."
   ]
  },
  {
   "cell_type": "code",
   "execution_count": 12,
   "metadata": {},
   "outputs": [
    {
     "name": "stdout",
     "output_type": "stream",
     "text": [
      "---------- user ----------\n",
      "Write a 4-line poem about the ocean.\n",
      "---------- assistant ----------\n",
      "Waves dance lightly on the shore,  \n",
      "Whispers of secrets, legends of yore.  \n",
      "Endless blue where horizons blend,  \n",
      "In the ocean's embrace, our spirits mend.  \n",
      "TERMINATE\n",
      "---------- user_proxy ----------\n",
      "add some star\n",
      "---------- assistant ----------\n",
      "Stars twinkle bright in the evening sky,  \n",
      "As waves dance lightly, whispering by.  \n",
      "Endless blue where horizons blend,  \n",
      "In the ocean's embrace, our spirits mend.  \n",
      "TERMINATE\n",
      "---------- user_proxy ----------\n",
      "APPROVE\n"
     ]
    },
    {
     "data": {
      "text/plain": [
       "TaskResult(messages=[TextMessage(source='user', models_usage=None, content='Write a 4-line poem about the ocean.', type='TextMessage'), TextMessage(source='assistant', models_usage=RequestUsage(prompt_tokens=46, completion_tokens=42), content=\"Waves dance lightly on the shore,  \\nWhispers of secrets, legends of yore.  \\nEndless blue where horizons blend,  \\nIn the ocean's embrace, our spirits mend.  \\nTERMINATE\", type='TextMessage'), UserInputRequestedEvent(source='user_proxy', models_usage=None, request_id='98ac9fba-659b-46d9-8d67-ac33cc721b0a', content='', type='UserInputRequestedEvent'), TextMessage(source='user_proxy', models_usage=None, content='add some star', type='TextMessage'), TextMessage(source='assistant', models_usage=RequestUsage(prompt_tokens=103, completion_tokens=42), content=\"Stars twinkle bright in the evening sky,  \\nAs waves dance lightly, whispering by.  \\nEndless blue where horizons blend,  \\nIn the ocean's embrace, our spirits mend.  \\nTERMINATE\", type='TextMessage'), UserInputRequestedEvent(source='user_proxy', models_usage=None, request_id='f26f1727-f0fe-4093-bdcf-b620e1c1b4ce', content='', type='UserInputRequestedEvent'), TextMessage(source='user_proxy', models_usage=None, content='APPROVE', type='TextMessage')], stop_reason=\"Text 'APPROVE' mentioned\")"
      ]
     },
     "execution_count": 12,
     "metadata": {},
     "output_type": "execute_result"
    }
   ],
   "source": [
    "from autogen_agentchat.agents import AssistantAgent, UserProxyAgent\n",
    "from autogen_agentchat.conditions import TextMentionTermination\n",
    "from autogen_agentchat.teams import RoundRobinGroupChat\n",
    "from autogen_agentchat.ui import Console\n",
    "from autogen_ext.models.openai import OpenAIChatCompletionClient\n",
    "\n",
    "# Create the agents.\n",
    "model_client = OpenAIChatCompletionClient(model=\"gpt-4o-mini\")\n",
    "assistant = AssistantAgent(\"assistant\", model_client=model_client)\n",
    "user_proxy = UserProxyAgent(\"user_proxy\", input_func=input)  # Use input() to get user input from console.\n",
    "\n",
    "# Create the termination condition which will end the conversation when the user says \"APPROVE\".\n",
    "termination = TextMentionTermination(\"APPROVE\")\n",
    "\n",
    "# Create the team.\n",
    "team = RoundRobinGroupChat([assistant, user_proxy], termination_condition=termination)\n",
    "\n",
    "# Run the conversation and stream to the console.\n",
    "stream = team.run_stream(task=\"Write a 4-line poem about the ocean.\")\n",
    "# Use asyncio.run(...) when running in a script.\n",
    "await Console(stream)"
   ]
  },
  {
   "cell_type": "code",
   "execution_count": null,
   "metadata": {},
   "outputs": [],
   "source": []
  }
 ],
 "metadata": {
  "kernelspec": {
   "display_name": ".venv",
   "language": "python",
   "name": "python3"
  },
  "language_info": {
   "codemirror_mode": {
    "name": "ipython",
    "version": 3
   },
   "file_extension": ".py",
   "mimetype": "text/x-python",
   "name": "python",
   "nbconvert_exporter": "python",
   "pygments_lexer": "ipython3",
   "version": "3.11.5"
  }
 },
 "nbformat": 4,
 "nbformat_minor": 2
}
