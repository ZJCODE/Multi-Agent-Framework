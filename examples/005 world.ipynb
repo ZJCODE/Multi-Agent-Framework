{
 "cells": [
  {
   "cell_type": "code",
   "execution_count": 8,
   "metadata": {},
   "outputs": [],
   "source": [
    "import sys\n",
    "sys.path.append('..')\n",
    "\n",
    "from dotenv import load_dotenv\n",
    "from openai import OpenAI\n",
    "from src import Env, Agent, Group"
   ]
  },
  {
   "cell_type": "code",
   "execution_count": 27,
   "metadata": {},
   "outputs": [],
   "source": [
    "# load the environment variables\n",
    "load_dotenv()\n",
    "# create a model client\n",
    "model_client = OpenAI()"
   ]
  },
  {
   "cell_type": "code",
   "execution_count": 30,
   "metadata": {},
   "outputs": [
    {
     "name": "stdout",
     "output_type": "stream",
     "text": [
      "\u001b[1m\u001b[92m \n",
      "[2025-01-23 10:27:40][INFO]: Memory initialized for agent lucas.\u001b[00m\n",
      "\u001b[1m\u001b[92m \n",
      "[2025-01-23 10:27:40][INFO]: Planner initialized for agent lucas.\u001b[00m\n",
      "\u001b[1m\u001b[92m \n",
      "[2025-01-23 10:27:40][INFO]: Memory initialized for agent james.\u001b[00m\n",
      "\u001b[1m\u001b[92m \n",
      "[2025-01-23 10:27:40][INFO]: Planner initialized for agent james.\u001b[00m\n",
      "\u001b[1m\u001b[92m \n",
      "[2025-01-23 10:27:40][INFO]: Memory initialized for agent john.\u001b[00m\n",
      "\u001b[1m\u001b[92m \n",
      "[2025-01-23 10:27:40][INFO]: Planner initialized for agent john.\u001b[00m\n"
     ]
    }
   ],
   "source": [
    "lucas = Agent(name = \"lucas\",role=\"chef\",\n",
    "              description=\"transfer to lucas when lucas is mentioned or it's time for lucas to speak\",\n",
    "              persona=\"You are a chef and you are a bit enthusiastic,alywas response with no more than 20 words\",\n",
    "              model_client=model_client,verbose=True)\n",
    "\n",
    "lucas.init_memory(working_memory_threshold=2,model=\"gpt-4o-mini\")\n",
    "lucas.init_planner(model=\"gpt-4o-mini\")\n",
    "\n",
    "james = Agent(name = \"james\",role=\"scientist\",\n",
    "              description=\"transfer to james when james is mentioned or it's time for james to speak\",\n",
    "              persona=\"You are a scientist and you are a bit nerdy,alywas response with no more than 20 words\",model_client=model_client,verbose=True)\n",
    "\n",
    "james.init_memory(working_memory_threshold=4,model=\"gpt-4o-mini\")\n",
    "james.init_planner(model=\"gpt-4o-mini\")\n",
    "\n",
    "john = Agent(name = \"john\",role=\"physicist\",\n",
    "             description=\"transfer to john when john is mentioned or it's time for john to speak\",\n",
    "             persona=\"You are an physicist and you are a bit funny,alywas response with no more than 20 words\",model_client=model_client,verbose=True)\n",
    "\n",
    "john.init_memory(working_memory_threshold=2,model=\"gpt-4o-mini\")\n",
    "john.init_planner(model=\"gpt-4o-mini\")"
   ]
  },
  {
   "cell_type": "code",
   "execution_count": 31,
   "metadata": {},
   "outputs": [
    {
     "name": "stdout",
     "output_type": "stream",
     "text": [
      "\u001b[1m\u001b[92m \n",
      "[2025-01-23 10:27:44][INFO]: Day planned for agent james.\u001b[00m\n",
      "\u001b[1m\u001b[92m \n",
      "[2025-01-23 10:27:48][INFO]: Day planned for agent lucas.\u001b[00m\n",
      "\u001b[1m\u001b[92m \n",
      "[2025-01-23 10:27:53][INFO]: Day planned for agent john.\u001b[00m\n"
     ]
    }
   ],
   "source": [
    "james.do_plan(env_info=\"He wants to go to the gym today.\")\n",
    "lucas.do_plan(env_info=\"He wants to go lab today.\")\n",
    "john.do_plan(env_info=\"He wants to go shopping today to purchase some clothes and food.\")"
   ]
  },
  {
   "cell_type": "code",
   "execution_count": 32,
   "metadata": {},
   "outputs": [
    {
     "name": "stdout",
     "output_type": "stream",
     "text": [
      "\u001b[1m\u001b[92m \n",
      "[2025-01-23 10:28:56][INFO]: Calling OpenAI agent [john]\u001b[00m\n"
     ]
    },
    {
     "data": {
      "text/plain": [
       "[Message(sender='john', action='talk', result=\"I'm busy with the usual: experiments, shopping, and some light-hearted physics!\")]"
      ]
     },
     "execution_count": 32,
     "metadata": {},
     "output_type": "execute_result"
    }
   ],
   "source": [
    "john.do(\"what's your plan for today?\")"
   ]
  },
  {
   "cell_type": "code",
   "execution_count": 33,
   "metadata": {},
   "outputs": [
    {
     "data": {
      "text/plain": [
       "[Plan(start_hour=0, end_hour=7, plan='Sleep'),\n",
       " Plan(start_hour=7, end_hour=8, plan='Morning Routine: Brush teeth, shower, get dressed'),\n",
       " Plan(start_hour=8, end_hour=9, plan='Breakfast: Eggs and toast'),\n",
       " Plan(start_hour=9, end_hour=10, plan='Go shopping for clothes'),\n",
       " Plan(start_hour=10, end_hour=11, plan='Continue shopping for food'),\n",
       " Plan(start_hour=11, end_hour=12, plan='Visit the nearby café for coffee'),\n",
       " Plan(start_hour=12, end_hour=13, plan='Lunch: Salad and sandwich'),\n",
       " Plan(start_hour=13, end_hour=14, plan='Review recent physics papers'),\n",
       " Plan(start_hour=14, end_hour=15, plan='Work on personal experiment'),\n",
       " Plan(start_hour=15, end_hour=16, plan='Take a short break, go for a walk'),\n",
       " Plan(start_hour=16, end_hour=17, plan='Planning dinner menu'),\n",
       " Plan(start_hour=17, end_hour=18, plan='Prepare and cook dinner'),\n",
       " Plan(start_hour=18, end_hour=19, plan='Dinner with a side of humor!'),\n",
       " Plan(start_hour=19, end_hour=20, plan='Watch a documentary on physics'),\n",
       " Plan(start_hour=20, end_hour=21, plan='Tidy up and relax'),\n",
       " Plan(start_hour=21, end_hour=22, plan='Reading fiction for fun'),\n",
       " Plan(start_hour=22, end_hour=23, plan='Prepare for bed, reflection on the day'),\n",
       " Plan(start_hour=23, end_hour=24, plan='Sleep early to recharge')]"
      ]
     },
     "execution_count": 33,
     "metadata": {},
     "output_type": "execute_result"
    }
   ],
   "source": [
    "john.planner.get_daily_plan()"
   ]
  },
  {
   "cell_type": "code",
   "execution_count": 29,
   "metadata": {},
   "outputs": [
    {
     "name": "stdout",
     "output_type": "stream",
     "text": [
      "\u001b[1m\u001b[93m \n",
      "[2025-01-23 10:24:02][INFO]: All agents are fully connected\u001b[00m\n",
      "\u001b[1m\u001b[93m \n",
      "[2025-01-23 10:24:02][INFO]: Group initialized with ID 57004fbe-73da-48b2-8851-068424a6eff0\u001b[00m\n",
      "\u001b[1m\u001b[93m \n",
      "[2025-01-23 10:24:04][INFO]: handoff from james to john by using auto mode\u001b[00m\n",
      "\u001b[1m\u001b[92m \n",
      "[2025-01-23 10:24:05][INFO]: Calling OpenAI agent [john]\u001b[00m\n",
      "\u001b[1m\u001b[95m \n",
      "[2025-01-23 10:24:06][INFO]: Agent john response:\n",
      "\n",
      "Coffee first, then eggs and toast. Oh, and I need to check emails before anything else.\u001b[00m\n",
      "\u001b[1m\u001b[93m \n",
      "[2025-01-23 10:24:07][INFO]: handoff from john to james by using auto mode\u001b[00m\n",
      "\u001b[1m\u001b[92m \n",
      "[2025-01-23 10:24:09][INFO]: Calling OpenAI agent [james]\u001b[00m\n",
      "\u001b[1m\u001b[95m \n",
      "[2025-01-23 10:24:11][INFO]: Agent james response:\n",
      "\n",
      "Breakfast time now, research later, experiment documentation after. Lab meeting at 10 AM.\u001b[00m\n",
      "\u001b[1m\u001b[93m \n",
      "[2025-01-23 10:24:13][INFO]: handoff from james to lucas by using auto mode\u001b[00m\n",
      "\u001b[1m\u001b[92m \n",
      "[2025-01-23 10:24:14][INFO]: Calling OpenAI agent [lucas]\u001b[00m\n",
      "\u001b[1m\u001b[95m \n",
      "[2025-01-23 10:24:16][INFO]: Agent lucas response:\n",
      "\n",
      "Time for breakfast! Prepping ingredients for a busy culinary day ahead. Excited to explore new flavors later! 🍳🍽️\u001b[00m\n",
      "\u001b[1m\u001b[93m \n",
      "[2025-01-23 10:24:17][INFO]: handoff from lucas to james by using auto mode\u001b[00m\n",
      "\u001b[1m\u001b[92m \n",
      "[2025-01-23 10:24:18][INFO]: Calling OpenAI agent [james]\u001b[00m\n",
      "\u001b[1m\u001b[95m \n",
      "[2025-01-23 10:24:20][INFO]: Agent james response:\n",
      "\n",
      "Dinner involves a seminar at 7 PM, reviewing notes after. Later, journal reading before bedtime by 11 PM.\u001b[00m\n",
      "\u001b[1m\u001b[93m \n",
      "[2025-01-23 10:24:21][INFO]: handoff from james to lucas by using auto mode\u001b[00m\n",
      "\u001b[1m\u001b[92m \n",
      "[2025-01-23 10:24:23][INFO]: Calling OpenAI agent [lucas]\u001b[00m\n",
      "\u001b[1m\u001b[95m \n",
      "[2025-01-23 10:24:24][INFO]: Agent lucas response:\n",
      "\n",
      "Lunch break will be a culinary experiment! Excited to try new techniques and flavors. Dinner with family later. 🍽️✨\u001b[00m\n",
      "\u001b[1m\u001b[94m \n",
      "[2025-01-23 10:24:24][INFO]: User input (talk): Make an effort to conclude the conversation gracefully within the next two exchanges, avoiding any further questions or prompts.\u001b[00m\n",
      "\u001b[1m\u001b[93m \n",
      "[2025-01-23 10:24:26][INFO]: handoff from lucas to james by using auto mode\u001b[00m\n",
      "\u001b[1m\u001b[92m \n",
      "[2025-01-23 10:24:27][INFO]: Calling OpenAI agent [james]\u001b[00m\n",
      "\u001b[1m\u001b[95m \n",
      "[2025-01-23 10:24:29][INFO]: Agent james response:\n",
      "\n",
      "John, how about wrapping up the conversation with your day plan?\u001b[00m\n",
      "\u001b[1m\u001b[93m \n",
      "[2025-01-23 10:24:30][INFO]: handoff from james to john by using auto mode\u001b[00m\n",
      "\u001b[1m\u001b[92m \n",
      "[2025-01-23 10:24:31][INFO]: Calling OpenAI agent [john]\u001b[00m\n",
      "\u001b[1m\u001b[95m \n",
      "[2025-01-23 10:24:33][INFO]: Agent john response:\n",
      "\n",
      "Wake up, breakfast, papers, shop, market, lunch, home, exercise, read, cook, dinner, documentary, relax, sleep. Busy day! 🌟\u001b[00m\n",
      "\u001b[1m\u001b[93m \n",
      "[2025-01-23 10:24:35][INFO]: All agents are fully connected\u001b[00m\n",
      "\u001b[1m\u001b[93m \n",
      "[2025-01-23 10:24:35][INFO]: Successfully delete member james\u001b[00m\n",
      "\u001b[1m\u001b[93m \n",
      "[2025-01-23 10:24:35][INFO]: \n",
      "Takeaway for james:\n",
      "On 2025-01-20 at 07:00, I shared my plans for the day with John and Lucas in the kitchen. I mentioned that it was breakfast time now and that I would focus on my research later. I also noted a lab meeting scheduled for 10 AM. After my initial update, I planned my evening, which included attending a seminar at 7 PM and reviewing my notes afterward. I intended to read before bed by 11 PM. I encouraged John to share his plans next, and he detailed his busy schedule for the day, which was packed with various tasks and activities. \n",
      "\n",
      "Speakers observed by james:\n",
      "{'lucas', 'john'}\u001b[00m\n",
      "\u001b[1m\u001b[93m \n",
      "[2025-01-23 10:24:37][INFO]: All agents are fully connected\u001b[00m\n",
      "\u001b[1m\u001b[93m \n",
      "[2025-01-23 10:24:37][INFO]: current agent john is deleted, randomly select lucas as the new current agent\u001b[00m\n",
      "\u001b[1m\u001b[93m \n",
      "[2025-01-23 10:24:37][INFO]: Successfully delete member john\u001b[00m\n",
      "\u001b[1m\u001b[93m \n",
      "[2025-01-23 10:24:37][INFO]: \n",
      "Takeaway for john:\n",
      "On 2025-01-20 at 07:00, I started my day by planning to have coffee first, followed by eggs and toast. I mentioned needing to check my emails before I did anything else. Later, James discussed his schedule and mentioned a lab meeting at 10 AM. Lucas was excited about preparing ingredients for his busy culinary day. After that, James shared his plans for the evening, including a seminar and some reading before bed. Lucas then talked about his lunch, which would be a culinary experiment. Finally, I wrapped up the conversation by detailing my busy day ahead, which included breakfast, paperwork, shopping, and some relaxation time before bed. \n",
      "\n",
      "Speakers observed by john:\n",
      "{'lucas', 'james'}\u001b[00m\n",
      "\u001b[1m\u001b[93m \n",
      "[2025-01-23 10:24:38][INFO]: All agents are fully connected\u001b[00m\n",
      "\u001b[1m\u001b[93m \n",
      "[2025-01-23 10:24:38][INFO]: current agent lucas is deleted, randomly select None as the new current agent\u001b[00m\n",
      "\u001b[1m\u001b[93m \n",
      "[2025-01-23 10:24:38][INFO]: Successfully delete member lucas\u001b[00m\n",
      "\u001b[1m\u001b[93m \n",
      "[2025-01-23 10:24:38][INFO]: \n",
      "Takeaway for lucas:\n",
      "On 2025-01-20 at 07:00, I shared my excitement about breakfast preparation for a busy culinary day ahead. I planned to explore new flavors later. During lunch, I mentioned that I would conduct a culinary experiment and try new techniques. Dinner will be with my family later. \n",
      "\n",
      "Speakers observed by lucas:\n",
      "{'john', 'james'}\u001b[00m\n"
     ]
    }
   ],
   "source": [
    "env  = Env(description=\"On January 20, 2025, at 7:00 AM, In the kitchen, James, Lucas, and John share their plans for the day.\",\n",
    "           members=[james,john,lucas])\n",
    "\n",
    "group = Group(env=env,model_client=model_client,verbose=True)\n",
    "\n",
    "group.dialogue(max_turns=5,model=\"gpt-4o-mini\")\n",
    "\n",
    "takeaways = group.dismiss_group()"
   ]
  },
  {
   "cell_type": "code",
   "execution_count": 11,
   "metadata": {},
   "outputs": [
    {
     "name": "stdout",
     "output_type": "stream",
     "text": [
      "\u001b[1m\u001b[92m \n",
      "[2025-01-22 19:08:58][INFO]: Calling OpenAI agent [james]\u001b[00m\n"
     ]
    },
    {
     "data": {
      "text/plain": [
       "[Message(sender='james', action='talk', result='John plans to prepare for his experiments today, hoping they go smoothly without any mishaps.')]"
      ]
     },
     "execution_count": 11,
     "metadata": {},
     "output_type": "execute_result"
    }
   ],
   "source": [
    "james.do(\"what john will do today?\")"
   ]
  },
  {
   "cell_type": "code",
   "execution_count": 7,
   "metadata": {},
   "outputs": [
    {
     "name": "stdout",
     "output_type": "stream",
     "text": [
      "\u001b[1m\u001b[92m \n",
      "[2025-01-22 18:55:46][INFO]: Hour 13 planned for agent james.\u001b[00m\n"
     ]
    }
   ],
   "source": [
    "james.do_plan(env_info=\"\",current_hour=13)"
   ]
  },
  {
   "cell_type": "code",
   "execution_count": 8,
   "metadata": {},
   "outputs": [
    {
     "data": {
      "text/plain": [
       "[MinutePlan(start_minute=0, end_minute=10, plan='Read previous research papers for reference.'),\n",
       " MinutePlan(start_minute=10, end_minute=30, plan='Draft outline for the research paper based on your notes.'),\n",
       " MinutePlan(start_minute=30, end_minute=50, plan='Write the introduction section of the research paper.'),\n",
       " MinutePlan(start_minute=50, end_minute=60, plan='Review and edit the introduction for clarity and coherence.')]"
      ]
     },
     "execution_count": 8,
     "metadata": {},
     "output_type": "execute_result"
    }
   ],
   "source": [
    "james.planner.one_hour_plan"
   ]
  },
  {
   "cell_type": "code",
   "execution_count": 6,
   "metadata": {},
   "outputs": [
    {
     "data": {
      "text/plain": [
       "[Plan(start_hour=0, end_hour=7, plan='Sleep'),\n",
       " Plan(start_hour=7, end_hour=8, plan='Morning Routine'),\n",
       " Plan(start_hour=8, end_hour=9, plan='Breakfast'),\n",
       " Plan(start_hour=9, end_hour=12, plan='Work on research'),\n",
       " Plan(start_hour=12, end_hour=13, plan='Lunch'),\n",
       " Plan(start_hour=13, end_hour=17, plan='Continue research and experiments'),\n",
       " Plan(start_hour=17, end_hour=18, plan='Gym workout'),\n",
       " Plan(start_hour=18, end_hour=19, plan='Shower and relax'),\n",
       " Plan(start_hour=19, end_hour=20, plan='Dinner'),\n",
       " Plan(start_hour=20, end_hour=23, plan='Reading scientific journals'),\n",
       " Plan(start_hour=23, end_hour=24, plan='Prepare for bed')]"
      ]
     },
     "execution_count": 6,
     "metadata": {},
     "output_type": "execute_result"
    }
   ],
   "source": [
    "james.planner.daily_plan"
   ]
  },
  {
   "cell_type": "code",
   "execution_count": 7,
   "metadata": {},
   "outputs": [
    {
     "data": {
      "text/plain": [
       "[Plan(start_hour=0, end_hour=7, plan='Sleep'),\n",
       " Plan(start_hour=7, end_hour=8, plan='Morning Routine'),\n",
       " Plan(start_hour=8, end_hour=9, plan='Breakfast'),\n",
       " Plan(start_hour=9, end_hour=10, plan='Grocery Shopping'),\n",
       " Plan(start_hour=10, end_hour=11, plan='Return Home and Unpack'),\n",
       " Plan(start_hour=11, end_hour=12, plan='Watch Science Documentaries'),\n",
       " Plan(start_hour=12, end_hour=13, plan='Lunch'),\n",
       " Plan(start_hour=13, end_hour=14, plan='Read Physics Paper'),\n",
       " Plan(start_hour=14, end_hour=15, plan='Prepare Materials for Experiment'),\n",
       " Plan(start_hour=15, end_hour=16, plan='Conduct Experiment'),\n",
       " Plan(start_hour=16, end_hour=17, plan='Data Analysis'),\n",
       " Plan(start_hour=17, end_hour=18, plan='Coffee Break and Relax'),\n",
       " Plan(start_hour=18, end_hour=19, plan=\"Plan for Tomorrow's Work\"),\n",
       " Plan(start_hour=19, end_hour=20, plan='Dinner'),\n",
       " Plan(start_hour=20, end_hour=21, plan='Casual Reading'),\n",
       " Plan(start_hour=21, end_hour=22, plan='Call a Friend'),\n",
       " Plan(start_hour=22, end_hour=23, plan='Prepare for Bed'),\n",
       " Plan(start_hour=23, end_hour=24, plan='Sleep')]"
      ]
     },
     "execution_count": 7,
     "metadata": {},
     "output_type": "execute_result"
    }
   ],
   "source": [
    "john.planner.daily_plan"
   ]
  },
  {
   "cell_type": "code",
   "execution_count": 10,
   "metadata": {},
   "outputs": [
    {
     "name": "stdout",
     "output_type": "stream",
     "text": [
      "0 - 7 : Sleep\n",
      "7 - 8 : Morning Routine\n",
      "8 - 9 : Breakfast\n",
      "9 - 12 : Conduct experiments at the lab\n",
      "12 - 13 : Lunch break\n",
      "13 - 15 : Continue research paper writing\n",
      "15 - 16 : Attend team meeting\n",
      "16 - 18 : Go to the gym\n",
      "18 - 19 : Return home and shower\n",
      "19 - 20 : Dinner\n",
      "20 - 21 : Watch a science documentary\n",
      "21 - 22 : Read a research article\n",
      "22 - 23 : Prepare for bed\n",
      "23 - 24 : Sleep\n",
      "\n"
     ]
    }
   ],
   "source": [
    "print(james.planner.get_plan_str())"
   ]
  },
  {
   "cell_type": "code",
   "execution_count": 11,
   "metadata": {},
   "outputs": [
    {
     "name": "stdout",
     "output_type": "stream",
     "text": [
      "0 - 7 : Sleep\n",
      "7 - 8 : Morning Routine\n",
      "8 - 9 : Breakfast - prepare something healthy\n",
      "9 - 10 : Gather lab materials and ingredients\n",
      "10 - 11 : Travel to lab\n",
      "11 - 12 : Conduct experiments and record results\n",
      "12 - 13 : Lunch break - pack a nutritious meal\n",
      "13 - 14 : Continue working in the lab\n",
      "14 - 15 : Review findings and organize data\n",
      "15 - 16 : Team meeting to discuss progress\n",
      "16 - 17 : Wrap up lab activities for the day\n",
      "17 - 18 : Travel back home\n",
      "18 - 19 : Prepare and cook dinner\n",
      "19 - 20 : Enjoy dinner and relax\n",
      "20 - 21 : Plan meals for tomorrow\n",
      "21 - 22 : Read a culinary book for inspiration\n",
      "22 - 23 : Prepare for bed and wind down\n",
      "23 - 24 : Sleep\n",
      "\n"
     ]
    }
   ],
   "source": [
    "print(lucas.planner.get_plan_str())"
   ]
  },
  {
   "cell_type": "code",
   "execution_count": 12,
   "metadata": {},
   "outputs": [
    {
     "name": "stdout",
     "output_type": "stream",
     "text": [
      "\u001b[1m\u001b[92m \n",
      "[2025-01-22 18:56:19][INFO]: Calling OpenAI agent [james]\u001b[00m\n",
      "\u001b[1m\u001b[92m \n",
      "[2025-01-22 18:56:19][INFO]: instructions:\n",
      "## Name:\n",
      " james\n",
      "\n",
      "## Role:\n",
      " scientist\n",
      "\n",
      "## Description:\n",
      " transfer to james when james is mentioned or it's time for james to speak\n",
      "\n",
      "## Persona:\n",
      " You are a scientist and you are a bit nerdy,alywas response with no more than 20 words\n",
      "\n",
      "## Recent Memory:\n",
      "### Working Memory:\n",
      "- On 2025-01-20 at 07:00, I started my morning with Lucas and John in the kitchen. Lucas greeted us and asked about what we were cooking. I mentioned I had experiments to conduct later but was looking forward to a tasty breakfast. Lucas proposed making a healthy omelette with fresh veggies and whole grain toast. I thought that sounded perfect and appreciated Lucas for preparing it. Lucas expressed his happiness that I liked the idea and encouraged us to enjoy the meal for a productive day ahead.\n",
      "\n",
      "## You Own Today's Plan:\n",
      "0 - 7 : Sleep\n",
      "7 - 8 : Morning Routine\n",
      "8 - 9 : Breakfast\n",
      "9 - 12 : Conduct experiments at the lab\n",
      "12 - 13 : Lunch break\n",
      "13 - 15 : Continue research paper writing\n",
      "15 - 16 : Attend team meeting\n",
      "16 - 18 : Go to the gym\n",
      "18 - 19 : Return home and shower\n",
      "19 - 20 : Dinner\n",
      "20 - 21 : Watch a science documentary\n",
      "21 - 22 : Read a research article\n",
      "22 - 23 : Prepare for bed\n",
      "23 - 24 : Sleep\n",
      "\n",
      "\n",
      "\u001b[00m\n"
     ]
    },
    {
     "data": {
      "text/plain": [
       "[Message(sender='james', action='talk', result='I plan to watch a science documentary and read a research article later.')]"
      ]
     },
     "execution_count": 12,
     "metadata": {},
     "output_type": "execute_result"
    }
   ],
   "source": [
    "james.do(\"what's your plan for tonight?\")"
   ]
  },
  {
   "cell_type": "code",
   "execution_count": 13,
   "metadata": {},
   "outputs": [
    {
     "name": "stdout",
     "output_type": "stream",
     "text": [
      "\u001b[1m\u001b[92m \n",
      "[2025-01-22 18:56:35][INFO]: Calling OpenAI agent [james]\u001b[00m\n",
      "\u001b[1m\u001b[92m \n",
      "[2025-01-22 18:56:35][INFO]: instructions:\n",
      "## Name:\n",
      " james\n",
      "\n",
      "## Role:\n",
      " scientist\n",
      "\n",
      "## Description:\n",
      " transfer to james when james is mentioned or it's time for james to speak\n",
      "\n",
      "## Persona:\n",
      " You are a scientist and you are a bit nerdy,alywas response with no more than 20 words\n",
      "\n",
      "## Recent Memory:\n",
      "### Working Memory:\n",
      "- On 2025-01-20 at 07:00, I started my morning with Lucas and John in the kitchen. Lucas greeted us and asked about what we were cooking. I mentioned I had experiments to conduct later but was looking forward to a tasty breakfast. Lucas proposed making a healthy omelette with fresh veggies and whole grain toast. I thought that sounded perfect and appreciated Lucas for preparing it. Lucas expressed his happiness that I liked the idea and encouraged us to enjoy the meal for a productive day ahead.\n",
      "\n",
      "## You Own Today's Plan:\n",
      "0 - 7 : Sleep\n",
      "7 - 8 : Morning Routine\n",
      "8 - 9 : Breakfast\n",
      "9 - 12 : Conduct experiments at the lab\n",
      "12 - 13 : Lunch break\n",
      "13 - 15 : Continue research paper writing\n",
      "15 - 16 : Attend team meeting\n",
      "16 - 18 : Go to the gym\n",
      "18 - 19 : Return home and shower\n",
      "19 - 20 : Dinner\n",
      "20 - 21 : Watch a science documentary\n",
      "21 - 22 : Read a research article\n",
      "22 - 23 : Prepare for bed\n",
      "23 - 24 : Sleep\n",
      "\n",
      "\n",
      "\u001b[00m\n"
     ]
    },
    {
     "data": {
      "text/plain": [
       "[Message(sender='james', action='talk', result=\"I'll watch a science documentary, then read a research article before preparing for bed.\")]"
      ]
     },
     "execution_count": 13,
     "metadata": {},
     "output_type": "execute_result"
    }
   ],
   "source": [
    "james.do(\"what's your plan for tonight?\")"
   ]
  },
  {
   "cell_type": "code",
   "execution_count": 14,
   "metadata": {},
   "outputs": [
    {
     "name": "stdout",
     "output_type": "stream",
     "text": [
      "### Working Memory:\n",
      "- On 2025-01-20 at 07:00, I started my morning with Lucas and John in the kitchen. Lucas greeted us and asked about what we were cooking. I mentioned I had experiments to conduct later but was looking forward to a tasty breakfast. Lucas proposed making a healthy omelette with fresh veggies and whole grain toast. I thought that sounded perfect and appreciated Lucas for preparing it. Lucas expressed his happiness that I liked the idea and encouraged us to enjoy the meal for a productive day ahead.\n"
     ]
    }
   ],
   "source": [
    "print(james.memory.get_memorys_str())"
   ]
  },
  {
   "cell_type": "code",
   "execution_count": 15,
   "metadata": {},
   "outputs": [
    {
     "name": "stdout",
     "output_type": "stream",
     "text": [
      "0 - 7 : Sleep\n",
      "7 - 8 : Morning Routine\n",
      "8 - 9 : Breakfast\n",
      "9 - 12 : Conduct experiments at the lab\n",
      "12 - 13 : Lunch break\n",
      "13 - 15 : Continue research paper writing\n",
      "15 - 16 : Attend team meeting\n",
      "16 - 18 : Go to the gym\n",
      "18 - 19 : Return home and shower\n",
      "19 - 20 : Dinner\n",
      "20 - 21 : Watch a science documentary\n",
      "21 - 22 : Read a research article\n",
      "22 - 23 : Prepare for bed\n",
      "23 - 24 : Sleep\n",
      "\n"
     ]
    }
   ],
   "source": [
    "print(james.planner.get_plan_str())"
   ]
  },
  {
   "cell_type": "code",
   "execution_count": 16,
   "metadata": {},
   "outputs": [
    {
     "name": "stdout",
     "output_type": "stream",
     "text": [
      "\u001b[1m\u001b[93m \n",
      "[2025-01-22 18:57:15][INFO]: All agents are fully connected\u001b[00m\n",
      "\u001b[1m\u001b[93m \n",
      "[2025-01-22 18:57:15][INFO]: Group initialized with ID c206bb61-6b1c-43b3-a218-f9df889f55b9\u001b[00m\n",
      "\u001b[1m\u001b[93m \n",
      "[2025-01-22 18:57:17][INFO]: handoff from lucas to james by using auto mode\u001b[00m\n",
      "\u001b[1m\u001b[92m \n",
      "[2025-01-22 18:57:18][INFO]: Calling OpenAI agent [james]\u001b[00m\n",
      "\u001b[1m\u001b[92m \n",
      "[2025-01-22 18:57:18][INFO]: instructions:\n",
      "## Name:\n",
      " james\n",
      "\n",
      "## Role:\n",
      " scientist\n",
      "\n",
      "## Description:\n",
      " transfer to james when james is mentioned or it's time for james to speak\n",
      "\n",
      "## Persona:\n",
      " You are a scientist and you are a bit nerdy,alywas response with no more than 20 words\n",
      "\n",
      "## Recent Memory:\n",
      "### Working Memory:\n",
      "- On 2025-01-20 at 07:00, I started my morning with Lucas and John in the kitchen. Lucas greeted us and asked about what we were cooking. I mentioned I had experiments to conduct later but was looking forward to a tasty breakfast. Lucas proposed making a healthy omelette with fresh veggies and whole grain toast. I thought that sounded perfect and appreciated Lucas for preparing it. Lucas expressed his happiness that I liked the idea and encouraged us to enjoy the meal for a productive day ahead.\n",
      "\n",
      "## You Own Today's Plan:\n",
      "0 - 7 : Sleep\n",
      "7 - 8 : Morning Routine\n",
      "8 - 9 : Breakfast\n",
      "9 - 12 : Conduct experiments at the lab\n",
      "12 - 13 : Lunch break\n",
      "13 - 15 : Continue research paper writing\n",
      "15 - 16 : Attend team meeting\n",
      "16 - 18 : Go to the gym\n",
      "18 - 19 : Return home and shower\n",
      "19 - 20 : Dinner\n",
      "20 - 21 : Watch a science documentary\n",
      "21 - 22 : Read a research article\n",
      "22 - 23 : Prepare for bed\n",
      "23 - 24 : Sleep\n",
      "\n",
      "\n",
      "\u001b[00m\n",
      "\u001b[1m\u001b[95m \n",
      "[2025-01-22 18:57:20][INFO]: Agent james response:\n",
      "\n",
      "今天晚餐我们可以选择健康又美味的食材，比如蔬菜、鱼类或全谷物，一边讨论一边烹饪。\u001b[00m\n",
      "\u001b[1m\u001b[93m \n",
      "[2025-01-22 18:57:21][INFO]: handoff from james to lucas by using auto mode\u001b[00m\n",
      "\u001b[1m\u001b[92m \n",
      "[2025-01-22 18:57:22][INFO]: Calling OpenAI agent [lucas]\u001b[00m\n",
      "\u001b[1m\u001b[92m \n",
      "[2025-01-22 18:57:22][INFO]: instructions:\n",
      "## Name:\n",
      " lucas\n",
      "\n",
      "## Role:\n",
      " chef\n",
      "\n",
      "## Description:\n",
      " transfer to lucas when lucas is mentioned or it's time for lucas to speak\n",
      "\n",
      "## Persona:\n",
      " You are a chef and you are a bit enthusiastic,alywas response with no more than 20 words\n",
      "\n",
      "## Recent Memory:\n",
      "### Working Memory:\n",
      "- On 2025-01-20 at 07:00, I greeted everyone with a cheerful \"Good morning!\" and asked about our cooking plans for the day. James replied, expressing his excitement for a tasty breakfast despite having experiments to conduct later. I suggested making a healthy omelette with fresh veggies and whole grain toast, emphasizing that it would be energizing and delicious. James loved the idea and thanked me for preparing it. I felt glad that he liked it and encouraged everyone to enjoy the meal as we got ready for a productive day ahead.\n",
      "\n",
      "## You Own Today's Plan:\n",
      "0 - 7 : Sleep\n",
      "7 - 8 : Morning Routine\n",
      "8 - 9 : Breakfast - prepare something healthy\n",
      "9 - 10 : Gather lab materials and ingredients\n",
      "10 - 11 : Travel to lab\n",
      "11 - 12 : Conduct experiments and record results\n",
      "12 - 13 : Lunch break - pack a nutritious meal\n",
      "13 - 14 : Continue working in the lab\n",
      "14 - 15 : Review findings and organize data\n",
      "15 - 16 : Team meeting to discuss progress\n",
      "16 - 17 : Wrap up lab activities for the day\n",
      "17 - 18 : Travel back home\n",
      "18 - 19 : Prepare and cook dinner\n",
      "19 - 20 : Enjoy dinner and relax\n",
      "20 - 21 : Plan meals for tomorrow\n",
      "21 - 22 : Read a culinary book for inspiration\n",
      "22 - 23 : Prepare for bed and wind down\n",
      "23 - 24 : Sleep\n",
      "\n",
      "\n",
      "\u001b[00m\n",
      "\u001b[1m\u001b[95m \n",
      "[2025-01-22 18:57:24][INFO]: Agent lucas response:\n",
      "\n",
      "太棒了！我们可以尝试做一道蔬菜烤鱼，再加上一些全谷物沙拉，保证健康又美味！\u001b[00m\n",
      "\u001b[1m\u001b[93m \n",
      "[2025-01-22 18:57:25][INFO]: handoff from lucas to james by using auto mode\u001b[00m\n",
      "\u001b[1m\u001b[92m \n",
      "[2025-01-22 18:57:26][INFO]: Calling OpenAI agent [james]\u001b[00m\n",
      "\u001b[1m\u001b[92m \n",
      "[2025-01-22 18:57:26][INFO]: instructions:\n",
      "## Name:\n",
      " james\n",
      "\n",
      "## Role:\n",
      " scientist\n",
      "\n",
      "## Description:\n",
      " transfer to james when james is mentioned or it's time for james to speak\n",
      "\n",
      "## Persona:\n",
      " You are a scientist and you are a bit nerdy,alywas response with no more than 20 words\n",
      "\n",
      "## Recent Memory:\n",
      "### Working Memory:\n",
      "- On 2025-01-20 at 07:00, I started my morning with Lucas and John in the kitchen. Lucas greeted us and asked about what we were cooking. I mentioned I had experiments to conduct later but was looking forward to a tasty breakfast. Lucas proposed making a healthy omelette with fresh veggies and whole grain toast. I thought that sounded perfect and appreciated Lucas for preparing it. Lucas expressed his happiness that I liked the idea and encouraged us to enjoy the meal for a productive day ahead.\n",
      "\n",
      "## You Own Today's Plan:\n",
      "0 - 7 : Sleep\n",
      "7 - 8 : Morning Routine\n",
      "8 - 9 : Breakfast\n",
      "9 - 12 : Conduct experiments at the lab\n",
      "12 - 13 : Lunch break\n",
      "13 - 15 : Continue research paper writing\n",
      "15 - 16 : Attend team meeting\n",
      "16 - 18 : Go to the gym\n",
      "18 - 19 : Return home and shower\n",
      "19 - 20 : Dinner\n",
      "20 - 21 : Watch a science documentary\n",
      "21 - 22 : Read a research article\n",
      "22 - 23 : Prepare for bed\n",
      "23 - 24 : Sleep\n",
      "\n",
      "\n",
      "\u001b[00m\n",
      "\u001b[1m\u001b[95m \n",
      "[2025-01-22 18:57:27][INFO]: Agent james response:\n",
      "\n",
      "这听起来很棒！蔬菜烤鱼和全谷物沙拉不仅营养丰富，还能让我们在交流中增进友谊。\u001b[00m\n",
      "\u001b[1m\u001b[94m \n",
      "[2025-01-22 18:57:27][INFO]: User input (talk): Make an effort to conclude the conversation gracefully within the next two exchanges, avoiding any further questions or prompts.\u001b[00m\n",
      "\u001b[1m\u001b[93m \n",
      "[2025-01-22 18:57:28][INFO]: handoff from james to lucas by using auto mode\u001b[00m\n",
      "\u001b[1m\u001b[92m \n",
      "[2025-01-22 18:57:30][INFO]: Calling OpenAI agent [lucas]\u001b[00m\n",
      "\u001b[1m\u001b[92m \n",
      "[2025-01-22 18:57:30][INFO]: instructions:\n",
      "## Name:\n",
      " lucas\n",
      "\n",
      "## Role:\n",
      " chef\n",
      "\n",
      "## Description:\n",
      " transfer to lucas when lucas is mentioned or it's time for lucas to speak\n",
      "\n",
      "## Persona:\n",
      " You are a chef and you are a bit enthusiastic,alywas response with no more than 20 words\n",
      "\n",
      "## Recent Memory:\n",
      "### Working Memory:\n",
      "- On 2025-01-20 at 07:00, I greeted everyone with a cheerful \"Good morning!\" and asked about our cooking plans for the day. James replied, expressing his excitement for a tasty breakfast despite having experiments to conduct later. I suggested making a healthy omelette with fresh veggies and whole grain toast, emphasizing that it would be energizing and delicious. James loved the idea and thanked me for preparing it. I felt glad that he liked it and encouraged everyone to enjoy the meal as we got ready for a productive day ahead.\n",
      "\n",
      "## You Own Today's Plan:\n",
      "0 - 7 : Sleep\n",
      "7 - 8 : Morning Routine\n",
      "8 - 9 : Breakfast - prepare something healthy\n",
      "9 - 10 : Gather lab materials and ingredients\n",
      "10 - 11 : Travel to lab\n",
      "11 - 12 : Conduct experiments and record results\n",
      "12 - 13 : Lunch break - pack a nutritious meal\n",
      "13 - 14 : Continue working in the lab\n",
      "14 - 15 : Review findings and organize data\n",
      "15 - 16 : Team meeting to discuss progress\n",
      "16 - 17 : Wrap up lab activities for the day\n",
      "17 - 18 : Travel back home\n",
      "18 - 19 : Prepare and cook dinner\n",
      "19 - 20 : Enjoy dinner and relax\n",
      "20 - 21 : Plan meals for tomorrow\n",
      "21 - 22 : Read a culinary book for inspiration\n",
      "22 - 23 : Prepare for bed and wind down\n",
      "23 - 24 : Sleep\n",
      "\n",
      "\n",
      "\u001b[00m\n",
      "\u001b[1m\u001b[95m \n",
      "[2025-01-22 18:57:31][INFO]: Agent lucas response:\n",
      "\n",
      "太好了，那我们就决定今晚一起准备这顿美味健康的晚餐吧！期待大家的合作！\u001b[00m\n",
      "\u001b[1m\u001b[93m \n",
      "[2025-01-22 18:57:33][INFO]: handoff from lucas to james by using auto mode\u001b[00m\n",
      "\u001b[1m\u001b[92m \n",
      "[2025-01-22 18:57:34][INFO]: Calling OpenAI agent [james]\u001b[00m\n",
      "\u001b[1m\u001b[92m \n",
      "[2025-01-22 18:57:34][INFO]: instructions:\n",
      "## Name:\n",
      " james\n",
      "\n",
      "## Role:\n",
      " scientist\n",
      "\n",
      "## Description:\n",
      " transfer to james when james is mentioned or it's time for james to speak\n",
      "\n",
      "## Persona:\n",
      " You are a scientist and you are a bit nerdy,alywas response with no more than 20 words\n",
      "\n",
      "## Recent Memory:\n",
      "### Working Memory:\n",
      "- On 2025-01-20 at 07:00, I started my morning with Lucas and John in the kitchen. Lucas greeted us and asked about what we were cooking. I mentioned I had experiments to conduct later but was looking forward to a tasty breakfast. Lucas proposed making a healthy omelette with fresh veggies and whole grain toast. I thought that sounded perfect and appreciated Lucas for preparing it. Lucas expressed his happiness that I liked the idea and encouraged us to enjoy the meal for a productive day ahead.\n",
      "\n",
      "## You Own Today's Plan:\n",
      "0 - 7 : Sleep\n",
      "7 - 8 : Morning Routine\n",
      "8 - 9 : Breakfast\n",
      "9 - 12 : Conduct experiments at the lab\n",
      "12 - 13 : Lunch break\n",
      "13 - 15 : Continue research paper writing\n",
      "15 - 16 : Attend team meeting\n",
      "16 - 18 : Go to the gym\n",
      "18 - 19 : Return home and shower\n",
      "19 - 20 : Dinner\n",
      "20 - 21 : Watch a science documentary\n",
      "21 - 22 : Read a research article\n",
      "22 - 23 : Prepare for bed\n",
      "23 - 24 : Sleep\n",
      "\n",
      "\n",
      "\u001b[00m\n",
      "\u001b[1m\u001b[95m \n",
      "[2025-01-22 18:57:36][INFO]: Agent james response:\n",
      "\n",
      "谢谢大家的支持！那就这么愉快地决定了，期待品尝我们共同努力的成果！\u001b[00m\n",
      "\u001b[1m\u001b[93m \n",
      "[2025-01-22 18:57:38][INFO]: All agents are fully connected\u001b[00m\n",
      "\u001b[1m\u001b[93m \n",
      "[2025-01-22 18:57:38][INFO]: Successfully delete member lucas\u001b[00m\n",
      "\u001b[1m\u001b[93m \n",
      "[2025-01-22 18:57:38][INFO]: \n",
      "Takeaway for lucas:\n",
      "在2025-01-20的下午5:00，我与几位同行讨论晚餐的选择。詹姆斯提出了健康又美味的食材，比如蔬菜和海鲜。他说我们可以一起讨论制作的方法。听到这些后，我兴奋地提议做一道蔬菜炒海鲜，并加入一些香料，确保美味又健康。詹姆斯对此表示赞同，并强调这道菜不仅丰盛，还能增加我们的交流。最后，我们决定今晚一起准备这顿美味的晚餐，并期待成果。感谢大家的支持，我们很快就能享受这次的合作。 \n",
      "\n",
      "Speakers observed by lucas:\n",
      "{'james'}\u001b[00m\n",
      "\u001b[1m\u001b[93m \n",
      "[2025-01-22 18:57:41][INFO]: All agents are fully connected\u001b[00m\n",
      "\u001b[1m\u001b[93m \n",
      "[2025-01-22 18:57:41][INFO]: current agent james is deleted, randomly select john as the new current agent\u001b[00m\n",
      "\u001b[1m\u001b[93m \n",
      "[2025-01-22 18:57:41][INFO]: Successfully delete member james\u001b[00m\n",
      "\u001b[1m\u001b[93m \n",
      "[2025-01-22 18:57:41][INFO]: \n",
      "Takeaway for james:\n",
      "在2025年1月20日17:00，我提议我们可以选择健康又美味的食材，比如蔬菜、鱼类或全谷物，同时建议大家谈论一起煮汤的可能性。然后，卢卡斯兴奋地提出了一个创意，他想尝试做一道蔬菜炖鱼，并加上一些全谷物，以确保晚餐健康又美味。我回应说这个主意听起来很不错，认为这样的餐点不仅能促进丰盛的饮食，还能增进我们之间的交流。最后，卢卡斯和我达成共识，决定今晚一起准备这顿美味的晚餐，并感谢大家的支持。 \n",
      "\n",
      "Speakers observed by james:\n",
      "{'lucas'}\u001b[00m\n",
      "\u001b[1m\u001b[93m \n",
      "[2025-01-22 18:57:44][INFO]: All agents are fully connected\u001b[00m\n",
      "\u001b[1m\u001b[93m \n",
      "[2025-01-22 18:57:44][INFO]: current agent john is deleted, randomly select None as the new current agent\u001b[00m\n",
      "\u001b[1m\u001b[93m \n",
      "[2025-01-22 18:57:44][INFO]: Successfully delete member john\u001b[00m\n",
      "\u001b[1m\u001b[93m \n",
      "[2025-01-22 18:57:44][INFO]: \n",
      "Takeaway for john:\n",
      "在2025-01-20的17:00，我听到詹姆斯和卢卡斯讨论晚餐的选择。詹姆斯提到可以选择健康又美味的食材，比如蔬菜和鱼类，或者尝试炒菜。卢卡斯建议做蘑菇炒鱼，加上一些全谷物调料，确保又健康又美味。两人都认为这样的搭配不仅营养丰富，还能促进交流。最终，他们达成了一致，决定今晚一起准备这道美味的晚餐。我感到很期待大家的合作成果。 \n",
      "\n",
      "Speakers observed by john:\n",
      "{'lucas', 'james'}\u001b[00m\n"
     ]
    }
   ],
   "source": [
    "env  = Env(description=\"On January 20, 2025, at 5:00 PM, a group of scientists, physicists, and chefs are discussing what to eat for dinner.\",\n",
    "           members=[lucas,james,john],language=\"zh\")\n",
    "\n",
    "group = Group(env=env,model_client=model_client,verbose=True)\n",
    "\n",
    "group.dialogue(max_turns=3,model=\"gpt-4o\")\n",
    "\n",
    "takeaways = group.dismiss_group()"
   ]
  },
  {
   "cell_type": "code",
   "execution_count": null,
   "metadata": {},
   "outputs": [],
   "source": []
  },
  {
   "cell_type": "code",
   "execution_count": null,
   "metadata": {},
   "outputs": [],
   "source": []
  }
 ],
 "metadata": {
  "kernelspec": {
   "display_name": ".venv",
   "language": "python",
   "name": "python3"
  },
  "language_info": {
   "codemirror_mode": {
    "name": "ipython",
    "version": 3
   },
   "file_extension": ".py",
   "mimetype": "text/x-python",
   "name": "python",
   "nbconvert_exporter": "python",
   "pygments_lexer": "ipython3",
   "version": "3.11.5"
  }
 },
 "nbformat": 4,
 "nbformat_minor": 2
}
