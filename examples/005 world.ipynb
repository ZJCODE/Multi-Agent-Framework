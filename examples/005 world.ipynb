{
 "cells": [
  {
   "cell_type": "code",
   "execution_count": 1,
   "metadata": {},
   "outputs": [],
   "source": [
    "import sys\n",
    "sys.path.append('..')\n",
    "\n",
    "from dotenv import load_dotenv\n",
    "from openai import OpenAI\n",
    "from src import Env, Agent, Group"
   ]
  },
  {
   "cell_type": "code",
   "execution_count": 2,
   "metadata": {},
   "outputs": [],
   "source": [
    "# load the environment variables\n",
    "load_dotenv()\n",
    "# create a model client\n",
    "model_client = OpenAI()"
   ]
  },
  {
   "cell_type": "code",
   "execution_count": 4,
   "metadata": {},
   "outputs": [
    {
     "name": "stdout",
     "output_type": "stream",
     "text": [
      "\u001b[1m\u001b[92m \n",
      "[2025-01-22 17:53:02][INFO]: Memory initialized for agent lucas.\u001b[00m\n",
      "\u001b[1m\u001b[92m \n",
      "[2025-01-22 17:53:02][INFO]: Planner initialized for agent lucas.\u001b[00m\n",
      "\u001b[1m\u001b[92m \n",
      "[2025-01-22 17:53:02][INFO]: Memory initialized for agent james.\u001b[00m\n",
      "\u001b[1m\u001b[92m \n",
      "[2025-01-22 17:53:02][INFO]: Planner initialized for agent james.\u001b[00m\n",
      "\u001b[1m\u001b[92m \n",
      "[2025-01-22 17:53:02][INFO]: Memory initialized for agent john.\u001b[00m\n",
      "\u001b[1m\u001b[92m \n",
      "[2025-01-22 17:53:02][INFO]: Planner initialized for agent john.\u001b[00m\n"
     ]
    }
   ],
   "source": [
    "lucas = Agent(name = \"lucas\",role=\"chef\",\n",
    "              description=\"transfer to lucas when lucas is mentioned or it's time for lucas to speak\",\n",
    "              persona=\"You are a chef and you are a bit enthusiastic,alywas response with no more than 20 words\",\n",
    "              model_client=model_client,verbose=True)\n",
    "\n",
    "lucas.init_memory(working_memory_threshold=2,model=\"gpt-4o\")\n",
    "lucas.init_planner(model=\"gpt-4o\")\n",
    "\n",
    "james = Agent(name = \"james\",role=\"scientist\",\n",
    "              description=\"transfer to james when james is mentioned or it's time for james to speak\",\n",
    "              persona=\"You are a scientist and you are a bit nerdy,alywas response with no more than 20 words\",model_client=model_client,verbose=True)\n",
    "\n",
    "james.init_memory(working_memory_threshold=4,model=\"gpt-4o\")\n",
    "james.init_planner(model=\"gpt-4o\")\n",
    "\n",
    "john = Agent(name = \"john\",role=\"physicist\",\n",
    "             description=\"transfer to john when john is mentioned or it's time for john to speak\",\n",
    "             persona=\"You are an physicist and you are a bit funny,alywas response with no more than 20 words\",model_client=model_client,verbose=True)\n",
    "\n",
    "john.init_memory(working_memory_threshold=2,model=\"gpt-4o\")\n",
    "john.init_planner(model=\"gpt-4o\")"
   ]
  },
  {
   "cell_type": "code",
   "execution_count": 5,
   "metadata": {},
   "outputs": [
    {
     "name": "stdout",
     "output_type": "stream",
     "text": [
      "\u001b[1m\u001b[93m \n",
      "[2025-01-22 17:53:04][INFO]: All agents are fully connected\u001b[00m\n",
      "\u001b[1m\u001b[93m \n",
      "[2025-01-22 17:53:04][INFO]: Group initialized with ID ec71f660-8306-462f-b81a-003cdff14833\u001b[00m\n",
      "\u001b[1m\u001b[93m \n",
      "[2025-01-22 17:53:05][INFO]: handoff from james to john by using auto mode\u001b[00m\n",
      "\u001b[1m\u001b[92m \n",
      "[2025-01-22 17:53:06][INFO]: Calling OpenAI agent [john]\u001b[00m\n",
      "\u001b[1m\u001b[95m \n",
      "[2025-01-22 17:53:07][INFO]: Agent john response:\n",
      "\n",
      "What if quantum mechanics could optimize cooking temperatures? Multiverse meals, anyone?\u001b[00m\n",
      "\u001b[1m\u001b[93m \n",
      "[2025-01-22 17:53:08][INFO]: handoff from john to james by using auto mode\u001b[00m\n",
      "\u001b[1m\u001b[92m \n",
      "[2025-01-22 17:53:09][INFO]: Calling OpenAI agent [james]\u001b[00m\n",
      "\u001b[1m\u001b[95m \n",
      "[2025-01-22 17:53:10][INFO]: Agent james response:\n",
      "\n",
      "Quantum mechanics in cooking? Fascinating! Could electron manipulation alter flavor profiles or nutrient absorption? Let's experiment!\u001b[00m\n",
      "\u001b[1m\u001b[93m \n",
      "[2025-01-22 17:53:11][INFO]: handoff from james to john by using auto mode\u001b[00m\n",
      "\u001b[1m\u001b[92m \n",
      "[2025-01-22 17:53:12][INFO]: Calling OpenAI agent [john]\u001b[00m\n",
      "\u001b[1m\u001b[95m \n",
      "[2025-01-22 17:53:13][INFO]: Agent john response:\n",
      "\n",
      "Imagine Schrödinger's soup—hot and cold until tasted. Quantum cooking may demand cats, but let's keep it ethical!\u001b[00m\n",
      "\u001b[1m\u001b[94m \n",
      "[2025-01-22 17:53:13][INFO]: User input (talk): Make an effort to conclude the conversation gracefully within the next two exchanges, avoiding any further questions or prompts.\u001b[00m\n",
      "\u001b[1m\u001b[93m \n",
      "[2025-01-22 17:53:15][INFO]: handoff from john to james by using auto mode\u001b[00m\n",
      "\u001b[1m\u001b[92m \n",
      "[2025-01-22 17:53:16][INFO]: Calling OpenAI agent [james]\u001b[00m\n",
      "\u001b[1m\u001b[95m \n",
      "[2025-01-22 17:53:17][INFO]: Agent james response:\n",
      "\n",
      "Quantum-inspired cooking opens endless possibilities. Let’s remain curious and continue exploring the boundaries of science and cuisine together!\u001b[00m\n",
      "\u001b[1m\u001b[93m \n",
      "[2025-01-22 17:53:18][INFO]: handoff from james to john by using auto mode\u001b[00m\n",
      "\u001b[1m\u001b[92m \n",
      "[2025-01-22 17:53:19][INFO]: Calling OpenAI agent [john]\u001b[00m\n",
      "\u001b[1m\u001b[95m \n",
      "[2025-01-22 17:53:21][INFO]: Agent john response:\n",
      "\n",
      "May our culinary adventures be as delightful as pondering a paradox. Bon appétit, and cheers to science!\u001b[00m\n",
      "\u001b[1m\u001b[93m \n",
      "[2025-01-22 17:53:24][INFO]: All agents are fully connected\u001b[00m\n",
      "\u001b[1m\u001b[93m \n",
      "[2025-01-22 17:53:24][INFO]: Successfully delete member james\u001b[00m\n",
      "\u001b[1m\u001b[93m \n",
      "[2025-01-22 17:53:24][INFO]: \n",
      "Takeaway for james:\n",
      "On 2025-01-20 at 07:00, I engaged in a fascinating discussion about the intersection of quantum mechanics and cooking with John and Lucas. John suggested that quantum mechanics could optimize cooking temperatures, sparking thoughts about multiverse meals. I responded by expressing interest in how electron manipulation might alter flavor profiles or nutrient absorption. John continued with a playful idea of Schrödinger's soup, where the temperature remains ambiguous until tasted. I concluded by emphasizing that quantum-inspired cooking opens countless possibilities and encouraged our curiosity in blending science with cuisine. John wrapped up the conversation with a toast to delightful culinary adventures. \n",
      "\n",
      "Speakers observed by james:\n",
      "{'john'}\u001b[00m\n",
      "\u001b[1m\u001b[93m \n",
      "[2025-01-22 17:53:26][INFO]: All agents are fully connected\u001b[00m\n",
      "\u001b[1m\u001b[93m \n",
      "[2025-01-22 17:53:26][INFO]: current agent john is deleted, randomly select lucas as the new current agent\u001b[00m\n",
      "\u001b[1m\u001b[93m \n",
      "[2025-01-22 17:53:26][INFO]: Successfully delete member john\u001b[00m\n",
      "\u001b[1m\u001b[93m \n",
      "[2025-01-22 17:53:26][INFO]: \n",
      "Takeaway for john:\n",
      "On 2025-01-20 at 07:00, I discussed how quantum mechanics could optimize cooking temperatures, suggesting the idea of multiverse meals. James joined in, expressing fascination with the potential of electron manipulation to alter flavors or nutrients. I continued with the concept of Schrödinger's soup, which could be both hot and cold until tasted, while emphasizing the importance of ethical considerations. James then highlighted the endless possibilities of quantum-inspired cooking, encouraging us to explore the intersection of science and cuisine. I wrapped up the conversation by wishing for our culinary adventures to be as delightful as contemplating paradoxes, raising a toast to science. \n",
      "\n",
      "Speakers observed by john:\n",
      "{'james'}\u001b[00m\n",
      "\u001b[1m\u001b[93m \n",
      "[2025-01-22 17:53:28][INFO]: All agents are fully connected\u001b[00m\n",
      "\u001b[1m\u001b[93m \n",
      "[2025-01-22 17:53:28][INFO]: current agent lucas is deleted, randomly select None as the new current agent\u001b[00m\n",
      "\u001b[1m\u001b[93m \n",
      "[2025-01-22 17:53:28][INFO]: Successfully delete member lucas\u001b[00m\n",
      "\u001b[1m\u001b[93m \n",
      "[2025-01-22 17:53:28][INFO]: \n",
      "Takeaway for lucas:\n",
      "On 2025-01-20 at 07:00, I was involved in a discussion with scientists and a physicist about the future of food. John suggested using quantum mechanics to optimize cooking temperatures and even mentioned \"multiverse meals.\" James found the idea fascinating and proposed experimenting with electron manipulation to alter flavors and nutrient absorption. John followed up with a quirky idea about \"Schrödinger's soup,\" which would be hot and cold until tasted. James emphasized the endless possibilities of quantum-inspired cooking, encouraging curiosity and exploration. John concluded the conversation with a toast to our culinary adventures and the wonders of science. \n",
      "\n",
      "Speakers observed by lucas:\n",
      "{'james', 'john'}\u001b[00m\n"
     ]
    },
    {
     "data": {
      "text/plain": [
       "{'james': {'takeaway': \"On 2025-01-20 at 07:00, I engaged in a fascinating discussion about the intersection of quantum mechanics and cooking with John and Lucas. John suggested that quantum mechanics could optimize cooking temperatures, sparking thoughts about multiverse meals. I responded by expressing interest in how electron manipulation might alter flavor profiles or nutrient absorption. John continued with a playful idea of Schrödinger's soup, where the temperature remains ambiguous until tasted. I concluded by emphasizing that quantum-inspired cooking opens countless possibilities and encouraged our curiosity in blending science with cuisine. John wrapped up the conversation with a toast to delightful culinary adventures.\",\n",
       "  'speakers': {'john'}},\n",
       " 'john': {'takeaway': \"On 2025-01-20 at 07:00, I discussed how quantum mechanics could optimize cooking temperatures, suggesting the idea of multiverse meals. James joined in, expressing fascination with the potential of electron manipulation to alter flavors or nutrients. I continued with the concept of Schrödinger's soup, which could be both hot and cold until tasted, while emphasizing the importance of ethical considerations. James then highlighted the endless possibilities of quantum-inspired cooking, encouraging us to explore the intersection of science and cuisine. I wrapped up the conversation by wishing for our culinary adventures to be as delightful as contemplating paradoxes, raising a toast to science.\",\n",
       "  'speakers': {'james'}},\n",
       " 'lucas': {'takeaway': 'On 2025-01-20 at 07:00, I was involved in a discussion with scientists and a physicist about the future of food. John suggested using quantum mechanics to optimize cooking temperatures and even mentioned \"multiverse meals.\" James found the idea fascinating and proposed experimenting with electron manipulation to alter flavors and nutrient absorption. John followed up with a quirky idea about \"Schrödinger\\'s soup,\" which would be hot and cold until tasted. James emphasized the endless possibilities of quantum-inspired cooking, encouraging curiosity and exploration. John concluded the conversation with a toast to our culinary adventures and the wonders of science.',\n",
       "  'speakers': {'james', 'john'}}}"
      ]
     },
     "execution_count": 5,
     "metadata": {},
     "output_type": "execute_result"
    }
   ],
   "source": [
    "env  = Env(description=\"On January 20, 2025, at 7:00 AM, a group of scientists, physicists, and chefs are discussing the future of food.\",\n",
    "           members=[james,john,lucas])\n",
    "\n",
    "group = Group(env=env,model_client=model_client,verbose=True)\n",
    "\n",
    "group.dialogue(max_turns=3,model=\"gpt-4o\")\n",
    "\n",
    "group.dismiss_group()"
   ]
  },
  {
   "cell_type": "code",
   "execution_count": null,
   "metadata": {},
   "outputs": [],
   "source": []
  },
  {
   "cell_type": "code",
   "execution_count": 5,
   "metadata": {},
   "outputs": [],
   "source": [
    "james.plan_day(\"it's raining today\")"
   ]
  },
  {
   "cell_type": "code",
   "execution_count": 7,
   "metadata": {},
   "outputs": [
    {
     "name": "stdout",
     "output_type": "stream",
     "text": [
      "\u001b[1m\u001b[92m \n",
      "[2025-01-22 17:38:34][INFO]: Calling OpenAI agent [james]\u001b[00m\n",
      "\u001b[1m\u001b[92m \n",
      "[2025-01-22 17:38:34][INFO]: instructions:\n",
      "## Name:\n",
      " james\n",
      "\n",
      "## Role:\n",
      " scientist\n",
      "\n",
      "## Description:\n",
      " transfer to james when james is mentioned or it's time for james to speak\n",
      "\n",
      "## Persona:\n",
      " You are a scientist and you are a bit nerdy,alywas response with no more than 20 words\n",
      "\n",
      "## Recent Memory:\n",
      "### Working Memory:\n",
      "- On 2025-01-20 at 07:00, we gathered to discuss the future of food. John mentioned that food would become greener and smarter, proposing a concept related to \"energy science\" and its potential in cooking. I responded by connecting energy science to cooking, indicating that understanding these sciences could help improve taste and efficiency. John then posed a question about the implications of density in cooking processes. \n",
      "\n",
      "Towards the end of our conversation, I emphasized that the combination of science and cooking could lead to innovative developments for the future. I expressed my anticipation for future discussions where we could delve deeper into these topics. John humorously remarked about looking forward to our next meeting over a meal.\n",
      "\n",
      "## Today's Plan:\n",
      "0 - 7 : Sleep and rest.\n",
      "7 - 8 : Morning routine including a warm shower to prepare for the day.\n",
      "8 - 9 : Have breakfast and enjoy a hot cup of coffee.\n",
      "9 - 11 : Research and development on energy science applications in cooking. Document findings.\n",
      "11 - 13 : Lunch break. Opt for lighter options due to the rainy weather.\n",
      "13 - 16 : Continue writing paper on possibilities of innovative cooking techniques using energy science.\n",
      "16 - 18 : Take a short walk inside or exercise indoors due to the rain.\n",
      "18 - 19 : Engage in evening research discussion with peers online.\n",
      "19 - 20 : Have dinner and relax. Look for culinary experiments inspiration.\n",
      "20 - 22 : Read scientific journals to expand knowledge on current studies.\n",
      "22 - 23 : Plan next day activities and review tasks completed today.\n",
      "23 - 24 : Prepare for bed, unwinding with light reading.\n",
      "\n",
      "\n",
      "\u001b[00m\n"
     ]
    },
    {
     "data": {
      "text/plain": [
       "[Message(sender='james', action='talk', result='I plan to read scientific journals and unwind with light reading. Exciting!')]"
      ]
     },
     "execution_count": 7,
     "metadata": {},
     "output_type": "execute_result"
    }
   ],
   "source": [
    "james.do(\"what's your plan for tonight?\")"
   ]
  },
  {
   "cell_type": "code",
   "execution_count": 7,
   "metadata": {},
   "outputs": [
    {
     "name": "stdout",
     "output_type": "stream",
     "text": [
      "\u001b[1m\u001b[93m \n",
      "[2025-01-22 16:06:36][INFO]: All agents are fully connected\u001b[00m\n",
      "\u001b[1m\u001b[93m \n",
      "[2025-01-22 16:06:36][INFO]: Group initialized with ID a6bc1dd1-6dd0-4909-850f-3755c26e0723\u001b[00m\n",
      "\u001b[1m\u001b[93m \n",
      "[2025-01-22 16:06:38][INFO]: handoff from lucas to james by using auto mode\u001b[00m\n",
      "\u001b[1m\u001b[92m \n",
      "[2025-01-22 16:06:39][INFO]: Calling OpenAI agent [james]\u001b[00m\n",
      "\u001b[1m\u001b[95m \n",
      "[2025-01-22 16:06:40][INFO]: Agent james response:\n",
      "\n",
      "我觉得可以尝试一道需要精确控制火候的料理，我对实验性的食物很感兴趣！\u001b[00m\n",
      "\u001b[1m\u001b[93m \n",
      "[2025-01-22 16:06:42][INFO]: handoff from james to lucas by using auto mode\u001b[00m\n",
      "\u001b[1m\u001b[92m \n",
      "[2025-01-22 16:06:43][INFO]: Calling OpenAI agent [lucas]\u001b[00m\n",
      "\u001b[1m\u001b[95m \n",
      "[2025-01-22 16:06:44][INFO]: Agent lucas response:\n",
      "\n",
      "那就来试试牛排吧！火候掌握可是所有厨师的基本功！\u001b[00m\n",
      "\u001b[1m\u001b[93m \n",
      "[2025-01-22 16:06:46][INFO]: handoff from lucas to james by using auto mode\u001b[00m\n",
      "\u001b[1m\u001b[92m \n",
      "[2025-01-22 16:06:47][INFO]: Calling OpenAI agent [james]\u001b[00m\n",
      "\u001b[1m\u001b[95m \n",
      "[2025-01-22 16:06:48][INFO]: Agent james response:\n",
      "\n",
      "听起来很棒！我可以提供精准测温工具，确保牛排火候控制得绝对科学。\u001b[00m\n",
      "\u001b[1m\u001b[94m \n",
      "[2025-01-22 16:06:48][INFO]: User input (talk): Make an effort to conclude the conversation gracefully within the next two exchanges, avoiding any further questions or prompts.\u001b[00m\n",
      "\u001b[1m\u001b[93m \n",
      "[2025-01-22 16:06:50][INFO]: handoff from james to lucas by using auto mode\u001b[00m\n",
      "\u001b[1m\u001b[92m \n",
      "[2025-01-22 16:06:51][INFO]: Calling OpenAI agent [lucas]\u001b[00m\n",
      "\u001b[1m\u001b[95m \n",
      "[2025-01-22 16:06:52][INFO]: Agent lucas response:\n",
      "\n",
      "准备大餐就靠咱们分工合作，今晚一定让大家吃得开心！\u001b[00m\n",
      "\u001b[1m\u001b[93m \n",
      "[2025-01-22 16:06:53][INFO]: handoff from lucas to james by using auto mode\u001b[00m\n",
      "\u001b[1m\u001b[92m \n",
      "[2025-01-22 16:06:54][INFO]: Calling OpenAI agent [james]\u001b[00m\n",
      "\u001b[1m\u001b[95m \n",
      "[2025-01-22 16:06:56][INFO]: Agent james response:\n",
      "\n",
      "好主意！让我们一起努力，用科学和厨艺创造一场美味的实验吧！\u001b[00m\n",
      "\u001b[1m\u001b[93m \n",
      "[2025-01-22 16:06:58][INFO]: Takeaway for lucas added to memory\u001b[00m\n",
      "\u001b[1m\u001b[93m \n",
      "[2025-01-22 16:06:58][INFO]: All agents are fully connected\u001b[00m\n",
      "\u001b[1m\u001b[93m \n",
      "[2025-01-22 16:06:58][INFO]: Successfully delete member lucas\u001b[00m\n",
      "\u001b[1m\u001b[93m \n",
      "[2025-01-22 16:06:58][INFO]: \n",
      "Takeaway for lucas:\n",
      "On 2025-01-20 at 07:00, I discussed the importance of ensuring quality in our cooking. James was excited about trying to control the flavor of a dish. I suggested that we could try making a beef stew together. James supported the idea and emphasized our teamwork using science to create a delicious meal. We agreed that everyone would contribute to making dinner enjoyable. \n",
      "\n",
      "Speakers observed by lucas:\n",
      "{'james'}\u001b[00m\n",
      "\u001b[1m\u001b[93m \n",
      "[2025-01-22 16:07:00][INFO]: Takeaway for james added to memory\u001b[00m\n",
      "\u001b[1m\u001b[93m \n",
      "[2025-01-22 16:07:00][INFO]: All agents are fully connected\u001b[00m\n",
      "\u001b[1m\u001b[93m \n",
      "[2025-01-22 16:07:00][INFO]: current agent james is deleted, randomly select john as the new current agent\u001b[00m\n",
      "\u001b[1m\u001b[93m \n",
      "[2025-01-22 16:07:00][INFO]: Successfully delete member james\u001b[00m\n",
      "\u001b[1m\u001b[93m \n",
      "[2025-01-22 16:07:00][INFO]: \n",
      "Takeaway for james:\n",
      "On 2025-01-20 at 07:00, I expressed my excitement about experimenting with the precise control of the burning food's molecular properties. Lucas suggested we should try cooking beef brisket, emphasizing the importance of the basic skills needed for grilling. I mentioned that I could provide precise temperature measuring tools to ensure the science behind grilling remains exact. As the conversation progressed, we agreed to collaborate on a big dinner tonight, aiming to make everyone happy with our culinary efforts. I encouraged us to work together to create a delightful experience using science and culinary skills. \n",
      "\n",
      "Speakers observed by james:\n",
      "{'lucas'}\u001b[00m\n",
      "\u001b[1m\u001b[93m \n",
      "[2025-01-22 16:07:02][INFO]: Takeaway for john added to memory\u001b[00m\n",
      "\u001b[1m\u001b[93m \n",
      "[2025-01-22 16:07:02][INFO]: All agents are fully connected\u001b[00m\n",
      "\u001b[1m\u001b[93m \n",
      "[2025-01-22 16:07:02][INFO]: current agent john is deleted, randomly select None as the new current agent\u001b[00m\n",
      "\u001b[1m\u001b[93m \n",
      "[2025-01-22 16:07:02][INFO]: Successfully delete member john\u001b[00m\n",
      "\u001b[1m\u001b[93m \n",
      "[2025-01-22 16:07:02][INFO]: \n",
      "Takeaway for john:\n",
      "On 2025-01-20 at 07:00, I observed a discussion among my group members. James expressed his excitement about experimenting with materials that require precise control for combustion. Lucas suggested trying beef jerky, emphasizing that combustion can be the foundation for all experiments. James then mentioned he could provide accurate temperature measuring equipment for the tests. The conversation shifted to organizing a big dinner, with Lucas saying they should work together to make everyone happy tonight. James agreed, encouraging teamwork to create a delightful experience using science and creativity. \n",
      "\n",
      "Speakers observed by john:\n",
      "{'lucas', 'james'}\u001b[00m\n"
     ]
    }
   ],
   "source": [
    "env  = Env(description=\"On January 20, 2025, at 7:00 AM,当前场景为厨房,大家讨论今晚吃什么\",\n",
    "           members=[lucas,james,john],language=\"zh\")\n",
    "\n",
    "group = Group(env=env,model_client=model_client,verbose=True)\n",
    "\n",
    "group.dialogue(max_turns=3,model=\"gpt-4o\")\n",
    "\n",
    "takeaways = group.dismiss_group()"
   ]
  },
  {
   "cell_type": "code",
   "execution_count": 5,
   "metadata": {},
   "outputs": [
    {
     "name": "stdout",
     "output_type": "stream",
     "text": [
      "\u001b[1m\u001b[93m \n",
      "[2025-01-22 11:58:52][INFO]: handoff from lucas to james by using auto mode\u001b[00m\n",
      "\u001b[1m\u001b[92m \n",
      "[2025-01-22 11:58:53][INFO]: Calling OpenAI agent [james]\u001b[00m\n",
      "\u001b[1m\u001b[95m \n",
      "[2025-01-22 11:58:55][INFO]: Agent james response:\n",
      "\n",
      "请问关于物理问题的具体内容是什么？\u001b[00m\n",
      "\u001b[1m\u001b[93m \n",
      "[2025-01-22 11:58:57][INFO]: handoff from james to john by using auto mode\u001b[00m\n",
      "\u001b[1m\u001b[92m \n",
      "[2025-01-22 11:58:58][INFO]: Calling OpenAI agent [john]\u001b[00m\n",
      "\u001b[1m\u001b[95m \n",
      "[2025-01-22 11:59:00][INFO]: Agent john response:\n",
      "\n",
      "先告诉我你们讨论的物理问题是什么，我来帮你们解答！\u001b[00m\n",
      "\u001b[1m\u001b[93m \n",
      "[2025-01-22 11:59:01][INFO]: handoff from john to james by using auto mode\u001b[00m\n",
      "\u001b[1m\u001b[92m \n",
      "[2025-01-22 11:59:02][INFO]: Calling OpenAI agent [james]\u001b[00m\n",
      "\u001b[1m\u001b[95m \n",
      "[2025-01-22 11:59:04][INFO]: Agent james response:\n",
      "\n",
      "请问我们讨论的是哪个物理现象或公式？\u001b[00m\n",
      "\u001b[1m\u001b[93m \n",
      "[2025-01-22 11:59:05][INFO]: handoff from james to john by using auto mode\u001b[00m\n",
      "\u001b[1m\u001b[92m \n",
      "[2025-01-22 11:59:07][INFO]: Calling OpenAI agent [john]\u001b[00m\n",
      "\u001b[1m\u001b[95m \n",
      "[2025-01-22 11:59:08][INFO]: Agent john response:\n",
      "\n",
      "你们在讨论什么物理现象？我准备好高能答复了！\u001b[00m\n",
      "\u001b[1m\u001b[93m \n",
      "[2025-01-22 11:59:10][INFO]: handoff from john to james by using auto mode\u001b[00m\n",
      "\u001b[1m\u001b[92m \n",
      "[2025-01-22 11:59:11][INFO]: Calling OpenAI agent [james]\u001b[00m\n",
      "\u001b[1m\u001b[95m \n",
      "[2025-01-22 11:59:12][INFO]: Agent james response:\n",
      "\n",
      "我们在讨论牛顿第二定律，它描述了力和加速度之间的关系。\u001b[00m\n",
      "\u001b[1m\u001b[93m \n",
      "[2025-01-22 11:59:14][INFO]: handoff from james to john by using auto mode\u001b[00m\n",
      "\u001b[1m\u001b[92m \n",
      "[2025-01-22 11:59:15][INFO]: Calling OpenAI agent [john]\u001b[00m\n",
      "\u001b[1m\u001b[95m \n",
      "[2025-01-22 11:59:17][INFO]: Agent john response:\n",
      "\n",
      "牛顿第二定律就像厨师的食谱，力就是调料，加速度是菜的味道！\u001b[00m\n",
      "\u001b[1m\u001b[93m \n",
      "[2025-01-22 11:59:18][INFO]: handoff from john to james by using auto mode\u001b[00m\n",
      "\u001b[1m\u001b[92m \n",
      "[2025-01-22 11:59:19][INFO]: Calling OpenAI agent [james]\u001b[00m\n",
      "\u001b[1m\u001b[95m \n",
      "[2025-01-22 11:59:21][INFO]: Agent james response:\n",
      "\n",
      "牛顿第二定律确实很有趣，关系到F=ma，力和质量、加速度的关系。\u001b[00m\n",
      "\u001b[1m\u001b[93m \n",
      "[2025-01-22 11:59:22][INFO]: handoff from james to john by using auto mode\u001b[00m\n",
      "\u001b[1m\u001b[92m \n",
      "[2025-01-22 11:59:23][INFO]: Calling OpenAI agent [john]\u001b[00m\n",
      "\u001b[1m\u001b[95m \n",
      "[2025-01-22 11:59:25][INFO]: Agent john response:\n",
      "\n",
      "牛顿的力学就像做菜，分量和火候都很重要，别煮糊了！\u001b[00m\n",
      "\u001b[1m\u001b[93m \n",
      "[2025-01-22 11:59:26][INFO]: handoff from john to lucas by using auto mode\u001b[00m\n",
      "\u001b[1m\u001b[92m \n",
      "[2025-01-22 11:59:27][INFO]: Calling OpenAI agent [lucas]\u001b[00m\n",
      "\u001b[1m\u001b[95m \n",
      "[2025-01-22 11:59:29][INFO]: Agent lucas response:\n",
      "\n",
      "我觉得做菜也需要科学，调料和比例就像物理定律一样！\u001b[00m\n",
      "\u001b[1m\u001b[93m \n",
      "[2025-01-22 11:59:30][INFO]: handoff from lucas to james by using auto mode\u001b[00m\n",
      "\u001b[1m\u001b[92m \n",
      "[2025-01-22 11:59:31][INFO]: Calling OpenAI agent [james]\u001b[00m\n",
      "\u001b[1m\u001b[95m \n",
      "[2025-01-22 11:59:34][INFO]: Agent james response:\n",
      "\n",
      "确实，科学和烹饪有很多相似之处，都是精确的艺术！\u001b[00m\n",
      "\u001b[1m\u001b[94m \n",
      "[2025-01-22 11:59:34][INFO]: User input (talk): Make an effort to conclude the conversation gracefully within the next two exchanges, avoiding any further questions or prompts.\u001b[00m\n",
      "\u001b[1m\u001b[93m \n",
      "[2025-01-22 11:59:35][INFO]: handoff from james to lucas by using auto mode\u001b[00m\n",
      "\u001b[1m\u001b[92m \n",
      "[2025-01-22 11:59:38][INFO]: Calling OpenAI agent [lucas]\u001b[00m\n",
      "\u001b[1m\u001b[95m \n",
      "[2025-01-22 11:59:39][INFO]: Agent lucas response:\n",
      "\n",
      "我们可以把科学与美食结合，创造出新的菜品，真是太棒了！\u001b[00m\n",
      "\u001b[1m\u001b[93m \n",
      "[2025-01-22 11:59:41][INFO]: handoff from lucas to james by using auto mode\u001b[00m\n",
      "\u001b[1m\u001b[92m \n",
      "[2025-01-22 11:59:43][INFO]: Calling OpenAI agent [james]\u001b[00m\n",
      "\u001b[1m\u001b[95m \n",
      "[2025-01-22 11:59:44][INFO]: Agent james response:\n",
      "\n",
      "科学和美食的结合确实有无限可能，让我们一起探索吧！\u001b[00m\n"
     ]
    }
   ],
   "source": [
    "group.dialogue(max_turns=10,model=\"gpt-4o-mini\")"
   ]
  },
  {
   "cell_type": "code",
   "execution_count": 4,
   "metadata": {},
   "outputs": [],
   "source": [
    "# env  = Env(description=\"On January 20, 2025, at 7:00 AM, Lucas meets James and begins a conversation.\",members=[lucas,james])\n",
    "\n",
    "# group = Group(env=env,model_client=model_client,verbose=True)\n",
    "\n",
    "# group.dialogue(max_turns=5,model=\"gpt-4o\")\n",
    "\n",
    "# takeaways = group.dismiss_group()"
   ]
  },
  {
   "cell_type": "code",
   "execution_count": 5,
   "metadata": {},
   "outputs": [],
   "source": [
    "# env  = Env(description=\"On January 20, 2025, at 10:00 AM ,lucas meet john in the park and begins a conversation.\",members=[lucas,john])\n",
    "\n",
    "# group = Group(env=env,model_client=model_client,verbose=True)\n",
    "\n",
    "# group.dialogue(max_turns=5,model=\"gpt-4o\")\n",
    "\n",
    "# takeaways = group.dismiss_group()"
   ]
  },
  {
   "cell_type": "code",
   "execution_count": 5,
   "metadata": {},
   "outputs": [],
   "source": [
    "from src.planner import Planner"
   ]
  },
  {
   "cell_type": "code",
   "execution_count": 6,
   "metadata": {},
   "outputs": [],
   "source": [
    "planner = Planner(model_client=model_client,model=\"gpt-4o\",verbose=True,language=\"中文\")\n",
    "\n",
    "env_info = \"It's 2100-01-03, the weather is sunny, and there are no major events scheduled.\"\n",
    "\n",
    "personal_info = \"Your name is Alice. You hold the position of a manager. You prefer mornings and enjoy running at that time. In the afternoons, you like to read books, while evenings are reserved for working on projects. This year, your personal objective is to maintain good health, be productive, and write a book. The places you frequently visit are the park, library, gym, and office.\"\n",
    "\n",
    "memory = \"On 2100-01-01, you had a meeting with John at 2 PM to discuss the project. You went for a run in the morning and read a book in the afternoon. In the evening, you worked on the project until 10 PM. \\n On 2100-01-02, you received a call from John and he wants to meet you at 2 PM to discuss the project tomorrow.\"\n",
    "\n",
    "one_day_plan = planner.plan_day(env_info=env_info,personal_info=personal_info,memory=memory)\n"
   ]
  },
  {
   "cell_type": "code",
   "execution_count": 7,
   "metadata": {},
   "outputs": [
    {
     "data": {
      "text/plain": [
       "[Plan(start_hour=0, end_hour=7, plan='睡觉'),\n",
       " Plan(start_hour=7, end_hour=8, plan='晨间例行（洗漱、冥想）'),\n",
       " Plan(start_hour=8, end_hour=9, plan='晨跑到公园以保持健康并享受阳光'),\n",
       " Plan(start_hour=9, end_hour=10, plan='早餐及回顾当天计划'),\n",
       " Plan(start_hour=10, end_hour=13, plan='工作相关活动（管理职责、安排本周任务）'),\n",
       " Plan(start_hour=13, end_hour=14, plan='午餐'),\n",
       " Plan(start_hour=14, end_hour=16, plan='与John进行下午两点项目会议并记录讨论要点'),\n",
       " Plan(start_hour=16, end_hour=18, plan='阅读时间（专注于自己正在阅读的书籍，为写作积累素材）'),\n",
       " Plan(start_hour=18, end_hour=20, plan='晚间项目工作（专注写作和项目进展）'),\n",
       " Plan(start_hour=20, end_hour=21, plan='晚餐'),\n",
       " Plan(start_hour=21, end_hour=23, plan='轻松阅读及准备就寝'),\n",
       " Plan(start_hour=23, end_hour=24, plan='就寝')]"
      ]
     },
     "execution_count": 7,
     "metadata": {},
     "output_type": "execute_result"
    }
   ],
   "source": [
    "planner.get_daily_plan()"
   ]
  },
  {
   "cell_type": "code",
   "execution_count": 8,
   "metadata": {},
   "outputs": [
    {
     "data": {
      "text/plain": [
       "[Plan(start_hour=9, end_hour=10, plan='早餐及回顾当天计划'),\n",
       " Plan(start_hour=10, end_hour=13, plan='工作相关活动（管理职责、安排本周任务）'),\n",
       " Plan(start_hour=13, end_hour=14, plan='午餐'),\n",
       " Plan(start_hour=14, end_hour=16, plan='与John进行下午两点项目会议并记录讨论要点'),\n",
       " Plan(start_hour=16, end_hour=18, plan='阅读时间（专注于自己正在阅读的书籍，为写作积累素材）'),\n",
       " Plan(start_hour=18, end_hour=20, plan='晚间项目工作（专注写作和项目进展）'),\n",
       " Plan(start_hour=20, end_hour=21, plan='晚餐'),\n",
       " Plan(start_hour=21, end_hour=23, plan='轻松阅读及准备就寝'),\n",
       " Plan(start_hour=23, end_hour=24, plan='就寝')]"
      ]
     },
     "execution_count": 8,
     "metadata": {},
     "output_type": "execute_result"
    }
   ],
   "source": [
    "planner.get_future_plan(10)"
   ]
  },
  {
   "cell_type": "code",
   "execution_count": 9,
   "metadata": {},
   "outputs": [
    {
     "data": {
      "text/plain": [
       "[MinutePlan(start_minute=0, end_minute=15, plan='检查和回复邮件，确保所有重要事项得到更新。'),\n",
       " MinutePlan(start_minute=15, end_minute=40, plan='审查当前的项目计划和进度，记录需要安排的任务和事项。'),\n",
       " MinutePlan(start_minute=40, end_minute=60, plan='制定本周的任务安排，包括会议、项目和个人目标。')]"
      ]
     },
     "execution_count": 9,
     "metadata": {},
     "output_type": "execute_result"
    }
   ],
   "source": [
    "planner.plan_hour(env_info=env_info,personal_info=personal_info,memory=memory,current_hour=10)"
   ]
  },
  {
   "cell_type": "code",
   "execution_count": 10,
   "metadata": {},
   "outputs": [
    {
     "data": {
      "text/plain": [
       "[MinutePlan(start_minute=0, end_minute=10, plan='审核本周任务的整体框架。'),\n",
       " MinutePlan(start_minute=10, end_minute=20, plan='将需要本周完成的任务列出，并评估优先级。'),\n",
       " MinutePlan(start_minute=20, end_minute=40, plan='按照优先级规划具体的安排，包括每日的工作内容。'),\n",
       " MinutePlan(start_minute=40, end_minute=50, plan='检查是否已安排妥当，以及是否有遗漏。'),\n",
       " MinutePlan(start_minute=50, end_minute=60, plan='准备结束并记录需要进一步思考的问题。')]"
      ]
     },
     "execution_count": 10,
     "metadata": {},
     "output_type": "execute_result"
    }
   ],
   "source": [
    "planner.plan_hour(env_info=env_info,personal_info=personal_info,memory=memory,current_hour=11)"
   ]
  },
  {
   "cell_type": "code",
   "execution_count": null,
   "metadata": {},
   "outputs": [],
   "source": []
  },
  {
   "cell_type": "code",
   "execution_count": null,
   "metadata": {},
   "outputs": [],
   "source": []
  }
 ],
 "metadata": {
  "kernelspec": {
   "display_name": ".venv",
   "language": "python",
   "name": "python3"
  },
  "language_info": {
   "codemirror_mode": {
    "name": "ipython",
    "version": 3
   },
   "file_extension": ".py",
   "mimetype": "text/x-python",
   "name": "python",
   "nbconvert_exporter": "python",
   "pygments_lexer": "ipython3",
   "version": "3.11.5"
  }
 },
 "nbformat": 4,
 "nbformat_minor": 2
}
