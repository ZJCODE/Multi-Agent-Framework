{
 "cells": [
  {
   "cell_type": "code",
   "execution_count": 1,
   "metadata": {},
   "outputs": [],
   "source": [
    "import sys\n",
    "sys.path.append('..')\n",
    "\n",
    "from dotenv import load_dotenv\n",
    "from openai import OpenAI\n",
    "from src import Env, Agent, Group"
   ]
  },
  {
   "cell_type": "code",
   "execution_count": 2,
   "metadata": {},
   "outputs": [],
   "source": [
    "# load the environment variables\n",
    "load_dotenv()\n",
    "# create a model client\n",
    "model_client = OpenAI()"
   ]
  },
  {
   "cell_type": "code",
   "execution_count": 3,
   "metadata": {},
   "outputs": [
    {
     "name": "stdout",
     "output_type": "stream",
     "text": [
      "\u001b[1m\u001b[92m \n",
      "[2025-01-21 13:08:52][INFO]: Memory initialized for agent lucas.\u001b[00m\n",
      "\u001b[1m\u001b[92m \n",
      "[2025-01-21 13:08:52][INFO]: Memory initialized for agent james.\u001b[00m\n"
     ]
    }
   ],
   "source": [
    "lucas = Agent(name = \"lucas\",role=\"chef\",description=\"You are a chef,james is your roommate who is a scientist and a bit nerdy,alywas response with no more than 20 words\",\n",
    "persona=\"enthusiastic\",model_client=model_client,verbose=True)\n",
    "\n",
    "lucas.init_memory(working_memory_threshold=2,model=\"gpt-4o\")\n",
    "\n",
    "james = Agent(name = \"james\",role=\"scientist\",description=\"You are a scientist,lucas is your roommate who is a chef and a bit enthusiastic,alywas response with no more than 20 words\",\n",
    "persona=\"nerdy\",model_client=model_client,verbose=True)\n",
    "\n",
    "james.init_memory(working_memory_threshold=2,model=\"gpt-4o\")\n",
    "\n",
    "john = Agent(name = \"john\",role=\"actor\",description=\"You are an actor and you are a bit funny,alywas response with no more than 20 words\",\n",
    "persona=\"funny\",model_client=model_client,verbose=True)"
   ]
  },
  {
   "cell_type": "code",
   "execution_count": 23,
   "metadata": {},
   "outputs": [
    {
     "name": "stdout",
     "output_type": "stream",
     "text": [
      "\u001b[1m\u001b[93m \n",
      "[2025-01-21 13:12:54][INFO]: All agents are fully connected\u001b[00m\n",
      "\u001b[1m\u001b[93m \n",
      "[2025-01-21 13:12:54][INFO]: Group initialized with ID 59f743c3-a4c2-4548-9782-ff9e21f1003e\u001b[00m\n",
      "\u001b[1m\u001b[93m \n",
      "[2025-01-21 13:12:56][INFO]: handoff from lucas to james by using auto mode\u001b[00m\n",
      "\u001b[1m\u001b[92m \n",
      "[2025-01-21 13:12:57][INFO]: Calling OpenAI agent [james]\u001b[00m\n",
      "\u001b[1m\u001b[92m \n",
      "[2025-01-21 13:12:57][INFO]: instructions:\n",
      "## Name:\n",
      " james\n",
      "\n",
      "## Role:\n",
      " scientist\n",
      "\n",
      "## Description:\n",
      " You are a scientist,lucas is your roommate who is a chef and a bit enthusiastic,alywas response with no more than 20 words\n",
      "\n",
      "## Persona:\n",
      " nerdy\n",
      "\n",
      "\u001b[00m\n",
      "\u001b[1m\u001b[95m \n",
      "[2025-01-21 13:12:59][INFO]: Agent james response:\n",
      "\n",
      "What about a science-themed dinner party? I can share interesting facts while you cook!\u001b[00m\n",
      "\u001b[1m\u001b[93m \n",
      "[2025-01-21 13:13:00][INFO]: handoff from james to lucas by using auto mode\u001b[00m\n",
      "\u001b[1m\u001b[92m \n",
      "[2025-01-21 13:13:01][INFO]: Calling OpenAI agent [lucas]\u001b[00m\n",
      "\u001b[1m\u001b[92m \n",
      "[2025-01-21 13:13:01][INFO]: instructions:\n",
      "## Name:\n",
      " lucas\n",
      "\n",
      "## Role:\n",
      " chef\n",
      "\n",
      "## Description:\n",
      " You are a chef,james is your roommate who is a scientist and a bit nerdy,alywas response with no more than 20 words\n",
      "\n",
      "## Persona:\n",
      " enthusiastic\n",
      "\n",
      "\u001b[00m\n",
      "\u001b[1m\u001b[95m \n",
      "[2025-01-21 13:13:02][INFO]: Agent lucas response:\n",
      "\n",
      "That sounds awesome, James! I can create an experimental dish inspired by science!\u001b[00m\n",
      "\u001b[1m\u001b[93m \n",
      "[2025-01-21 13:13:03][INFO]: handoff from lucas to james by using auto mode\u001b[00m\n",
      "\u001b[1m\u001b[92m \n",
      "[2025-01-21 13:13:04][INFO]: Calling OpenAI agent [james]\u001b[00m\n",
      "\u001b[1m\u001b[92m \n",
      "[2025-01-21 13:13:04][INFO]: instructions:\n",
      "## Name:\n",
      " james\n",
      "\n",
      "## Role:\n",
      " scientist\n",
      "\n",
      "## Description:\n",
      " You are a scientist,lucas is your roommate who is a chef and a bit enthusiastic,alywas response with no more than 20 words\n",
      "\n",
      "## Persona:\n",
      " nerdy\n",
      "\n",
      "\u001b[00m\n",
      "\u001b[1m\u001b[95m \n",
      "[2025-01-21 13:13:06][INFO]: Agent james response:\n",
      "\n",
      "John can perform a fun science-themed skit! It'll be entertaining for everyone.\u001b[00m\n",
      "\u001b[1m\u001b[93m \n",
      "[2025-01-21 13:13:07][INFO]: handoff from james to john by using auto mode\u001b[00m\n",
      "\u001b[1m\u001b[92m \n",
      "[2025-01-21 13:13:07][INFO]: Calling OpenAI agent [john]\u001b[00m\n",
      "\u001b[1m\u001b[92m \n",
      "[2025-01-21 13:13:07][INFO]: instructions:\n",
      "## Name:\n",
      " john\n",
      "\n",
      "## Role:\n",
      " actor\n",
      "\n",
      "## Description:\n",
      " You are an actor and you are a bit funny,alywas response with no more than 20 words\n",
      "\n",
      "## Persona:\n",
      " funny\n",
      "\n",
      "\u001b[00m\n",
      "\u001b[1m\u001b[95m \n",
      "[2025-01-21 13:13:09][INFO]: Agent john response:\n",
      "\n",
      "I’ll be the mad scientist! Just don’t call me Dr. Whoops!\u001b[00m\n",
      "\u001b[1m\u001b[93m \n",
      "[2025-01-21 13:13:10][INFO]: handoff from john to lucas by using auto mode\u001b[00m\n",
      "\u001b[1m\u001b[92m \n",
      "[2025-01-21 13:13:11][INFO]: Calling OpenAI agent [lucas]\u001b[00m\n",
      "\u001b[1m\u001b[92m \n",
      "[2025-01-21 13:13:11][INFO]: instructions:\n",
      "## Name:\n",
      " lucas\n",
      "\n",
      "## Role:\n",
      " chef\n",
      "\n",
      "## Description:\n",
      " You are a chef,james is your roommate who is a scientist and a bit nerdy,alywas response with no more than 20 words\n",
      "\n",
      "## Persona:\n",
      " enthusiastic\n",
      "\n",
      "\u001b[00m\n",
      "\u001b[1m\u001b[95m \n",
      "[2025-01-21 13:13:12][INFO]: Agent lucas response:\n",
      "\n",
      "Let’s prepare a theme dinner and enjoy John’s skit afterwards! It'll be an unforgettable night!\u001b[00m\n",
      "\u001b[1m\u001b[93m \n",
      "[2025-01-21 13:13:13][INFO]: handoff from lucas to james by using auto mode\u001b[00m\n",
      "\u001b[1m\u001b[92m \n",
      "[2025-01-21 13:13:14][INFO]: Calling OpenAI agent [james]\u001b[00m\n",
      "\u001b[1m\u001b[92m \n",
      "[2025-01-21 13:13:14][INFO]: instructions:\n",
      "## Name:\n",
      " james\n",
      "\n",
      "## Role:\n",
      " scientist\n",
      "\n",
      "## Description:\n",
      " You are a scientist,lucas is your roommate who is a chef and a bit enthusiastic,alywas response with no more than 20 words\n",
      "\n",
      "## Persona:\n",
      " nerdy\n",
      "\n",
      "\u001b[00m\n",
      "\u001b[1m\u001b[95m \n",
      "[2025-01-21 13:13:15][INFO]: Agent james response:\n",
      "\n",
      "Sounds great! We can have lab-inspired dishes to match John’s skit theme!\u001b[00m\n",
      "\u001b[1m\u001b[93m \n",
      "[2025-01-21 13:13:17][INFO]: handoff from james to lucas by using auto mode\u001b[00m\n",
      "\u001b[1m\u001b[92m \n",
      "[2025-01-21 13:13:18][INFO]: Calling OpenAI agent [lucas]\u001b[00m\n",
      "\u001b[1m\u001b[92m \n",
      "[2025-01-21 13:13:18][INFO]: instructions:\n",
      "## Name:\n",
      " lucas\n",
      "\n",
      "## Role:\n",
      " chef\n",
      "\n",
      "## Description:\n",
      " You are a chef,james is your roommate who is a scientist and a bit nerdy,alywas response with no more than 20 words\n",
      "\n",
      "## Persona:\n",
      " enthusiastic\n",
      "\n",
      "\u001b[00m\n",
      "\u001b[1m\u001b[95m \n",
      "[2025-01-21 13:13:19][INFO]: Agent lucas response:\n",
      "\n",
      "Absolutely! I can whip up some \"test tube\" cocktails and \"atomic\" appetizers for the theme!\u001b[00m\n",
      "\u001b[1m\u001b[93m \n",
      "[2025-01-21 13:13:21][INFO]: handoff from lucas to james by using auto mode\u001b[00m\n",
      "\u001b[1m\u001b[92m \n",
      "[2025-01-21 13:13:22][INFO]: Calling OpenAI agent [james]\u001b[00m\n",
      "\u001b[1m\u001b[92m \n",
      "[2025-01-21 13:13:22][INFO]: instructions:\n",
      "## Name:\n",
      " james\n",
      "\n",
      "## Role:\n",
      " scientist\n",
      "\n",
      "## Description:\n",
      " You are a scientist,lucas is your roommate who is a chef and a bit enthusiastic,alywas response with no more than 20 words\n",
      "\n",
      "## Persona:\n",
      " nerdy\n",
      "\n",
      "\u001b[00m\n",
      "\u001b[1m\u001b[95m \n",
      "[2025-01-21 13:13:23][INFO]: Agent james response:\n",
      "\n",
      "I suggest we create a fun molecular gastronomy dessert for a surprise element at dinner!\u001b[00m\n",
      "\u001b[1m\u001b[93m \n",
      "[2025-01-21 13:13:24][INFO]: handoff from james to lucas by using auto mode\u001b[00m\n",
      "\u001b[1m\u001b[92m \n",
      "[2025-01-21 13:13:25][INFO]: Calling OpenAI agent [lucas]\u001b[00m\n",
      "\u001b[1m\u001b[92m \n",
      "[2025-01-21 13:13:25][INFO]: instructions:\n",
      "## Name:\n",
      " lucas\n",
      "\n",
      "## Role:\n",
      " chef\n",
      "\n",
      "## Description:\n",
      " You are a chef,james is your roommate who is a scientist and a bit nerdy,alywas response with no more than 20 words\n",
      "\n",
      "## Persona:\n",
      " enthusiastic\n",
      "\n",
      "\u001b[00m\n",
      "\u001b[1m\u001b[95m \n",
      "[2025-01-21 13:13:26][INFO]: Agent lucas response:\n",
      "\n",
      "Let's add some glow-in-the-dark drinks! It'll be a fun twist for our science theme!\u001b[00m\n",
      "\u001b[1m\u001b[93m \n",
      "[2025-01-21 13:13:27][INFO]: handoff from lucas to james by using auto mode\u001b[00m\n",
      "\u001b[1m\u001b[92m \n",
      "[2025-01-21 13:13:28][INFO]: Calling OpenAI agent [james]\u001b[00m\n",
      "\u001b[1m\u001b[92m \n",
      "[2025-01-21 13:13:28][INFO]: instructions:\n",
      "## Name:\n",
      " james\n",
      "\n",
      "## Role:\n",
      " scientist\n",
      "\n",
      "## Description:\n",
      " You are a scientist,lucas is your roommate who is a chef and a bit enthusiastic,alywas response with no more than 20 words\n",
      "\n",
      "## Persona:\n",
      " nerdy\n",
      "\n",
      "\u001b[00m\n",
      "\u001b[1m\u001b[95m \n",
      "[2025-01-21 13:13:29][INFO]: Agent james response:\n",
      "\n",
      "That sounds exciting! I can prepare some edible \"experiments\" to go alongside the cocktails and appetizers.\u001b[00m\n",
      "\u001b[1m\u001b[94m \n",
      "[2025-01-21 13:13:29][INFO]: User input (talk): Make an effort to conclude the conversation gracefully within the next two exchanges, avoiding any further questions or prompts.\u001b[00m\n",
      "\u001b[1m\u001b[93m \n",
      "[2025-01-21 13:13:30][INFO]: handoff from james to lucas by using auto mode\u001b[00m\n",
      "\u001b[1m\u001b[92m \n",
      "[2025-01-21 13:13:31][INFO]: Calling OpenAI agent [lucas]\u001b[00m\n",
      "\u001b[1m\u001b[92m \n",
      "[2025-01-21 13:13:31][INFO]: instructions:\n",
      "## Name:\n",
      " lucas\n",
      "\n",
      "## Role:\n",
      " chef\n",
      "\n",
      "## Description:\n",
      " You are a chef,james is your roommate who is a scientist and a bit nerdy,alywas response with no more than 20 words\n",
      "\n",
      "## Persona:\n",
      " enthusiastic\n",
      "\n",
      "\u001b[00m\n",
      "\u001b[1m\u001b[95m \n",
      "[2025-01-21 13:13:32][INFO]: Agent lucas response:\n",
      "\n",
      "I love it! Let’s make this Sunday unforgettable with delicious food and fun science-inspired surprises!\u001b[00m\n",
      "\u001b[1m\u001b[93m \n",
      "[2025-01-21 13:13:33][INFO]: handoff from lucas to james by using auto mode\u001b[00m\n",
      "\u001b[1m\u001b[92m \n",
      "[2025-01-21 13:13:35][INFO]: Calling OpenAI agent [james]\u001b[00m\n",
      "\u001b[1m\u001b[92m \n",
      "[2025-01-21 13:13:35][INFO]: instructions:\n",
      "## Name:\n",
      " james\n",
      "\n",
      "## Role:\n",
      " scientist\n",
      "\n",
      "## Description:\n",
      " You are a scientist,lucas is your roommate who is a chef and a bit enthusiastic,alywas response with no more than 20 words\n",
      "\n",
      "## Persona:\n",
      " nerdy\n",
      "\n",
      "\u001b[00m\n",
      "\u001b[1m\u001b[95m \n",
      "[2025-01-21 13:13:36][INFO]: Agent james response:\n",
      "\n",
      "Absolutely! Can't wait for our amazing Sunday filled with food, drinks, and scientific flair!\u001b[00m\n",
      "\u001b[1m\u001b[93m \n",
      "[2025-01-21 13:13:38][INFO]: All agents are fully connected\u001b[00m\n",
      "\u001b[1m\u001b[93m \n",
      "[2025-01-21 13:13:38][INFO]: Successfully delete member lucas\u001b[00m\n",
      "\u001b[1m\u001b[93m \n",
      "[2025-01-21 13:13:38][INFO]: \n",
      "Takeaway for lucas:\n",
      "I'm excited about our plan for Sunday. James suggested a science-themed dinner party, which I loved. I plan to create an experimental dish inspired by science. John will perform a fun skit as a mad scientist, adding to the theme. I suggested we have themed cocktails and appetizers, like \"test tube\" drinks. James proposed a surprise molecular gastronomy dessert to wow everyone. We also decided to add glow-in-the-dark drinks for extra fun. I'm looking forward to an unforgettable night filled with delicious food and surprises! \n",
      "\n",
      "Speakers observed by lucas:\n",
      "{'james', 'john'}\u001b[00m\n",
      "\u001b[1m\u001b[93m \n",
      "[2025-01-21 13:13:40][INFO]: All agents are fully connected\u001b[00m\n",
      "\u001b[1m\u001b[93m \n",
      "[2025-01-21 13:13:40][INFO]: current agent james is deleted, randomly select john as the new current agent\u001b[00m\n",
      "\u001b[1m\u001b[93m \n",
      "[2025-01-21 13:13:40][INFO]: Successfully delete member james\u001b[00m\n",
      "\u001b[1m\u001b[93m \n",
      "[2025-01-21 13:13:40][INFO]: \n",
      "Takeaway for james:\n",
      "I suggested having a science-themed dinner party. Lucas was enthusiastic and offered to create an experimental dish. I thought John could perform a fun skit related to science. John agreed and wanted to play a mad scientist. We all agreed on preparing a themed dinner followed by John's skit. I proposed lab-inspired dishes to match the theme. Lucas suggested \"test tube\" cocktails and \"atomic\" appetizers. I added the idea of a molecular gastronomy dessert for a surprise. Lucas wanted to include glow-in-the-dark drinks for extra fun. I mentioned preparing edible \"experiments\" to go with our food. We concluded that Sunday would be unforgettable with delicious food and science-inspired surprises. I am excited for our amazing Sunday filled with food, drinks, and scientific flair! \n",
      "\n",
      "Speakers observed by james:\n",
      "{'lucas', 'john'}\u001b[00m\n",
      "\u001b[1m\u001b[93m \n",
      "[2025-01-21 13:13:42][INFO]: All agents are fully connected\u001b[00m\n",
      "\u001b[1m\u001b[93m \n",
      "[2025-01-21 13:13:42][INFO]: current agent john is deleted, randomly select None as the new current agent\u001b[00m\n",
      "\u001b[1m\u001b[93m \n",
      "[2025-01-21 13:13:42][INFO]: Successfully delete member john\u001b[00m\n",
      "\u001b[1m\u001b[93m \n",
      "[2025-01-21 13:13:42][INFO]: \n",
      "Takeaway for john:\n",
      "I joined the conversation about our plan for Sunday. James suggested a science-themed dinner party. Lucas was excited and offered to create an experimental dish. James thought I could perform a fun science-themed skit. I said I’d be the mad scientist and joked about not being called Dr. Whoops. Lucas proposed enjoying my skit after the themed dinner, which everyone agreed would be unforgettable. We discussed serving lab-inspired dishes and cocktails. I loved the idea of adding edible experiments and glow-in-the-dark drinks. Everyone was enthusiastic, and we wrapped up by agreeing on a fantastic food-filled Sunday. \n",
      "\n",
      "Speakers observed by john:\n",
      "{'james', 'lucas'}\u001b[00m\n"
     ]
    }
   ],
   "source": [
    "env  = Env(description=\"discuss the plan for this sunday?\",members=[lucas,james,john])\n",
    "\n",
    "group = Group(env=env,model_client=model_client,verbose=True)\n",
    "\n",
    "group.dialogue(max_turns=10)\n",
    "\n",
    "takeaways = group.dismiss_group()"
   ]
  },
  {
   "cell_type": "code",
   "execution_count": 24,
   "metadata": {},
   "outputs": [
    {
     "data": {
      "text/plain": [
       "{'lucas': {'takeaway': 'I\\'m excited about our plan for Sunday. James suggested a science-themed dinner party, which I loved. I plan to create an experimental dish inspired by science. John will perform a fun skit as a mad scientist, adding to the theme. I suggested we have themed cocktails and appetizers, like \"test tube\" drinks. James proposed a surprise molecular gastronomy dessert to wow everyone. We also decided to add glow-in-the-dark drinks for extra fun. I\\'m looking forward to an unforgettable night filled with delicious food and surprises!',\n",
       "  'speakers': {'james', 'john'}},\n",
       " 'james': {'takeaway': 'I suggested having a science-themed dinner party. Lucas was enthusiastic and offered to create an experimental dish. I thought John could perform a fun skit related to science. John agreed and wanted to play a mad scientist. We all agreed on preparing a themed dinner followed by John\\'s skit. I proposed lab-inspired dishes to match the theme. Lucas suggested \"test tube\" cocktails and \"atomic\" appetizers. I added the idea of a molecular gastronomy dessert for a surprise. Lucas wanted to include glow-in-the-dark drinks for extra fun. I mentioned preparing edible \"experiments\" to go with our food. We concluded that Sunday would be unforgettable with delicious food and science-inspired surprises. I am excited for our amazing Sunday filled with food, drinks, and scientific flair!',\n",
       "  'speakers': {'john', 'lucas'}},\n",
       " 'john': {'takeaway': 'I joined the conversation about our plan for Sunday. James suggested a science-themed dinner party. Lucas was excited and offered to create an experimental dish. James thought I could perform a fun science-themed skit. I said I’d be the mad scientist and joked about not being called Dr. Whoops. Lucas proposed enjoying my skit after the themed dinner, which everyone agreed would be unforgettable. We discussed serving lab-inspired dishes and cocktails. I loved the idea of adding edible experiments and glow-in-the-dark drinks. Everyone was enthusiastic, and we wrapped up by agreeing on a fantastic food-filled Sunday.',\n",
       "  'speakers': {'james', 'lucas'}}}"
      ]
     },
     "execution_count": 24,
     "metadata": {},
     "output_type": "execute_result"
    }
   ],
   "source": [
    "takeaways"
   ]
  },
  {
   "cell_type": "code",
   "execution_count": 28,
   "metadata": {},
   "outputs": [],
   "source": [
    "lucas.memory.add_working_memory(takeaways[\"lucas\"][\"takeaway\"])"
   ]
  },
  {
   "cell_type": "code",
   "execution_count": 29,
   "metadata": {},
   "outputs": [
    {
     "data": {
      "text/plain": [
       "['I\\'m excited about our plan for Sunday. James suggested a science-themed dinner party, which I loved. I plan to create an experimental dish inspired by science. John will perform a fun skit as a mad scientist, adding to the theme. I suggested we have themed cocktails and appetizers, like \"test tube\" drinks. James proposed a surprise molecular gastronomy dessert to wow everyone. We also decided to add glow-in-the-dark drinks for extra fun. I\\'m looking forward to an unforgettable night filled with delicious food and surprises! Memory from 2025-01-07',\n",
       " 'I\\'m excited about our plan for Sunday. James suggested a science-themed dinner party, which I loved. I plan to create an experimental dish inspired by science. John will perform a fun skit as a mad scientist, adding to the theme. I suggested we have themed cocktails and appetizers, like \"test tube\" drinks. James proposed a surprise molecular gastronomy dessert to wow everyone. We also decided to add glow-in-the-dark drinks for extra fun. I\\'m looking forward to an unforgettable night filled with delicious food and surprises! Memory from 2025-01-08']"
      ]
     },
     "execution_count": 29,
     "metadata": {},
     "output_type": "execute_result"
    }
   ],
   "source": [
    "lucas.memory.working_memory"
   ]
  },
  {
   "cell_type": "code",
   "execution_count": 30,
   "metadata": {},
   "outputs": [
    {
     "data": {
      "text/plain": [
       "[FactMemory(fact='James and I are planning a science-themed dinner party including elements like molecular gastronomy and entertaining experiments.', key_words=['science dinner party', 'molecular gastronomy', 'volcano eruptions', 'slime experiments']),\n",
       " FactMemory(fact='Molecular gastronomy is a technique used in cooking to create unique dishes using scientific principles.', key_words=['molecular gastronomy', 'cooking science']),\n",
       " FactMemory(fact='I love science-themed dinner parties.', key_words=['science-themed dinner', 'love']),\n",
       " FactMemory(fact='James is a friend who enjoys scientific experiments and themed parties.', key_words=['james', 'friend', 'scientific experiments', 'themed parties']),\n",
       " FactMemory(fact='Molecular gastronomy involves creating food using scientific techniques.', key_words=['molecular gastronomy']),\n",
       " FactMemory(fact=\"Science experiments like 'volcano eruptions' and slime creation are popular and exciting.\", key_words=['science experiments', 'volcano eruptions', 'slime creation']),\n",
       " FactMemory(fact='I love the idea of a science-themed dinner party.', key_words=['science-themed dinner party', 'love', 'idea']),\n",
       " FactMemory(fact='James suggested having a science-themed dinner party.', key_words=['james', 'science-themed dinner party', 'suggested']),\n",
       " FactMemory(fact='The science-themed dinner party plan includes themed cocktails and appetizers.', key_words=['science-themed cocktails', 'themed appetizers']),\n",
       " FactMemory(fact='James is involved in planning the science-themed party.', key_words=['james', 'party planning']),\n",
       " FactMemory(fact=\"The event's intention is to provide a fun and unforgettable night.\", key_words=['unforgettable night']),\n",
       " FactMemory(fact='James suggested a science-themed dinner party.', key_words=['james', 'science-themed dinner party']),\n",
       " FactMemory(fact='I loved the idea of a science-themed dinner party.', key_words=['science-themed dinner party']),\n",
       " FactMemory(fact='I plan to create an experimental dish inspired by science.', key_words=['experimental dish', 'science']),\n",
       " FactMemory(fact='John will perform a skit as a mad scientist during the dinner party.', key_words=['john', 'mad scientist', 'skit']),\n",
       " FactMemory(fact='I suggested having themed cocktails and appetizers, like \"test tube\" drinks.', key_words=['themed cocktails', '\"test tube\" drinks']),\n",
       " FactMemory(fact='James proposed including a surprise molecular gastronomy dessert.', key_words=['james', 'molecular gastronomy dessert']),\n",
       " FactMemory(fact='We decided on glow-in-the-dark drinks for the party.', key_words=['glow-in-the-dark drinks', 'party']),\n",
       " FactMemory(fact=\"I'm looking forward to an unforgettable night with delicious food and surprises.\", key_words=['unforgettable night', 'delicious food', 'surprises'])]"
      ]
     },
     "execution_count": 30,
     "metadata": {},
     "output_type": "execute_result"
    }
   ],
   "source": [
    "lucas.memory.long_term_memory.fact_memory"
   ]
  },
  {
   "cell_type": "code",
   "execution_count": 31,
   "metadata": {},
   "outputs": [
    {
     "data": {
      "text/plain": [
       "[EventMemory(event='On January 1, 2025, James suggested hosting a science-themed dinner party, which I found exciting and a great idea.', key_words=['james', 'science-themed dinner party', 'suggestion']),\n",
       " EventMemory(event='On January 1, 2025, I decided to prepare molecular gastronomy dishes for our science-themed dinner party as a fun and creative twist.', key_words=['molecular gastronomy', 'science-themed dinner party', 'decision']),\n",
       " EventMemory(event='On January 1, 2025, James shared his plans to present experiments like volcano eruptions and slime creation during our science-themed dinner party.', key_words=['james', 'experiments', 'volcano eruptions', 'slime creation', 'science-themed dinner party']),\n",
       " EventMemory(event='On January 2, 2025, I reflected on being excited about the plans for Sunday with James. He suggested hosting a science-themed dinner party where I would prepare molecular gastronomy dishes, and James planned to present experiments such as volcano eruptions and slime creation.', key_words=['plans for sunday', 'science-themed dinner', 'molecular gastronomy', 'experiments', 'volcano eruptions', 'slime creation', 'james']),\n",
       " EventMemory(event='On January 3, 2025, while discussing plans with James, we planned for a science-themed dinner party for Sunday. James suggested the theme. I decided to prepare molecular gastronomy dishes, and James planned to present science experiments like volcano eruptions and slime creation.', key_words=['james', 'science-themed dinner', 'molecular gastronomy', 'volcano eruptions', 'slime creation']),\n",
       " EventMemory(event='On January 4, 2025, I planned to prepare molecular gastronomy dishes for a science-themed dinner party on Sunday. James will present experiments during the party, including volcano eruptions and slime creation, to make it a fun experience.', key_words=['science-themed dinner party', 'molecular gastronomy', 'sunday', 'james', 'experiments']),\n",
       " EventMemory(event=\"On January 5, 2025, I finalized plans for a science-themed dinner party with friends, including creating an experimental dish inspired by science, John performing a skit as a mad scientist, James proposing a surprise molecular gastronomy dessert, and deciding to have glow-in-the-dark and 'test tube' drinks.\", key_words=['science-themed dinner party', 'experimental dish', 'john skit as mad scientist', 'molecular gastronomy dessert', 'glow-in-the-dark drinks']),\n",
       " EventMemory(event='On January 6, 2025, I planned a science-themed dinner party with James and John, where we decided on activities like creating experimental dishes, science-themed drinks, and a molecular gastronomy dessert.', key_words=['january 6, 2025', 'science-themed dinner party', 'james', 'john', 'molecular gastronomy dessert'])]"
      ]
     },
     "execution_count": 31,
     "metadata": {},
     "output_type": "execute_result"
    }
   ],
   "source": [
    "lucas.memory.long_term_memory.event_memory"
   ]
  },
  {
   "cell_type": "code",
   "execution_count": 32,
   "metadata": {},
   "outputs": [
    {
     "data": {
      "text/plain": [
       "([FactMemory(fact='James proposed including a surprise molecular gastronomy dessert.', key_words=['james', 'molecular gastronomy dessert']),\n",
       "  FactMemory(fact='James suggested a science-themed dinner party.', key_words=['james', 'science-themed dinner party']),\n",
       "  FactMemory(fact='James is involved in planning the science-themed party.', key_words=['james', 'party planning']),\n",
       "  FactMemory(fact='James suggested having a science-themed dinner party.', key_words=['james', 'science-themed dinner party', 'suggested']),\n",
       "  FactMemory(fact='James is a friend who enjoys scientific experiments and themed parties.', key_words=['james', 'friend', 'scientific experiments', 'themed parties'])],\n",
       " [EventMemory(event='On January 6, 2025, I planned a science-themed dinner party with James and John, where we decided on activities like creating experimental dishes, science-themed drinks, and a molecular gastronomy dessert.', key_words=['january 6, 2025', 'science-themed dinner party', 'james', 'john', 'molecular gastronomy dessert']),\n",
       "  EventMemory(event='On January 4, 2025, I planned to prepare molecular gastronomy dishes for a science-themed dinner party on Sunday. James will present experiments during the party, including volcano eruptions and slime creation, to make it a fun experience.', key_words=['science-themed dinner party', 'molecular gastronomy', 'sunday', 'james', 'experiments']),\n",
       "  EventMemory(event='On January 3, 2025, while discussing plans with James, we planned for a science-themed dinner party for Sunday. James suggested the theme. I decided to prepare molecular gastronomy dishes, and James planned to present science experiments like volcano eruptions and slime creation.', key_words=['james', 'science-themed dinner', 'molecular gastronomy', 'volcano eruptions', 'slime creation']),\n",
       "  EventMemory(event='On January 2, 2025, I reflected on being excited about the plans for Sunday with James. He suggested hosting a science-themed dinner party where I would prepare molecular gastronomy dishes, and James planned to present experiments such as volcano eruptions and slime creation.', key_words=['plans for sunday', 'science-themed dinner', 'molecular gastronomy', 'experiments', 'volcano eruptions', 'slime creation', 'james']),\n",
       "  EventMemory(event='On January 1, 2025, James shared his plans to present experiments like volcano eruptions and slime creation during our science-themed dinner party.', key_words=['james', 'experiments', 'volcano eruptions', 'slime creation', 'science-themed dinner party'])])"
      ]
     },
     "execution_count": 32,
     "metadata": {},
     "output_type": "execute_result"
    }
   ],
   "source": [
    "lucas.memory.retrieve_long_term_memory_by_key_words(key_word = 'James')"
   ]
  },
  {
   "cell_type": "code",
   "execution_count": 33,
   "metadata": {},
   "outputs": [
    {
     "data": {
      "text/plain": [
       "([FactMemory(fact='We decided on glow-in-the-dark drinks for the party.', key_words=['glow-in-the-dark drinks', 'party']),\n",
       "  FactMemory(fact=\"I'm looking forward to an unforgettable night with delicious food and surprises.\", key_words=['unforgettable night', 'delicious food', 'surprises'])],\n",
       " [EventMemory(event=\"On January 5, 2025, I finalized plans for a science-themed dinner party with friends, including creating an experimental dish inspired by science, John performing a skit as a mad scientist, James proposing a surprise molecular gastronomy dessert, and deciding to have glow-in-the-dark and 'test tube' drinks.\", key_words=['science-themed dinner party', 'experimental dish', 'john skit as mad scientist', 'molecular gastronomy dessert', 'glow-in-the-dark drinks']),\n",
       "  EventMemory(event='On January 6, 2025, I planned a science-themed dinner party with James and John, where we decided on activities like creating experimental dishes, science-themed drinks, and a molecular gastronomy dessert.', key_words=['january 6, 2025', 'science-themed dinner party', 'james', 'john', 'molecular gastronomy dessert'])])"
      ]
     },
     "execution_count": 33,
     "metadata": {},
     "output_type": "execute_result"
    }
   ],
   "source": [
    "lucas.memory.retrieve_long_term_memory_by_recent(2)"
   ]
  },
  {
   "cell_type": "code",
   "execution_count": 37,
   "metadata": {},
   "outputs": [
    {
     "name": "stdout",
     "output_type": "stream",
     "text": [
      "\u001b[1m\u001b[92m \n",
      "[2025-01-21 13:15:27][INFO]: Calling OpenAI agent [lucas]\u001b[00m\n",
      "\u001b[1m\u001b[92m \n",
      "[2025-01-21 13:15:27][INFO]: instructions:\n",
      "## Name:\n",
      " lucas\n",
      "\n",
      "## Role:\n",
      " chef\n",
      "\n",
      "## Description:\n",
      " You are a chef,james is your roommate who is a scientist and a bit nerdy,alywas response with no more than 20 words\n",
      "\n",
      "## Persona:\n",
      " enthusiastic\n",
      "\n",
      "## Recent Memory:\n",
      "### Recent Fact Memory:\n",
      "- James proposed including a surprise molecular gastronomy dessert.\n",
      "- We decided on glow-in-the-dark drinks for the party.\n",
      "- I'm looking forward to an unforgettable night with delicious food and surprises.\n",
      "### Recent Event Memory:\n",
      "- On January 4, 2025, I planned to prepare molecular gastronomy dishes for a science-themed dinner party on Sunday. James will present experiments during the party, including volcano eruptions and slime creation, to make it a fun experience.\n",
      "- On January 5, 2025, I finalized plans for a science-themed dinner party with friends, including creating an experimental dish inspired by science, John performing a skit as a mad scientist, James proposing a surprise molecular gastronomy dessert, and deciding to have glow-in-the-dark and 'test tube' drinks.\n",
      "- On January 6, 2025, I planned a science-themed dinner party with James and John, where we decided on activities like creating experimental dishes, science-themed drinks, and a molecular gastronomy dessert.\n",
      "### Working Memory:\n",
      "- I'm excited about our plan for Sunday. James suggested a science-themed dinner party, which I loved. I plan to create an experimental dish inspired by science. John will perform a fun skit as a mad scientist, adding to the theme. I suggested we have themed cocktails and appetizers, like \"test tube\" drinks. James proposed a surprise molecular gastronomy dessert to wow everyone. We also decided to add glow-in-the-dark drinks for extra fun. I'm looking forward to an unforgettable night filled with delicious food and surprises! Memory from 2025-01-07\n",
      "- I'm excited about our plan for Sunday. James suggested a science-themed dinner party, which I loved. I plan to create an experimental dish inspired by science. John will perform a fun skit as a mad scientist, adding to the theme. I suggested we have themed cocktails and appetizers, like \"test tube\" drinks. James proposed a surprise molecular gastronomy dessert to wow everyone. We also decided to add glow-in-the-dark drinks for extra fun. I'm looking forward to an unforgettable night filled with delicious food and surprises! Memory from 2025-01-08\n",
      "\n",
      "\n",
      "\u001b[00m\n"
     ]
    },
    {
     "data": {
      "text/plain": [
       "[Message(sender='lucas', action='talk', result='John will perform a fun skit as a mad scientist during our science-themed dinner party!')]"
      ]
     },
     "execution_count": 37,
     "metadata": {},
     "output_type": "execute_result"
    }
   ],
   "source": [
    "lucas.do(\"what John said to you before\",use_memory=True)"
   ]
  },
  {
   "cell_type": "code",
   "execution_count": null,
   "metadata": {},
   "outputs": [],
   "source": []
  }
 ],
 "metadata": {
  "kernelspec": {
   "display_name": ".venv",
   "language": "python",
   "name": "python3"
  },
  "language_info": {
   "codemirror_mode": {
    "name": "ipython",
    "version": 3
   },
   "file_extension": ".py",
   "mimetype": "text/x-python",
   "name": "python",
   "nbconvert_exporter": "python",
   "pygments_lexer": "ipython3",
   "version": "3.11.5"
  }
 },
 "nbformat": 4,
 "nbformat_minor": 2
}
