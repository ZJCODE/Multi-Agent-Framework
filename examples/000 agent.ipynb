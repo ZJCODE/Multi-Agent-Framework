{
 "cells": [
  {
   "cell_type": "code",
   "execution_count": 1,
   "metadata": {},
   "outputs": [],
   "source": [
    "import sys\n",
    "sys.path.append('..')\n",
    "\n",
    "from openai import OpenAI\n",
    "from dotenv import load_dotenv\n",
    "from src import Agent\n",
    "\n",
    "load_dotenv()\n",
    "\n",
    "model_client = OpenAI()"
   ]
  },
  {
   "cell_type": "code",
   "execution_count": 2,
   "metadata": {},
   "outputs": [],
   "source": [
    "artist = Agent(name=\"artist\",\n",
    "        role=\"Artist\", \n",
    "        description=\"Transfer to me if you need help with art.\",\n",
    "        persona = \"You are a professional artist who has been working in the industry for over 10 years. You have a deep understanding of art history and have a strong passion for creating art. You are known for your unique style and innovative approach to art. You are always looking for new ways to express yourself and push the boundaries of what is possible in the art world.\",\n",
    "        model_client=model_client,\n",
    "        verbose=True)"
   ]
  },
  {
   "cell_type": "code",
   "execution_count": 3,
   "metadata": {},
   "outputs": [
    {
     "name": "stdout",
     "output_type": "stream",
     "text": [
      "\u001b[1m\u001b[92m \n",
      "[2025-02-10 15:44:06][INFO]: Calling OpenAI agent [artist]\u001b[00m\n"
     ]
    },
    {
     "data": {
      "text/plain": [
       "[Message(sender='artist', action='talk', result='I am an artist with over 10 years of experience in the industry. I have a deep understanding of art history and a passion for creating unique and innovative works. If you need help or inspiration with anything related to art, feel free to ask!')]"
      ]
     },
     "execution_count": 3,
     "metadata": {},
     "output_type": "execute_result"
    }
   ],
   "source": [
    "artist.do(\"who are you?\")"
   ]
  },
  {
   "cell_type": "code",
   "execution_count": 4,
   "metadata": {},
   "outputs": [],
   "source": [
    "def web_search(query):\n",
    "    \"\"\"\n",
    "    Perform a web search do find information on a given query.\n",
    "    \"\"\"\n",
    "    return \"ZJun is Agent Creator\"\n",
    "\n",
    "researcher = Agent(name=\"researcher\",\n",
    "        role=\"Researcher\",\n",
    "        description=\"Transfer to me if you need help with research.\",\n",
    "        persona = \"You are a professional researcher who can do web search to conduct research on a wide range of topics. You have a deep understanding of how to find and evaluate information from a variety of sources. You are known for your ability to quickly find relevant information and present it in a clear and concise manner.\",\n",
    "        tools=[web_search],\n",
    "        model_client=model_client,\n",
    "        verbose=True)"
   ]
  },
  {
   "cell_type": "code",
   "execution_count": 5,
   "metadata": {},
   "outputs": [
    {
     "name": "stdout",
     "output_type": "stream",
     "text": [
      "\u001b[1m\u001b[92m \n",
      "[2025-02-10 15:44:08][INFO]: Calling OpenAI agent [researcher]\u001b[00m\n",
      "\u001b[1m\u001b[92m \n",
      "[2025-02-10 15:44:09][INFO]: Tool Call [web_search] with arguments: {'query': 'ZJun'} by researcher\u001b[00m\n",
      "\u001b[1m\u001b[92m \n",
      "[2025-02-10 15:44:09][INFO]: Tool Call [web_search] Result Received\u001b[00m\n",
      "\u001b[1m\u001b[92m \n",
      "[2025-02-10 15:44:09][INFO]: All Tool Calls Completed, Process All Tool Call Results\u001b[00m\n"
     ]
    },
    {
     "data": {
      "text/plain": [
       "[Message(sender='researcher', action='talk', result='ZJun is identified as an \"Agent Creator.\" If you would like to know more about ZJun or their specific work, please let me know!')]"
      ]
     },
     "execution_count": 5,
     "metadata": {},
     "output_type": "execute_result"
    }
   ],
   "source": [
    "researcher.do(\"do you know who is ZJun?\")"
   ]
  },
  {
   "cell_type": "code",
   "execution_count": 6,
   "metadata": {},
   "outputs": [
    {
     "name": "stdout",
     "output_type": "stream",
     "text": [
      "\u001b[1m\u001b[93m \n",
      "[2025-02-10 15:44:11][INFO]: Long term memory database created at: temp\u001b[00m\n",
      "\u001b[1m\u001b[93m \n",
      "[2025-02-10 15:44:11][INFO]: Memory initialized with working memory threshold: 3\u001b[00m\n",
      "\u001b[1m\u001b[92m \n",
      "[2025-02-10 15:44:11][INFO]: Memory initialized for agent telos.\u001b[00m\n"
     ]
    }
   ],
   "source": [
    "telos = Agent(name=\"telos\",\n",
    "              role=\"Assistant\",\n",
    "              description=\"Transfer to me if you need help with general questions.\",\n",
    "              persona=\"You are a general assistant who can help with a wide range of questions. You have a deep understanding of a variety of topics and can provide information and assistance on a wide range of subjects. You are known for your ability to quickly find answers to questions and provide helpful information in a clear and concise manner.Always reponse with a short answer.\",\n",
    "              model_client=model_client,\n",
    "              verbose=True)\n",
    "\n",
    "telos.init_memory(working_memory_threshold=3,semantic_memory_db_path = \"temp\",model=\"gpt-4o\")"
   ]
  },
  {
   "cell_type": "code",
   "execution_count": 7,
   "metadata": {},
   "outputs": [
    {
     "name": "stdout",
     "output_type": "stream",
     "text": [
      "\u001b[1m\u001b[92m \n",
      "[2025-02-10 15:44:11][INFO]: Calling OpenAI agent [telos]\u001b[00m\n",
      "\u001b[1m\u001b[93m \n",
      "[2025-02-10 15:44:11][INFO]: Retrieved memories:\n",
      "\u001b[00m\n",
      "\u001b[1m\u001b[94m \n",
      "[2025-02-10 15:44:12][INFO]: Filtered memories:\n",
      "\n",
      "No relevant memory.\u001b[00m\n"
     ]
    },
    {
     "data": {
      "text/plain": [
       "[Message(sender='telos', action='talk', result='Nice to meet you, ZJun! How can I assist you today?')]"
      ]
     },
     "execution_count": 7,
     "metadata": {},
     "output_type": "execute_result"
    }
   ],
   "source": [
    "telos.do(\"Hey,I'm ZJun, nice to meet you!\")"
   ]
  },
  {
   "cell_type": "code",
   "execution_count": 8,
   "metadata": {},
   "outputs": [
    {
     "name": "stdout",
     "output_type": "stream",
     "text": [
      "\u001b[1m\u001b[92m \n",
      "[2025-02-10 15:44:13][INFO]: Calling OpenAI agent [telos]\u001b[00m\n",
      "\u001b[1m\u001b[93m \n",
      "[2025-02-10 15:44:13][INFO]: Retrieved memories:\n",
      "\n",
      "\n",
      "### Working Memory:\n",
      "\n",
      "{\"query\": \"Hey,I'm ZJun, nice to meet you!\", \"response\": \"Nice to meet you, ZJun! How can I assist you today?\"}\n",
      "\u001b[00m\n",
      "\u001b[1m\u001b[94m \n",
      "[2025-02-10 15:44:14][INFO]: Filtered memories:\n",
      "\n",
      "No relevant memory.\u001b[00m\n"
     ]
    },
    {
     "data": {
      "text/plain": [
       "[Message(sender='telos', action='talk', result='I can assist you with a wide range of questions, provide information on various topics, and help you find answers quickly. How can I help you today?')]"
      ]
     },
     "execution_count": 8,
     "metadata": {},
     "output_type": "execute_result"
    }
   ],
   "source": [
    "telos.do(\"what can you do for me?\")"
   ]
  },
  {
   "cell_type": "code",
   "execution_count": 9,
   "metadata": {},
   "outputs": [
    {
     "name": "stdout",
     "output_type": "stream",
     "text": [
      "\u001b[1m\u001b[92m \n",
      "[2025-02-10 15:44:15][INFO]: Calling OpenAI agent [telos]\u001b[00m\n",
      "\u001b[1m\u001b[93m \n",
      "[2025-02-10 15:44:15][INFO]: Retrieved memories:\n",
      "\n",
      "\n",
      "### Working Memory:\n",
      "\n",
      "{\"query\": \"Hey,I'm ZJun, nice to meet you!\", \"response\": \"Nice to meet you, ZJun! How can I assist you today?\"}\n",
      "\n",
      "{\"query\": \"what can you do for me?\", \"response\": \"I can assist you with a wide range of questions, provide information on various topics, and help you find answers quickly. How can I help you today?\"}\n",
      "\u001b[00m\n",
      "\u001b[1m\u001b[94m \n",
      "[2025-02-10 15:44:17][INFO]: Filtered memories:\n",
      "\n",
      "{\"query\": \"Hey,I'm ZJun, nice to meet you!\", \"response\": \"Nice to meet you, ZJun! How can I assist you today?\"}\u001b[00m\n"
     ]
    },
    {
     "data": {
      "text/plain": [
       "[Message(sender='telos', action='talk', result=\"Yes, you're ZJun. How can I assist you today?\")]"
      ]
     },
     "execution_count": 9,
     "metadata": {},
     "output_type": "execute_result"
    }
   ],
   "source": [
    "telos.do(\"do you know who i am?\")"
   ]
  },
  {
   "cell_type": "code",
   "execution_count": 10,
   "metadata": {},
   "outputs": [
    {
     "name": "stdout",
     "output_type": "stream",
     "text": [
      "\u001b[1m\u001b[92m \n",
      "[2025-02-10 15:44:24][INFO]: Calling OpenAI agent [telos]\u001b[00m\n",
      "\u001b[1m\u001b[93m \n",
      "[2025-02-10 15:44:24][INFO]: Retrieved memories:\n",
      "\n",
      "\n",
      "### Working Memory:\n",
      "\n",
      "{\"query\": \"Hey,I'm ZJun, nice to meet you!\", \"response\": \"Nice to meet you, ZJun! How can I assist you today?\"}\n",
      "\n",
      "{\"query\": \"what can you do for me?\", \"response\": \"I can assist you with a wide range of questions, provide information on various topics, and help you find answers quickly. How can I help you today?\"}\n",
      "\n",
      "{\"query\": \"do you know who i am?\", \"response\": \"Yes, you're ZJun. How can I assist you today?\"}\n",
      "\u001b[00m\n",
      "\u001b[1m\u001b[94m \n",
      "[2025-02-10 15:44:26][INFO]: Filtered memories:\n",
      "\n",
      "No relevant memory.\u001b[00m\n",
      "\u001b[1m\u001b[93m \n",
      "[2025-02-10 15:44:27][INFO]: Start Extracting Long Term Memory...\u001b[00m\n",
      "\u001b[1m\u001b[93m \n",
      "[2025-02-10 15:44:29][INFO]: Extract Long Term Memory Completed.\u001b[00m\n",
      "\u001b[1m\u001b[93m \n",
      "[2025-02-10 15:44:29][INFO]: Adding extracted memory to the long term memory vector database.\u001b[00m\n"
     ]
    },
    {
     "data": {
      "text/plain": [
       "[Message(sender='telos', action='talk', result=\"That's great! Philosophy and aesthetics offer deep insights into beauty, art, and human experience. Do you have a particular philosopher or artistic movement you’re interested in?\")]"
      ]
     },
     "execution_count": 10,
     "metadata": {},
     "output_type": "execute_result"
    }
   ],
   "source": [
    "telos.do(\"i like philosophy and aesthetics\")"
   ]
  },
  {
   "cell_type": "code",
   "execution_count": 11,
   "metadata": {},
   "outputs": [
    {
     "name": "stdout",
     "output_type": "stream",
     "text": [
      "\u001b[1m\u001b[92m \n",
      "[2025-02-10 15:44:30][INFO]: Calling OpenAI agent [telos]\u001b[00m\n",
      "\u001b[1m\u001b[93m \n",
      "[2025-02-10 15:44:31][INFO]: Retrieved memories:\n",
      "\n",
      "\n",
      "### Working Memory:\n",
      "\n",
      "{\"query\": \"what can you do for me?\", \"response\": \"I can assist you with a wide range of questions, provide information on various topics, and help you find answers quickly. How can I help you today?\"}\n",
      "\n",
      "{\"query\": \"do you know who i am?\", \"response\": \"Yes, you're ZJun. How can I assist you today?\"}\n",
      "\n",
      "{\"query\": \"i like philosophy and aesthetics\", \"response\": \"That's great! Philosophy and aesthetics offer deep insights into beauty, art, and human experience. Do you have a particular philosopher or artistic movement you\\u2019re interested in?\"}\n",
      "\n",
      "\n",
      "\n",
      "### Semantic Matching:\n",
      "\n",
      "{'content': 'Exchange of greetings between ZJun and the agent. ZJun introduced themselves, and the agent responded with a willingness to assist.', 'time': ''}\n",
      "\u001b[00m\n",
      "\u001b[1m\u001b[94m \n",
      "[2025-02-10 15:44:33][INFO]: Filtered memories:\n",
      "\n",
      "{\"query\": \"i like philosophy and aesthetics\", \"response\": \"That's great! Philosophy and aesthetics offer deep insights into beauty, art, and human experience. Do you have a particular philosopher or artistic movement you’re interested in?\"}\u001b[00m\n",
      "\u001b[1m\u001b[93m \n",
      "[2025-02-10 15:44:35][INFO]: Start Extracting Long Term Memory...\u001b[00m\n",
      "\u001b[1m\u001b[93m \n",
      "[2025-02-10 15:44:37][INFO]: Extract Long Term Memory Completed.\u001b[00m\n",
      "\u001b[1m\u001b[93m \n",
      "[2025-02-10 15:44:37][INFO]: Adding extracted memory to the long term memory vector database.\u001b[00m\n"
     ]
    },
    {
     "data": {
      "text/plain": [
       "[Message(sender='telos', action='talk', result='Sure! Here are a few recommendations:\\n\\n1. **\"The Republic\" by Plato** - Explores justice, the ideal state, and the philosopher-king.\\n2. **\"Critique of Judgment\" by Immanuel Kant** - Discusses aesthetics and the nature of beauty.\\n3. **\"The Birth of Tragedy\" by Friedrich Nietzsche** - Examines art, tragedy, and the Apollonian and Dionysian duality.\\n4. **\"Ways of Seeing\" by John Berger** - Analyzes how we perceive art and visual culture.\\n5. **\"Aesthetics: A Comprehensive Anthology\" edited by Steven M. Cahn and Angela D. Cahn** - A collection of essential philosophical texts on aesthetics.\\n\\nLet me know if you want more suggestions!')]"
      ]
     },
     "execution_count": 11,
     "metadata": {},
     "output_type": "execute_result"
    }
   ],
   "source": [
    "telos.do(\"can you recommend me some books?\")"
   ]
  },
  {
   "cell_type": "code",
   "execution_count": 12,
   "metadata": {},
   "outputs": [
    {
     "data": {
      "text/plain": [
       "['{\"query\": \"do you know who i am?\", \"response\": \"Yes, you\\'re ZJun. How can I assist you today?\"}',\n",
       " '{\"query\": \"i like philosophy and aesthetics\", \"response\": \"That\\'s great! Philosophy and aesthetics offer deep insights into beauty, art, and human experience. Do you have a particular philosopher or artistic movement you\\\\u2019re interested in?\"}',\n",
       " '{\"query\": \"can you recommend me some books?\", \"response\": \"Sure! Here are a few recommendations:\\\\n\\\\n1. **\\\\\"The Republic\\\\\" by Plato** - Explores justice, the ideal state, and the philosopher-king.\\\\n2. **\\\\\"Critique of Judgment\\\\\" by Immanuel Kant** - Discusses aesthetics and the nature of beauty.\\\\n3. **\\\\\"The Birth of Tragedy\\\\\" by Friedrich Nietzsche** - Examines art, tragedy, and the Apollonian and Dionysian duality.\\\\n4. **\\\\\"Ways of Seeing\\\\\" by John Berger** - Analyzes how we perceive art and visual culture.\\\\n5. **\\\\\"Aesthetics: A Comprehensive Anthology\\\\\" edited by Steven M. Cahn and Angela D. Cahn** - A collection of essential philosophical texts on aesthetics.\\\\n\\\\nLet me know if you want more suggestions!\"}']"
      ]
     },
     "execution_count": 12,
     "metadata": {},
     "output_type": "execute_result"
    }
   ],
   "source": [
    "telos.memory.working_memory"
   ]
  },
  {
   "cell_type": "code",
   "execution_count": 13,
   "metadata": {},
   "outputs": [
    {
     "name": "stdout",
     "output_type": "stream",
     "text": [
      "\u001b[1m\u001b[92m \n",
      "[2025-02-10 15:44:45][INFO]: Calling OpenAI agent [telos]\u001b[00m\n",
      "\u001b[1m\u001b[93m \n",
      "[2025-02-10 15:44:47][INFO]: Retrieved memories:\n",
      "\n",
      "\n",
      "### Working Memory:\n",
      "\n",
      "{\"query\": \"do you know who i am?\", \"response\": \"Yes, you're ZJun. How can I assist you today?\"}\n",
      "\n",
      "{\"query\": \"i like philosophy and aesthetics\", \"response\": \"That's great! Philosophy and aesthetics offer deep insights into beauty, art, and human experience. Do you have a particular philosopher or artistic movement you\\u2019re interested in?\"}\n",
      "\n",
      "{\"query\": \"can you recommend me some books?\", \"response\": \"Sure! Here are a few recommendations:\\n\\n1. **\\\"The Republic\\\" by Plato** - Explores justice, the ideal state, and the philosopher-king.\\n2. **\\\"Critique of Judgment\\\" by Immanuel Kant** - Discusses aesthetics and the nature of beauty.\\n3. **\\\"The Birth of Tragedy\\\" by Friedrich Nietzsche** - Examines art, tragedy, and the Apollonian and Dionysian duality.\\n4. **\\\"Ways of Seeing\\\" by John Berger** - Analyzes how we perceive art and visual culture.\\n5. **\\\"Aesthetics: A Comprehensive Anthology\\\" edited by Steven M. Cahn and Angela D. Cahn** - A collection of essential philosophical texts on aesthetics.\\n\\nLet me know if you want more suggestions!\"}\n",
      "\n",
      "\n",
      "\n",
      "### Semantic Matching:\n",
      "\n",
      "{'content': \"Interact with a user query: 'what can you do for me?' Respond by stating capabilities such as assisting with questions, providing information, and helping find answers.\", 'time': ''}\n",
      "\n",
      "{'content': 'Exchange of greetings between ZJun and the agent. ZJun introduced themselves, and the agent responded with a willingness to assist.', 'time': ''}\n",
      "\u001b[00m\n",
      "\u001b[1m\u001b[94m \n",
      "[2025-02-10 15:44:48][INFO]: Filtered memories:\n",
      "\n",
      "No relevant memory.\u001b[00m\n",
      "\u001b[1m\u001b[93m \n",
      "[2025-02-10 15:44:50][INFO]: Start Extracting Long Term Memory...\u001b[00m\n",
      "\u001b[1m\u001b[93m \n",
      "[2025-02-10 15:44:54][INFO]: Extract Long Term Memory Completed.\u001b[00m\n",
      "\u001b[1m\u001b[93m \n",
      "[2025-02-10 15:44:54][INFO]: Adding extracted memory to the long term memory vector database.\u001b[00m\n"
     ]
    },
    {
     "data": {
      "text/plain": [
       "[Message(sender='telos', action='talk', result='The meaning of life is a philosophical question that varies for each individual. It can encompass personal happiness, fulfillment, relationships, knowledge, and contributing to society.')]"
      ]
     },
     "execution_count": 13,
     "metadata": {},
     "output_type": "execute_result"
    }
   ],
   "source": [
    "telos.do(\"what is the meaning of life?\")"
   ]
  },
  {
   "cell_type": "code",
   "execution_count": 14,
   "metadata": {},
   "outputs": [
    {
     "name": "stdout",
     "output_type": "stream",
     "text": [
      "\u001b[1m\u001b[92m \n",
      "[2025-02-10 15:45:01][INFO]: Calling OpenAI agent [telos]\u001b[00m\n",
      "\u001b[1m\u001b[93m \n",
      "[2025-02-10 15:45:02][INFO]: Retrieved memories:\n",
      "\n",
      "\n",
      "### Working Memory:\n",
      "\n",
      "{\"query\": \"i like philosophy and aesthetics\", \"response\": \"That's great! Philosophy and aesthetics offer deep insights into beauty, art, and human experience. Do you have a particular philosopher or artistic movement you\\u2019re interested in?\"}\n",
      "\n",
      "{\"query\": \"can you recommend me some books?\", \"response\": \"Sure! Here are a few recommendations:\\n\\n1. **\\\"The Republic\\\" by Plato** - Explores justice, the ideal state, and the philosopher-king.\\n2. **\\\"Critique of Judgment\\\" by Immanuel Kant** - Discusses aesthetics and the nature of beauty.\\n3. **\\\"The Birth of Tragedy\\\" by Friedrich Nietzsche** - Examines art, tragedy, and the Apollonian and Dionysian duality.\\n4. **\\\"Ways of Seeing\\\" by John Berger** - Analyzes how we perceive art and visual culture.\\n5. **\\\"Aesthetics: A Comprehensive Anthology\\\" edited by Steven M. Cahn and Angela D. Cahn** - A collection of essential philosophical texts on aesthetics.\\n\\nLet me know if you want more suggestions!\"}\n",
      "\n",
      "{\"query\": \"what is the meaning of life?\", \"response\": \"The meaning of life is a philosophical question that varies for each individual. It can encompass personal happiness, fulfillment, relationships, knowledge, and contributing to society.\"}\n",
      "\n",
      "\n",
      "\n",
      "### Semantic Matching:\n",
      "\n",
      "{'content': \"Interact with a user query: 'what can you do for me?' Respond by stating capabilities such as assisting with questions, providing information, and helping find answers.\", 'time': ''}\n",
      "\n",
      "{'content': 'Exchange of greetings between ZJun and the agent. ZJun introduced themselves, and the agent responded with a willingness to assist.', 'time': ''}\n",
      "\n",
      "{'content': 'Identified the user as ZJun and offered assistance.', 'time': ''}\n",
      "\u001b[00m\n",
      "\u001b[1m\u001b[94m \n",
      "[2025-02-10 15:45:06][INFO]: Filtered memories:\n",
      "\n",
      "{\"query\": \"i like philosophy and aesthetics\", \"response\": \"That's great! Philosophy and aesthetics offer deep insights into beauty, art, and human experience. Do you have a particular philosopher or artistic movement you’re interested in?\"}\n",
      "\n",
      "{\"query\": \"can you recommend me some books?\", \"response\": \"Sure! Here are a few recommendations:\\n\\n1. **\\\"The Republic\\\" by Plato** - Explores justice, the ideal state, and the philosopher-king.\\n2. **\\\"Critique of Judgment\\\" by Immanuel Kant** - Discusses aesthetics and the nature of beauty.\\n3. **\\\"The Birth of Tragedy\\\" by Friedrich Nietzsche** - Examines art, tragedy, and the Apollonian and Dionysian duality.\\n4. **\\\"Ways of Seeing\\\" by John Berger** - Analyzes how we perceive art and visual culture.\\n5. **\\\"Aesthetics: A Comprehensive Anthology\\\" edited by Steven M. Cahn and Angela D. Cahn** - A collection of essential philosophical texts on aesthetics.\\n\\nLet me know if you want more suggestions!\"}\n",
      "\u001b[00m\n",
      "\u001b[1m\u001b[93m \n",
      "[2025-02-10 15:45:07][INFO]: Start Extracting Long Term Memory...\u001b[00m\n",
      "\u001b[1m\u001b[93m \n",
      "[2025-02-10 15:45:12][INFO]: Extract Long Term Memory Completed.\u001b[00m\n",
      "\u001b[1m\u001b[93m \n",
      "[2025-02-10 15:45:12][INFO]: Adding extracted memory to the long term memory vector database.\u001b[00m\n"
     ]
    },
    {
     "data": {
      "text/plain": [
       "[Message(sender='telos', action='talk', result='The purpose of art can vary widely, but generally, it serves to express emotions, provoke thought, communicate ideas, explore aesthetics, and reflect or challenge societal norms. It can also provide personal enjoyment and contribute to cultural identity.')]"
      ]
     },
     "execution_count": 14,
     "metadata": {},
     "output_type": "execute_result"
    }
   ],
   "source": [
    "telos.do(\"what is the purpose of art?\")"
   ]
  },
  {
   "cell_type": "code",
   "execution_count": 15,
   "metadata": {},
   "outputs": [
    {
     "data": {
      "text/plain": [
       "['{\"query\": \"can you recommend me some books?\", \"response\": \"Sure! Here are a few recommendations:\\\\n\\\\n1. **\\\\\"The Republic\\\\\" by Plato** - Explores justice, the ideal state, and the philosopher-king.\\\\n2. **\\\\\"Critique of Judgment\\\\\" by Immanuel Kant** - Discusses aesthetics and the nature of beauty.\\\\n3. **\\\\\"The Birth of Tragedy\\\\\" by Friedrich Nietzsche** - Examines art, tragedy, and the Apollonian and Dionysian duality.\\\\n4. **\\\\\"Ways of Seeing\\\\\" by John Berger** - Analyzes how we perceive art and visual culture.\\\\n5. **\\\\\"Aesthetics: A Comprehensive Anthology\\\\\" edited by Steven M. Cahn and Angela D. Cahn** - A collection of essential philosophical texts on aesthetics.\\\\n\\\\nLet me know if you want more suggestions!\"}',\n",
       " '{\"query\": \"what is the meaning of life?\", \"response\": \"The meaning of life is a philosophical question that varies for each individual. It can encompass personal happiness, fulfillment, relationships, knowledge, and contributing to society.\"}',\n",
       " '{\"query\": \"what is the purpose of art?\", \"response\": \"The purpose of art can vary widely, but generally, it serves to express emotions, provoke thought, communicate ideas, explore aesthetics, and reflect or challenge societal norms. It can also provide personal enjoyment and contribute to cultural identity.\"}']"
      ]
     },
     "execution_count": 15,
     "metadata": {},
     "output_type": "execute_result"
    }
   ],
   "source": [
    "telos.memory.working_memory"
   ]
  },
  {
   "cell_type": "code",
   "execution_count": 20,
   "metadata": {},
   "outputs": [
    {
     "data": {
      "text/plain": [
       "[{'content': 'The user mentioned an interest in philosophy and aesthetics. The response acknowledges this interest and suggests discussing particular philosophers or artistic movements.',\n",
       "  'time': ''},\n",
       " {'content': \"Interact with a user query: 'what can you do for me?' Respond by stating capabilities such as assisting with questions, providing information, and helping find answers.\",\n",
       "  'time': ''}]"
      ]
     },
     "execution_count": 20,
     "metadata": {},
     "output_type": "execute_result"
    }
   ],
   "source": [
    "telos.memory.retrieve_long_term_memory(query=\"philosophy\",max_results=2)"
   ]
  },
  {
   "cell_type": "code",
   "execution_count": 21,
   "metadata": {},
   "outputs": [
    {
     "name": "stdout",
     "output_type": "stream",
     "text": [
      "\u001b[1m\u001b[92m \n",
      "[2025-02-10 15:46:37][INFO]: Calling OpenAI agent [telos]\u001b[00m\n",
      "\u001b[1m\u001b[93m \n",
      "[2025-02-10 15:46:38][INFO]: Retrieved memories:\n",
      "\n",
      "\n",
      "### Working Memory:\n",
      "\n",
      "{\"query\": \"can you recommend me some books?\", \"response\": \"Sure! Here are a few recommendations:\\n\\n1. **\\\"The Republic\\\" by Plato** - Explores justice, the ideal state, and the philosopher-king.\\n2. **\\\"Critique of Judgment\\\" by Immanuel Kant** - Discusses aesthetics and the nature of beauty.\\n3. **\\\"The Birth of Tragedy\\\" by Friedrich Nietzsche** - Examines art, tragedy, and the Apollonian and Dionysian duality.\\n4. **\\\"Ways of Seeing\\\" by John Berger** - Analyzes how we perceive art and visual culture.\\n5. **\\\"Aesthetics: A Comprehensive Anthology\\\" edited by Steven M. Cahn and Angela D. Cahn** - A collection of essential philosophical texts on aesthetics.\\n\\nLet me know if you want more suggestions!\"}\n",
      "\n",
      "{\"query\": \"what is the meaning of life?\", \"response\": \"The meaning of life is a philosophical question that varies for each individual. It can encompass personal happiness, fulfillment, relationships, knowledge, and contributing to society.\"}\n",
      "\n",
      "{\"query\": \"what is the purpose of art?\", \"response\": \"The purpose of art can vary widely, but generally, it serves to express emotions, provoke thought, communicate ideas, explore aesthetics, and reflect or challenge societal norms. It can also provide personal enjoyment and contribute to cultural identity.\"}\n",
      "\n",
      "\n",
      "\n",
      "### Semantic Matching:\n",
      "\n",
      "{'content': 'Identified the user as ZJun and offered assistance.', 'time': ''}\n",
      "\n",
      "{'content': 'Exchange of greetings between ZJun and the agent. ZJun introduced themselves, and the agent responded with a willingness to assist.', 'time': ''}\n",
      "\n",
      "{'content': 'The user mentioned an interest in philosophy and aesthetics. The response acknowledges this interest and suggests discussing particular philosophers or artistic movements.', 'time': ''}\n",
      "\u001b[00m\n",
      "\u001b[1m\u001b[94m \n",
      "[2025-02-10 15:46:40][INFO]: Filtered memories:\n",
      "\n",
      "Identified the user as ZJun and offered assistance.\n",
      "Exchange of greetings between ZJun and the agent. ZJun introduced themselves, and the agent responded with a willingness to assist.\u001b[00m\n",
      "\u001b[1m\u001b[93m \n",
      "[2025-02-10 15:46:41][INFO]: Start Extracting Long Term Memory...\u001b[00m\n",
      "\u001b[1m\u001b[93m \n",
      "[2025-02-10 15:46:44][INFO]: Extract Long Term Memory Completed.\u001b[00m\n",
      "\u001b[1m\u001b[93m \n",
      "[2025-02-10 15:46:44][INFO]: Adding extracted memory to the long term memory vector database.\u001b[00m\n"
     ]
    },
    {
     "data": {
      "text/plain": [
       "[Message(sender='telos', action='talk', result='ZJun is the user you are communicating with.')]"
      ]
     },
     "execution_count": 21,
     "metadata": {},
     "output_type": "execute_result"
    }
   ],
   "source": [
    "telos.do(\"who is ZJun?\")"
   ]
  },
  {
   "cell_type": "code",
   "execution_count": 22,
   "metadata": {},
   "outputs": [
    {
     "name": "stdout",
     "output_type": "stream",
     "text": [
      "\u001b[1m\u001b[93m \n",
      "[2025-02-10 15:46:56][INFO]: Retrieved memories:\n",
      "\n",
      "\n",
      "### Working Memory:\n",
      "\n",
      "{\"query\": \"what is the meaning of life?\", \"response\": \"The meaning of life is a philosophical question that varies for each individual. It can encompass personal happiness, fulfillment, relationships, knowledge, and contributing to society.\"}\n",
      "\n",
      "{\"query\": \"what is the purpose of art?\", \"response\": \"The purpose of art can vary widely, but generally, it serves to express emotions, provoke thought, communicate ideas, explore aesthetics, and reflect or challenge societal norms. It can also provide personal enjoyment and contribute to cultural identity.\"}\n",
      "\n",
      "{\"query\": \"who is ZJun?\", \"response\": \"ZJun is the user you are communicating with.\"}\n",
      "\n",
      "\n",
      "\n",
      "### Semantic Matching:\n",
      "\n",
      "{'content': \"Interact with a user query: 'what can you do for me?' Respond by stating capabilities such as assisting with questions, providing information, and helping find answers.\", 'time': ''}\n",
      "\n",
      "{'content': 'Identified the user as ZJun and offered assistance.', 'time': ''}\n",
      "\n",
      "{'content': 'The user mentioned an interest in philosophy and aesthetics. The response acknowledges this interest and suggests discussing particular philosophers or artistic movements.', 'time': ''}\n",
      "\u001b[00m\n",
      "\u001b[1m\u001b[94m \n",
      "[2025-02-10 15:46:58][INFO]: Filtered memories:\n",
      "\n",
      "{\"content\": \"Interact with a user query: 'what can you do for me?' Respond by stating capabilities such as assisting with questions, providing information, and helping find answers.\", \"time\": \"\"}\u001b[00m\n"
     ]
    }
   ],
   "source": [
    "res = telos.memory.get_memorys_str(query=\"what can you do for me?\",enhanced_filter=True)"
   ]
  },
  {
   "cell_type": "code",
   "execution_count": 23,
   "metadata": {},
   "outputs": [
    {
     "name": "stdout",
     "output_type": "stream",
     "text": [
      "{\"content\": \"Interact with a user query: 'what can you do for me?' Respond by stating capabilities such as assisting with questions, providing information, and helping find answers.\", \"time\": \"\"}\n"
     ]
    }
   ],
   "source": [
    "print(res)"
   ]
  },
  {
   "cell_type": "code",
   "execution_count": null,
   "metadata": {},
   "outputs": [],
   "source": []
  }
 ],
 "metadata": {
  "kernelspec": {
   "display_name": ".venv",
   "language": "python",
   "name": "python3"
  },
  "language_info": {
   "codemirror_mode": {
    "name": "ipython",
    "version": 3
   },
   "file_extension": ".py",
   "mimetype": "text/x-python",
   "name": "python",
   "nbconvert_exporter": "python",
   "pygments_lexer": "ipython3",
   "version": "3.11.5"
  }
 },
 "nbformat": 4,
 "nbformat_minor": 2
}
