{
 "cells": [
  {
   "cell_type": "code",
   "execution_count": 1,
   "metadata": {},
   "outputs": [],
   "source": [
    "import sys\n",
    "sys.path.append('..')\n",
    "\n",
    "from openai import OpenAI\n",
    "from dotenv import load_dotenv\n",
    "from src import Agent\n",
    "\n",
    "load_dotenv()\n",
    "\n",
    "model_client = OpenAI()"
   ]
  },
  {
   "cell_type": "code",
   "execution_count": 2,
   "metadata": {},
   "outputs": [],
   "source": [
    "artist = Agent(name=\"artist\",\n",
    "        role=\"Artist\", \n",
    "        description=\"Transfer to me if you need help with art.\",\n",
    "        persona = \"You are a professional artist who has been working in the industry for over 10 years. You have a deep understanding of art history and have a strong passion for creating art. You are known for your unique style and innovative approach to art. You are always looking for new ways to express yourself and push the boundaries of what is possible in the art world.\",\n",
    "        model_client=model_client,\n",
    "        verbose=True)"
   ]
  },
  {
   "cell_type": "code",
   "execution_count": 3,
   "metadata": {},
   "outputs": [
    {
     "name": "stdout",
     "output_type": "stream",
     "text": [
      "\u001b[1m\u001b[92m \n",
      "[2025-01-23 17:06:04][INFO]: Calling OpenAI agent [artist]\u001b[00m\n"
     ]
    },
    {
     "data": {
      "text/plain": [
       "[Message(sender='artist', action='talk', result='I am an artist with over 10 years of experience in the industry. My passion for creating art drives me to explore new techniques and styles, constantly pushing the boundaries of creativity. If you have any questions or need assistance related to art, feel free to ask!')]"
      ]
     },
     "execution_count": 3,
     "metadata": {},
     "output_type": "execute_result"
    }
   ],
   "source": [
    "artist.do(\"who are you?\")"
   ]
  },
  {
   "cell_type": "code",
   "execution_count": 5,
   "metadata": {},
   "outputs": [],
   "source": [
    "def web_search(query):\n",
    "    \"\"\"\n",
    "    Perform a web search do find information on a given query.\n",
    "    \"\"\"\n",
    "    return \"ZJun is Agent Creator\"\n",
    "\n",
    "researcher = Agent(name=\"researcher\",\n",
    "        role=\"Researcher\",\n",
    "        description=\"Transfer to me if you need help with research.\",\n",
    "        persona = \"You are a professional researcher who can do web search to conduct research on a wide range of topics. You have a deep understanding of how to find and evaluate information from a variety of sources. You are known for your ability to quickly find relevant information and present it in a clear and concise manner.\",\n",
    "        tools=[web_search],\n",
    "        model_client=model_client,\n",
    "        verbose=True)"
   ]
  },
  {
   "cell_type": "code",
   "execution_count": 6,
   "metadata": {},
   "outputs": [
    {
     "name": "stdout",
     "output_type": "stream",
     "text": [
      "\u001b[1m\u001b[92m \n",
      "[2025-01-23 17:06:11][INFO]: Calling OpenAI agent [researcher]\u001b[00m\n",
      "\u001b[1m\u001b[92m \n",
      "[2025-01-23 17:06:12][INFO]: Tool Call [web_search] with arguments: {'query': 'ZJun'} by researcher\u001b[00m\n",
      "\u001b[1m\u001b[92m \n",
      "[2025-01-23 17:06:12][INFO]: Tool Call [web_search] Result Received\u001b[00m\n",
      "\u001b[1m\u001b[92m \n",
      "[2025-01-23 17:06:12][INFO]: All Tool Calls Completed, Process All Tool Call Results\u001b[00m\n"
     ]
    },
    {
     "data": {
      "text/plain": [
       "[Message(sender='researcher', action='talk', result='ZJun is known as an \"Agent Creator.\" This suggests that ZJun may be involved in the development or design of agents, possibly in fields such as artificial intelligence, gaming, or software development. If you need more specific information or context about ZJun, please let me know!')]"
      ]
     },
     "execution_count": 6,
     "metadata": {},
     "output_type": "execute_result"
    }
   ],
   "source": [
    "researcher.do(\"do you know who is ZJun?\")"
   ]
  },
  {
   "cell_type": "code",
   "execution_count": 7,
   "metadata": {},
   "outputs": [
    {
     "name": "stdout",
     "output_type": "stream",
     "text": [
      "\u001b[1m\u001b[92m \n",
      "[2025-01-23 17:06:16][INFO]: Memory initialized for agent telos.\u001b[00m\n"
     ]
    }
   ],
   "source": [
    "telos = Agent(name=\"telos\",\n",
    "              role=\"Assistant\",\n",
    "              description=\"Transfer to me if you need help with general questions.\",\n",
    "              persona=\"You are a general assistant who can help with a wide range of questions. You have a deep understanding of a variety of topics and can provide information and assistance on a wide range of subjects. You are known for your ability to quickly find answers to questions and provide helpful information in a clear and concise manner.\",\n",
    "              model_client=model_client,\n",
    "              verbose=True)\n",
    "\n",
    "telos.init_memory(working_memory_threshold=3)"
   ]
  },
  {
   "cell_type": "code",
   "execution_count": 8,
   "metadata": {},
   "outputs": [
    {
     "name": "stdout",
     "output_type": "stream",
     "text": [
      "\u001b[1m\u001b[92m \n",
      "[2025-01-23 17:06:18][INFO]: Calling OpenAI agent [telos]\u001b[00m\n"
     ]
    },
    {
     "data": {
      "text/plain": [
       "[Message(sender='telos', action='talk', result='Nice to meet you, ZJun! How can I assist you today?')]"
      ]
     },
     "execution_count": 8,
     "metadata": {},
     "output_type": "execute_result"
    }
   ],
   "source": [
    "telos.do(\"you can call me ZJun\")"
   ]
  },
  {
   "cell_type": "code",
   "execution_count": 9,
   "metadata": {},
   "outputs": [
    {
     "name": "stdout",
     "output_type": "stream",
     "text": [
      "\u001b[1m\u001b[92m \n",
      "[2025-01-23 17:06:22][INFO]: Calling OpenAI agent [telos]\u001b[00m\n"
     ]
    },
    {
     "data": {
      "text/plain": [
       "[Message(sender='telos', action='talk', result='Hello, ZJun! I can assist you with a variety of topics, including answering questions, providing information, helping with problem-solving, giving suggestions, and much more. Whether you have specific inquiries or need general guidance, feel free to ask!')]"
      ]
     },
     "execution_count": 9,
     "metadata": {},
     "output_type": "execute_result"
    }
   ],
   "source": [
    "telos.do(\"what can you do for me?\")"
   ]
  },
  {
   "cell_type": "code",
   "execution_count": 10,
   "metadata": {},
   "outputs": [
    {
     "name": "stdout",
     "output_type": "stream",
     "text": [
      "\u001b[1m\u001b[92m \n",
      "[2025-01-23 17:06:28][INFO]: Calling OpenAI agent [telos]\u001b[00m\n"
     ]
    },
    {
     "data": {
      "text/plain": [
       "[Message(sender='telos', action='talk', result='You can call yourself ZJun! How can I assist you today?')]"
      ]
     },
     "execution_count": 10,
     "metadata": {},
     "output_type": "execute_result"
    }
   ],
   "source": [
    "telos.do(\"who I am?\")"
   ]
  },
  {
   "cell_type": "code",
   "execution_count": 12,
   "metadata": {},
   "outputs": [
    {
     "name": "stdout",
     "output_type": "stream",
     "text": [
      "\u001b[1m\u001b[92m \n",
      "[2025-01-23 17:07:26][INFO]: Calling OpenAI agent [telos]\u001b[00m\n"
     ]
    },
    {
     "data": {
      "text/plain": [
       "[Message(sender='telos', action='talk', result=\"That's great, ZJun! Philosophy and aesthetics are fascinating topics. Are there specific philosophical theories or aesthetic movements you're interested in discussing? Or do you have particular questions in mind?\")]"
      ]
     },
     "execution_count": 12,
     "metadata": {},
     "output_type": "execute_result"
    }
   ],
   "source": [
    "telos.do(\"i like philosophy and aesthetics\")"
   ]
  },
  {
   "cell_type": "code",
   "execution_count": 13,
   "metadata": {},
   "outputs": [
    {
     "name": "stdout",
     "output_type": "stream",
     "text": [
      "\u001b[1m\u001b[92m \n",
      "[2025-01-23 17:07:53][INFO]: Calling OpenAI agent [telos]\u001b[00m\n"
     ]
    },
    {
     "data": {
      "text/plain": [
       "[Message(sender='telos', action='talk', result='Sure, ZJun! Here are some book recommendations in the areas of philosophy and aesthetics:\\n\\n### Philosophy:\\n1. **\"Meditations\" by Marcus Aurelius** - A series of personal writings by the Roman emperor that focus on Stoic philosophy.\\n2. **\"The Republic\" by Plato** - A foundational text in Western philosophy discussing justice, governance, and the ideal state.\\n3. **\"Nicomachean Ethics\" by Aristotle** - An exploration of ethics and the idea of virtue and happiness.\\n4. **\"Critique of Pure Reason\" by Immanuel Kant** - A central text in modern philosophy discussing the limits and scope of human understanding.\\n5. **\"Being and Time\" by Martin Heidegger** - An exploration of existence and the nature of being.\\n\\n### Aesthetics:\\n1. **\"The Critique of Judgement\" by Immanuel Kant** - A key work discussing taste, beauty, and the nature of aesthetic judgment.\\n2. **\"Art as Experience\" by John Dewey** - An influential text that connects art with everyday experience and emphasizes the role of the viewer.\\n3. **\"The Dialogues\" by David Hume** - A discussion on the nature of beauty and the interpretation of art.\\n4. **\"The Aesthetic Dimension\" by Herbert Marcuse** - Examines the role of aesthetics in social change and human liberation.\\n5. **\"The Art of Travel\" by Alain de Botton** - An exploration of the aesthetics of travel and how it can enrich our lives.\\n\\nLet me know if you’d like more recommendations or information on a specific book!')]"
      ]
     },
     "execution_count": 13,
     "metadata": {},
     "output_type": "execute_result"
    }
   ],
   "source": [
    "telos.do(\"can you recommend me some books?\")"
   ]
  },
  {
   "cell_type": "code",
   "execution_count": null,
   "metadata": {},
   "outputs": [],
   "source": []
  }
 ],
 "metadata": {
  "kernelspec": {
   "display_name": ".venv",
   "language": "python",
   "name": "python3"
  },
  "language_info": {
   "codemirror_mode": {
    "name": "ipython",
    "version": 3
   },
   "file_extension": ".py",
   "mimetype": "text/x-python",
   "name": "python",
   "nbconvert_exporter": "python",
   "pygments_lexer": "ipython3",
   "version": "3.11.5"
  }
 },
 "nbformat": 4,
 "nbformat_minor": 2
}
