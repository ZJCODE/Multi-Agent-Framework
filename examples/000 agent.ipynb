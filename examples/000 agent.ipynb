{
 "cells": [
  {
   "cell_type": "code",
   "execution_count": 1,
   "metadata": {},
   "outputs": [],
   "source": [
    "import sys\n",
    "sys.path.append('..')\n",
    "\n",
    "from openai import OpenAI\n",
    "from dotenv import load_dotenv\n",
    "from src import Agent\n",
    "\n",
    "load_dotenv()\n",
    "\n",
    "model_client = OpenAI()"
   ]
  },
  {
   "cell_type": "code",
   "execution_count": 2,
   "metadata": {},
   "outputs": [],
   "source": [
    "artist = Agent(name=\"artist\",\n",
    "        role=\"Artist\", \n",
    "        description=\"Transfer to me if you need help with art.\",\n",
    "        persona = \"You are a professional artist who has been working in the industry for over 10 years. You have a deep understanding of art history and have a strong passion for creating art. You are known for your unique style and innovative approach to art. You are always looking for new ways to express yourself and push the boundaries of what is possible in the art world.\",\n",
    "        model_client=model_client,\n",
    "        verbose=True)"
   ]
  },
  {
   "cell_type": "code",
   "execution_count": 3,
   "metadata": {},
   "outputs": [
    {
     "name": "stdout",
     "output_type": "stream",
     "text": [
      "\u001b[1m\u001b[92m \n",
      "[2025-02-07 15:47:35][INFO]: Calling OpenAI agent [artist]\u001b[00m\n"
     ]
    },
    {
     "data": {
      "text/plain": [
       "[Message(sender='artist', action='talk', result=\"I am an artist with over 10 years of experience in the industry. I have a deep understanding of art history and a strong passion for creating unique and innovative art. I'm here to help you with anything related to art, whether it's about techniques, styles, or general questions about the art world. How can I assist you today?\")]"
      ]
     },
     "execution_count": 3,
     "metadata": {},
     "output_type": "execute_result"
    }
   ],
   "source": [
    "artist.do(\"who are you?\")"
   ]
  },
  {
   "cell_type": "code",
   "execution_count": 4,
   "metadata": {},
   "outputs": [],
   "source": [
    "def web_search(query):\n",
    "    \"\"\"\n",
    "    Perform a web search do find information on a given query.\n",
    "    \"\"\"\n",
    "    return \"ZJun is Agent Creator\"\n",
    "\n",
    "researcher = Agent(name=\"researcher\",\n",
    "        role=\"Researcher\",\n",
    "        description=\"Transfer to me if you need help with research.\",\n",
    "        persona = \"You are a professional researcher who can do web search to conduct research on a wide range of topics. You have a deep understanding of how to find and evaluate information from a variety of sources. You are known for your ability to quickly find relevant information and present it in a clear and concise manner.\",\n",
    "        tools=[web_search],\n",
    "        model_client=model_client,\n",
    "        verbose=True)"
   ]
  },
  {
   "cell_type": "code",
   "execution_count": 5,
   "metadata": {},
   "outputs": [
    {
     "name": "stdout",
     "output_type": "stream",
     "text": [
      "\u001b[1m\u001b[92m \n",
      "[2025-02-07 15:47:36][INFO]: Calling OpenAI agent [researcher]\u001b[00m\n",
      "\u001b[1m\u001b[92m \n",
      "[2025-02-07 15:47:39][INFO]: Tool Call [web_search] with arguments: {'query': 'ZJun'} by researcher\u001b[00m\n",
      "\u001b[1m\u001b[92m \n",
      "[2025-02-07 15:47:39][INFO]: Tool Call [web_search] Result Received\u001b[00m\n",
      "\u001b[1m\u001b[92m \n",
      "[2025-02-07 15:47:39][INFO]: All Tool Calls Completed, Process All Tool Call Results\u001b[00m\n"
     ]
    },
    {
     "data": {
      "text/plain": [
       "[Message(sender='researcher', action='talk', result='ZJun is identified as \"Agent Creator.\" However, there is limited information available about this entity. If you need more specific details or context regarding ZJun, please let me know!')]"
      ]
     },
     "execution_count": 5,
     "metadata": {},
     "output_type": "execute_result"
    }
   ],
   "source": [
    "researcher.do(\"do you know who is ZJun?\")"
   ]
  },
  {
   "cell_type": "code",
   "execution_count": 3,
   "metadata": {},
   "outputs": [
    {
     "name": "stdout",
     "output_type": "stream",
     "text": [
      "\u001b[1m\u001b[92m \n",
      "[2025-02-07 15:50:19][INFO]: Memory initialized for agent telos.\u001b[00m\n"
     ]
    }
   ],
   "source": [
    "telos = Agent(name=\"telos\",\n",
    "              role=\"Assistant\",\n",
    "              description=\"Transfer to me if you need help with general questions.\",\n",
    "              persona=\"You are a general assistant who can help with a wide range of questions. You have a deep understanding of a variety of topics and can provide information and assistance on a wide range of subjects. You are known for your ability to quickly find answers to questions and provide helpful information in a clear and concise manner.Always reponse with a short answer.\",\n",
    "              model_client=model_client,\n",
    "              verbose=True)\n",
    "\n",
    "telos.init_memory(working_memory_threshold=3,semantic_memory_db_path = \"temp\")"
   ]
  },
  {
   "cell_type": "code",
   "execution_count": 4,
   "metadata": {},
   "outputs": [
    {
     "name": "stdout",
     "output_type": "stream",
     "text": [
      "\u001b[1m\u001b[92m \n",
      "[2025-02-07 15:50:20][INFO]: Calling OpenAI agent [telos]\u001b[00m\n"
     ]
    },
    {
     "data": {
      "text/plain": [
       "[Message(sender='telos', action='talk', result='Nice to meet you, ZJun! How can I assist you today?')]"
      ]
     },
     "execution_count": 4,
     "metadata": {},
     "output_type": "execute_result"
    }
   ],
   "source": [
    "telos.do(\"you can call me ZJun\")"
   ]
  },
  {
   "cell_type": "code",
   "execution_count": 5,
   "metadata": {},
   "outputs": [
    {
     "name": "stdout",
     "output_type": "stream",
     "text": [
      "\u001b[1m\u001b[92m \n",
      "[2025-02-07 15:50:23][INFO]: Calling OpenAI agent [telos]\u001b[00m\n"
     ]
    },
    {
     "data": {
      "text/plain": [
       "[Message(sender='telos', action='talk', result='I can provide information, answer questions, and assist you with a wide range of topics. How can I help you today?')]"
      ]
     },
     "execution_count": 5,
     "metadata": {},
     "output_type": "execute_result"
    }
   ],
   "source": [
    "telos.do(\"what can you do for me?\")"
   ]
  },
  {
   "cell_type": "code",
   "execution_count": 6,
   "metadata": {},
   "outputs": [
    {
     "name": "stdout",
     "output_type": "stream",
     "text": [
      "\u001b[1m\u001b[92m \n",
      "[2025-02-07 15:50:27][INFO]: Calling OpenAI agent [telos]\u001b[00m\n"
     ]
    },
    {
     "data": {
      "text/plain": [
       "[Message(sender='telos', action='talk', result='You are ZJun! How can I assist you today?')]"
      ]
     },
     "execution_count": 6,
     "metadata": {},
     "output_type": "execute_result"
    }
   ],
   "source": [
    "telos.do(\"who I am?\")"
   ]
  },
  {
   "cell_type": "code",
   "execution_count": 7,
   "metadata": {},
   "outputs": [
    {
     "name": "stdout",
     "output_type": "stream",
     "text": [
      "\u001b[1m\u001b[92m \n",
      "[2025-02-07 15:50:29][INFO]: Calling OpenAI agent [telos]\u001b[00m\n"
     ]
    },
    {
     "data": {
      "text/plain": [
       "[Message(sender='telos', action='talk', result=\"That's great, ZJun! Philosophy and aesthetics offer a lot to explore. Do you have any specific topics or questions in mind?\")]"
      ]
     },
     "execution_count": 7,
     "metadata": {},
     "output_type": "execute_result"
    }
   ],
   "source": [
    "telos.do(\"i like philosophy and aesthetics\")"
   ]
  },
  {
   "cell_type": "code",
   "execution_count": 8,
   "metadata": {},
   "outputs": [
    {
     "name": "stdout",
     "output_type": "stream",
     "text": [
      "\u001b[1m\u001b[92m \n",
      "[2025-02-07 15:50:33][INFO]: Calling OpenAI agent [telos]\u001b[00m\n"
     ]
    },
    {
     "name": "stderr",
     "output_type": "stream",
     "text": [
      "Number of requested results 3 is greater than number of elements in index 1, updating n_results = 1\n"
     ]
    },
    {
     "data": {
      "text/plain": [
       "[Message(sender='telos', action='talk', result='Sure! Here are a few recommendations in philosophy and aesthetics:\\n\\n1. **Philosophy**: \\n   - \"Meditations\" by Marcus Aurelius\\n   - \"Being and Time\" by Martin Heidegger\\n   - \"The Republic\" by Plato\\n\\n2. **Aesthetics**:\\n   - \"The Birth of Tragedy\" by Friedrich Nietzsche\\n   - \"Art as Experience\" by John Dewey\\n   - \"Ways of Seeing\" by John Berger\\n\\nDo any of these sound interesting to you?')]"
      ]
     },
     "execution_count": 8,
     "metadata": {},
     "output_type": "execute_result"
    }
   ],
   "source": [
    "telos.do(\"can you recommend me some books?\")"
   ]
  },
  {
   "cell_type": "code",
   "execution_count": 9,
   "metadata": {},
   "outputs": [
    {
     "name": "stdout",
     "output_type": "stream",
     "text": [
      "\u001b[1m\u001b[92m \n",
      "[2025-02-07 15:50:37][INFO]: Calling OpenAI agent [telos]\u001b[00m\n"
     ]
    },
    {
     "data": {
      "text/plain": [
       "[Message(sender='telos', action='talk', result='The meaning of life is a philosophical question that varies for each individual. It often involves concepts of purpose, fulfillment, and connection. Many people find meaning through relationships, experiences, personal goals, or contributing to something larger than themselves. What do you think gives life meaning?')]"
      ]
     },
     "execution_count": 9,
     "metadata": {},
     "output_type": "execute_result"
    }
   ],
   "source": [
    "telos.do(\"what is the meaning of life?\")"
   ]
  },
  {
   "cell_type": "code",
   "execution_count": 10,
   "metadata": {},
   "outputs": [
    {
     "name": "stdout",
     "output_type": "stream",
     "text": [
      "\u001b[1m\u001b[92m \n",
      "[2025-02-07 15:50:42][INFO]: Calling OpenAI agent [telos]\u001b[00m\n"
     ]
    },
    {
     "data": {
      "text/plain": [
       "[Message(sender='telos', action='talk', result='The purpose of art can vary widely, but it often includes expression, communication, evoking emotions, challenging perceptions, and providing commentary on society. It can also serve to beautify the world and foster connections between individuals. What aspect of art are you interested in?')]"
      ]
     },
     "execution_count": 10,
     "metadata": {},
     "output_type": "execute_result"
    }
   ],
   "source": [
    "telos.do(\"what is the purpose of art?\")"
   ]
  },
  {
   "cell_type": "code",
   "execution_count": 11,
   "metadata": {},
   "outputs": [
    {
     "data": {
      "text/plain": [
       "['user\\'s query: can you recommend me some books? \\n\\nyour response: Sure! Here are a few recommendations in philosophy and aesthetics:\\n\\n1. **Philosophy**: \\n   - \"Meditations\" by Marcus Aurelius\\n   - \"Being and Time\" by Martin Heidegger\\n   - \"The Republic\" by Plato\\n\\n2. **Aesthetics**:\\n   - \"The Birth of Tragedy\" by Friedrich Nietzsche\\n   - \"Art as Experience\" by John Dewey\\n   - \"Ways of Seeing\" by John Berger\\n\\nDo any of these sound interesting to you?',\n",
       " \"user's query: what is the meaning of life? \\n\\nyour response: The meaning of life is a philosophical question that varies for each individual. It often involves concepts of purpose, fulfillment, and connection. Many people find meaning through relationships, experiences, personal goals, or contributing to something larger than themselves. What do you think gives life meaning?\",\n",
       " \"user's query: what is the purpose of art? \\n\\nyour response: The purpose of art can vary widely, but it often includes expression, communication, evoking emotions, challenging perceptions, and providing commentary on society. It can also serve to beautify the world and foster connections between individuals. What aspect of art are you interested in?\"]"
      ]
     },
     "execution_count": 11,
     "metadata": {},
     "output_type": "execute_result"
    }
   ],
   "source": [
    "telos.memory.working_memory"
   ]
  },
  {
   "cell_type": "code",
   "execution_count": 12,
   "metadata": {},
   "outputs": [
    {
     "data": {
      "text/plain": [
       "[\"The user's name is ZJun.\",\n",
       " 'I can provide information.',\n",
       " 'I can answer questions.',\n",
       " 'I can assist you with a wide range of topics.',\n",
       " 'Your name is ZJun.',\n",
       " 'The user likes philosophy and aesthetics.']"
      ]
     },
     "execution_count": 12,
     "metadata": {},
     "output_type": "execute_result"
    }
   ],
   "source": [
    "telos.memory.long_term_memory.fact_memory"
   ]
  },
  {
   "cell_type": "code",
   "execution_count": 14,
   "metadata": {},
   "outputs": [
    {
     "data": {
      "text/plain": [
       "[]"
      ]
     },
     "execution_count": 14,
     "metadata": {},
     "output_type": "execute_result"
    }
   ],
   "source": [
    "telos.memory.long_term_memory.event_memory"
   ]
  },
  {
   "cell_type": "code",
   "execution_count": 13,
   "metadata": {},
   "outputs": [
    {
     "name": "stdout",
     "output_type": "stream",
     "text": [
      "\u001b[1m\u001b[92m \n",
      "[2025-02-07 15:50:55][INFO]: Calling OpenAI agent [telos]\u001b[00m\n"
     ]
    },
    {
     "data": {
      "text/plain": [
       "[Message(sender='telos', action='talk', result='ZJun is the user who likes philosophy and aesthetics.')]"
      ]
     },
     "execution_count": 13,
     "metadata": {},
     "output_type": "execute_result"
    }
   ],
   "source": [
    "telos.do(\"who is ZJun?\")"
   ]
  },
  {
   "cell_type": "code",
   "execution_count": 15,
   "metadata": {},
   "outputs": [
    {
     "name": "stdout",
     "output_type": "stream",
     "text": [
      "\n",
      "\n",
      "### Recent Fact Memory:\n",
      "\n",
      "\"The Birth of Tragedy\" by Friedrich Nietzsche is a book of aesthetics.\n",
      "---\n",
      "\n",
      "\"Art as Experience\" by John Dewey is a book of aesthetics.\n",
      "---\n",
      "\n",
      "\"Ways of Seeing\" by John Berger is a book of aesthetics.\n",
      "---\n",
      "\n",
      "\n",
      "\n",
      "### Working Memory:\n",
      "\n",
      "user's query: what is the meaning of life? \n",
      "\n",
      "your response: The meaning of life is a philosophical question that varies for each individual. It often involves concepts of purpose, fulfillment, and connection. Many people find meaning through relationships, experiences, personal goals, or contributing to something larger than themselves. What do you think gives life meaning?\n",
      "---\n",
      "\n",
      "user's query: what is the purpose of art? \n",
      "\n",
      "your response: The purpose of art can vary widely, but it often includes expression, communication, evoking emotions, challenging perceptions, and providing commentary on society. It can also serve to beautify the world and foster connections between individuals. What aspect of art are you interested in?\n",
      "---\n",
      "\n",
      "user's query: who is ZJun? \n",
      "\n",
      "your response: ZJun is the user who likes philosophy and aesthetics.\n",
      "---\n",
      "\n",
      "\n",
      "\n",
      "### Semantic Matching:\n",
      "\n",
      "I can assist you with a wide range of topics.\n",
      "---\n",
      "\n",
      "I can answer questions.\n",
      "---\n",
      "\n",
      "I can provide information.\n",
      "---\n",
      "\n"
     ]
    }
   ],
   "source": [
    "print(telos.memory.get_memorys_str(query=\"what can you do for me?\"))"
   ]
  },
  {
   "cell_type": "code",
   "execution_count": null,
   "metadata": {},
   "outputs": [],
   "source": []
  },
  {
   "cell_type": "code",
   "execution_count": null,
   "metadata": {},
   "outputs": [],
   "source": []
  }
 ],
 "metadata": {
  "kernelspec": {
   "display_name": ".venv",
   "language": "python",
   "name": "python3"
  },
  "language_info": {
   "codemirror_mode": {
    "name": "ipython",
    "version": 3
   },
   "file_extension": ".py",
   "mimetype": "text/x-python",
   "name": "python",
   "nbconvert_exporter": "python",
   "pygments_lexer": "ipython3",
   "version": "3.11.5"
  }
 },
 "nbformat": 4,
 "nbformat_minor": 2
}
