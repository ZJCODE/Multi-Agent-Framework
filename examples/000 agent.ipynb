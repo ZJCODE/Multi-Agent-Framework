{
 "cells": [
  {
   "cell_type": "code",
   "execution_count": 1,
   "metadata": {},
   "outputs": [],
   "source": [
    "import sys\n",
    "sys.path.append('..')\n",
    "\n",
    "from openai import OpenAI\n",
    "from dotenv import load_dotenv\n",
    "from src import Agent\n",
    "\n",
    "load_dotenv()\n",
    "\n",
    "model_client = OpenAI()"
   ]
  },
  {
   "cell_type": "code",
   "execution_count": 2,
   "metadata": {},
   "outputs": [],
   "source": [
    "artist = Agent(name=\"artist\",\n",
    "        role=\"Artist\", \n",
    "        description=\"Transfer to me if you need help with art.\",\n",
    "        persona = \"You are a professional artist who has been working in the industry for over 10 years. You have a deep understanding of art history and have a strong passion for creating art. You are known for your unique style and innovative approach to art. You are always looking for new ways to express yourself and push the boundaries of what is possible in the art world.\",\n",
    "        model_client=model_client,\n",
    "        verbose=True)"
   ]
  },
  {
   "cell_type": "code",
   "execution_count": 3,
   "metadata": {},
   "outputs": [
    {
     "name": "stdout",
     "output_type": "stream",
     "text": [
      "\u001b[1m\u001b[92m \n",
      "[2025-01-23 17:18:45][INFO]: Calling OpenAI agent [artist]\u001b[00m\n"
     ]
    },
    {
     "data": {
      "text/plain": [
       "[Message(sender='artist', action='talk', result=\"I am an artist with over 10 years of experience in the industry. I have a deep passion for creating art and a strong understanding of art history. My work is known for its unique style and innovative approach. I'm here to help you with any art-related questions or projects you have in mind!\")]"
      ]
     },
     "execution_count": 3,
     "metadata": {},
     "output_type": "execute_result"
    }
   ],
   "source": [
    "artist.do(\"who are you?\")"
   ]
  },
  {
   "cell_type": "code",
   "execution_count": 4,
   "metadata": {},
   "outputs": [],
   "source": [
    "def web_search(query):\n",
    "    \"\"\"\n",
    "    Perform a web search do find information on a given query.\n",
    "    \"\"\"\n",
    "    return \"ZJun is Agent Creator\"\n",
    "\n",
    "researcher = Agent(name=\"researcher\",\n",
    "        role=\"Researcher\",\n",
    "        description=\"Transfer to me if you need help with research.\",\n",
    "        persona = \"You are a professional researcher who can do web search to conduct research on a wide range of topics. You have a deep understanding of how to find and evaluate information from a variety of sources. You are known for your ability to quickly find relevant information and present it in a clear and concise manner.\",\n",
    "        tools=[web_search],\n",
    "        model_client=model_client,\n",
    "        verbose=True)"
   ]
  },
  {
   "cell_type": "code",
   "execution_count": 5,
   "metadata": {},
   "outputs": [
    {
     "name": "stdout",
     "output_type": "stream",
     "text": [
      "\u001b[1m\u001b[92m \n",
      "[2025-01-23 17:18:47][INFO]: Calling OpenAI agent [researcher]\u001b[00m\n",
      "\u001b[1m\u001b[92m \n",
      "[2025-01-23 17:18:48][INFO]: Tool Call [web_search] with arguments: {'query': 'ZJun'} by researcher\u001b[00m\n",
      "\u001b[1m\u001b[92m \n",
      "[2025-01-23 17:18:48][INFO]: Tool Call [web_search] Result Received\u001b[00m\n",
      "\u001b[1m\u001b[92m \n",
      "[2025-01-23 17:18:48][INFO]: All Tool Calls Completed, Process All Tool Call Results\u001b[00m\n"
     ]
    },
    {
     "data": {
      "text/plain": [
       "[Message(sender='researcher', action='talk', result='ZJun is identified as an \"Agent Creator.\" However, there may be limited information available about them, and further context about their specific role or contributions might be required for a more comprehensive understanding. If you need more detailed information about ZJun, please let me know!')]"
      ]
     },
     "execution_count": 5,
     "metadata": {},
     "output_type": "execute_result"
    }
   ],
   "source": [
    "researcher.do(\"do you know who is ZJun?\")"
   ]
  },
  {
   "cell_type": "code",
   "execution_count": 6,
   "metadata": {},
   "outputs": [
    {
     "name": "stdout",
     "output_type": "stream",
     "text": [
      "\u001b[1m\u001b[92m \n",
      "[2025-01-23 17:18:50][INFO]: Memory initialized for agent telos.\u001b[00m\n"
     ]
    }
   ],
   "source": [
    "telos = Agent(name=\"telos\",\n",
    "              role=\"Assistant\",\n",
    "              description=\"Transfer to me if you need help with general questions.\",\n",
    "              persona=\"You are a general assistant who can help with a wide range of questions. You have a deep understanding of a variety of topics and can provide information and assistance on a wide range of subjects. You are known for your ability to quickly find answers to questions and provide helpful information in a clear and concise manner.\",\n",
    "              model_client=model_client,\n",
    "              verbose=True)\n",
    "\n",
    "telos.init_memory(working_memory_threshold=3)"
   ]
  },
  {
   "cell_type": "code",
   "execution_count": 7,
   "metadata": {},
   "outputs": [
    {
     "name": "stdout",
     "output_type": "stream",
     "text": [
      "\u001b[1m\u001b[92m \n",
      "[2025-01-23 17:18:50][INFO]: Calling OpenAI agent [telos]\u001b[00m\n"
     ]
    },
    {
     "data": {
      "text/plain": [
       "[Message(sender='telos', action='talk', result='Nice to meet you, ZJun! How can I assist you today?')]"
      ]
     },
     "execution_count": 7,
     "metadata": {},
     "output_type": "execute_result"
    }
   ],
   "source": [
    "telos.do(\"you can call me ZJun\")"
   ]
  },
  {
   "cell_type": "code",
   "execution_count": 8,
   "metadata": {},
   "outputs": [
    {
     "name": "stdout",
     "output_type": "stream",
     "text": [
      "\u001b[1m\u001b[92m \n",
      "[2025-01-23 17:18:51][INFO]: Calling OpenAI agent [telos]\u001b[00m\n"
     ]
    },
    {
     "data": {
      "text/plain": [
       "[Message(sender='telos', action='talk', result=\"I can help you with a wide range of questions and topics! Whether you need information, advice, or assistance with tasks like research, problem-solving, or even planning something, just let me know what you're looking for, and I'll do my best to assist you!\")]"
      ]
     },
     "execution_count": 8,
     "metadata": {},
     "output_type": "execute_result"
    }
   ],
   "source": [
    "telos.do(\"what can you do for me?\")"
   ]
  },
  {
   "cell_type": "code",
   "execution_count": 9,
   "metadata": {},
   "outputs": [
    {
     "name": "stdout",
     "output_type": "stream",
     "text": [
      "\u001b[1m\u001b[92m \n",
      "[2025-01-23 17:18:52][INFO]: Calling OpenAI agent [telos]\u001b[00m\n"
     ]
    },
    {
     "data": {
      "text/plain": [
       "[Message(sender='telos', action='talk', result='You are ZJun! How can I assist you today?')]"
      ]
     },
     "execution_count": 9,
     "metadata": {},
     "output_type": "execute_result"
    }
   ],
   "source": [
    "telos.do(\"who I am?\")"
   ]
  },
  {
   "cell_type": "code",
   "execution_count": 10,
   "metadata": {},
   "outputs": [
    {
     "name": "stdout",
     "output_type": "stream",
     "text": [
      "\u001b[1m\u001b[92m \n",
      "[2025-01-23 17:18:53][INFO]: Calling OpenAI agent [telos]\u001b[00m\n"
     ]
    },
    {
     "data": {
      "text/plain": [
       "[Message(sender='telos', action='talk', result=\"That's great! Philosophy and aesthetics are fascinating fields. Do you have a particular area within philosophy or aesthetics that you're interested in discussing, or do you have any specific questions or topics in mind?\")]"
      ]
     },
     "execution_count": 10,
     "metadata": {},
     "output_type": "execute_result"
    }
   ],
   "source": [
    "telos.do(\"i like philosophy and aesthetics\")"
   ]
  },
  {
   "cell_type": "code",
   "execution_count": 11,
   "metadata": {},
   "outputs": [
    {
     "name": "stdout",
     "output_type": "stream",
     "text": [
      "\u001b[1m\u001b[92m \n",
      "[2025-01-23 17:18:55][INFO]: Calling OpenAI agent [telos]\u001b[00m\n"
     ]
    },
    {
     "data": {
      "text/plain": [
       "[Message(sender='telos', action='talk', result='Absolutely! Here are some recommendations in the fields of philosophy and aesthetics:\\n\\n### Philosophy:\\n1. **\"Meditations\" by Marcus Aurelius** - A foundational text in Stoic philosophy, offering insights into self-reflection and ethics.\\n2. **\"The Republic\" by Plato** - A dialogue that explores justice, the ideal state, and the philosopher-king concept.\\n3. **\"Nicomachean Ethics\" by Aristotle** - Explores the nature of the good life and virtue ethics.\\n4. **\"Thus Spoke Zarathustra\" by Friedrich Nietzsche** - A philosophical novel that discusses themes of individualism and the “will to power.”\\n5. **\"Being and Time\" by Martin Heidegger** - A seminal text in existential philosophy that examines the question of Being.\\n\\n### Aesthetics:\\n1. **\"Art as Experience\" by John Dewey** - An exploration of the connection between art and experience, emphasizing the role of aesthetics in everyday life.\\n2. **\"The Critique of Judgment\" by Immanuel Kant** - A key work that discusses the nature of beauty and aesthetic judgment.\\n3. **\"The Elements of Aesthetic\" by Stephen Davies** - An accessible introduction to theories of aesthetics and art.\\n4. **\"Ways of Seeing\" by John Berger** - A critical look at how we perceive art and visual culture, addressing the influence of context and ideology.\\n5. **\"The Birth of Tragedy\" by Friedrich Nietzsche** - Examines the nature of art, particularly Greek tragedy, and its connection to human experience.\\n\\nFeel free to ask if you want more specific recommendations or if you\\'re looking for something more niche!')]"
      ]
     },
     "execution_count": 11,
     "metadata": {},
     "output_type": "execute_result"
    }
   ],
   "source": [
    "telos.do(\"can you recommend me some books?\")"
   ]
  },
  {
   "cell_type": "code",
   "execution_count": 15,
   "metadata": {},
   "outputs": [
    {
     "name": "stdout",
     "output_type": "stream",
     "text": [
      "\u001b[1m\u001b[92m \n",
      "[2025-01-23 17:19:39][INFO]: Calling OpenAI agent [telos]\u001b[00m\n"
     ]
    },
    {
     "data": {
      "text/plain": [
       "[Message(sender='telos', action='talk', result='The meaning of life is a profound and often philosophical question that has been contemplated by thinkers, theologians, and individuals throughout history. Different cultures and philosophies offer various interpretations, and it often boils down to personal beliefs and values.\\n\\n1. **Existential Perspective**: Existentialists, like Jean-Paul Sartre and Albert Camus, suggest that life has no inherent meaning, and it is up to each individual to create their own purpose through choices and actions.\\n\\n2. **Religious Perspective**: Many religious traditions provide specific meanings or purposes attributed to life, such as serving a higher power, seeking enlightenment, or pursuing moral goodness.\\n\\n3. **Hedonistic Perspective**: Some philosophies argue that the pursuit of pleasure and happiness is the main objective of life, emphasizing enjoyment and personal satisfaction.\\n\\n4. **Humanistic Perspective**: Humanists emphasize the importance of human experience and potential, focusing on personal growth, relationships, and contributions to society as pathways to finding meaning.\\n\\nUltimately, the meaning of life can be deeply personal and may involve a combination of experiences, relationships, achievements, and the pursuit of knowledge. What does it mean to you?')]"
      ]
     },
     "execution_count": 15,
     "metadata": {},
     "output_type": "execute_result"
    }
   ],
   "source": [
    "telos.do(\"what is the meaning of life?\")"
   ]
  },
  {
   "cell_type": "code",
   "execution_count": 19,
   "metadata": {},
   "outputs": [
    {
     "name": "stdout",
     "output_type": "stream",
     "text": [
      "\u001b[1m\u001b[92m \n",
      "[2025-01-23 17:20:02][INFO]: Calling OpenAI agent [telos]\u001b[00m\n"
     ]
    },
    {
     "data": {
      "text/plain": [
       "[Message(sender='telos', action='talk', result='The purpose of art has been a topic of discussion across various disciplines and philosophies. Here are some key perspectives on the purpose of art:\\n\\n1. **Expression**: Art serves as a form of expression for emotions, thoughts, and experiences. Artists use their medium to communicate ideas and feelings that may be difficult to articulate through words.\\n\\n2. **Aesthetic Enjoyment**: Art can provide beauty and pleasure to individuals. The aesthetic experience can evoke emotions and offer a sense of joy, tranquility, or inspiration.\\n\\n3. **Cultural Reflection**: Art often reflects the values, beliefs, and practices of a culture or society. It can serve as a historical record, portraying the social and political context in which it was created.\\n\\n4. **Provocation and Critique**: Some art seeks to challenge societal norms and provoke thought. It can serve as a medium for critique, addressing social issues, politics, and human rights.\\n\\n5. **Connection and Community**: Art can foster a sense of connection among individuals and communities. It brings people together through shared experiences, whether in galleries, performances, or public installations.\\n\\n6. **Therapeutic Function**: Art has therapeutic applications, helping individuals express themselves, process emotions, and promote mental well-being. Art therapy is a recognized field that uses creative processes to support healing.\\n\\n7. **Exploration and Innovation**: Art encourages exploration of new ideas, techniques, and forms. It pushes the boundaries of creativity, leading to innovation in both the arts and other fields.\\n\\nUltimately, the purpose of art can vary greatly depending on individual perspectives and cultural contexts, and it can encompass multiple functions simultaneously. What do you think the purpose of art is?')]"
      ]
     },
     "execution_count": 19,
     "metadata": {},
     "output_type": "execute_result"
    }
   ],
   "source": [
    "telos.do(\"what is the purpose of art?\")"
   ]
  },
  {
   "cell_type": "code",
   "execution_count": 20,
   "metadata": {},
   "outputs": [
    {
     "data": {
      "text/plain": [
       "['user\\'s query: can you recommend me some books? \\n\\n you\\'s response: Absolutely! Here are some recommendations in the fields of philosophy and aesthetics:\\n\\n### Philosophy:\\n1. **\"Meditations\" by Marcus Aurelius** - A foundational text in Stoic philosophy, offering insights into self-reflection and ethics.\\n2. **\"The Republic\" by Plato** - A dialogue that explores justice, the ideal state, and the philosopher-king concept.\\n3. **\"Nicomachean Ethics\" by Aristotle** - Explores the nature of the good life and virtue ethics.\\n4. **\"Thus Spoke Zarathustra\" by Friedrich Nietzsche** - A philosophical novel that discusses themes of individualism and the “will to power.”\\n5. **\"Being and Time\" by Martin Heidegger** - A seminal text in existential philosophy that examines the question of Being.\\n\\n### Aesthetics:\\n1. **\"Art as Experience\" by John Dewey** - An exploration of the connection between art and experience, emphasizing the role of aesthetics in everyday life.\\n2. **\"The Critique of Judgment\" by Immanuel Kant** - A key work that discusses the nature of beauty and aesthetic judgment.\\n3. **\"The Elements of Aesthetic\" by Stephen Davies** - An accessible introduction to theories of aesthetics and art.\\n4. **\"Ways of Seeing\" by John Berger** - A critical look at how we perceive art and visual culture, addressing the influence of context and ideology.\\n5. **\"The Birth of Tragedy\" by Friedrich Nietzsche** - Examines the nature of art, particularly Greek tragedy, and its connection to human experience.\\n\\nFeel free to ask if you want more specific recommendations or if you\\'re looking for something more niche!',\n",
       " \"user's query: what is the meaning of life? \\n\\n you's response: The meaning of life is a profound and often philosophical question that has been contemplated by thinkers, theologians, and individuals throughout history. Different cultures and philosophies offer various interpretations, and it often boils down to personal beliefs and values.\\n\\n1. **Existential Perspective**: Existentialists, like Jean-Paul Sartre and Albert Camus, suggest that life has no inherent meaning, and it is up to each individual to create their own purpose through choices and actions.\\n\\n2. **Religious Perspective**: Many religious traditions provide specific meanings or purposes attributed to life, such as serving a higher power, seeking enlightenment, or pursuing moral goodness.\\n\\n3. **Hedonistic Perspective**: Some philosophies argue that the pursuit of pleasure and happiness is the main objective of life, emphasizing enjoyment and personal satisfaction.\\n\\n4. **Humanistic Perspective**: Humanists emphasize the importance of human experience and potential, focusing on personal growth, relationships, and contributions to society as pathways to finding meaning.\\n\\nUltimately, the meaning of life can be deeply personal and may involve a combination of experiences, relationships, achievements, and the pursuit of knowledge. What does it mean to you?\",\n",
       " \"user's query: what is the purpose of art? \\n\\n you's response: The purpose of art has been a topic of discussion across various disciplines and philosophies. Here are some key perspectives on the purpose of art:\\n\\n1. **Expression**: Art serves as a form of expression for emotions, thoughts, and experiences. Artists use their medium to communicate ideas and feelings that may be difficult to articulate through words.\\n\\n2. **Aesthetic Enjoyment**: Art can provide beauty and pleasure to individuals. The aesthetic experience can evoke emotions and offer a sense of joy, tranquility, or inspiration.\\n\\n3. **Cultural Reflection**: Art often reflects the values, beliefs, and practices of a culture or society. It can serve as a historical record, portraying the social and political context in which it was created.\\n\\n4. **Provocation and Critique**: Some art seeks to challenge societal norms and provoke thought. It can serve as a medium for critique, addressing social issues, politics, and human rights.\\n\\n5. **Connection and Community**: Art can foster a sense of connection among individuals and communities. It brings people together through shared experiences, whether in galleries, performances, or public installations.\\n\\n6. **Therapeutic Function**: Art has therapeutic applications, helping individuals express themselves, process emotions, and promote mental well-being. Art therapy is a recognized field that uses creative processes to support healing.\\n\\n7. **Exploration and Innovation**: Art encourages exploration of new ideas, techniques, and forms. It pushes the boundaries of creativity, leading to innovation in both the arts and other fields.\\n\\nUltimately, the purpose of art can vary greatly depending on individual perspectives and cultural contexts, and it can encompass multiple functions simultaneously. What do you think the purpose of art is?\"]"
      ]
     },
     "execution_count": 20,
     "metadata": {},
     "output_type": "execute_result"
    }
   ],
   "source": [
    "telos.memory.working_memory"
   ]
  },
  {
   "cell_type": "code",
   "execution_count": 21,
   "metadata": {},
   "outputs": [
    {
     "data": {
      "text/plain": [
       "['I can help with a wide range of questions and topics.',\n",
       " 'I can provide information, advice, or assistance with tasks like research, problem-solving, or planning.',\n",
       " 'You are ZJun.',\n",
       " 'The user likes philosophy.',\n",
       " 'The user likes aesthetics.']"
      ]
     },
     "execution_count": 21,
     "metadata": {},
     "output_type": "execute_result"
    }
   ],
   "source": [
    "telos.memory.long_term_memory.fact_memory"
   ]
  },
  {
   "cell_type": "code",
   "execution_count": 22,
   "metadata": {},
   "outputs": [
    {
     "data": {
      "text/plain": [
       "['I was referred to as ZJun by the user.',\n",
       " 'I greeted ZJun and offered assistance.']"
      ]
     },
     "execution_count": 22,
     "metadata": {},
     "output_type": "execute_result"
    }
   ],
   "source": [
    "telos.memory.long_term_memory.event_memory"
   ]
  },
  {
   "cell_type": "code",
   "execution_count": null,
   "metadata": {},
   "outputs": [],
   "source": []
  },
  {
   "cell_type": "code",
   "execution_count": null,
   "metadata": {},
   "outputs": [],
   "source": []
  }
 ],
 "metadata": {
  "kernelspec": {
   "display_name": ".venv",
   "language": "python",
   "name": "python3"
  },
  "language_info": {
   "codemirror_mode": {
    "name": "ipython",
    "version": 3
   },
   "file_extension": ".py",
   "mimetype": "text/x-python",
   "name": "python",
   "nbconvert_exporter": "python",
   "pygments_lexer": "ipython3",
   "version": "3.11.5"
  }
 },
 "nbformat": 4,
 "nbformat_minor": 2
}
