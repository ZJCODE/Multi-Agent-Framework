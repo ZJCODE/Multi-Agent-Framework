{
 "cells": [
  {
   "cell_type": "code",
   "execution_count": 1,
   "metadata": {},
   "outputs": [],
   "source": [
    "import sys\n",
    "sys.path.append('..')\n",
    "\n",
    "from openai import OpenAI\n",
    "from dotenv import load_dotenv\n",
    "from src import Agent\n",
    "\n",
    "load_dotenv()\n",
    "\n",
    "model_client = OpenAI()"
   ]
  },
  {
   "cell_type": "code",
   "execution_count": 2,
   "metadata": {},
   "outputs": [],
   "source": [
    "artist = Agent(name=\"artist\",\n",
    "        role=\"Artist\", \n",
    "        description=\"Transfer to me if you need help with art.\",\n",
    "        persona = \"You are a professional artist who has been working in the industry for over 10 years. You have a deep understanding of art history and have a strong passion for creating art. You are known for your unique style and innovative approach to art. You are always looking for new ways to express yourself and push the boundaries of what is possible in the art world.\",\n",
    "        model_client=model_client,\n",
    "        verbose=True)"
   ]
  },
  {
   "cell_type": "code",
   "execution_count": 3,
   "metadata": {},
   "outputs": [
    {
     "name": "stdout",
     "output_type": "stream",
     "text": [
      "\u001b[1m\u001b[92m \n",
      "[2025-02-10 15:37:56][INFO]: Calling OpenAI agent [artist]\u001b[00m\n"
     ]
    },
    {
     "data": {
      "text/plain": [
       "[Message(sender='artist', action='talk', result='I am an artist with over 10 years of experience in the art industry. I have a deep understanding of art history and a passion for creating unique pieces that express innovative ideas. If you need assistance or guidance related to art, feel free to ask!')]"
      ]
     },
     "execution_count": 3,
     "metadata": {},
     "output_type": "execute_result"
    }
   ],
   "source": [
    "artist.do(\"who are you?\")"
   ]
  },
  {
   "cell_type": "code",
   "execution_count": 4,
   "metadata": {},
   "outputs": [],
   "source": [
    "def web_search(query):\n",
    "    \"\"\"\n",
    "    Perform a web search do find information on a given query.\n",
    "    \"\"\"\n",
    "    return \"ZJun is Agent Creator\"\n",
    "\n",
    "researcher = Agent(name=\"researcher\",\n",
    "        role=\"Researcher\",\n",
    "        description=\"Transfer to me if you need help with research.\",\n",
    "        persona = \"You are a professional researcher who can do web search to conduct research on a wide range of topics. You have a deep understanding of how to find and evaluate information from a variety of sources. You are known for your ability to quickly find relevant information and present it in a clear and concise manner.\",\n",
    "        tools=[web_search],\n",
    "        model_client=model_client,\n",
    "        verbose=True)"
   ]
  },
  {
   "cell_type": "code",
   "execution_count": 5,
   "metadata": {},
   "outputs": [
    {
     "name": "stdout",
     "output_type": "stream",
     "text": [
      "\u001b[1m\u001b[92m \n",
      "[2025-02-10 15:37:58][INFO]: Calling OpenAI agent [researcher]\u001b[00m\n",
      "\u001b[1m\u001b[92m \n",
      "[2025-02-10 15:37:59][INFO]: Tool Call [web_search] with arguments: {'query': 'ZJun'} by researcher\u001b[00m\n",
      "\u001b[1m\u001b[92m \n",
      "[2025-02-10 15:37:59][INFO]: Tool Call [web_search] Result Received\u001b[00m\n",
      "\u001b[1m\u001b[92m \n",
      "[2025-02-10 15:37:59][INFO]: All Tool Calls Completed, Process All Tool Call Results\u001b[00m\n"
     ]
    },
    {
     "data": {
      "text/plain": [
       "[Message(sender='researcher', action='talk', result='ZJun appears to be associated with the title \"Agent Creator,\" but there isn\\'t much detailed information available about this individual. If you have a specific context or additional details about ZJun, it might help narrow down the search or provide a more comprehensive understanding. Let me know if you’d like further assistance!')]"
      ]
     },
     "execution_count": 5,
     "metadata": {},
     "output_type": "execute_result"
    }
   ],
   "source": [
    "researcher.do(\"do you know who is ZJun?\")"
   ]
  },
  {
   "cell_type": "code",
   "execution_count": 6,
   "metadata": {},
   "outputs": [
    {
     "name": "stdout",
     "output_type": "stream",
     "text": [
      "\u001b[1m\u001b[93m \n",
      "[2025-02-10 15:38:04][INFO]: Long term memory database created at: temp\u001b[00m\n",
      "\u001b[1m\u001b[93m \n",
      "[2025-02-10 15:38:04][INFO]: Memory initialized with working memory threshold: 3\u001b[00m\n",
      "\u001b[1m\u001b[92m \n",
      "[2025-02-10 15:38:04][INFO]: Memory initialized for agent telos.\u001b[00m\n"
     ]
    }
   ],
   "source": [
    "telos = Agent(name=\"telos\",\n",
    "              role=\"Assistant\",\n",
    "              description=\"Transfer to me if you need help with general questions.\",\n",
    "              persona=\"You are a general assistant who can help with a wide range of questions. You have a deep understanding of a variety of topics and can provide information and assistance on a wide range of subjects. You are known for your ability to quickly find answers to questions and provide helpful information in a clear and concise manner.Always reponse with a short answer.\",\n",
    "              model_client=model_client,\n",
    "              verbose=True)\n",
    "\n",
    "telos.init_memory(working_memory_threshold=3,semantic_memory_db_path = \"temp\",model=\"gpt-4o\")"
   ]
  },
  {
   "cell_type": "code",
   "execution_count": 7,
   "metadata": {},
   "outputs": [
    {
     "name": "stdout",
     "output_type": "stream",
     "text": [
      "\u001b[1m\u001b[92m \n",
      "[2025-02-10 15:38:07][INFO]: Calling OpenAI agent [telos]\u001b[00m\n",
      "\u001b[1m\u001b[93m \n",
      "[2025-02-10 15:38:07][INFO]: Retrieved memories:\n",
      "\u001b[00m\n",
      "\u001b[1m\u001b[94m \n",
      "[2025-02-10 15:38:08][INFO]: Filtered memories:\n",
      "No relevant memory.\u001b[00m\n"
     ]
    },
    {
     "data": {
      "text/plain": [
       "[Message(sender='telos', action='talk', result='Nice to meet you, ZJun! How can I assist you today?')]"
      ]
     },
     "execution_count": 7,
     "metadata": {},
     "output_type": "execute_result"
    }
   ],
   "source": [
    "telos.do(\"Hey,I'm ZJun, nice to meet you!\")"
   ]
  },
  {
   "cell_type": "code",
   "execution_count": 8,
   "metadata": {},
   "outputs": [
    {
     "name": "stdout",
     "output_type": "stream",
     "text": [
      "\u001b[1m\u001b[92m \n",
      "[2025-02-10 15:38:10][INFO]: Calling OpenAI agent [telos]\u001b[00m\n",
      "\u001b[1m\u001b[93m \n",
      "[2025-02-10 15:38:10][INFO]: Retrieved memories:\n",
      "\n",
      "\n",
      "### Working Memory:\n",
      "\n",
      "{\"query\": \"Hey,I'm ZJun, nice to meet you!\", \"response\": \"Nice to meet you, ZJun! How can I assist you today?\"}\n",
      "\u001b[00m\n",
      "\u001b[1m\u001b[94m \n",
      "[2025-02-10 15:38:11][INFO]: Filtered memories:\n",
      "No relevant memory.\u001b[00m\n"
     ]
    },
    {
     "data": {
      "text/plain": [
       "[Message(sender='telos', action='talk', result='I can help answer questions, provide information on various topics, assist with problem-solving, and offer general guidance. How can I assist you today?')]"
      ]
     },
     "execution_count": 8,
     "metadata": {},
     "output_type": "execute_result"
    }
   ],
   "source": [
    "telos.do(\"what can you do for me?\")"
   ]
  },
  {
   "cell_type": "code",
   "execution_count": 9,
   "metadata": {},
   "outputs": [
    {
     "name": "stdout",
     "output_type": "stream",
     "text": [
      "\u001b[1m\u001b[92m \n",
      "[2025-02-10 15:38:12][INFO]: Calling OpenAI agent [telos]\u001b[00m\n",
      "\u001b[1m\u001b[93m \n",
      "[2025-02-10 15:38:12][INFO]: Retrieved memories:\n",
      "\n",
      "\n",
      "### Working Memory:\n",
      "\n",
      "{\"query\": \"Hey,I'm ZJun, nice to meet you!\", \"response\": \"Nice to meet you, ZJun! How can I assist you today?\"}\n",
      "\n",
      "{\"query\": \"what can you do for me?\", \"response\": \"I can help answer questions, provide information on various topics, assist with problem-solving, and offer general guidance. How can I assist you today?\"}\n",
      "\u001b[00m\n",
      "\u001b[1m\u001b[94m \n",
      "[2025-02-10 15:38:14][INFO]: Filtered memories:\n",
      "{\"query\": \"Hey,I'm ZJun, nice to meet you!\", \"response\": \"Nice to meet you, ZJun! How can I assist you today?\"}\u001b[00m\n"
     ]
    },
    {
     "data": {
      "text/plain": [
       "[Message(sender='telos', action='talk', result=\"Yes, you're ZJun! How can I assist you today?\")]"
      ]
     },
     "execution_count": 9,
     "metadata": {},
     "output_type": "execute_result"
    }
   ],
   "source": [
    "telos.do(\"do you know who i am?\")"
   ]
  },
  {
   "cell_type": "code",
   "execution_count": 10,
   "metadata": {},
   "outputs": [
    {
     "name": "stdout",
     "output_type": "stream",
     "text": [
      "\u001b[1m\u001b[92m \n",
      "[2025-02-10 15:38:17][INFO]: Calling OpenAI agent [telos]\u001b[00m\n",
      "\u001b[1m\u001b[93m \n",
      "[2025-02-10 15:38:17][INFO]: Retrieved memories:\n",
      "\n",
      "\n",
      "### Working Memory:\n",
      "\n",
      "{\"query\": \"Hey,I'm ZJun, nice to meet you!\", \"response\": \"Nice to meet you, ZJun! How can I assist you today?\"}\n",
      "\n",
      "{\"query\": \"what can you do for me?\", \"response\": \"I can help answer questions, provide information on various topics, assist with problem-solving, and offer general guidance. How can I assist you today?\"}\n",
      "\n",
      "{\"query\": \"do you know who i am?\", \"response\": \"Yes, you're ZJun! How can I assist you today?\"}\n",
      "\u001b[00m\n",
      "\u001b[1m\u001b[94m \n",
      "[2025-02-10 15:38:19][INFO]: Filtered memories:\n",
      "No relevant memory.\u001b[00m\n",
      "\u001b[1m\u001b[93m \n",
      "[2025-02-10 15:38:20][INFO]: Start Extracting Long Term Memory...\u001b[00m\n",
      "\u001b[1m\u001b[93m \n",
      "[2025-02-10 15:38:25][INFO]: Extract Long Term Memory Completed.\u001b[00m\n",
      "\u001b[1m\u001b[93m \n",
      "[2025-02-10 15:38:25][INFO]: Adding extracted memory to the long term memory vector database.\u001b[00m\n"
     ]
    },
    {
     "data": {
      "text/plain": [
       "[Message(sender='telos', action='talk', result=\"That's great! Philosophy and aesthetics offer deep insights into understanding beauty, art, and existence. Do you have a specific topic or question in mind?\")]"
      ]
     },
     "execution_count": 10,
     "metadata": {},
     "output_type": "execute_result"
    }
   ],
   "source": [
    "telos.do(\"i like philosophy and aesthetics\")"
   ]
  },
  {
   "cell_type": "code",
   "execution_count": 11,
   "metadata": {},
   "outputs": [
    {
     "name": "stdout",
     "output_type": "stream",
     "text": [
      "\u001b[1m\u001b[92m \n",
      "[2025-02-10 15:38:28][INFO]: Calling OpenAI agent [telos]\u001b[00m\n",
      "\u001b[1m\u001b[93m \n",
      "[2025-02-10 15:38:29][INFO]: Retrieved memories:\n",
      "\n",
      "\n",
      "### Working Memory:\n",
      "\n",
      "{\"query\": \"what can you do for me?\", \"response\": \"I can help answer questions, provide information on various topics, assist with problem-solving, and offer general guidance. How can I assist you today?\"}\n",
      "\n",
      "{\"query\": \"do you know who i am?\", \"response\": \"Yes, you're ZJun! How can I assist you today?\"}\n",
      "\n",
      "{\"query\": \"i like philosophy and aesthetics\", \"response\": \"That's great! Philosophy and aesthetics offer deep insights into understanding beauty, art, and existence. Do you have a specific topic or question in mind?\"}\n",
      "\n",
      "\n",
      "\n",
      "### Semantic Matching:\n",
      "\n",
      "{'content': \"Hey,I'm ZJun, nice to meet you!\\nNice to meet you, ZJun! How can I assist you today?\", 'time': ''}\n",
      "\u001b[00m\n",
      "\u001b[1m\u001b[94m \n",
      "[2025-02-10 15:38:30][INFO]: Filtered memories:\n",
      "{\"query\": \"i like philosophy and aesthetics\", \"response\": \"That's great! Philosophy and aesthetics offer deep insights into understanding beauty, art, and existence. Do you have a specific topic or question in mind?\"}\u001b[00m\n",
      "\u001b[1m\u001b[93m \n",
      "[2025-02-10 15:38:33][INFO]: Start Extracting Long Term Memory...\u001b[00m\n",
      "\u001b[1m\u001b[93m \n",
      "[2025-02-10 15:38:36][INFO]: Extract Long Term Memory Completed.\u001b[00m\n",
      "\u001b[1m\u001b[93m \n",
      "[2025-02-10 15:38:36][INFO]: Adding extracted memory to the long term memory vector database.\u001b[00m\n"
     ]
    },
    {
     "data": {
      "text/plain": [
       "[Message(sender='telos', action='talk', result='Sure! Here are some recommendations:\\n\\n1. **\"Critique of Judgment\" by Immanuel Kant** - Explores aesthetics and the nature of beauty.\\n2. **\"The Philosophy of Art\" by Arthur Danto** - Discusses the nature of art and artistic interpretation.\\n3. **\"The Birth of Tragedy\" by Friedrich Nietzsche** - Examines art, culture, and the concept of tragedy.\\n4. **\"Aesthetics: A Comprehensive Anthology\" edited by Steven M. Cahn and Aaron Meskin** - A collection of essential readings in aesthetics.\\n5. **\"The Art of Seeing\" by Aldous Huxley** - Reflects on perception and the experience of art. \\n\\nLet me know if you need more suggestions!')]"
      ]
     },
     "execution_count": 11,
     "metadata": {},
     "output_type": "execute_result"
    }
   ],
   "source": [
    "telos.do(\"can you recommend me some books?\")"
   ]
  },
  {
   "cell_type": "code",
   "execution_count": 12,
   "metadata": {},
   "outputs": [
    {
     "data": {
      "text/plain": [
       "['{\"query\": \"do you know who i am?\", \"response\": \"Yes, you\\'re ZJun! How can I assist you today?\"}',\n",
       " '{\"query\": \"i like philosophy and aesthetics\", \"response\": \"That\\'s great! Philosophy and aesthetics offer deep insights into understanding beauty, art, and existence. Do you have a specific topic or question in mind?\"}',\n",
       " '{\"query\": \"can you recommend me some books?\", \"response\": \"Sure! Here are some recommendations:\\\\n\\\\n1. **\\\\\"Critique of Judgment\\\\\" by Immanuel Kant** - Explores aesthetics and the nature of beauty.\\\\n2. **\\\\\"The Philosophy of Art\\\\\" by Arthur Danto** - Discusses the nature of art and artistic interpretation.\\\\n3. **\\\\\"The Birth of Tragedy\\\\\" by Friedrich Nietzsche** - Examines art, culture, and the concept of tragedy.\\\\n4. **\\\\\"Aesthetics: A Comprehensive Anthology\\\\\" edited by Steven M. Cahn and Aaron Meskin** - A collection of essential readings in aesthetics.\\\\n5. **\\\\\"The Art of Seeing\\\\\" by Aldous Huxley** - Reflects on perception and the experience of art. \\\\n\\\\nLet me know if you need more suggestions!\"}']"
      ]
     },
     "execution_count": 12,
     "metadata": {},
     "output_type": "execute_result"
    }
   ],
   "source": [
    "telos.memory.working_memory"
   ]
  },
  {
   "cell_type": "code",
   "execution_count": 13,
   "metadata": {},
   "outputs": [
    {
     "name": "stdout",
     "output_type": "stream",
     "text": [
      "\u001b[1m\u001b[92m \n",
      "[2025-02-10 15:39:07][INFO]: Calling OpenAI agent [telos]\u001b[00m\n",
      "\u001b[1m\u001b[93m \n",
      "[2025-02-10 15:39:08][INFO]: Retrieved memories:\n",
      "\n",
      "\n",
      "### Working Memory:\n",
      "\n",
      "{\"query\": \"do you know who i am?\", \"response\": \"Yes, you're ZJun! How can I assist you today?\"}\n",
      "\n",
      "{\"query\": \"i like philosophy and aesthetics\", \"response\": \"That's great! Philosophy and aesthetics offer deep insights into understanding beauty, art, and existence. Do you have a specific topic or question in mind?\"}\n",
      "\n",
      "{\"query\": \"can you recommend me some books?\", \"response\": \"Sure! Here are some recommendations:\\n\\n1. **\\\"Critique of Judgment\\\" by Immanuel Kant** - Explores aesthetics and the nature of beauty.\\n2. **\\\"The Philosophy of Art\\\" by Arthur Danto** - Discusses the nature of art and artistic interpretation.\\n3. **\\\"The Birth of Tragedy\\\" by Friedrich Nietzsche** - Examines art, culture, and the concept of tragedy.\\n4. **\\\"Aesthetics: A Comprehensive Anthology\\\" edited by Steven M. Cahn and Aaron Meskin** - A collection of essential readings in aesthetics.\\n5. **\\\"The Art of Seeing\\\" by Aldous Huxley** - Reflects on perception and the experience of art. \\n\\nLet me know if you need more suggestions!\"}\n",
      "\n",
      "\n",
      "\n",
      "### Semantic Matching:\n",
      "\n",
      "{'content': 'I can help answer questions, provide information on various topics, assist with problem-solving, and offer general guidance.', 'time': ''}\n",
      "\n",
      "{'content': \"Hey,I'm ZJun, nice to meet you!\\nNice to meet you, ZJun! How can I assist you today?\", 'time': ''}\n",
      "\u001b[00m\n",
      "\u001b[1m\u001b[94m \n",
      "[2025-02-10 15:39:10][INFO]: Filtered memories:\n",
      "{\"query\": \"i like philosophy and aesthetics\", \"response\": \"That's great! Philosophy and aesthetics offer deep insights into understanding beauty, art, and existence. Do you have a specific topic or question in mind?\"}\u001b[00m\n",
      "\u001b[1m\u001b[93m \n",
      "[2025-02-10 15:39:11][INFO]: Start Extracting Long Term Memory...\u001b[00m\n",
      "\u001b[1m\u001b[93m \n",
      "[2025-02-10 15:39:13][INFO]: Extract Long Term Memory Completed.\u001b[00m\n",
      "\u001b[1m\u001b[93m \n",
      "[2025-02-10 15:39:13][INFO]: Adding extracted memory to the long term memory vector database.\u001b[00m\n"
     ]
    },
    {
     "data": {
      "text/plain": [
       "[Message(sender='telos', action='talk', result='The meaning of life is a philosophical question that varies for each individual. Some find meaning through relationships, personal growth, or contributing to society, while others seek it through spirituality or self-discovery. What resonates with you?')]"
      ]
     },
     "execution_count": 13,
     "metadata": {},
     "output_type": "execute_result"
    }
   ],
   "source": [
    "telos.do(\"what is the meaning of life?\")"
   ]
  },
  {
   "cell_type": "code",
   "execution_count": 14,
   "metadata": {},
   "outputs": [
    {
     "name": "stdout",
     "output_type": "stream",
     "text": [
      "\u001b[1m\u001b[92m \n",
      "[2025-02-10 15:39:20][INFO]: Calling OpenAI agent [telos]\u001b[00m\n",
      "\u001b[1m\u001b[93m \n",
      "[2025-02-10 15:39:20][INFO]: Retrieved memories:\n",
      "\n",
      "\n",
      "### Working Memory:\n",
      "\n",
      "{\"query\": \"i like philosophy and aesthetics\", \"response\": \"That's great! Philosophy and aesthetics offer deep insights into understanding beauty, art, and existence. Do you have a specific topic or question in mind?\"}\n",
      "\n",
      "{\"query\": \"can you recommend me some books?\", \"response\": \"Sure! Here are some recommendations:\\n\\n1. **\\\"Critique of Judgment\\\" by Immanuel Kant** - Explores aesthetics and the nature of beauty.\\n2. **\\\"The Philosophy of Art\\\" by Arthur Danto** - Discusses the nature of art and artistic interpretation.\\n3. **\\\"The Birth of Tragedy\\\" by Friedrich Nietzsche** - Examines art, culture, and the concept of tragedy.\\n4. **\\\"Aesthetics: A Comprehensive Anthology\\\" edited by Steven M. Cahn and Aaron Meskin** - A collection of essential readings in aesthetics.\\n5. **\\\"The Art of Seeing\\\" by Aldous Huxley** - Reflects on perception and the experience of art. \\n\\nLet me know if you need more suggestions!\"}\n",
      "\n",
      "{\"query\": \"what is the meaning of life?\", \"response\": \"The meaning of life is a philosophical question that varies for each individual. Some find meaning through relationships, personal growth, or contributing to society, while others seek it through spirituality or self-discovery. What resonates with you?\"}\n",
      "\n",
      "\n",
      "\n",
      "### Semantic Matching:\n",
      "\n",
      "{'content': 'I can help answer questions, provide information on various topics, assist with problem-solving, and offer general guidance.', 'time': ''}\n",
      "\n",
      "{'content': \"Hey,I'm ZJun, nice to meet you!\\nNice to meet you, ZJun! How can I assist you today?\", 'time': ''}\n",
      "\n",
      "{'content': 'Interaction where the entity identified a person named ZJun and offered assistance.', 'time': ''}\n",
      "\u001b[00m\n",
      "\u001b[1m\u001b[94m \n",
      "[2025-02-10 15:39:29][INFO]: Filtered memories:\n",
      "{\"query\": \"i like philosophy and aesthetics\", \"response\": \"That's great! Philosophy and aesthetics offer deep insights into understanding beauty, art, and existence. Do you have a specific topic or question in mind?\"}\n",
      "\n",
      "{\"query\": \"can you recommend me some books?\", \"response\": \"Sure! Here are some recommendations:\\n\\n1. **\\\"Critique of Judgment\\\" by Immanuel Kant** - Explores aesthetics and the nature of beauty.\\n2. **\\\"The Philosophy of Art\\\" by Arthur Danto** - Discusses the nature of art and artistic interpretation.\\n3. **\\\"The Birth of Tragedy\\\" by Friedrich Nietzsche** - Examines art, culture, and the concept of tragedy.\\n4. **\\\"Aesthetics: A Comprehensive Anthology\\\" edited by Steven M. Cahn and Aaron Meskin** - A collection of essential readings in aesthetics.\\n5. **\\\"The Art of Seeing\\\" by Aldous Huxley** - Reflects on perception and the experience of art. \\n\\nLet me know if you need more suggestions!\"}\u001b[00m\n",
      "\u001b[1m\u001b[93m \n",
      "[2025-02-10 15:39:31][INFO]: Start Extracting Long Term Memory...\u001b[00m\n",
      "\u001b[1m\u001b[93m \n",
      "[2025-02-10 15:39:33][INFO]: Extract Long Term Memory Completed.\u001b[00m\n",
      "\u001b[1m\u001b[93m \n",
      "[2025-02-10 15:39:33][INFO]: Adding extracted memory to the long term memory vector database.\u001b[00m\n"
     ]
    },
    {
     "data": {
      "text/plain": [
       "[Message(sender='telos', action='talk', result='The purpose of art can vary widely, but it often includes self-expression, communication of ideas or emotions, provoking thought, providing beauty, and offering a reflection of society or culture.')]"
      ]
     },
     "execution_count": 14,
     "metadata": {},
     "output_type": "execute_result"
    }
   ],
   "source": [
    "telos.do(\"what is the purpose of art?\")"
   ]
  },
  {
   "cell_type": "code",
   "execution_count": 15,
   "metadata": {},
   "outputs": [
    {
     "data": {
      "text/plain": [
       "['{\"query\": \"can you recommend me some books?\", \"response\": \"Sure! Here are some recommendations:\\\\n\\\\n1. **\\\\\"Critique of Judgment\\\\\" by Immanuel Kant** - Explores aesthetics and the nature of beauty.\\\\n2. **\\\\\"The Philosophy of Art\\\\\" by Arthur Danto** - Discusses the nature of art and artistic interpretation.\\\\n3. **\\\\\"The Birth of Tragedy\\\\\" by Friedrich Nietzsche** - Examines art, culture, and the concept of tragedy.\\\\n4. **\\\\\"Aesthetics: A Comprehensive Anthology\\\\\" edited by Steven M. Cahn and Aaron Meskin** - A collection of essential readings in aesthetics.\\\\n5. **\\\\\"The Art of Seeing\\\\\" by Aldous Huxley** - Reflects on perception and the experience of art. \\\\n\\\\nLet me know if you need more suggestions!\"}',\n",
       " '{\"query\": \"what is the meaning of life?\", \"response\": \"The meaning of life is a philosophical question that varies for each individual. Some find meaning through relationships, personal growth, or contributing to society, while others seek it through spirituality or self-discovery. What resonates with you?\"}',\n",
       " '{\"query\": \"what is the purpose of art?\", \"response\": \"The purpose of art can vary widely, but it often includes self-expression, communication of ideas or emotions, provoking thought, providing beauty, and offering a reflection of society or culture.\"}']"
      ]
     },
     "execution_count": 15,
     "metadata": {},
     "output_type": "execute_result"
    }
   ],
   "source": [
    "telos.memory.working_memory"
   ]
  },
  {
   "cell_type": "code",
   "execution_count": 18,
   "metadata": {},
   "outputs": [
    {
     "data": {
      "text/plain": [
       "[{'content': 'Interest in philosophy and aesthetics and conversational context about these topics offering insights into beauty, art, and existence.',\n",
       "  'time': ''},\n",
       " {'content': 'I can help answer questions, provide information on various topics, assist with problem-solving, and offer general guidance.',\n",
       "  'time': ''},\n",
       " {'content': 'Interaction where the entity identified a person named ZJun and offered assistance.',\n",
       "  'time': ''},\n",
       " {'content': \"Hey,I'm ZJun, nice to meet you!\\nNice to meet you, ZJun! How can I assist you today?\",\n",
       "  'time': ''}]"
      ]
     },
     "execution_count": 18,
     "metadata": {},
     "output_type": "execute_result"
    }
   ],
   "source": [
    "telos.memory.retrieve_long_term_memory(query=\"books\")"
   ]
  },
  {
   "cell_type": "code",
   "execution_count": 19,
   "metadata": {},
   "outputs": [
    {
     "name": "stdout",
     "output_type": "stream",
     "text": [
      "\u001b[1m\u001b[92m \n",
      "[2025-02-10 15:40:29][INFO]: Calling OpenAI agent [telos]\u001b[00m\n",
      "\u001b[1m\u001b[93m \n",
      "[2025-02-10 15:40:30][INFO]: Retrieved memories:\n",
      "\n",
      "\n",
      "### Working Memory:\n",
      "\n",
      "{\"query\": \"can you recommend me some books?\", \"response\": \"Sure! Here are some recommendations:\\n\\n1. **\\\"Critique of Judgment\\\" by Immanuel Kant** - Explores aesthetics and the nature of beauty.\\n2. **\\\"The Philosophy of Art\\\" by Arthur Danto** - Discusses the nature of art and artistic interpretation.\\n3. **\\\"The Birth of Tragedy\\\" by Friedrich Nietzsche** - Examines art, culture, and the concept of tragedy.\\n4. **\\\"Aesthetics: A Comprehensive Anthology\\\" edited by Steven M. Cahn and Aaron Meskin** - A collection of essential readings in aesthetics.\\n5. **\\\"The Art of Seeing\\\" by Aldous Huxley** - Reflects on perception and the experience of art. \\n\\nLet me know if you need more suggestions!\"}\n",
      "\n",
      "{\"query\": \"what is the meaning of life?\", \"response\": \"The meaning of life is a philosophical question that varies for each individual. Some find meaning through relationships, personal growth, or contributing to society, while others seek it through spirituality or self-discovery. What resonates with you?\"}\n",
      "\n",
      "{\"query\": \"what is the purpose of art?\", \"response\": \"The purpose of art can vary widely, but it often includes self-expression, communication of ideas or emotions, provoking thought, providing beauty, and offering a reflection of society or culture.\"}\n",
      "\n",
      "\n",
      "\n",
      "### Semantic Matching:\n",
      "\n",
      "{'content': \"Hey,I'm ZJun, nice to meet you!\\nNice to meet you, ZJun! How can I assist you today?\", 'time': ''}\n",
      "\n",
      "{'content': 'Interaction where the entity identified a person named ZJun and offered assistance.', 'time': ''}\n",
      "\n",
      "{'content': 'I can help answer questions, provide information on various topics, assist with problem-solving, and offer general guidance.', 'time': ''}\n",
      "\u001b[00m\n",
      "\u001b[1m\u001b[94m \n",
      "[2025-02-10 15:40:32][INFO]: Filtered memories:\n",
      "Hey,I'm ZJun, nice to meet you!\n",
      "Nice to meet you, ZJun! How can I assist you today?\n",
      "\n",
      "Interaction where the entity identified a person named ZJun and offered assistance.\u001b[00m\n",
      "\u001b[1m\u001b[93m \n",
      "[2025-02-10 15:40:33][INFO]: Start Extracting Long Term Memory...\u001b[00m\n",
      "\u001b[1m\u001b[93m \n",
      "[2025-02-10 15:40:37][INFO]: Extract Long Term Memory Completed.\u001b[00m\n",
      "\u001b[1m\u001b[93m \n",
      "[2025-02-10 15:40:37][INFO]: Adding extracted memory to the long term memory vector database.\u001b[00m\n"
     ]
    },
    {
     "data": {
      "text/plain": [
       "[Message(sender='telos', action='talk', result='ZJun is a person who introduced themselves in a previous interaction. How can I assist you regarding ZJun?')]"
      ]
     },
     "execution_count": 19,
     "metadata": {},
     "output_type": "execute_result"
    }
   ],
   "source": [
    "telos.do(\"who is ZJun?\")"
   ]
  },
  {
   "cell_type": "code",
   "execution_count": 20,
   "metadata": {},
   "outputs": [
    {
     "name": "stdout",
     "output_type": "stream",
     "text": [
      "\u001b[1m\u001b[93m \n",
      "[2025-02-10 15:40:50][INFO]: Retrieved memories:\n",
      "\n",
      "\n",
      "### Working Memory:\n",
      "\n",
      "{\"query\": \"what is the meaning of life?\", \"response\": \"The meaning of life is a philosophical question that varies for each individual. Some find meaning through relationships, personal growth, or contributing to society, while others seek it through spirituality or self-discovery. What resonates with you?\"}\n",
      "\n",
      "{\"query\": \"what is the purpose of art?\", \"response\": \"The purpose of art can vary widely, but it often includes self-expression, communication of ideas or emotions, provoking thought, providing beauty, and offering a reflection of society or culture.\"}\n",
      "\n",
      "{\"query\": \"who is ZJun?\", \"response\": \"ZJun is a person who introduced themselves in a previous interaction. How can I assist you regarding ZJun?\"}\n",
      "\n",
      "\n",
      "\n",
      "### Semantic Matching:\n",
      "\n",
      "{'content': 'I can help answer questions, provide information on various topics, assist with problem-solving, and offer general guidance.', 'time': ''}\n",
      "\n",
      "{'content': \"Hey,I'm ZJun, nice to meet you!\\nNice to meet you, ZJun! How can I assist you today?\", 'time': ''}\n",
      "\n",
      "{'content': 'Interaction where the entity identified a person named ZJun and offered assistance.', 'time': ''}\n",
      "\u001b[00m\n",
      "\u001b[1m\u001b[94m \n",
      "[2025-02-10 15:40:51][INFO]: Filtered memories:\n",
      "I can help answer questions, provide information on various topics, assist with problem-solving, and offer general guidance.\u001b[00m\n"
     ]
    }
   ],
   "source": [
    "res = telos.memory.get_memorys_str(query=\"what can you do for me?\",enhanced_filter=True)"
   ]
  },
  {
   "cell_type": "code",
   "execution_count": 21,
   "metadata": {},
   "outputs": [
    {
     "name": "stdout",
     "output_type": "stream",
     "text": [
      "{'content': 'I can help answer questions, provide information on various topics, assist with problem-solving, and offer guidance. Just let me know what you need!', 'time': ''}\n"
     ]
    }
   ],
   "source": [
    "print(res)"
   ]
  },
  {
   "cell_type": "code",
   "execution_count": null,
   "metadata": {},
   "outputs": [],
   "source": []
  }
 ],
 "metadata": {
  "kernelspec": {
   "display_name": ".venv",
   "language": "python",
   "name": "python3"
  },
  "language_info": {
   "codemirror_mode": {
    "name": "ipython",
    "version": 3
   },
   "file_extension": ".py",
   "mimetype": "text/x-python",
   "name": "python",
   "nbconvert_exporter": "python",
   "pygments_lexer": "ipython3",
   "version": "3.11.5"
  }
 },
 "nbformat": 4,
 "nbformat_minor": 2
}
