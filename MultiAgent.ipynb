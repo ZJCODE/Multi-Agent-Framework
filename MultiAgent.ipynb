{
 "cells": [
  {
   "cell_type": "markdown",
   "metadata": {},
   "source": [
    "# Implement Multi Agent Framework"
   ]
  },
  {
   "cell_type": "code",
   "execution_count": 3,
   "metadata": {},
   "outputs": [],
   "source": [
    "!pip install python-dotenv --quiet\n",
    "!pip install tenacity --quiet\n",
    "!pip install openai --quiet"
   ]
  },
  {
   "cell_type": "code",
   "execution_count": 4,
   "metadata": {},
   "outputs": [],
   "source": [
    "from openai import OpenAI\n",
    "from typing import Optional\n",
    "import os\n",
    "from dotenv import load_dotenv\n",
    "from tenacity import retry, wait_random_exponential, stop_after_attempt\n",
    "from typing import List, Optional, Dict\n",
    "import logging\n",
    "import json"
   ]
  },
  {
   "cell_type": "code",
   "execution_count": 5,
   "metadata": {},
   "outputs": [],
   "source": [
    "from utils import function_to_schema"
   ]
  },
  {
   "cell_type": "markdown",
   "metadata": {},
   "source": [
    "### LLM Preparation "
   ]
  },
  {
   "cell_type": "code",
   "execution_count": 6,
   "metadata": {},
   "outputs": [],
   "source": [
    "# Load environment variables from .env file\n",
    "load_dotenv()\n",
    "\n",
    "client = OpenAI(\n",
    "    api_key=os.environ.get(\"OPENAI_API_KEY\"),\n",
    "    base_url=os.environ.get(\"OPENAI_BASE_URL\"),\n",
    ")"
   ]
  },
  {
   "cell_type": "markdown",
   "metadata": {},
   "source": [
    "### Agent & Multi-Agent "
   ]
  },
  {
   "cell_type": "code",
   "execution_count": 7,
   "metadata": {},
   "outputs": [],
   "source": [
    "\n",
    "class BaseAgent:\n",
    "    \"\"\"\n",
    "    An example of a base agent class, including an OpenAI client.\n",
    "    \"\"\"\n",
    "    def __init__(self,client:OpenAI):\n",
    "        self.client = client\n",
    "        # can add more attributes and methods here\n",
    "        \n",
    "\n",
    "class Agent:\n",
    "    \"\"\"\n",
    "    A class representing an agent that can handle chat messages and handoff to other agents.\n",
    "    \"\"\"\n",
    "    def __init__(\n",
    "            self,\n",
    "            base_agent:BaseAgent,\n",
    "            name:str,\n",
    "            instructions: Optional[str] = None):\n",
    "        self.DEFAULT_MODEL = \"gpt-4o-mini\"\n",
    "        self.name = name.replace(\" \",\"_\")\n",
    "        self.agent = base_agent\n",
    "        self.instructions = instructions\n",
    "        self.handoff_agent_schemas: List[Dict] = []\n",
    "        self.tools_schema: List[Dict] = []\n",
    "        self.handoff_agents: Dict[str, \"Agent\"] = {}\n",
    "        self.tools_map: Dict[str, \"function\"] = {}\n",
    "\n",
    "    def __str__(self):\n",
    "        \"\"\"\n",
    "        Returns a string representation of the Agent instance.\n",
    "        \"\"\"\n",
    "        return f\"Agent(name={self.name}, instructions={self.instructions},handoff_agents={list(self.handoff_agents.keys())})\"\n",
    "\n",
    "\n",
    "    def add_handoffs(self, agents: List[\"Agent\"]) -> None:\n",
    "        \"\"\" \n",
    "        Adds handoff agents to the current agent.\n",
    "        \"\"\"\n",
    "        self.handoff_agent_schemas.clear()\n",
    "        for agent in agents:\n",
    "            agent_schema = {\n",
    "                'type': 'function',\n",
    "                'function': {\n",
    "                    'name': agent.name,\n",
    "                    'description': agent.instructions or '',\n",
    "                    'parameters': {'type': 'object', 'properties': {}, 'required': []}\n",
    "                }\n",
    "            }\n",
    "            self.handoff_agent_schemas.append(agent_schema)\n",
    "            self.handoff_agents[agent.name] = agent\n",
    "\n",
    "    def clear_handoffs(self) -> None:\n",
    "        \"\"\" \n",
    "        Clears handoff agents from the current agent.\n",
    "        \"\"\"\n",
    "        self.handoff_agent_schemas.clear()\n",
    "        self.handoff_agents = {}\n",
    "\n",
    "    def add_tools(self, tools: list) -> None:\n",
    "        \"\"\" \n",
    "        Adds tools to the current agent.\n",
    "        \"\"\"\n",
    "        self.tools_schema.clear()\n",
    "        for tool in tools:\n",
    "            tool_schema = function_to_schema(tool)\n",
    "            self.tools_schema.append(tool_schema)\n",
    "            self.tools_map[tool.__name__] = tool\n",
    "\n",
    "    def clear_tools(self) -> None:\n",
    "        \"\"\"\n",
    "        Clears tools from the current agent.\n",
    "        \"\"\"\n",
    "        self.tools_schema.clear()\n",
    "\n",
    "    @retry(wait=wait_random_exponential(multiplier=1, max=40), stop=stop_after_attempt(3))\n",
    "    def chat(self,messages:List[Dict],model: Optional[str] = None,disable_tools:bool = False):\n",
    "        \"\"\" \n",
    "        Handles chat messages and returns responses, with optional handoff to other agents.\n",
    "        \"\"\"\n",
    "\n",
    "        if self.instructions:\n",
    "            messages = [{\"role\": \"system\", \"content\": self.instructions}] + messages\n",
    "        \n",
    "        model = model or self.DEFAULT_MODEL\n",
    "\n",
    "        try:\n",
    "\n",
    "            response = self.agent.client.chat.completions.create(\n",
    "                model=model,\n",
    "                messages=messages,\n",
    "                tools=None if disable_tools else self.handoff_agent_schemas + self.tools_schema or None,\n",
    "                tool_choice=None,\n",
    "            )\n",
    "            message = response.choices[0].message\n",
    "            if not message.tool_calls:\n",
    "                result = [{\"role\": \"assistant\", \"content\": message.content, \"agent_name\": self.name}]\n",
    "                return result\n",
    "            \n",
    "            result = []\n",
    "            for tool_call in message.tool_calls:\n",
    "                if tool_call.function.name in self.handoff_agents:\n",
    "                    handoff_agent = self.handoff_agents[tool_call.function.name]\n",
    "                    handoff_message = {\n",
    "                        \"role\": \"handoff\",\n",
    "                        \"handoff\": f\"{self.name} -> {handoff_agent.name}\",\n",
    "                        \"agent_name\": handoff_agent.name,\n",
    "                        \"agent\": handoff_agent,\n",
    "                    }\n",
    "                    result.append(handoff_message)\n",
    "                elif tool_call.function.name in self.tools_map:\n",
    "                    tool = self.tools_map[tool_call.function.name]\n",
    "                    tool_args = json.loads(tool_call.function.arguments)\n",
    "                    tool_result = tool(**tool_args)\n",
    "                    tool_message = {\n",
    "                        \"role\": \"tool\",\n",
    "                        \"content\": tool_result,\n",
    "                    }\n",
    "                    result.append(tool_message)\n",
    "                    print(f\"Tool call: {tool_call.function.name} with args: {tool_args} returned: {tool_result}\")\n",
    "                else:\n",
    "                    logging.error(f\"Unknown tool call: {tool_call.function.name}\")\n",
    "            return result\n",
    "        except Exception as e:\n",
    "            logging.error(\"Unable to generate ChatCompletion response\")\n",
    "            logging.error(f\"Exception: {e}\")\n",
    "            return None\n",
    "\n",
    "\n",
    "class MultiAgent:\n",
    "    def __init__(self,start_agent:Optional[Agent] = None):\n",
    "        \"\"\"\n",
    "        Initialize the MultiAgent with an optional starting agent.\n",
    "        \"\"\"\n",
    "        self.current_agent = start_agent\n",
    "\n",
    "    def add_handoff_relations(self,from_agent:Agent,to_agents:List[Agent])->None:\n",
    "        \"\"\"\n",
    "        Add handoff relations from one agent to multiple agents.\n",
    "        \"\"\"\n",
    "        from_agent.add_handoffs(to_agents)\n",
    "\n",
    "    def chat(self,messages:List[Dict],model: Optional[str] = None,agent:Optional[Agent] = None,max_handoof_depth:int = 2)->List[Dict]:\n",
    "        \"\"\"\n",
    "        Chat with the current agent or a specified agent using the provided messages and model.\n",
    "        \"\"\"\n",
    "        if agent:\n",
    "            self.current_agent = agent\n",
    "\n",
    "        if not self.current_agent:\n",
    "            logging.error(\"No agent is set for conversation. You can set it in init or pass as argument.\")\n",
    "            return None\n",
    "        \n",
    "        try:\n",
    "            # currently only one handoff is supported\n",
    "            res = self.current_agent.chat(messages, model)\n",
    "            if res:\n",
    "                res = [res[0]]\n",
    "\n",
    "            # Check if initial response has content\n",
    "            if res and res[0].get(\"content\"):\n",
    "                return res\n",
    "        \n",
    "             # Handle handoff\n",
    "            while res and res[-1].get(\"handoff\") and max_handoof_depth > 0:\n",
    "                max_handoof_depth -= 1\n",
    "                self.current_agent = res[-1][\"agent\"]\n",
    "                disable_tools = max_handoof_depth == 0\n",
    "                res.extend(self.current_agent.chat(messages, model, disable_tools=disable_tools))\n",
    "\n",
    "            return res\n",
    "        except Exception as e:\n",
    "            logging.error(\"Error during chat with agent.\")\n",
    "            logging.error(f\"Exception: {e}\")\n",
    "            return None\n",
    "        \n",
    "    def handoff(self,messages:List[Dict],model: Optional[str] = None,agent:Agent = None)-> Agent:\n",
    "        \"\"\"\n",
    "        Perform a handoff to the specified agent using the provided messages and model.\n",
    "        \"\"\"\n",
    "        current_agent = agent\n",
    "\n",
    "        if not current_agent:\n",
    "            logging.error(\"No agent is set for conversation. You must specify an agent.\")\n",
    "            return None\n",
    "        \n",
    "        try:\n",
    "            res = current_agent.chat(messages, model)\n",
    "            handoff_agents = {}\n",
    "            if res:\n",
    "                for r in res:\n",
    "                    if r.get(\"handoff\"):\n",
    "                        handoff_agents[r[\"agent_name\"]] = r[\"agent\"]\n",
    "            if handoff_agents:\n",
    "                return handoff_agents\n",
    "            return None\n",
    "        except Exception as e:\n",
    "            logging.error(\"Error during handoff with agent.\")\n",
    "            logging.error(f\"Exception: {e}\")\n",
    "            return None"
   ]
  },
  {
   "cell_type": "markdown",
   "metadata": {},
   "source": [
    "### Init Several Agents"
   ]
  },
  {
   "cell_type": "code",
   "execution_count": 8,
   "metadata": {},
   "outputs": [],
   "source": [
    "general_agent = Agent(base_agent = BaseAgent(client),\n",
    "           name = \"general agent\",\n",
    "           instructions= \"Agent used for daily questions named Ada.\")\n",
    "\n",
    "science_agent = Agent(base_agent = BaseAgent(client),\n",
    "           name = \"science agent\",\n",
    "           instructions = \"Agent used for science questions named Albert.\")\n",
    "\n",
    "music_agent = Agent(base_agent = BaseAgent(client),\n",
    "           name = \"music agent\",\n",
    "           instructions = \"Agent used for music questions named Mozart.\")"
   ]
  },
  {
   "cell_type": "markdown",
   "metadata": {},
   "source": [
    "###  Build a Multi-Agent environment & add handoff relationships "
   ]
  },
  {
   "cell_type": "code",
   "execution_count": 9,
   "metadata": {},
   "outputs": [],
   "source": [
    "ma = MultiAgent(start_agent = general_agent)\n",
    "ma.add_handoff_relations(from_agent=general_agent,to_agents=[science_agent,music_agent])\n",
    "ma.add_handoff_relations(from_agent=science_agent,to_agents=[general_agent])\n",
    "ma.add_handoff_relations(from_agent=music_agent,to_agents=[general_agent])\n",
    "# ma.add_handoff_relations(from_agent=science_agent,to_agents=[general_agent,music_agent])\n",
    "# ma.add_handoff_relations(from_agent=music_agent,to_agents=[general_agent,science_agent])"
   ]
  },
  {
   "cell_type": "markdown",
   "metadata": {},
   "source": [
    "### Multi-Agent handoff example\n",
    "\n",
    "use handoff to get the agent who is suitable for the task\n",
    "\n",
    "Then call the agent's pre-designed capabilities, such as streaming, tools, memory, reasoning, etc."
   ]
  },
  {
   "cell_type": "code",
   "execution_count": 10,
   "metadata": {},
   "outputs": [
    {
     "data": {
      "text/plain": [
       "{'science_agent': <__main__.Agent at 0x114a8d750>}"
      ]
     },
     "execution_count": 10,
     "metadata": {},
     "output_type": "execute_result"
    }
   ],
   "source": [
    "ma.handoff(messages=[{\"role\": \"user\", \"content\": \"why the sky is blue\"}],agent=general_agent)"
   ]
  },
  {
   "cell_type": "code",
   "execution_count": 11,
   "metadata": {},
   "outputs": [
    {
     "data": {
      "text/plain": [
       "{'science_agent': <__main__.Agent at 0x114a8d750>,\n",
       " 'music_agent': <__main__.Agent at 0x114a8d890>}"
      ]
     },
     "execution_count": 11,
     "metadata": {},
     "output_type": "execute_result"
    }
   ],
   "source": [
    "ma.handoff(messages=[{\"role\": \"user\", \"content\": \"why the sky is blue and recommend me some music\"}],agent=general_agent)"
   ]
  },
  {
   "cell_type": "markdown",
   "metadata": {},
   "source": [
    "### Multi-Agent dialogue example"
   ]
  },
  {
   "cell_type": "code",
   "execution_count": 12,
   "metadata": {},
   "outputs": [
    {
     "data": {
      "text/plain": [
       "[{'role': 'handoff',\n",
       "  'handoff': 'general_agent -> science_agent',\n",
       "  'agent_name': 'science_agent',\n",
       "  'agent': <__main__.Agent at 0x114a8d750>},\n",
       " {'role': 'assistant',\n",
       "  'content': \"The sky appears blue primarily due to a phenomenon called Rayleigh scattering. Here's how it works:\\n\\n1. **Sunlight Composition**: Sunlight, or white light, is made up of multiple colors, each with different wavelengths. Blue light has a shorter wavelength, while red light has a longer wavelength.\\n\\n2. **Earth's Atmosphere**: As sunlight passes through Earth's atmosphere, it encounters various gases and particles.\\n\\n3. **Scattering of Light**: The shorter wavelengths of blue light are scattered in all directions by the small gas molecules in the atmosphere. This scattering is more effective at shorter wavelengths, which is why we see more blue light than other colors when we look up at the sky.\\n\\n4. **Angle of the Sun**: During sunrise and sunset, the sun is lower in the sky, and the light has to pass through more atmosphere. This causes more scattering of the shorter wavelengths and allows the longer wavelengths (like red and orange) to reach our eyes, creating the beautiful colors we see during those times.\\n\\nIn summary, the blue appearance of the sky is due to the scattering of sunlight by the Earth's atmosphere, with blue light being scattered more than other colors.\",\n",
       "  'agent_name': 'science_agent'}]"
      ]
     },
     "execution_count": 12,
     "metadata": {},
     "output_type": "execute_result"
    }
   ],
   "source": [
    "ma.chat(messages=[{\"role\": \"user\", \"content\": \"why the sky is blue\"}])"
   ]
  },
  {
   "cell_type": "code",
   "execution_count": 13,
   "metadata": {},
   "outputs": [
    {
     "data": {
      "text/plain": [
       "[{'role': 'assistant',\n",
       "  'content': 'I am Albert, an AI trained to help answer questions related to science. How can I assist you today?',\n",
       "  'agent_name': 'science_agent'}]"
      ]
     },
     "execution_count": 13,
     "metadata": {},
     "output_type": "execute_result"
    }
   ],
   "source": [
    "ma.chat(messages=[{\"role\": \"user\", \"content\": \"who are you\"}])"
   ]
  },
  {
   "cell_type": "code",
   "execution_count": 14,
   "metadata": {},
   "outputs": [
    {
     "data": {
      "text/plain": [
       "[{'role': 'handoff',\n",
       "  'handoff': 'science_agent -> general_agent',\n",
       "  'agent_name': 'general_agent',\n",
       "  'agent': <__main__.Agent at 0x11466d250>},\n",
       " {'role': 'assistant',\n",
       "  'content': 'Music styles, often referred to as genres, encompass a vast array of categories, each characterized by distinctive elements such as rhythm, melody, instrumentation, and cultural influences. Here are some major music styles:\\n\\n1. **Classical**: Traditional orchestral music, including symphonies and chamber music, often from the Western art tradition.\\n\\n2. **Jazz**: A genre that originated in the African-American communities, characterized by improvisation, swing rhythms, and complex harmonies.\\n\\n3. **Rock**: A broad genre that includes subgenres such as classic rock, punk rock, and alternative rock, often characterized by a strong beat, guitars, and expressive lyrics.\\n\\n4. **Pop**: Short for \"popular music,\" typically featuring catchy melodies and hooks, often with a focus on commercial appeal.\\n\\n5. **Hip-Hop**: A genre that includes rapping, DJing, graffiti art, and breakdancing, with beats that often sample elements from other genres.\\n\\n6. **Electronic**: Music that primarily involves electronic instruments and technology, including subgenres like techno, house, and dubstep.\\n\\n7. **Country**: Originating in the southern United States, this genre often features storytelling lyrics and instruments like the guitar, banjo, and fiddle.\\n\\n8. **Reggae**: A genre that originated in Jamaica, characterized by a slow, laid-back rhythm and socially conscious lyrics.\\n\\n9. **Blues**: Rooted in African-American history, this genre often features poignant lyrics and call-and-response patterns, typically using guitars and harmonicas.\\n\\n10. **R&B (Rhythm and Blues)**: A genre combining jazz, gospel, and blues influences, often centered on themes of love and relationships.\\n\\n11. **Folk**: Traditional music that reflects the culture and stories of a community, often featuring acoustic instruments.\\n\\n12. **Metal**: A genre characterized by heavy guitar riffs, powerful vocals, and dramatic themes, with subgenres like heavy metal, thrash metal, and death metal.\\n\\n13. **Indie**: Independent music that often deviates from mainstream trends, crossing various genres and focusing on artistic expression.\\n\\nThese are just a few examples, and there are many more styles and subgenres, each with unique characteristics and cultural significance.',\n",
       "  'agent_name': 'general_agent'}]"
      ]
     },
     "execution_count": 14,
     "metadata": {},
     "output_type": "execute_result"
    }
   ],
   "source": [
    "ma.chat(messages=[{\"role\": \"user\", \"content\": \"What are the different music styles?\"}])"
   ]
  },
  {
   "cell_type": "code",
   "execution_count": 15,
   "metadata": {},
   "outputs": [
    {
     "data": {
      "text/plain": [
       "[{'role': 'assistant',\n",
       "  'content': 'What type of cuisine are you in the mood for? Italian, Mexican, Asian, or something else? Or do you need some specific recipe ideas?',\n",
       "  'agent_name': 'general_agent'}]"
      ]
     },
     "execution_count": 15,
     "metadata": {},
     "output_type": "execute_result"
    }
   ],
   "source": [
    "ma.chat(messages=[{\"role\": \"user\", \"content\": \"dinner tonight\"}])"
   ]
  },
  {
   "cell_type": "code",
   "execution_count": 16,
   "metadata": {},
   "outputs": [
    {
     "data": {
      "text/plain": [
       "[{'role': 'assistant',\n",
       "  'content': 'I am Albert, your assistant for science-related questions. How can I help you today?',\n",
       "  'agent_name': 'science_agent'}]"
      ]
     },
     "execution_count": 16,
     "metadata": {},
     "output_type": "execute_result"
    }
   ],
   "source": [
    "ma.chat(messages=[{\"role\": \"user\", \"content\": \"who are you\"}],agent=science_agent)"
   ]
  },
  {
   "cell_type": "markdown",
   "metadata": {},
   "source": [
    "### Multi-Agent tool use example"
   ]
  },
  {
   "cell_type": "code",
   "execution_count": 17,
   "metadata": {},
   "outputs": [],
   "source": [
    "def get_weather(city:str)->str:\n",
    "    \"\"\" \n",
    "    Get the weather for a specified city.\n",
    "    \"\"\"\n",
    "    return f\"The weather in {city} is sunny.\"\n",
    "\n",
    "\n",
    "def get_news()->str:\n",
    "    \"\"\" \n",
    "    Get the latest news.\n",
    "    \"\"\"\n",
    "    return \"The latest news is that the sun is shining.\""
   ]
  },
  {
   "cell_type": "code",
   "execution_count": 18,
   "metadata": {},
   "outputs": [],
   "source": [
    "general_agent.add_tools([get_weather,get_news])"
   ]
  },
  {
   "cell_type": "code",
   "execution_count": 19,
   "metadata": {},
   "outputs": [
    {
     "name": "stdout",
     "output_type": "stream",
     "text": [
      "Tool call: get_weather with args: {'city': 'Hangzhou'} returned: The weather in Hangzhou is sunny.\n"
     ]
    },
    {
     "data": {
      "text/plain": [
       "[{'role': 'handoff',\n",
       "  'handoff': 'science_agent -> general_agent',\n",
       "  'agent_name': 'general_agent',\n",
       "  'agent': <__main__.Agent at 0x11466d250>},\n",
       " {'role': 'tool', 'content': 'The weather in Hangzhou is sunny.'}]"
      ]
     },
     "execution_count": 19,
     "metadata": {},
     "output_type": "execute_result"
    }
   ],
   "source": [
    "ma.chat(messages=[{\"role\": \"user\", \"content\": \"what is the weather in Hangzhou?\"}])"
   ]
  },
  {
   "cell_type": "code",
   "execution_count": 20,
   "metadata": {},
   "outputs": [
    {
     "name": "stdout",
     "output_type": "stream",
     "text": [
      "Tool call: get_news with args: {} returned: The latest news is that the sun is shining.\n"
     ]
    },
    {
     "data": {
      "text/plain": [
       "[{'role': 'tool', 'content': 'The latest news is that the sun is shining.'}]"
      ]
     },
     "execution_count": 20,
     "metadata": {},
     "output_type": "execute_result"
    }
   ],
   "source": [
    "ma.chat(messages=[{\"role\": \"user\", \"content\": \"what happened today?\"}])"
   ]
  },
  {
   "cell_type": "code",
   "execution_count": null,
   "metadata": {},
   "outputs": [],
   "source": []
  },
  {
   "cell_type": "code",
   "execution_count": null,
   "metadata": {},
   "outputs": [],
   "source": []
  },
  {
   "cell_type": "code",
   "execution_count": null,
   "metadata": {},
   "outputs": [],
   "source": []
  },
  {
   "cell_type": "code",
   "execution_count": null,
   "metadata": {},
   "outputs": [],
   "source": []
  },
  {
   "cell_type": "code",
   "execution_count": null,
   "metadata": {},
   "outputs": [],
   "source": []
  },
  {
   "cell_type": "code",
   "execution_count": null,
   "metadata": {},
   "outputs": [],
   "source": []
  },
  {
   "cell_type": "code",
   "execution_count": null,
   "metadata": {},
   "outputs": [],
   "source": []
  }
 ],
 "metadata": {
  "kernelspec": {
   "display_name": ".venv",
   "language": "python",
   "name": "python3"
  },
  "language_info": {
   "codemirror_mode": {
    "name": "ipython",
    "version": 3
   },
   "file_extension": ".py",
   "mimetype": "text/x-python",
   "name": "python",
   "nbconvert_exporter": "python",
   "pygments_lexer": "ipython3",
   "version": "3.11.5"
  }
 },
 "nbformat": 4,
 "nbformat_minor": 2
}
