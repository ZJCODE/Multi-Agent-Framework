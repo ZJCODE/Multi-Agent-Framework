{
 "cells": [
  {
   "cell_type": "markdown",
   "metadata": {},
   "source": [
    "# Implement Multi Agent Framework"
   ]
  },
  {
   "cell_type": "code",
   "execution_count": 2,
   "metadata": {},
   "outputs": [],
   "source": [
    "!pip install python-dotenv --quiet\n",
    "!pip install tenacity --quiet\n",
    "!pip install openai --quiet"
   ]
  },
  {
   "cell_type": "code",
   "execution_count": 3,
   "metadata": {},
   "outputs": [],
   "source": [
    "from openai import OpenAI\n",
    "from typing import Optional\n",
    "import os\n",
    "from dotenv import load_dotenv\n",
    "from tenacity import retry, wait_random_exponential, stop_after_attempt\n",
    "from typing import List, Optional, Dict\n",
    "import logging"
   ]
  },
  {
   "cell_type": "markdown",
   "metadata": {},
   "source": [
    "### LLM Preparation "
   ]
  },
  {
   "cell_type": "code",
   "execution_count": 4,
   "metadata": {},
   "outputs": [],
   "source": [
    "# Load environment variables from .env file\n",
    "load_dotenv()\n",
    "\n",
    "client = OpenAI(\n",
    "    api_key=os.environ.get(\"OPENAI_API_KEY\"),\n",
    "    base_url=os.environ.get(\"OPENAI_BASE_URL\"),\n",
    ")"
   ]
  },
  {
   "cell_type": "markdown",
   "metadata": {},
   "source": [
    "### Agent & Multi-Agent "
   ]
  },
  {
   "cell_type": "code",
   "execution_count": 5,
   "metadata": {},
   "outputs": [],
   "source": [
    "\n",
    "class BaseAgent:\n",
    "    \"\"\"\n",
    "    An example of a base agent class, including an OpenAI client.\n",
    "    \"\"\"\n",
    "    def __init__(self,client:OpenAI):\n",
    "        self.client = client\n",
    "        # can add more attributes and methods here\n",
    "        \n",
    "\n",
    "class Agent:\n",
    "    \"\"\"\n",
    "    A class representing an agent that can handle chat messages and handoff to other agents.\n",
    "    \"\"\"\n",
    "    def __init__(\n",
    "            self,\n",
    "            base_agent:BaseAgent,\n",
    "            name:str,\n",
    "            instructions: Optional[str] = None):\n",
    "        self.DEFAULT_MODEL = \"gpt-4o-mini\"\n",
    "        self.name = name.replace(\" \",\"_\")\n",
    "        self.agent = base_agent\n",
    "        self.instructions = instructions\n",
    "        self.handoff_agent_schemas: List[Dict] = []\n",
    "        self.handoff_agents: Dict[str, \"Agent\"] = {}\n",
    "\n",
    "    def __str__(self):\n",
    "        \"\"\"\n",
    "        Returns a string representation of the Agent instance.\n",
    "        \"\"\"\n",
    "        return f\"Agent(name={self.name}, instructions={self.instructions},handoff_agents={list(self.handoff_agents.keys())})\"\n",
    "\n",
    "\n",
    "    def add_handoffs(self, agents: List[\"Agent\"]) -> None:\n",
    "        \"\"\" \n",
    "        Adds handoff agents to the current agent.\n",
    "        \"\"\"\n",
    "        self.handoff_agent_schemas.clear()\n",
    "        for agent in agents:\n",
    "            agent_schema = {\n",
    "                'type': 'function',\n",
    "                'function': {\n",
    "                    'name': agent.name,\n",
    "                    'description': agent.instructions or '',\n",
    "                    'parameters': {'type': 'object', 'properties': {}, 'required': []}\n",
    "                }\n",
    "            }\n",
    "            self.handoff_agent_schemas.append(agent_schema)\n",
    "            self.handoff_agents[agent.name] = agent\n",
    "\n",
    "    @retry(wait=wait_random_exponential(multiplier=1, max=40), stop=stop_after_attempt(3))\n",
    "    def chat(self,messages:List[Dict],model: Optional[str] = None,disable_tools:bool = False):\n",
    "        \"\"\" \n",
    "        Handles chat messages and returns responses, with optional handoff to other agents.\n",
    "        \"\"\"\n",
    "\n",
    "        if self.instructions:\n",
    "            messages = [{\"role\": \"system\", \"content\": self.instructions}] + messages\n",
    "        \n",
    "        model = model or self.DEFAULT_MODEL\n",
    "\n",
    "        try:\n",
    "\n",
    "            response = self.agent.client.chat.completions.create(\n",
    "                model=model,\n",
    "                messages=messages,\n",
    "                tools=None if disable_tools else self.handoff_agent_schemas or None,\n",
    "                tool_choice=None,\n",
    "            )\n",
    "            message = response.choices[0].message\n",
    "            if not message.tool_calls:\n",
    "                result = [{\"role\": \"assistant\", \"content\": message.content, \"agent_name\": self.name}]\n",
    "                return result\n",
    "            \n",
    "            result = []\n",
    "            for tool_call in message.tool_calls:\n",
    "                call_agent = self.handoff_agents[tool_call.function.name]\n",
    "                call_message = {\n",
    "                    \"role\": \"tool\",\n",
    "                    \"tool_call_id\": tool_call.id,\n",
    "                    \"handoff\": f\"{self.name} -> {call_agent.name}\",\n",
    "                    \"agent_name\": call_agent.name,\n",
    "                    \"agent\": call_agent,\n",
    "                }\n",
    "                result.append(call_message)      \n",
    "            return result\n",
    "        except Exception as e:\n",
    "            logging.error(\"Unable to generate ChatCompletion response\")\n",
    "            logging.error(f\"Exception: {e}\")\n",
    "            return None\n",
    "\n",
    "\n",
    "class MultiAgent:\n",
    "    def __init__(self,start_agent:Optional[Agent] = None):\n",
    "        \"\"\"\n",
    "        Initialize the MultiAgent with an optional starting agent.\n",
    "        \"\"\"\n",
    "        self.current_agent = start_agent\n",
    "\n",
    "    def add_handoff_relations(self,from_agent:Agent,to_agents:List[Agent])->None:\n",
    "        \"\"\"\n",
    "        Add handoff relations from one agent to multiple agents.\n",
    "        \"\"\"\n",
    "        from_agent.add_handoffs(to_agents)\n",
    "\n",
    "    def chat(self,messages:List[Dict],model: Optional[str] = None,agent:Optional[Agent] = None,max_handoof_depth:int = 2)->List[Dict]:\n",
    "        \"\"\"\n",
    "        Chat with the current agent or a specified agent using the provided messages and model.\n",
    "        \"\"\"\n",
    "        if agent:\n",
    "            self.current_agent = agent\n",
    "\n",
    "        if not self.current_agent:\n",
    "            logging.error(\"No agent is set for conversation. You can set it in init or pass as argument.\")\n",
    "            return None\n",
    "        \n",
    "        try:\n",
    "            # currently only one handoff is supported\n",
    "            res = [self.current_agent.chat(messages, model)[0]]\n",
    "            if res and res[0].get(\"content\"):\n",
    "                return res\n",
    "            while res and res[-1].get(\"tool_call_id\") and max_handoof_depth > 0:\n",
    "                max_handoof_depth -= 1\n",
    "                self.current_agent = res[-1][\"agent\"]\n",
    "                if max_handoof_depth == 0:\n",
    "                    res.extend(self.current_agent.chat(messages, model, disable_tools=True))\n",
    "                else:\n",
    "                    res.extend(self.current_agent.chat(messages, model))\n",
    "            return res\n",
    "        except Exception as e:\n",
    "            logging.error(\"Error during chat with agent.\")\n",
    "            logging.error(f\"Exception: {e}\")\n",
    "            return None\n",
    "        \n",
    "    def handoff(self,messages:List[Dict],model: Optional[str] = None,agent:Agent = None)-> Agent:\n",
    "        \"\"\"\n",
    "        Perform a handoff to the specified agent using the provided messages and model.\n",
    "        \"\"\"\n",
    "        current_agent = agent\n",
    "\n",
    "        if not current_agent:\n",
    "            logging.error(\"No agent is set for conversation. You must specify an agent.\")\n",
    "            return None\n",
    "        \n",
    "        try:\n",
    "            res = current_agent.chat(messages, model)\n",
    "            handoff_agents = {}\n",
    "            if res:\n",
    "                for r in res:\n",
    "                    if r.get(\"tool_call_id\"):\n",
    "                        handoff_agents[r[\"agent_name\"]] = r[\"agent\"]\n",
    "            if handoff_agents:\n",
    "                return handoff_agents\n",
    "            return None\n",
    "        except Exception as e:\n",
    "            logging.error(\"Error during handoff with agent.\")\n",
    "            logging.error(f\"Exception: {e}\")\n",
    "            return None"
   ]
  },
  {
   "cell_type": "markdown",
   "metadata": {},
   "source": [
    "### Init Several Agents"
   ]
  },
  {
   "cell_type": "code",
   "execution_count": 10,
   "metadata": {},
   "outputs": [],
   "source": [
    "general_agent = Agent(base_agent = BaseAgent(client),\n",
    "           name = \"general agent\",\n",
    "           instructions= \"Agent used for daily questions named Ada.\")\n",
    "\n",
    "science_agent = Agent(base_agent = BaseAgent(client),\n",
    "           name = \"science agent\",\n",
    "           instructions = \"Agent used for science questions named Albert.\")\n",
    "\n",
    "music_agent = Agent(base_agent = BaseAgent(client),\n",
    "           name = \"music agent\",\n",
    "           instructions = \"Agent used for music questions named Mozart.\")"
   ]
  },
  {
   "cell_type": "markdown",
   "metadata": {},
   "source": [
    "###  Build a Multi-Agent environment & add handoff relationships "
   ]
  },
  {
   "cell_type": "code",
   "execution_count": 11,
   "metadata": {},
   "outputs": [],
   "source": [
    "ma = MultiAgent(start_agent = general_agent)\n",
    "ma.add_handoff_relations(from_agent=general_agent,to_agents=[science_agent,music_agent])\n",
    "ma.add_handoff_relations(from_agent=science_agent,to_agents=[general_agent])\n",
    "ma.add_handoff_relations(from_agent=music_agent,to_agents=[general_agent])\n",
    "# ma.add_handoff_relations(from_agent=science_agent,to_agents=[general_agent,music_agent])\n",
    "# ma.add_handoff_relations(from_agent=music_agent,to_agents=[general_agent,science_agent])"
   ]
  },
  {
   "cell_type": "markdown",
   "metadata": {},
   "source": [
    "# Multi-Agent handoff ability display\n",
    "\n",
    "use handoff to get the agent who is suitable for the task\n",
    "\n",
    "Then call the agent's pre-designed capabilities, such as streaming, tools, memory, reasoning, etc."
   ]
  },
  {
   "cell_type": "code",
   "execution_count": 12,
   "metadata": {},
   "outputs": [
    {
     "data": {
      "text/plain": [
       "{'science_agent': <__main__.Agent at 0x112f22010>}"
      ]
     },
     "execution_count": 12,
     "metadata": {},
     "output_type": "execute_result"
    }
   ],
   "source": [
    "ma.handoff(messages=[{\"role\": \"user\", \"content\": \"why the sky is blue\"}],agent=general_agent)"
   ]
  },
  {
   "cell_type": "code",
   "execution_count": 13,
   "metadata": {},
   "outputs": [
    {
     "data": {
      "text/plain": [
       "{'science_agent': <__main__.Agent at 0x112f22010>,\n",
       " 'music_agent': <__main__.Agent at 0x112f44fd0>}"
      ]
     },
     "execution_count": 13,
     "metadata": {},
     "output_type": "execute_result"
    }
   ],
   "source": [
    "ma.handoff(messages=[{\"role\": \"user\", \"content\": \"why the sky is blue and recommend me some music\"}],agent=general_agent)"
   ]
  },
  {
   "cell_type": "markdown",
   "metadata": {},
   "source": [
    "### Multi-Agent dialogue ability display"
   ]
  },
  {
   "cell_type": "code",
   "execution_count": 14,
   "metadata": {},
   "outputs": [
    {
     "data": {
      "text/plain": [
       "[{'role': 'tool',\n",
       "  'tool_call_id': 'call_yjmTOZ4eMn6w3SHV2myrZxkz',\n",
       "  'handoff': 'general_agent -> science_agent',\n",
       "  'agent_name': 'science_agent',\n",
       "  'agent': <__main__.Agent at 0x112f22010>},\n",
       " {'role': 'assistant',\n",
       "  'content': \"The sky appears blue due to a phenomenon called Rayleigh scattering. Here's how it works:\\n\\n1. **Sunlight and Atmosphere**: Sunlight, or white light, is made up of different colors, each with different wavelengths. When sunlight enters the Earth's atmosphere, it interacts with air molecules and small particles.\\n\\n2. **Scattering of Light**: Shorter wavelengths of light (blue and violet) scatter more than longer wavelengths (red and yellow) when they strike these particles. Although violet light scatters even more than blue, our eyes are more sensitive to blue light and some of the violet light is absorbed by the ozone layer.\\n\\n3. **Perception of Color**: Because blue light is scattered in all directions, it is the dominant color we see when we look up at the sky during the day.\\n\\nDuring sunrise and sunset, the sun's light has to pass through a thicker layer of atmosphere, scattering the shorter wavelengths and allowing longer wavelengths (such as red and orange) to become more prominent, which is why the sky can appear red or orange at those times.\",\n",
       "  'agent_name': 'science_agent'}]"
      ]
     },
     "execution_count": 14,
     "metadata": {},
     "output_type": "execute_result"
    }
   ],
   "source": [
    "ma.chat(messages=[{\"role\": \"user\", \"content\": \"why the sky is blue\"}])"
   ]
  },
  {
   "cell_type": "code",
   "execution_count": 15,
   "metadata": {},
   "outputs": [
    {
     "data": {
      "text/plain": [
       "[{'role': 'assistant',\n",
       "  'content': 'I am Albert, your AI assistant for science-related questions. How can I help you today?',\n",
       "  'agent_name': 'science_agent'}]"
      ]
     },
     "execution_count": 15,
     "metadata": {},
     "output_type": "execute_result"
    }
   ],
   "source": [
    "ma.chat(messages=[{\"role\": \"user\", \"content\": \"who are you\"}])"
   ]
  },
  {
   "cell_type": "code",
   "execution_count": 16,
   "metadata": {},
   "outputs": [
    {
     "data": {
      "text/plain": [
       "[{'role': 'tool',\n",
       "  'tool_call_id': 'call_6h1Ds5jC798hoqGFocgofgAc',\n",
       "  'handoff': 'science_agent -> general_agent',\n",
       "  'agent_name': 'general_agent',\n",
       "  'agent': <__main__.Agent at 0x112f22e90>},\n",
       " {'role': 'tool',\n",
       "  'tool_call_id': 'call_X67JuGgyd5aeZbvQywM004n6',\n",
       "  'handoff': 'general_agent -> music_agent',\n",
       "  'agent_name': 'music_agent',\n",
       "  'agent': <__main__.Agent at 0x112f44fd0>},\n",
       " {'role': 'assistant',\n",
       "  'content': 'Music styles encompass a wide range of genres and subgenres, each with its own unique characteristics and cultural influences. Here are some of the major music styles:\\n\\n1. **Classical**: Characterized by a structured form, orchestral arrangements, and complex compositions. It includes periods such as Baroque, Classical, Romantic, and Contemporary.\\n\\n2. **Jazz**: Known for its swing and blue notes, jazz emphasizes improvisation and includes styles like bebop, swing, and smooth jazz.\\n\\n3. **Rock**: Evolving from 1950s rock and roll, it includes numerous subgenres like classic rock, punk rock, metal, and alternative rock.\\n\\n4. **Pop**: Designed for mass appeal, pop music often features catchy melodies and relatable lyrics. It encompasses various styles, including dance-pop and synth-pop.\\n\\n5. **Hip-Hop**: A culture that includes rapping, DJing, graffiti art, and breakdancing. Hip-hop music often features rhythmic vocal style and strong beats.\\n\\n6. **Electronic**: Encompassing genres created primarily with electronic instruments, it includes house, techno, trance, and dubstep.\\n\\n7. **Blues**: Originating in the African American communities, blues often reflects themes of sorrow and struggle, characterized by specific chord progressions.\\n\\n8. **Country**: Rooted in American folk traditions, country music incorporates various subgenres, such as bluegrass, honky-tonk, and country pop.\\n\\n9. **Folk**: Often acoustic and based on traditional music, folk music highlights storytelling and cultural themes. It includes subgenres like Americana and world folk.\\n\\n10. **Reggae**: Originating in Jamaica, reggae is known for its offbeat rhythms and socially conscious lyrics, with roots in ska and rocksteady.\\n\\n11. **R&B (Rhythm and Blues)**: Combining pop, soul, funk, and hip-hop influences, R&B often focuses on romance and relationships.\\n\\n12. **Indie**: Independent music that often deviates from mainstream trends, covering a variety of genres from indie rock to indie pop.\\n\\n13. **Gospel**: A genre rooted in Christian themes, gospel music is known for its powerful vocals and uplifting messages.\\n\\n14. **Metal**: A heavy and aggressive style of rock music that includes subgenres like heavy metal, thrash metal, and death metal.\\n\\n15. **World Music**: A broad category that encompasses various music styles from around the globe, reflecting diverse cultures and traditions.\\n\\nEach of these styles can have numerous subgenres and variations, making the world of music rich and diverse.',\n",
       "  'agent_name': 'music_agent'}]"
      ]
     },
     "execution_count": 16,
     "metadata": {},
     "output_type": "execute_result"
    }
   ],
   "source": [
    "ma.chat(messages=[{\"role\": \"user\", \"content\": \"What are the different music styles?\"}])"
   ]
  },
  {
   "cell_type": "code",
   "execution_count": 17,
   "metadata": {},
   "outputs": [
    {
     "data": {
      "text/plain": [
       "[{'role': 'tool',\n",
       "  'tool_call_id': 'call_LtMblVxNr2FVPiCJicAtaji9',\n",
       "  'handoff': 'music_agent -> general_agent',\n",
       "  'agent_name': 'general_agent',\n",
       "  'agent': <__main__.Agent at 0x112f22e90>},\n",
       " {'role': 'assistant',\n",
       "  'content': 'What are you in the mood for? Any specific cuisine or ingredients you want to include in your dinner?',\n",
       "  'agent_name': 'general_agent'}]"
      ]
     },
     "execution_count": 17,
     "metadata": {},
     "output_type": "execute_result"
    }
   ],
   "source": [
    "ma.chat(messages=[{\"role\": \"user\", \"content\": \"dinner tonight\"}])"
   ]
  },
  {
   "cell_type": "code",
   "execution_count": 18,
   "metadata": {},
   "outputs": [
    {
     "data": {
      "text/plain": [
       "[{'role': 'assistant',\n",
       "  'content': 'I am Albert, your assistant for science questions. How can I help you today?',\n",
       "  'agent_name': 'science_agent'}]"
      ]
     },
     "execution_count": 18,
     "metadata": {},
     "output_type": "execute_result"
    }
   ],
   "source": [
    "ma.chat(messages=[{\"role\": \"user\", \"content\": \"who are you\"}],agent=science_agent)"
   ]
  },
  {
   "cell_type": "code",
   "execution_count": null,
   "metadata": {},
   "outputs": [],
   "source": []
  },
  {
   "cell_type": "code",
   "execution_count": null,
   "metadata": {},
   "outputs": [],
   "source": []
  },
  {
   "cell_type": "code",
   "execution_count": null,
   "metadata": {},
   "outputs": [],
   "source": []
  }
 ],
 "metadata": {
  "kernelspec": {
   "display_name": ".venv",
   "language": "python",
   "name": "python3"
  },
  "language_info": {
   "codemirror_mode": {
    "name": "ipython",
    "version": 3
   },
   "file_extension": ".py",
   "mimetype": "text/x-python",
   "name": "python",
   "nbconvert_exporter": "python",
   "pygments_lexer": "ipython3",
   "version": "3.11.5"
  }
 },
 "nbformat": 4,
 "nbformat_minor": 2
}
