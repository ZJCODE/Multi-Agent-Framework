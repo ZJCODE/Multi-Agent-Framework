{
 "cells": [
  {
   "cell_type": "markdown",
   "metadata": {},
   "source": [
    "# Implement Multi Agent Framework"
   ]
  },
  {
   "cell_type": "code",
   "execution_count": 1,
   "metadata": {},
   "outputs": [],
   "source": [
    "!pip install python-dotenv --quiet\n",
    "!pip install tenacity --quiet\n",
    "!pip install openai --quiet"
   ]
  },
  {
   "cell_type": "code",
   "execution_count": 2,
   "metadata": {},
   "outputs": [],
   "source": [
    "from openai import OpenAI\n",
    "from typing import Optional\n",
    "import os\n",
    "from dotenv import load_dotenv\n",
    "from tenacity import retry, wait_random_exponential, stop_after_attempt\n",
    "from typing import List, Optional, Dict\n",
    "import logging\n",
    "import json"
   ]
  },
  {
   "cell_type": "code",
   "execution_count": 3,
   "metadata": {},
   "outputs": [],
   "source": [
    "from utils import function_to_schema"
   ]
  },
  {
   "cell_type": "markdown",
   "metadata": {},
   "source": [
    "### LLM Preparation "
   ]
  },
  {
   "cell_type": "code",
   "execution_count": 101,
   "metadata": {},
   "outputs": [],
   "source": [
    "# Load environment variables from .env file\n",
    "load_dotenv()\n",
    "\n",
    "client = OpenAI(\n",
    "    api_key=os.environ.get(\"OPENAI_API_KEY\"),\n",
    "    base_url=os.environ.get(\"OPENAI_BASE_URL\"),\n",
    ")"
   ]
  },
  {
   "cell_type": "markdown",
   "metadata": {},
   "source": [
    "### Agent & Multi-Agent "
   ]
  },
  {
   "cell_type": "code",
   "execution_count": 213,
   "metadata": {},
   "outputs": [],
   "source": [
    "\n",
    "class BaseAgent:\n",
    "    \"\"\"\n",
    "    An example of a base agent class, including an OpenAI client.\n",
    "    \"\"\"\n",
    "    def __init__(self,client:OpenAI):\n",
    "        self.client = client\n",
    "        # can add more attributes and methods here\n",
    "        \n",
    "\n",
    "class Agent:\n",
    "    \"\"\"\n",
    "    A class representing an agent that can handle chat messages and handoff to other agents.\n",
    "    \"\"\"\n",
    "    def __init__(\n",
    "            self,\n",
    "            base_agent:BaseAgent,\n",
    "            name:str,\n",
    "            instructions: Optional[str] = None,\n",
    "            handoff_description: Optional[str] = None,\n",
    "            ):\n",
    "        self.DEFAULT_MODEL = \"gpt-4o-mini\"\n",
    "        self.name = name.replace(\" \",\"_\")\n",
    "        self.agent = base_agent\n",
    "        self.instructions = instructions\n",
    "        self.handoff_description = handoff_description\n",
    "        self.handoff_agent_schemas: List[Dict] = []\n",
    "        self.tools_schema: List[Dict] = []\n",
    "        self.handoff_agents: Dict[str, \"Agent\"] = {}\n",
    "        self.tools_map: Dict[str, \"function\"] = {}\n",
    "\n",
    "    def __str__(self):\n",
    "        \"\"\"\n",
    "        Returns a string representation of the Agent instance.\n",
    "        \"\"\"\n",
    "        return f\"Agent(name={self.name}, instructions={self.instructions},handoff_agents={list(self.handoff_agents.keys())})\"\n",
    "\n",
    "\n",
    "    def add_handoffs(self, agents: List[\"Agent\"]) -> None:\n",
    "        \"\"\" \n",
    "        Adds handoff agents to the current agent.\n",
    "        \"\"\"\n",
    "        self.handoff_agent_schemas.clear()\n",
    "        for agent in agents:\n",
    "            agent_schema = {\n",
    "                            \"type\": \"function\",\n",
    "                            \"function\": {\n",
    "                                \"name\": agent.name,\n",
    "                                \"description\": agent.instructions or \"\" + \" \\n\" + agent.handoff_description or \"\",\n",
    "                                'parameters': {\n",
    "                                    \"type\": \"object\",\n",
    "                                    \"properties\": {\n",
    "                                        \"message\": {\n",
    "                                            \"type\": \"string\",\n",
    "                                            \"description\": \"The message to send to the agent.\"\n",
    "                                            }\n",
    "                                    },\n",
    "                                    \"required\": [\"message\"]\n",
    "                                }\n",
    "                            }\n",
    "                            }\n",
    "            self.handoff_agent_schemas.append(agent_schema)\n",
    "            self.handoff_agents[agent.name] = agent\n",
    "\n",
    "    def clear_handoffs(self) -> None:\n",
    "        \"\"\" \n",
    "        Clears handoff agents from the current agent.\n",
    "        \"\"\"\n",
    "        self.handoff_agent_schemas.clear()\n",
    "        self.handoff_agents = {}\n",
    "\n",
    "    def add_tools(self, tools: list) -> None:\n",
    "        \"\"\" \n",
    "        Adds tools to the current agent.\n",
    "        \"\"\"\n",
    "        self.tools_schema.clear()\n",
    "        for tool in tools:\n",
    "            tool_schema = function_to_schema(tool)\n",
    "            self.tools_schema.append(tool_schema)\n",
    "            self.tools_map[tool.__name__] = tool\n",
    "\n",
    "    def clear_tools(self) -> None:\n",
    "        \"\"\"\n",
    "        Clears tools from the current agent.\n",
    "        \"\"\"\n",
    "        self.tools_schema.clear()\n",
    "\n",
    "    @retry(wait=wait_random_exponential(multiplier=1, max=40), stop=stop_after_attempt(3))\n",
    "    def chat(self,messages:List[Dict],model: Optional[str] = None,disable_tools:bool = False,disable_handoffs:bool = False):\n",
    "        \"\"\" \n",
    "        Handles chat messages and returns responses, with optional handoff to other agents.\n",
    "        \"\"\"\n",
    "\n",
    "        if self.instructions:\n",
    "            messages = [{\"role\": \"system\", \"content\": self.instructions}] + messages\n",
    "        \n",
    "        model = model or self.DEFAULT_MODEL\n",
    "\n",
    "        try:\n",
    "\n",
    "            \n",
    "            tools = None if disable_tools else self.tools_schema or None\n",
    "            handoffs = None if disable_handoffs else self.handoff_agent_schemas or None\n",
    "\n",
    "            response = self.agent.client.chat.completions.create(\n",
    "                            model=model,\n",
    "                            messages=messages,\n",
    "                            tools=tools + handoffs if tools and handoffs else tools or handoffs,\n",
    "                            tool_choice=None,\n",
    "                        )\n",
    "            message = response.choices[0].message\n",
    "            if not message.tool_calls:\n",
    "                result = [{\"role\": \"assistant\", \"content\": message.content, \"agent_name\": self.name}]\n",
    "                return result\n",
    "            \n",
    "            result = []\n",
    "            handoff_agents_num = sum([1 for tool_call in message.tool_calls if tool_call.function.name in self.handoff_agents])\n",
    "            for tool_call in message.tool_calls:\n",
    "                if tool_call.function.name in self.handoff_agents:\n",
    "                    handoff_agent = self.handoff_agents[tool_call.function.name]\n",
    "                    if handoff_agents_num > 1:\n",
    "                        message = json.loads(tool_call.function.arguments).get(\"message\")\n",
    "                    else:\n",
    "                        message = messages[-1].get(\"content\")\n",
    "                    handoff_message = {\n",
    "                        \"role\": \"handoff\",\n",
    "                        \"handoff\": f\"{self.name} -> {handoff_agent.name}\",\n",
    "                        \"agent_name\": handoff_agent.name,\n",
    "                        \"agent\": handoff_agent,\n",
    "                        \"message\": message,\n",
    "                    }\n",
    "                    result.append(handoff_message)\n",
    "                elif tool_call.function.name in self.tools_map:\n",
    "                    tool = self.tools_map[tool_call.function.name]\n",
    "                    tool_args = json.loads(tool_call.function.arguments)\n",
    "                    tool_result = tool(**tool_args)\n",
    "                    tool_message = {\n",
    "                        \"role\": \"tool\",\n",
    "                        \"content\": tool_result,\n",
    "                    }\n",
    "                    result.append(tool_message)\n",
    "                    logging.info(f\"Tool call: {tool_call.function.name} with args: {tool_args} returned: {tool_result}\")\n",
    "                else:\n",
    "                    logging.error(f\"Unknown tool call: {tool_call.function.name}\")\n",
    "            return result\n",
    "        except Exception as e:\n",
    "            logging.error(\"Unable to generate ChatCompletion response\")\n",
    "            logging.error(f\"Exception: {e}\")\n",
    "            return None\n",
    "\n",
    "\n",
    "class MultiAgent:\n",
    "    def __init__(self,start_agent:Optional[Agent] = None):\n",
    "        \"\"\"\n",
    "        Initialize the MultiAgent with an optional starting agent.\n",
    "        \"\"\"\n",
    "        self.current_agent = start_agent\n",
    "\n",
    "    def add_handoff_relations(self,from_agent:Agent,to_agents:List[Agent])->None:\n",
    "        \"\"\"\n",
    "        Add handoff relations from one agent to multiple agents.\n",
    "        \"\"\"\n",
    "        from_agent.add_handoffs(to_agents)\n",
    "\n",
    "    def chat(self,\n",
    "             messages:List[Dict],\n",
    "             model: Optional[str] = None,\n",
    "             agent:Optional[Agent] = None,\n",
    "             max_handoof_depth:int = 2,\n",
    "             disable_tools:bool = False,\n",
    "             disable_handoffs:bool = False\n",
    "             )->List[Dict]:\n",
    "        \"\"\"\n",
    "        Chat with the current agent or a specified agent using the provided messages and model.\n",
    "        \"\"\"\n",
    "        if agent:\n",
    "            self.current_agent = agent\n",
    "\n",
    "        if not self.current_agent:\n",
    "            logging.error(\"No agent is set for conversation. You can set it in init or pass as argument.\")\n",
    "            return None\n",
    "        \n",
    "        try:\n",
    "            # currently only one handoff is supported\n",
    "            res = self.current_agent.chat(messages, model, disable_tools=disable_tools, disable_handoffs=disable_handoffs)\n",
    "\n",
    "            if not res:\n",
    "                return res\n",
    "\n",
    "            if len(res) == 1:\n",
    "                # Check if initial response has content\n",
    "                if res[0].get(\"content\"):\n",
    "                    return res\n",
    "                # Handle handoff\n",
    "                while res[-1].get(\"handoff\") and max_handoof_depth > 0:\n",
    "                    max_handoof_depth -= 1\n",
    "                    self.current_agent = res[-1][\"agent\"]\n",
    "                    disable_handoffs = max_handoof_depth == 0\n",
    "                    res.extend(self.current_agent.chat(messages, model, disable_handoffs=disable_handoffs))\n",
    "\n",
    "                return res\n",
    "            else:\n",
    "                for r in res:\n",
    "                    if r.get(\"handoff\"):\n",
    "                        temp_agent = r[\"agent\"]\n",
    "                        temp_messages = messages.copy()\n",
    "                        temp_messages[-1][\"content\"] = r[\"message\"]\n",
    "                        res.extend(temp_agent.chat(temp_messages, model, disable_handoffs=True))\n",
    "                return res\n",
    "        except Exception as e:\n",
    "            logging.error(\"Error during chat with agent.\")\n",
    "            logging.error(f\"Exception: {e}\")\n",
    "            return None\n",
    "        \n",
    "    def handoff(self,messages:List[Dict],model: Optional[str] = None,agent:Agent = None)-> Agent:\n",
    "        \"\"\"\n",
    "        Perform a handoff to the specified agent using the provided messages and model.\n",
    "        \"\"\"\n",
    "        current_agent = agent\n",
    "\n",
    "        if not current_agent:\n",
    "            logging.error(\"No agent is set for conversation. You must specify an agent.\")\n",
    "            return None\n",
    "        \n",
    "        try:\n",
    "            res = current_agent.chat(messages, model)\n",
    "            handoff_agents = {}\n",
    "            if res:\n",
    "                for r in res:\n",
    "                    if r.get(\"handoff\"):\n",
    "                        handoff_agents[r[\"agent_name\"]] = r[\"agent\"]\n",
    "            if handoff_agents:\n",
    "                return handoff_agents\n",
    "            return None\n",
    "        except Exception as e:\n",
    "            logging.error(\"Error during handoff with agent.\")\n",
    "            logging.error(f\"Exception: {e}\")\n",
    "            return None"
   ]
  },
  {
   "cell_type": "markdown",
   "metadata": {},
   "source": [
    "### Init Several Agents"
   ]
  },
  {
   "cell_type": "code",
   "execution_count": 231,
   "metadata": {},
   "outputs": [],
   "source": [
    "general_agent = Agent(base_agent = BaseAgent(client),\n",
    "           name = \"general agent\",\n",
    "           instructions= \"Determine which agent is best suited to handle the user's request, and transfer the conversation to that agent.\",\n",
    "           handoff_description = \"Call this agent if a user is asking about a topic that is not handled by the activated agent.\")\n",
    "\n",
    "science_agent = Agent(base_agent = BaseAgent(client),\n",
    "           name = \"science agent\",\n",
    "           instructions = \"Agent used for science questions named Albert.\",\n",
    "           handoff_description = \"Call this agent if a user is asking about a science topic.\")\n",
    "\n",
    "music_agent = Agent(base_agent = BaseAgent(client),\n",
    "           name = \"music agent\",\n",
    "           instructions = \"Agent used for music questions named Mozart.\",\n",
    "           handoff_description = \"Call this agent if a user is asking about a music topic.\")\n",
    "\n",
    "daily_agent = Agent(base_agent = BaseAgent(client),\n",
    "           name = \"daily agent\",\n",
    "           instructions = \"Agent used for daily questions named Ada.\",\n",
    "           handoff_description = \"Call this agent if a user is asking about a daily topic.\")"
   ]
  },
  {
   "cell_type": "markdown",
   "metadata": {},
   "source": [
    "###  Build a Multi-Agent environment & add handoff relationships "
   ]
  },
  {
   "cell_type": "code",
   "execution_count": 232,
   "metadata": {},
   "outputs": [],
   "source": [
    "# Build a Multi-Agent environment & add handoff relationships\n",
    "ma = MultiAgent(start_agent=general_agent)\n",
    "ma.add_handoff_relations(from_agent=general_agent,to_agents=[science_agent,music_agent,daily_agent])\n",
    "ma.add_handoff_relations(from_agent=science_agent,to_agents=[general_agent])\n",
    "ma.add_handoff_relations(from_agent=music_agent,to_agents=[general_agent])\n",
    "ma.add_handoff_relations(from_agent=daily_agent,to_agents=[general_agent])\n",
    "# ma.add_handoff_relations(from_agent=science_agent,to_agents=[general_agent,music_agent,daily_agent])\n",
    "# ma.add_handoff_relations(from_agent=music_agent,to_agents=[general_agent,science_agent,daily_agent])\n",
    "# ma.add_handoff_relations(from_agent=daily_agent,to_agents=[general_agent,science_agent,music_agent])\n",
    "\n"
   ]
  },
  {
   "cell_type": "markdown",
   "metadata": {},
   "source": [
    "### Multi-Agent handoff example\n",
    "\n",
    "use handoff to get the agent who is suitable for the task\n",
    "\n",
    "Then call the agent's pre-designed capabilities, such as streaming, tools, memory, reasoning, etc."
   ]
  },
  {
   "cell_type": "code",
   "execution_count": 233,
   "metadata": {},
   "outputs": [
    {
     "data": {
      "text/plain": [
       "{'science_agent': <__main__.Agent at 0x114341390>}"
      ]
     },
     "execution_count": 233,
     "metadata": {},
     "output_type": "execute_result"
    }
   ],
   "source": [
    "ma.handoff(messages=[{\"role\": \"user\", \"content\": \"why the sky is blue\"}],agent=general_agent)"
   ]
  },
  {
   "cell_type": "code",
   "execution_count": 234,
   "metadata": {},
   "outputs": [
    {
     "data": {
      "text/plain": [
       "{'science_agent': <__main__.Agent at 0x114341390>,\n",
       " 'music_agent': <__main__.Agent at 0x11437d350>}"
      ]
     },
     "execution_count": 234,
     "metadata": {},
     "output_type": "execute_result"
    }
   ],
   "source": [
    "ma.handoff(messages=[{\"role\": \"user\", \"content\": \"why the sky is blue and recommend me some music\"}],agent=general_agent)"
   ]
  },
  {
   "cell_type": "markdown",
   "metadata": {},
   "source": [
    "### Multi-Agent dialogue example"
   ]
  },
  {
   "cell_type": "code",
   "execution_count": 235,
   "metadata": {},
   "outputs": [
    {
     "data": {
      "text/plain": [
       "[{'role': 'handoff',\n",
       "  'handoff': 'general_agent -> science_agent',\n",
       "  'agent_name': 'science_agent',\n",
       "  'agent': <__main__.Agent at 0x114341390>,\n",
       "  'message': 'why the sky is blue'},\n",
       " {'role': 'assistant',\n",
       "  'content': \"The sky appears blue due to a phenomenon called Rayleigh scattering. When sunlight enters the Earth's atmosphere, it interacts with molecules and small particles in the air. Sunlight, or white light, is made up of different colors, each with its own wavelength. Blue light has a shorter wavelength and is scattered more than other colors when it strikes air molecules. \\n\\nAs a result, when we look up at the sky, we see more of the blue light scattered in all directions, making the sky appear blue during the day. When the sun is low on the horizon during sunrise or sunset, the light has to pass through more of the atmosphere, scattering the blue and green light and allowing the reds and oranges to become more prominent, creating the beautiful colors often seen at those times.\",\n",
       "  'agent_name': 'science_agent'}]"
      ]
     },
     "execution_count": 235,
     "metadata": {},
     "output_type": "execute_result"
    }
   ],
   "source": [
    "ma.chat(messages=[{\"role\": \"user\", \"content\": \"why the sky is blue\"}])"
   ]
  },
  {
   "cell_type": "code",
   "execution_count": 236,
   "metadata": {},
   "outputs": [
    {
     "data": {
      "text/plain": [
       "[{'role': 'assistant',\n",
       "  'content': 'I am Albert, your assistant for science-related questions. How can I help you today?',\n",
       "  'agent_name': 'science_agent'}]"
      ]
     },
     "execution_count": 236,
     "metadata": {},
     "output_type": "execute_result"
    }
   ],
   "source": [
    "ma.chat(messages=[{\"role\": \"user\", \"content\": \"who are you\"}])"
   ]
  },
  {
   "cell_type": "code",
   "execution_count": 237,
   "metadata": {},
   "outputs": [
    {
     "data": {
      "text/plain": [
       "[{'role': 'handoff',\n",
       "  'handoff': 'science_agent -> general_agent',\n",
       "  'agent_name': 'general_agent',\n",
       "  'agent': <__main__.Agent at 0x114343c10>,\n",
       "  'message': 'recommend me some music'},\n",
       " {'role': 'handoff',\n",
       "  'handoff': 'general_agent -> music_agent',\n",
       "  'agent_name': 'music_agent',\n",
       "  'agent': <__main__.Agent at 0x11437d350>,\n",
       "  'message': 'recommend me some music'},\n",
       " {'role': 'assistant',\n",
       "  'content': 'Sure! Here are some recommendations across various genres:\\n\\n**Classical:**\\n- **Ludwig van Beethoven** – Symphony No. 9 in D minor, Op. 125 (“Choral”)\\n- **Johann Sebastian Bach** – Brandenburg Concerto No. 3\\n- **Wolfgang Amadeus Mozart** – Symphony No. 40 in G minor, K. 550\\n\\n**Jazz:**\\n- **Miles Davis** – Kind of Blue\\n- **John Coltrane** – A Love Supreme\\n- **Ella Fitzgerald & Louis Armstrong** – Ella and Louis\\n\\n**Rock:**\\n- **The Beatles** – Abbey Road\\n- **Led Zeppelin** – IV\\n- **Fleetwood Mac** – Rumours\\n\\n**Pop:**\\n- **Dua Lipa** – Future Nostalgia\\n- **Taylor Swift** – 1989\\n- **Billie Eilish** – When We All Fall Asleep, Where Do We Go?\\n\\n**Indie/Alternative:**\\n- **Tame Impala** – Currents\\n- **Arctic Monkeys** – AM\\n- **Phoebe Bridgers** – Punisher\\n\\n**Hip-Hop:**\\n- **Kendrick Lamar** – To Pimp a Butterfly\\n- **J. Cole** – 2014 Forest Hills Drive\\n- **OutKast** – Speakerboxxx/The Love Below\\n\\n**Electronic:**\\n- **Daft Punk** – Discovery\\n- **ODESZA** – A Moment Apart\\n- **Flume** – Flume\\n\\nIf there’s a specific genre or mood you’re in the mood for, let me know and I can tailor the recommendations further!',\n",
       "  'agent_name': 'music_agent'}]"
      ]
     },
     "execution_count": 237,
     "metadata": {},
     "output_type": "execute_result"
    }
   ],
   "source": [
    "ma.chat(messages=[{\"role\": \"user\", \"content\": \"recommend me some music\"}])"
   ]
  },
  {
   "cell_type": "code",
   "execution_count": 238,
   "metadata": {},
   "outputs": [
    {
     "data": {
      "text/plain": [
       "[{'role': 'handoff',\n",
       "  'handoff': 'music_agent -> general_agent',\n",
       "  'agent_name': 'general_agent',\n",
       "  'agent': <__main__.Agent at 0x114343c10>,\n",
       "  'message': 'dinner tonight'},\n",
       " {'role': 'handoff',\n",
       "  'handoff': 'general_agent -> daily_agent',\n",
       "  'agent_name': 'daily_agent',\n",
       "  'agent': <__main__.Agent at 0x114565b50>,\n",
       "  'message': 'dinner tonight'},\n",
       " {'role': 'assistant',\n",
       "  'content': 'What are you in the mood for? Here are a few ideas:\\n\\n1. **Pasta**: A classic spaghetti carbonara or a creamy pesto dish.\\n2. **Stir-fry**: Quick and easy with your choice of protein and vegetables.\\n3. **Tacos**: Load them with chicken, beef, or beans, and top with your favorite toppings.\\n4. **Salad**: A hearty salad with grilled chicken or roasted veggies can be refreshing.\\n5. **Soup**: Cozy up with a warm bowl of soup, like a hearty chili or creamy tomato.\\n\\nLet me know if you want a specific recipe or need more suggestions!',\n",
       "  'agent_name': 'daily_agent'}]"
      ]
     },
     "execution_count": 238,
     "metadata": {},
     "output_type": "execute_result"
    }
   ],
   "source": [
    "ma.chat(messages=[{\"role\": \"user\", \"content\": \"dinner tonight\"}])"
   ]
  },
  {
   "cell_type": "code",
   "execution_count": 246,
   "metadata": {},
   "outputs": [
    {
     "data": {
      "text/plain": [
       "[{'role': 'assistant',\n",
       "  'content': 'I am Albert, your assistant for science-related questions. How can I help you today?',\n",
       "  'agent_name': 'science_agent'}]"
      ]
     },
     "execution_count": 246,
     "metadata": {},
     "output_type": "execute_result"
    }
   ],
   "source": [
    "ma.chat(messages=[{\"role\": \"user\", \"content\": \"who are you\"}],agent=science_agent)"
   ]
  },
  {
   "cell_type": "code",
   "execution_count": 241,
   "metadata": {},
   "outputs": [
    {
     "data": {
      "text/plain": [
       "[{'role': 'handoff',\n",
       "  'handoff': 'general_agent -> science_agent',\n",
       "  'agent_name': 'science_agent',\n",
       "  'agent': <__main__.Agent at 0x114341390>,\n",
       "  'message': 'Why is the sky blue?'},\n",
       " {'role': 'handoff',\n",
       "  'handoff': 'general_agent -> music_agent',\n",
       "  'agent_name': 'music_agent',\n",
       "  'agent': <__main__.Agent at 0x11437d350>,\n",
       "  'message': 'Can you recommend me some music?'},\n",
       " {'role': 'assistant',\n",
       "  'content': \"The sky appears blue primarily due to a phenomenon called Rayleigh scattering. Sunlight, or white light, is made up of many colors, each with different wavelengths. When sunlight enters Earth's atmosphere, it interacts with gas molecules and small particles.\\n\\nShorter wavelengths of light (blue and violet) are scattered more than longer wavelengths (red and yellow). Although violet light is scattered even more than blue, our eyes are more sensitive to blue light and some of the violet is absorbed by the ozone layer. As a result, we perceive the sky as blue during the day.\\n\\nDuring sunrise and sunset, the light from the sun has to pass through a thicker layer of the atmosphere. The shorter blue wavelengths are scattered out of our line of sight, while the longer wavelengths (reds and oranges) dominate, giving the sky those colors during those times.\",\n",
       "  'agent_name': 'science_agent'},\n",
       " {'role': 'assistant',\n",
       "  'content': 'Of course! What kind of music are you in the mood for? Here are a few suggestions from different genres:\\n\\n1. **Classical**: Try Beethoven\\'s Symphony No. 5 for its dramatic intensity, or Debussy\\'s \"Clair de Lune\" for something more serene.\\n\\n2. **Jazz**: Listen to Miles Davis\\'s \"So What\" for a classic modal jazz experience, or Ella Fitzgerald and Louis Armstrong\\'s duets for some timeless vocal jazz.\\n\\n3. **Rock**: Check out Led Zeppelin\\'s \"Stairway to Heaven\" for a classic rock anthem, or The Beatles\\' \"Come Together\" for something iconic.\\n\\n4. **Pop**: Explore Dua Lipa\\'s \"Don’t Start Now\" for a modern dance-pop hit, or Taylor Swift\\'s \"Blank Space\" for catchy storytelling.\\n\\n5. **Indie**: Give Bon Iver\\'s \"Holocene\" a play for a beautiful, introspective sound, or Tame Impala\\'s \"The Less I Know the Better\" for a groovy vibe.\\n\\n6. **World Music**: Try listening to Tinariwen, a Tuareg band, for some incredible desert blues, or Carlos Vives for a taste of Colombian vallenato.\\n\\nLet me know if you’re looking for something specific!',\n",
       "  'agent_name': 'music_agent'}]"
      ]
     },
     "execution_count": 241,
     "metadata": {},
     "output_type": "execute_result"
    }
   ],
   "source": [
    "ma.chat(messages=[{\"role\": \"user\", \"content\": \"why the sky is blue and recommend me some music\"}],agent=general_agent)"
   ]
  },
  {
   "cell_type": "markdown",
   "metadata": {},
   "source": [
    "### Multi-Agent tool use example"
   ]
  },
  {
   "cell_type": "code",
   "execution_count": 247,
   "metadata": {},
   "outputs": [],
   "source": [
    "def get_weather(city:str)->str:\n",
    "    \"\"\" \n",
    "    Get the weather for a specified city.\n",
    "    \"\"\"\n",
    "    return f\"The weather in {city} is sunny.\"\n",
    "\n",
    "\n",
    "def get_news()->str:\n",
    "    \"\"\" \n",
    "    Get the latest news.\n",
    "    \"\"\"\n",
    "    return \"The latest news is that the sun is shining.\""
   ]
  },
  {
   "cell_type": "code",
   "execution_count": 248,
   "metadata": {},
   "outputs": [],
   "source": [
    "daily_agent.add_tools([get_weather,get_news])"
   ]
  },
  {
   "cell_type": "code",
   "execution_count": 249,
   "metadata": {},
   "outputs": [
    {
     "data": {
      "text/plain": [
       "[{'role': 'handoff',\n",
       "  'handoff': 'science_agent -> general_agent',\n",
       "  'agent_name': 'general_agent',\n",
       "  'agent': <__main__.Agent at 0x114343c10>,\n",
       "  'message': 'what is the weather in Hangzhou?'},\n",
       " {'role': 'handoff',\n",
       "  'handoff': 'general_agent -> daily_agent',\n",
       "  'agent_name': 'daily_agent',\n",
       "  'agent': <__main__.Agent at 0x114565b50>,\n",
       "  'message': 'what is the weather in Hangzhou?'},\n",
       " {'role': 'tool', 'content': 'The weather in Hangzhou is sunny.'}]"
      ]
     },
     "execution_count": 249,
     "metadata": {},
     "output_type": "execute_result"
    }
   ],
   "source": [
    "ma.chat(messages=[{\"role\": \"user\", \"content\": \"what is the weather in Hangzhou?\"}])"
   ]
  },
  {
   "cell_type": "code",
   "execution_count": 228,
   "metadata": {},
   "outputs": [
    {
     "data": {
      "text/plain": [
       "[{'role': 'tool', 'content': 'The latest news is that the sun is shining.'}]"
      ]
     },
     "execution_count": 228,
     "metadata": {},
     "output_type": "execute_result"
    }
   ],
   "source": [
    "ma.chat(messages=[{\"role\": \"user\", \"content\": \"what happened today?\"}])"
   ]
  },
  {
   "cell_type": "code",
   "execution_count": 250,
   "metadata": {},
   "outputs": [
    {
     "data": {
      "text/plain": [
       "[{'role': 'tool', 'content': 'The weather in Hangzhou is sunny.'},\n",
       " {'role': 'tool', 'content': 'The latest news is that the sun is shining.'}]"
      ]
     },
     "execution_count": 250,
     "metadata": {},
     "output_type": "execute_result"
    }
   ],
   "source": [
    "ma.chat(messages=[{\"role\": \"user\", \"content\": \"what is the weather in Hangzhou and what happened today?\"}])"
   ]
  },
  {
   "cell_type": "code",
   "execution_count": null,
   "metadata": {},
   "outputs": [],
   "source": []
  },
  {
   "cell_type": "code",
   "execution_count": null,
   "metadata": {},
   "outputs": [],
   "source": []
  },
  {
   "cell_type": "code",
   "execution_count": null,
   "metadata": {},
   "outputs": [],
   "source": []
  },
  {
   "cell_type": "code",
   "execution_count": null,
   "metadata": {},
   "outputs": [],
   "source": []
  },
  {
   "cell_type": "code",
   "execution_count": null,
   "metadata": {},
   "outputs": [],
   "source": []
  },
  {
   "cell_type": "code",
   "execution_count": null,
   "metadata": {},
   "outputs": [],
   "source": []
  }
 ],
 "metadata": {
  "kernelspec": {
   "display_name": ".venv",
   "language": "python",
   "name": "python3"
  },
  "language_info": {
   "codemirror_mode": {
    "name": "ipython",
    "version": 3
   },
   "file_extension": ".py",
   "mimetype": "text/x-python",
   "name": "python",
   "nbconvert_exporter": "python",
   "pygments_lexer": "ipython3",
   "version": "3.11.5"
  }
 },
 "nbformat": 4,
 "nbformat_minor": 2
}
