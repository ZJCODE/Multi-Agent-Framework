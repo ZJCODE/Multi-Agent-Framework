{
 "cells": [
  {
   "cell_type": "markdown",
   "metadata": {},
   "source": [
    "# Implement Multi Agent Framework"
   ]
  },
  {
   "cell_type": "code",
   "execution_count": 8,
   "metadata": {},
   "outputs": [],
   "source": [
    "!pip install python-dotenv --quiet\n",
    "!pip install tenacity --quiet\n",
    "!pip install openai --quiet"
   ]
  },
  {
   "cell_type": "code",
   "execution_count": 2,
   "metadata": {},
   "outputs": [],
   "source": [
    "from openai import OpenAI\n",
    "from typing import Optional\n",
    "import os\n",
    "from dotenv import load_dotenv\n",
    "from tenacity import retry, wait_random_exponential, stop_after_attempt\n",
    "from typing import List, Optional, Dict\n",
    "import logging"
   ]
  },
  {
   "cell_type": "markdown",
   "metadata": {},
   "source": [
    "### LLM 预备"
   ]
  },
  {
   "cell_type": "code",
   "execution_count": 3,
   "metadata": {},
   "outputs": [],
   "source": [
    "# Load environment variables from .env file\n",
    "load_dotenv()\n",
    "\n",
    "client = OpenAI(\n",
    "    api_key=os.environ.get(\"OPENAI_API_KEY\"),\n",
    "    base_url=os.environ.get(\"OPENAI_BASE_URL\"),\n",
    ")"
   ]
  },
  {
   "cell_type": "markdown",
   "metadata": {},
   "source": [
    "### Agent & Multi-Agent 构建"
   ]
  },
  {
   "cell_type": "code",
   "execution_count": 4,
   "metadata": {},
   "outputs": [],
   "source": [
    "\n",
    "class BaseAgent:\n",
    "    \"\"\"\n",
    "    An example of a base agent class, including an OpenAI client.\n",
    "    \"\"\"\n",
    "    def __init__(self,client:OpenAI):\n",
    "        self.client = client\n",
    "        # can add more attributes and methods here\n",
    "        \n",
    "\n",
    "class Agent:\n",
    "    \"\"\"\n",
    "    A class representing an agent that can handle chat messages and handoff to other agents.\n",
    "    \"\"\"\n",
    "    def __init__(\n",
    "            self,\n",
    "            agent:BaseAgent,\n",
    "            name:str,\n",
    "            instructions: Optional[str] = None):\n",
    "        self.DEFAULT_MODEL = \"gpt-4o-mini\"\n",
    "        self.name = name.replace(\" \",\"_\")\n",
    "        self.agent = agent\n",
    "        self.instructions = instructions\n",
    "        self.handoff_agent_schemas: List[Dict] = []\n",
    "        self.handoff_agents: Dict[str, \"Agent\"] = {}\n",
    "\n",
    "    def __str__(self):\n",
    "        \"\"\"\n",
    "        Returns a string representation of the Agent instance.\n",
    "        \"\"\"\n",
    "        return f\"Agent(name={self.name}, instructions={self.instructions},handoff_agents={list(self.handoff_agents.keys())})\"\n",
    "\n",
    "\n",
    "    def add_handoffs(self, agents: List[\"Agent\"]) -> None:\n",
    "        \"\"\" \n",
    "        Adds handoff agents to the current agent.\n",
    "        \"\"\"\n",
    "        self.handoff_agent_schemas.clear()\n",
    "        for agent in agents:\n",
    "            agent_schema = {\n",
    "                'type': 'function',\n",
    "                'function': {\n",
    "                    'name': agent.name,\n",
    "                    'description': agent.instructions or '',\n",
    "                    'parameters': {'type': 'object', 'properties': {}, 'required': []}\n",
    "                }\n",
    "            }\n",
    "            self.handoff_agent_schemas.append(agent_schema)\n",
    "            self.handoff_agents[agent.name] = agent\n",
    "\n",
    "    @retry(wait=wait_random_exponential(multiplier=1, max=40), stop=stop_after_attempt(3))\n",
    "    def chat(self,messages:List[Dict],model: Optional[str] = None,disable_tools:bool = False):\n",
    "        \"\"\" \n",
    "        Handles chat messages and returns responses, with optional handoff to other agents.\n",
    "        \"\"\"\n",
    "\n",
    "        if self.instructions:\n",
    "            messages = [{\"role\": \"system\", \"content\": self.instructions}] + messages\n",
    "        \n",
    "        model = model or self.DEFAULT_MODEL\n",
    "\n",
    "        try:\n",
    "\n",
    "            response = self.agent.client.chat.completions.create(\n",
    "                model=model,\n",
    "                messages=messages,\n",
    "                tools=None if disable_tools else self.handoff_agent_schemas or None,\n",
    "                tool_choice=None,\n",
    "            )\n",
    "            message = response.choices[0].message\n",
    "            if not message.tool_calls:\n",
    "                result = [{\"role\": \"assistant\", \"content\": message.content, \"agent_name\": self.name}]\n",
    "                return result\n",
    "            \n",
    "            result = []\n",
    "            for tool_call in message.tool_calls:\n",
    "                call_agent = self.handoff_agents[tool_call.function.name]\n",
    "                call_message = {\n",
    "                    \"role\": \"tool\",\n",
    "                    \"tool_call_id\": tool_call.id,\n",
    "                    \"handoff\": f\"{self.name} -> {call_agent.name}\",\n",
    "                    \"agent_name\": call_agent.name,\n",
    "                    \"agent\": call_agent,\n",
    "                }\n",
    "                result.append(call_message)      \n",
    "            return result\n",
    "        except Exception as e:\n",
    "            logging.error(\"Unable to generate ChatCompletion response\")\n",
    "            logging.error(f\"Exception: {e}\")\n",
    "            return None\n",
    "\n",
    "\n",
    "class MultiAgent:\n",
    "    def __init__(self,start_agent:Optional[Agent] = None):\n",
    "        \"\"\"\n",
    "        Initialize the MultiAgent with an optional starting agent.\n",
    "        \"\"\"\n",
    "        self.current_agent = start_agent\n",
    "\n",
    "    def add_handoff_relations(self,from_agent:Agent,to_agents:List[Agent])->None:\n",
    "        \"\"\"\n",
    "        Add handoff relations from one agent to multiple agents.\n",
    "        \"\"\"\n",
    "        from_agent.add_handoffs(to_agents)\n",
    "\n",
    "    def chat(self,messages:List[Dict],model: Optional[str] = None,agent:Optional[Agent] = None,max_handoof_depth:int = 2)->List[Dict]:\n",
    "        \"\"\"\n",
    "        Chat with the current agent or a specified agent using the provided messages and model.\n",
    "        \"\"\"\n",
    "        if agent:\n",
    "            self.current_agent = agent\n",
    "\n",
    "        if not self.current_agent:\n",
    "            logging.error(\"No agent is set for conversation. You can set it in init or pass as argument.\")\n",
    "            return None\n",
    "        \n",
    "        try:\n",
    "            # currently only one handoff is supported\n",
    "            res = [self.current_agent.chat(messages, model)[0]]\n",
    "            if res and res[0].get(\"content\"):\n",
    "                return res\n",
    "            while res and res[-1].get(\"tool_call_id\") and max_handoof_depth > 0:\n",
    "                max_handoof_depth -= 1\n",
    "                self.current_agent = res[-1][\"agent\"]\n",
    "                if max_handoof_depth == 0:\n",
    "                    res.extend(self.current_agent.chat(messages, model, disable_tools=True))\n",
    "                else:\n",
    "                    res.extend(self.current_agent.chat(messages, model))\n",
    "            return res\n",
    "        except Exception as e:\n",
    "            logging.error(\"Error during chat with agent.\")\n",
    "            logging.error(f\"Exception: {e}\")\n",
    "            return None\n",
    "        \n",
    "    def handoff(self,messages:List[Dict],model: Optional[str] = None,agent:Agent = None)-> Agent:\n",
    "        \"\"\"\n",
    "        Perform a handoff to the specified agent using the provided messages and model.\n",
    "        \"\"\"\n",
    "        current_agent = agent\n",
    "\n",
    "        if not current_agent:\n",
    "            logging.error(\"No agent is set for conversation. You must specify an agent.\")\n",
    "            return None\n",
    "        \n",
    "        try:\n",
    "            res = current_agent.chat(messages, model)\n",
    "            handoff_agents = {}\n",
    "            if res:\n",
    "                for r in res:\n",
    "                    if r.get(\"tool_call_id\"):\n",
    "                        handoff_agents[r[\"agent_name\"]] = r[\"agent\"]\n",
    "            if handoff_agents:\n",
    "                return handoff_agents\n",
    "            return None\n",
    "        except Exception as e:\n",
    "            logging.error(\"Error during handoff with agent.\")\n",
    "            logging.error(f\"Exception: {e}\")\n",
    "            return None"
   ]
  },
  {
   "cell_type": "markdown",
   "metadata": {},
   "source": [
    "### 初始化几个Agent"
   ]
  },
  {
   "cell_type": "code",
   "execution_count": 5,
   "metadata": {},
   "outputs": [],
   "source": [
    "a1 = Agent(BaseAgent(client),\"general agent\",\"Agent used for daily questions named Ada.\")\n",
    "a2 = Agent(BaseAgent(client),\"science agent\",\"Agent used for science questions named Albert.\")\n",
    "a3 = Agent(BaseAgent(client),\"music agent\",\"Agent used for music questions named Mozart.\")"
   ]
  },
  {
   "cell_type": "markdown",
   "metadata": {},
   "source": [
    "### 创建Multi-Agent环境 & 增加handoff的关系"
   ]
  },
  {
   "cell_type": "code",
   "execution_count": 6,
   "metadata": {},
   "outputs": [],
   "source": [
    "ma = MultiAgent(a1)\n",
    "ma.add_handoff_relations(a1,[a2,a3])\n",
    "ma.add_handoff_relations(a2,[a1])\n",
    "ma.add_handoff_relations(a3,[a1])\n",
    "# ma.add_handoff_relations(a2,[a1,a3])\n",
    "# ma.add_handoff_relations(a3,[a1,a2])"
   ]
  },
  {
   "cell_type": "markdown",
   "metadata": {},
   "source": [
    "### Multi-Agent handoff 的能力展示\n",
    "\n",
    "调用handoff得到合适完成任务的agent\n",
    "\n",
    "随后调用这个agent预先设计好的各种能力，比如 streaming, tools, memory ,reasoning 等等"
   ]
  },
  {
   "cell_type": "code",
   "execution_count": 7,
   "metadata": {},
   "outputs": [
    {
     "data": {
      "text/plain": [
       "{'science_agent': <__main__.Agent at 0x114dd7d90>}"
      ]
     },
     "execution_count": 7,
     "metadata": {},
     "output_type": "execute_result"
    }
   ],
   "source": [
    "ma.handoff(messages=[{\"role\": \"user\", \"content\": \"why the sky is blue\"}],agent=a1)"
   ]
  },
  {
   "cell_type": "code",
   "execution_count": 8,
   "metadata": {},
   "outputs": [
    {
     "data": {
      "text/plain": [
       "{'science_agent': <__main__.Agent at 0x114dd7d90>,\n",
       " 'music_agent': <__main__.Agent at 0x114dd6950>}"
      ]
     },
     "execution_count": 8,
     "metadata": {},
     "output_type": "execute_result"
    }
   ],
   "source": [
    "ma.handoff(messages=[{\"role\": \"user\", \"content\": \"why the sky is blue and recommend me some music\"}],agent=a1)"
   ]
  },
  {
   "cell_type": "markdown",
   "metadata": {},
   "source": [
    "### Multi-Agent 对话能力展示 \n",
    "\n",
    "自带handoff的agent, 可以直接进行对话,也可自动将对话交接给其他合适的agent进行回复"
   ]
  },
  {
   "cell_type": "code",
   "execution_count": 9,
   "metadata": {},
   "outputs": [
    {
     "data": {
      "text/plain": [
       "[{'role': 'tool',\n",
       "  'tool_call_id': 'call_457DNbiYWTudtC3n0PMmpwsL',\n",
       "  'handoff': 'general_agent -> science_agent',\n",
       "  'agent_name': 'science_agent',\n",
       "  'agent': <__main__.Agent at 0x114dd7d90>},\n",
       " {'role': 'assistant',\n",
       "  'content': \"The sky appears blue due to a phenomenon called Rayleigh scattering. This occurs when sunlight passes through the Earth's atmosphere and interacts with the gas molecules and small particles in the air.\\n\\nHere’s how it works:\\n\\n1. **Sunlight Composition**: Sunlight, or white light, is made up of different colors, each with different wavelengths. Blue light has a shorter wavelength compared to other colors like red.\\n\\n2. **Scattering of Light**: When sunlight enters the atmosphere, the shorter blue wavelengths are scattered in all directions by the oxygen and nitrogen molecules in the air. \\n\\n3. **Perception of Color**: Since blue light is scattered more than other colors, when we look up at the sky, we see a higher concentration of blue light compared to other colors.\\n\\nIn summary, the scattering of shorter wavelengths of light (blue) by the atmosphere is what makes the sky appear blue during the day.\",\n",
       "  'agent_name': 'science_agent'}]"
      ]
     },
     "execution_count": 9,
     "metadata": {},
     "output_type": "execute_result"
    }
   ],
   "source": [
    "ma.chat(messages=[{\"role\": \"user\", \"content\": \"why the sky is blue\"}])"
   ]
  },
  {
   "cell_type": "code",
   "execution_count": 10,
   "metadata": {},
   "outputs": [
    {
     "data": {
      "text/plain": [
       "[{'role': 'assistant',\n",
       "  'content': 'I am Albert, an AI trained to assist with science-related questions. How can I help you today?',\n",
       "  'agent_name': 'science_agent'}]"
      ]
     },
     "execution_count": 10,
     "metadata": {},
     "output_type": "execute_result"
    }
   ],
   "source": [
    "ma.chat(messages=[{\"role\": \"user\", \"content\": \"who are you\"}])"
   ]
  },
  {
   "cell_type": "code",
   "execution_count": 11,
   "metadata": {},
   "outputs": [
    {
     "data": {
      "text/plain": [
       "[{'role': 'tool',\n",
       "  'tool_call_id': 'call_vM7dNjb1xOZB3bEVTIHW7QLD',\n",
       "  'handoff': 'science_agent -> general_agent',\n",
       "  'agent_name': 'general_agent',\n",
       "  'agent': <__main__.Agent at 0x114dd7ad0>},\n",
       " {'role': 'tool',\n",
       "  'tool_call_id': 'call_SwYrjE0bg1FoIRMwnDfxEd21',\n",
       "  'handoff': 'general_agent -> music_agent',\n",
       "  'agent_name': 'music_agent',\n",
       "  'agent': <__main__.Agent at 0x114dd6950>},\n",
       " {'role': 'assistant',\n",
       "  'content': 'Music encompasses a vast array of styles, each characterized by unique elements such as rhythm, melody, instrumentation, and cultural influences. Here are some of the major music styles:\\n\\n1. **Classical**: Encompasses various periods (Baroque, Classical, Romantic, etc.) and is characterized by orchestral arrangements, complex compositions, and a focus on melody and harmony.\\n\\n2. **Jazz**: Originating in the African-American communities, jazz is known for its improvisation, swing rhythms, and use of blues influences. Subgenres include bebop, smooth jazz, and jazz fusion.\\n\\n3. **Rock**: Evolving in the 20th century, rock music features electric guitars, strong beats, and varied substyles such as punk, hard rock, alternative rock, and progressive rock.\\n\\n4. **Pop**: Known for its catchy melodies and widespread appeal, pop music often incorporates elements from various genres and is designed for mass consumption.\\n\\n5. **Hip-Hop**: A cultural movement that includes rapping, DJing, graffiti art, and breakdancing. It often focuses on rhythm and poetry (lyrics) over beats.\\n\\n6. **Country**: Originating in the southern United States, country music features storytelling lyrics, acoustic instruments, and often incorporates elements of folk, blues, and gospel.\\n\\n7. **R&B/Soul**: Rhythm and blues (R&B) is known for its strong backbeat and soulful vocal style. Soul music blends gospel influences with R&B.\\n\\n8. **Reggae**: Originating in Jamaica, reggae music features offbeat rhythms, socially conscious lyrics, and a distinct bassline.\\n\\n9. **Electronic/Dance**: Encompassing genres like house, techno, dubstep, and trance, this style emphasizes electronic instruments and is often associated with dance clubs and festivals.\\n\\n10. **Folk**: Traditional music from various cultures, folk music often tells stories and reflects the daily life and values of the people.\\n\\n11. **Blues**: A genre deeply rooted in African-American history, blues music expresses feelings of sorrow and resilience, often characterized by specific chord progressions.\\n\\n12. **Metal**: Known for its heavy sound, distorted guitars, and aggressive vocals, metal includes subgenres such as thrash metal, death metal, and black metal.\\n\\n13. **World Music**: A broad category that includes traditional music from various cultures around the globe, often blending elements from different musical backgrounds.\\n\\n14. **Gospel**: A genre of Christian music that expresses faith through powerful vocals and often features choir arrangements.\\n\\nThese styles can overlap, evolve, and blend, leading to the emergence of new genres and subgenres over time.',\n",
       "  'agent_name': 'music_agent'}]"
      ]
     },
     "execution_count": 11,
     "metadata": {},
     "output_type": "execute_result"
    }
   ],
   "source": [
    "ma.chat(messages=[{\"role\": \"user\", \"content\": \"What are the different music styles?\"}])"
   ]
  },
  {
   "cell_type": "code",
   "execution_count": 12,
   "metadata": {},
   "outputs": [
    {
     "data": {
      "text/plain": [
       "[{'role': 'tool',\n",
       "  'tool_call_id': 'call_ur9N9ky1ATwZE67socCzIwhJ',\n",
       "  'handoff': 'music_agent -> general_agent',\n",
       "  'agent_name': 'general_agent',\n",
       "  'agent': <__main__.Agent at 0x114dd7ad0>},\n",
       " {'role': 'assistant',\n",
       "  'content': 'What kind of dinner are you in the mood for tonight? Are you looking for a specific cuisine, or do you have any dietary preferences or restrictions? Let me know so I can help you decide!',\n",
       "  'agent_name': 'general_agent'}]"
      ]
     },
     "execution_count": 12,
     "metadata": {},
     "output_type": "execute_result"
    }
   ],
   "source": [
    "ma.chat(messages=[{\"role\": \"user\", \"content\": \"dinner tonight\"}])"
   ]
  },
  {
   "cell_type": "code",
   "execution_count": 13,
   "metadata": {},
   "outputs": [
    {
     "data": {
      "text/plain": [
       "[{'role': 'assistant',\n",
       "  'content': 'I am Albert, your assistant for science-related questions. How can I help you today?',\n",
       "  'agent_name': 'science_agent'}]"
      ]
     },
     "execution_count": 13,
     "metadata": {},
     "output_type": "execute_result"
    }
   ],
   "source": [
    "ma.chat(messages=[{\"role\": \"user\", \"content\": \"who are you\"}],agent=a2)"
   ]
  },
  {
   "cell_type": "code",
   "execution_count": null,
   "metadata": {},
   "outputs": [],
   "source": []
  },
  {
   "cell_type": "code",
   "execution_count": null,
   "metadata": {},
   "outputs": [],
   "source": []
  },
  {
   "cell_type": "code",
   "execution_count": null,
   "metadata": {},
   "outputs": [],
   "source": []
  }
 ],
 "metadata": {
  "kernelspec": {
   "display_name": ".venv",
   "language": "python",
   "name": "python3"
  },
  "language_info": {
   "codemirror_mode": {
    "name": "ipython",
    "version": 3
   },
   "file_extension": ".py",
   "mimetype": "text/x-python",
   "name": "python",
   "nbconvert_exporter": "python",
   "pygments_lexer": "ipython3",
   "version": "3.11.5"
  }
 },
 "nbformat": 4,
 "nbformat_minor": 2
}
