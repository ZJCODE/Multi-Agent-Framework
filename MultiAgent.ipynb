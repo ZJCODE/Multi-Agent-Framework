{
 "cells": [
  {
   "cell_type": "markdown",
   "metadata": {},
   "source": [
    "# Implement Multi Agent Framework"
   ]
  },
  {
   "cell_type": "code",
   "execution_count": 2,
   "metadata": {},
   "outputs": [],
   "source": [
    "!pip install python-dotenv --quiet\n",
    "!pip install tenacity --quiet\n",
    "!pip install openai --quiet"
   ]
  },
  {
   "cell_type": "code",
   "execution_count": 3,
   "metadata": {},
   "outputs": [],
   "source": [
    "from openai import OpenAI\n",
    "from typing import Optional\n",
    "import os\n",
    "from dotenv import load_dotenv\n",
    "from tenacity import retry, wait_random_exponential, stop_after_attempt\n",
    "from typing import List, Optional, Dict\n",
    "import logging"
   ]
  },
  {
   "cell_type": "markdown",
   "metadata": {},
   "source": [
    "### LLM Preparation "
   ]
  },
  {
   "cell_type": "code",
   "execution_count": 4,
   "metadata": {},
   "outputs": [],
   "source": [
    "# Load environment variables from .env file\n",
    "load_dotenv()\n",
    "\n",
    "client = OpenAI(\n",
    "    api_key=os.environ.get(\"OPENAI_API_KEY\"),\n",
    "    base_url=os.environ.get(\"OPENAI_BASE_URL\"),\n",
    ")"
   ]
  },
  {
   "cell_type": "markdown",
   "metadata": {},
   "source": [
    "### Agent & Multi-Agent "
   ]
  },
  {
   "cell_type": "code",
   "execution_count": 5,
   "metadata": {},
   "outputs": [],
   "source": [
    "\n",
    "class BaseAgent:\n",
    "    \"\"\"\n",
    "    An example of a base agent class, including an OpenAI client.\n",
    "    \"\"\"\n",
    "    def __init__(self,client:OpenAI):\n",
    "        self.client = client\n",
    "        # can add more attributes and methods here\n",
    "        \n",
    "\n",
    "class Agent:\n",
    "    \"\"\"\n",
    "    A class representing an agent that can handle chat messages and handoff to other agents.\n",
    "    \"\"\"\n",
    "    def __init__(\n",
    "            self,\n",
    "            base_agent:BaseAgent,\n",
    "            name:str,\n",
    "            instructions: Optional[str] = None):\n",
    "        self.DEFAULT_MODEL = \"gpt-4o-mini\"\n",
    "        self.name = name.replace(\" \",\"_\")\n",
    "        self.agent = base_agent\n",
    "        self.instructions = instructions\n",
    "        self.handoff_agent_schemas: List[Dict] = []\n",
    "        self.handoff_agents: Dict[str, \"Agent\"] = {}\n",
    "\n",
    "    def __str__(self):\n",
    "        \"\"\"\n",
    "        Returns a string representation of the Agent instance.\n",
    "        \"\"\"\n",
    "        return f\"Agent(name={self.name}, instructions={self.instructions},handoff_agents={list(self.handoff_agents.keys())})\"\n",
    "\n",
    "\n",
    "    def add_handoffs(self, agents: List[\"Agent\"]) -> None:\n",
    "        \"\"\" \n",
    "        Adds handoff agents to the current agent.\n",
    "        \"\"\"\n",
    "        self.handoff_agent_schemas.clear()\n",
    "        for agent in agents:\n",
    "            agent_schema = {\n",
    "                'type': 'function',\n",
    "                'function': {\n",
    "                    'name': agent.name,\n",
    "                    'description': agent.instructions or '',\n",
    "                    'parameters': {'type': 'object', 'properties': {}, 'required': []}\n",
    "                }\n",
    "            }\n",
    "            self.handoff_agent_schemas.append(agent_schema)\n",
    "            self.handoff_agents[agent.name] = agent\n",
    "\n",
    "    @retry(wait=wait_random_exponential(multiplier=1, max=40), stop=stop_after_attempt(3))\n",
    "    def chat(self,messages:List[Dict],model: Optional[str] = None,disable_tools:bool = False):\n",
    "        \"\"\" \n",
    "        Handles chat messages and returns responses, with optional handoff to other agents.\n",
    "        \"\"\"\n",
    "\n",
    "        if self.instructions:\n",
    "            messages = [{\"role\": \"system\", \"content\": self.instructions}] + messages\n",
    "        \n",
    "        model = model or self.DEFAULT_MODEL\n",
    "\n",
    "        try:\n",
    "\n",
    "            response = self.agent.client.chat.completions.create(\n",
    "                model=model,\n",
    "                messages=messages,\n",
    "                tools=None if disable_tools else self.handoff_agent_schemas or None,\n",
    "                tool_choice=None,\n",
    "            )\n",
    "            message = response.choices[0].message\n",
    "            if not message.tool_calls:\n",
    "                result = [{\"role\": \"assistant\", \"content\": message.content, \"agent_name\": self.name}]\n",
    "                return result\n",
    "            \n",
    "            result = []\n",
    "            for tool_call in message.tool_calls:\n",
    "                call_agent = self.handoff_agents[tool_call.function.name]\n",
    "                call_message = {\n",
    "                    \"role\": \"tool\",\n",
    "                    \"tool_call_id\": tool_call.id,\n",
    "                    \"handoff\": f\"{self.name} -> {call_agent.name}\",\n",
    "                    \"agent_name\": call_agent.name,\n",
    "                    \"agent\": call_agent,\n",
    "                }\n",
    "                result.append(call_message)      \n",
    "            return result\n",
    "        except Exception as e:\n",
    "            logging.error(\"Unable to generate ChatCompletion response\")\n",
    "            logging.error(f\"Exception: {e}\")\n",
    "            return None\n",
    "\n",
    "\n",
    "class MultiAgent:\n",
    "    def __init__(self,start_agent:Optional[Agent] = None):\n",
    "        \"\"\"\n",
    "        Initialize the MultiAgent with an optional starting agent.\n",
    "        \"\"\"\n",
    "        self.current_agent = start_agent\n",
    "\n",
    "    def add_handoff_relations(self,from_agent:Agent,to_agents:List[Agent])->None:\n",
    "        \"\"\"\n",
    "        Add handoff relations from one agent to multiple agents.\n",
    "        \"\"\"\n",
    "        from_agent.add_handoffs(to_agents)\n",
    "\n",
    "    def chat(self,messages:List[Dict],model: Optional[str] = None,agent:Optional[Agent] = None,max_handoof_depth:int = 2)->List[Dict]:\n",
    "        \"\"\"\n",
    "        Chat with the current agent or a specified agent using the provided messages and model.\n",
    "        \"\"\"\n",
    "        if agent:\n",
    "            self.current_agent = agent\n",
    "\n",
    "        if not self.current_agent:\n",
    "            logging.error(\"No agent is set for conversation. You can set it in init or pass as argument.\")\n",
    "            return None\n",
    "        \n",
    "        try:\n",
    "            # currently only one handoff is supported\n",
    "            res = [self.current_agent.chat(messages, model)[0]]\n",
    "            if res and res[0].get(\"content\"):\n",
    "                return res\n",
    "            while res and res[-1].get(\"tool_call_id\") and max_handoof_depth > 0:\n",
    "                max_handoof_depth -= 1\n",
    "                self.current_agent = res[-1][\"agent\"]\n",
    "                if max_handoof_depth == 0:\n",
    "                    res.extend(self.current_agent.chat(messages, model, disable_tools=True))\n",
    "                else:\n",
    "                    res.extend(self.current_agent.chat(messages, model))\n",
    "            return res\n",
    "        except Exception as e:\n",
    "            logging.error(\"Error during chat with agent.\")\n",
    "            logging.error(f\"Exception: {e}\")\n",
    "            return None\n",
    "        \n",
    "    def handoff(self,messages:List[Dict],model: Optional[str] = None,agent:Agent = None)-> Agent:\n",
    "        \"\"\"\n",
    "        Perform a handoff to the specified agent using the provided messages and model.\n",
    "        \"\"\"\n",
    "        current_agent = agent\n",
    "\n",
    "        if not current_agent:\n",
    "            logging.error(\"No agent is set for conversation. You must specify an agent.\")\n",
    "            return None\n",
    "        \n",
    "        try:\n",
    "            res = current_agent.chat(messages, model)\n",
    "            handoff_agents = {}\n",
    "            if res:\n",
    "                for r in res:\n",
    "                    if r.get(\"tool_call_id\"):\n",
    "                        handoff_agents[r[\"agent_name\"]] = r[\"agent\"]\n",
    "            if handoff_agents:\n",
    "                return handoff_agents\n",
    "            return None\n",
    "        except Exception as e:\n",
    "            logging.error(\"Error during handoff with agent.\")\n",
    "            logging.error(f\"Exception: {e}\")\n",
    "            return None"
   ]
  },
  {
   "cell_type": "markdown",
   "metadata": {},
   "source": [
    "### Init Several Agents"
   ]
  },
  {
   "cell_type": "code",
   "execution_count": 6,
   "metadata": {},
   "outputs": [],
   "source": [
    "general_agent = Agent(base_agent = BaseAgent(client),\n",
    "           name = \"general agent\",\n",
    "           instructions= \"Agent used for daily questions named Ada.\")\n",
    "\n",
    "science_agent = Agent(base_agent = BaseAgent(client),\n",
    "           name = \"science agent\",\n",
    "           instructions = \"Agent used for science questions named Albert.\")\n",
    "\n",
    "music_agent = Agent(base_agent = BaseAgent(client),\n",
    "           name = \"music agent\",\n",
    "           instructions = \"Agent used for music questions named Mozart.\")"
   ]
  },
  {
   "cell_type": "markdown",
   "metadata": {},
   "source": [
    "###  Build a Multi-Agent environment & add handoff relationships "
   ]
  },
  {
   "cell_type": "code",
   "execution_count": 7,
   "metadata": {},
   "outputs": [],
   "source": [
    "ma = MultiAgent(start_agent = general_agent)\n",
    "ma.add_handoff_relations(from_agent=general_agent,to_agents=[science_agent,music_agent])\n",
    "ma.add_handoff_relations(from_agent=science_agent,to_agents=[general_agent])\n",
    "ma.add_handoff_relations(from_agent=music_agent,to_agents=[general_agent])\n",
    "# ma.add_handoff_relations(from_agent=science_agent,to_agents=[general_agent,music_agent])\n",
    "# ma.add_handoff_relations(from_agent=music_agent,to_agents=[general_agent,science_agent])"
   ]
  },
  {
   "cell_type": "markdown",
   "metadata": {},
   "source": [
    "### Multi-Agent handoff ability display\n",
    "\n",
    "use handoff to get the agent who is suitable for the task\n",
    "\n",
    "Then call the agent's pre-designed capabilities, such as streaming, tools, memory, reasoning, etc."
   ]
  },
  {
   "cell_type": "code",
   "execution_count": 8,
   "metadata": {},
   "outputs": [
    {
     "data": {
      "text/plain": [
       "{'science_agent': <__main__.Agent at 0x1170d5ad0>}"
      ]
     },
     "execution_count": 8,
     "metadata": {},
     "output_type": "execute_result"
    }
   ],
   "source": [
    "ma.handoff(messages=[{\"role\": \"user\", \"content\": \"why the sky is blue\"}],agent=general_agent)"
   ]
  },
  {
   "cell_type": "code",
   "execution_count": 9,
   "metadata": {},
   "outputs": [
    {
     "data": {
      "text/plain": [
       "{'science_agent': <__main__.Agent at 0x1170d5ad0>,\n",
       " 'music_agent': <__main__.Agent at 0x1170d7890>}"
      ]
     },
     "execution_count": 9,
     "metadata": {},
     "output_type": "execute_result"
    }
   ],
   "source": [
    "ma.handoff(messages=[{\"role\": \"user\", \"content\": \"why the sky is blue and recommend me some music\"}],agent=general_agent)"
   ]
  },
  {
   "cell_type": "markdown",
   "metadata": {},
   "source": [
    "### Multi-Agent dialogue ability display"
   ]
  },
  {
   "cell_type": "code",
   "execution_count": 10,
   "metadata": {},
   "outputs": [
    {
     "data": {
      "text/plain": [
       "[{'role': 'tool',\n",
       "  'tool_call_id': 'call_fe4FnYB0zQP40UkxeX8tjJDN',\n",
       "  'handoff': 'general_agent -> science_agent',\n",
       "  'agent_name': 'science_agent',\n",
       "  'agent': <__main__.Agent at 0x1170d5ad0>},\n",
       " {'role': 'assistant',\n",
       "  'content': \"The sky appears blue due to a phenomenon called Rayleigh scattering. Here’s how it works:\\n\\n1. **Sunlight Composition**: Sunlight, or white light, is made up of different colors, each with different wavelengths. Blue light has a shorter wavelength compared to other colors like red or yellow.\\n\\n2. **Atmospheric Interference**: When sunlight enters the Earth's atmosphere, it interacts with air molecules and small particles. The shorter wavelengths of light (blue and violet) are scattered in all directions by these particles.\\n\\n3. **Perception**: Although both blue and violet light are scattered, we see the sky as blue because our eyes are more sensitive to blue light, and some of the violet light is absorbed by the ozone layer.\\n\\n4. **Position of the Sun**: During sunrise and sunset, the sun is lower in the sky, and its light passes through more atmosphere. This causes more scattering of the shorter wavelengths and allows the longer red wavelengths to dominate the sky's colors at those times.\\n\\nIn summary, the scattering of sunlight by the atmosphere causes the sky to appear blue during the day.\",\n",
       "  'agent_name': 'science_agent'}]"
      ]
     },
     "execution_count": 10,
     "metadata": {},
     "output_type": "execute_result"
    }
   ],
   "source": [
    "ma.chat(messages=[{\"role\": \"user\", \"content\": \"why the sky is blue\"}])"
   ]
  },
  {
   "cell_type": "code",
   "execution_count": 11,
   "metadata": {},
   "outputs": [
    {
     "data": {
      "text/plain": [
       "[{'role': 'assistant',\n",
       "  'content': 'I am Albert, an AI designed to assist with science-related questions and topics. How can I help you today?',\n",
       "  'agent_name': 'science_agent'}]"
      ]
     },
     "execution_count": 11,
     "metadata": {},
     "output_type": "execute_result"
    }
   ],
   "source": [
    "ma.chat(messages=[{\"role\": \"user\", \"content\": \"who are you\"}])"
   ]
  },
  {
   "cell_type": "code",
   "execution_count": 12,
   "metadata": {},
   "outputs": [
    {
     "data": {
      "text/plain": [
       "[{'role': 'tool',\n",
       "  'tool_call_id': 'call_65i2mT6CAIf9OugdEvW9VVLH',\n",
       "  'handoff': 'science_agent -> general_agent',\n",
       "  'agent_name': 'general_agent',\n",
       "  'agent': <__main__.Agent at 0x1170d4cd0>},\n",
       " {'role': 'tool',\n",
       "  'tool_call_id': 'call_OPERKie3FDTus0TjhdI7Hf2c',\n",
       "  'handoff': 'general_agent -> music_agent',\n",
       "  'agent_name': 'music_agent',\n",
       "  'agent': <__main__.Agent at 0x1170d7890>},\n",
       " {'role': 'assistant',\n",
       "  'content': \"There are numerous music styles, each with its own unique characteristics, instruments, and cultural backgrounds. Here are some of the major music styles:\\n\\n1. **Classical**: Characterized by complex arrangements, orchestras, and compositions by composers like Beethoven and Mozart. It includes subgenres like Baroque, Romantic, and Contemporary classical.\\n\\n2. **Jazz**: Originating in the early 20th century in the African American communities, jazz is known for its improvisation, swing rhythms, and blue notes. Subgenres include bebop, smooth jazz, and jazz fusion.\\n\\n3. **Rock**: Evolving from earlier genres like rock and roll in the 1950s, rock music often features electric guitars, a strong rhythm section, and powerful vocals. Subgenres include classic rock, punk rock, and alternative rock.\\n\\n4. **Pop**: A broad genre that is catchy and designed for a wide audience, pop music frequently features repetitive structures and hooks. It often incorporates elements from other genres, such as dance, rock, and R&B.\\n\\n5. **Hip-Hop/Rap**: Emerging in the 1970s, hip-hop includes rhythmic vocal style known as rapping. It's often paired with DJing, sampling, and beatboxing. Subgenres include trap, gangsta rap, and conscious rap.\\n\\n6. **R&B/Soul**: Rhythm and blues (R&B) emerged from jazz, blues, and gospel music and is characterized by emotive vocals and smooth melodies. Soul music incorporates elements of gospel and has a strong emotional pull.\\n\\n7. **Country**: Originating in the southern United States, country music features simple chords, catchy melodies, and lyrics often about everyday life. Subgenres include country rock, bluegrass, and contemporary country.\\n\\n8. **Electronic/Dance**: This genre includes styles created primarily for dance venues, utilizing electronic instruments and digital technology. Subgenres include house, techno, and dubstep.\\n\\n9. **Reggae**: Originating in Jamaica, reggae is known for its offbeat rhythms and socially conscious lyrics, often promoting peace and love. Bob Marley is one of the genre's most famous artists.\\n\\n10. **Folk**: Characterized by acoustic instruments and storytelling, folk music often reflects the cultural traditions of a specific community. Styles can vary widely from American folk to Celtic music.\\n\\n11. **Metal**: A heavier, more aggressive style of rock music that includes distorted guitars, powerful vocals, and themes often focused on fantasy or social issues. Subgenres include heavy metal, death metal, and power metal.\\n\\n12. **Gospel**: A genre of Christian music that seeks to express faith and spirituality. It features uplifting themes and is often performed in churches.\\n\\nThese styles can also blend and evolve, giving rise to numerous subgenres and new movements in music.\",\n",
       "  'agent_name': 'music_agent'}]"
      ]
     },
     "execution_count": 12,
     "metadata": {},
     "output_type": "execute_result"
    }
   ],
   "source": [
    "ma.chat(messages=[{\"role\": \"user\", \"content\": \"What are the different music styles?\"}])"
   ]
  },
  {
   "cell_type": "code",
   "execution_count": 13,
   "metadata": {},
   "outputs": [
    {
     "data": {
      "text/plain": [
       "[{'role': 'tool',\n",
       "  'tool_call_id': 'call_5PFJYGCjW4NBxu4KKo8Ci5IK',\n",
       "  'handoff': 'music_agent -> general_agent',\n",
       "  'agent_name': 'general_agent',\n",
       "  'agent': <__main__.Agent at 0x1170d4cd0>},\n",
       " {'role': 'assistant',\n",
       "  'content': \"What type of cuisine or dish are you in the mood for tonight? I can suggest some dinner ideas if you'd like!\",\n",
       "  'agent_name': 'general_agent'}]"
      ]
     },
     "execution_count": 13,
     "metadata": {},
     "output_type": "execute_result"
    }
   ],
   "source": [
    "ma.chat(messages=[{\"role\": \"user\", \"content\": \"dinner tonight\"}])"
   ]
  },
  {
   "cell_type": "code",
   "execution_count": 14,
   "metadata": {},
   "outputs": [
    {
     "data": {
      "text/plain": [
       "[{'role': 'assistant',\n",
       "  'content': 'I am Albert, your assistant for science-related questions. How can I help you today?',\n",
       "  'agent_name': 'science_agent'}]"
      ]
     },
     "execution_count": 14,
     "metadata": {},
     "output_type": "execute_result"
    }
   ],
   "source": [
    "ma.chat(messages=[{\"role\": \"user\", \"content\": \"who are you\"}],agent=science_agent)"
   ]
  },
  {
   "cell_type": "code",
   "execution_count": 15,
   "metadata": {},
   "outputs": [
    {
     "data": {
      "text/plain": [
       "[{'role': 'assistant',\n",
       "  'content': 'I am Mozart, your assistant for music-related questions. How can I help you today?',\n",
       "  'agent_name': 'music_agent'}]"
      ]
     },
     "execution_count": 15,
     "metadata": {},
     "output_type": "execute_result"
    }
   ],
   "source": [
    "ma.chat(messages=[{\"role\": \"user\", \"content\": \"who are you\"}],agent=music_agent)"
   ]
  },
  {
   "cell_type": "code",
   "execution_count": null,
   "metadata": {},
   "outputs": [],
   "source": []
  },
  {
   "cell_type": "code",
   "execution_count": null,
   "metadata": {},
   "outputs": [],
   "source": []
  }
 ],
 "metadata": {
  "kernelspec": {
   "display_name": ".venv",
   "language": "python",
   "name": "python3"
  },
  "language_info": {
   "codemirror_mode": {
    "name": "ipython",
    "version": 3
   },
   "file_extension": ".py",
   "mimetype": "text/x-python",
   "name": "python",
   "nbconvert_exporter": "python",
   "pygments_lexer": "ipython3",
   "version": "3.11.5"
  }
 },
 "nbformat": 4,
 "nbformat_minor": 2
}
