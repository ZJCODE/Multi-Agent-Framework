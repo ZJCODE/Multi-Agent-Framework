{
 "cells": [
  {
   "cell_type": "code",
   "execution_count": 20,
   "metadata": {},
   "outputs": [],
   "source": [
    "import os\n",
    "import sys\n",
    "sys.path.append('../src')\n",
    "\n",
    "from openai import OpenAI\n",
    "from dotenv import load_dotenv\n",
    "from agents import BaseAgent, Agent, MultiAgent\n",
    "from pydantic import BaseModel"
   ]
  },
  {
   "cell_type": "code",
   "execution_count": 21,
   "metadata": {},
   "outputs": [],
   "source": [
    "load_dotenv()\n",
    "\n",
    "client = OpenAI(\n",
    "    api_key=os.environ.get(\"OPENAI_API_KEY\"),\n",
    "    base_url=os.environ.get(\"OPENAI_BASE_URL\"),\n",
    ")\n"
   ]
  },
  {
   "cell_type": "code",
   "execution_count": 33,
   "metadata": {},
   "outputs": [],
   "source": [
    "# Top level agent\n",
    "general_agent = Agent(base_agent = BaseAgent(client),\n",
    "           name = \"general agent\",\n",
    "           instructions= \"Determine which agent is best suited to handle the user's request, and transfer the conversation to that agent and output the transfer message.\",\n",
    "           handoff_description = \"Call this agent if you don't know how to answer the user's question or do not has access to the necessary information.\")"
   ]
  },
  {
   "cell_type": "code",
   "execution_count": 34,
   "metadata": {},
   "outputs": [],
   "source": [
    "class AgentDesc(BaseModel):\n",
    "    name: str\n",
    "    instructions: str\n",
    "    handoff_description: str\n",
    "    \n",
    "def create_new_agent(input: str)->Agent:\n",
    "    \"\"\" \n",
    "    If there is no other agent or tool can handle the input, call this function to create a new agent.\n",
    "    \"\"\"\n",
    "\n",
    "    model = \"gpt-4o-mini\"\n",
    "\n",
    "    completion = client.beta.chat.completions.parse(\n",
    "    model=model,\n",
    "    messages=[\n",
    "        {\"role\": \"system\", \"content\": \"\"\" \n",
    "         Create a new agent. The agent should be able to handle user request. return the agent description.\n",
    "\n",
    "        ## name example\n",
    "        \n",
    "         science agent (only english characters and spaces are allowed)\n",
    "         \n",
    "        ## instructions example\n",
    "         \n",
    "        You are a Science Agent As a science agent, you have a strong understanding of physics, chemistry, and biology. You can answer a variety of questions in these fields. Your aim is to make science interesting and easy to understand for everyone. If a question is outside your expertise, you can refer the user to another agent.\n",
    "         \n",
    "        ## handoff_description example\n",
    "        \n",
    "        Call this agent if you have a question related to science, physics, chemistry, or biology. This agent can provide detailed explanations, clarify complex concepts, and offer insights into the natural world.\n",
    "         \n",
    "         \"\"\"},\n",
    "        {\"role\": \"user\", \"content\": input},\n",
    "    ],\n",
    "    response_format=AgentDesc,\n",
    ")\n",
    "\n",
    "    event = completion.choices[0].message.parsed\n",
    "\n",
    "    new_agent = Agent(base_agent = BaseAgent(client),name=event.name, instructions=event.instructions, handoff_description=event.handoff_description)\n",
    "\n",
    "    general_agent.add_handoff(new_agent)\n",
    "    new_agent.add_handoff(general_agent)\n",
    "\n",
    "    return \"#CreateNewAgent#\"\n",
    "    \n"
   ]
  },
  {
   "cell_type": "code",
   "execution_count": 35,
   "metadata": {},
   "outputs": [],
   "source": [
    "general_agent.add_tools([create_new_agent])"
   ]
  },
  {
   "cell_type": "code",
   "execution_count": 36,
   "metadata": {},
   "outputs": [],
   "source": [
    "multi_agent = MultiAgent(start_agent=general_agent)"
   ]
  },
  {
   "cell_type": "code",
   "execution_count": 37,
   "metadata": {},
   "outputs": [
    {
     "data": {
      "text/plain": [
       "[{'role': 'assistant',\n",
       "  'tool_calls': [{'id': 'call_vw1KqBnN9ccOS6FYT5RTVNeI',\n",
       "    'function': {'arguments': '{\"input\":\"I\\'m looking for tips and instructions on how to ride a bike.\"}',\n",
       "     'name': 'create_new_agent'},\n",
       "    'type': 'function'}],\n",
       "  'type': 'tool',\n",
       "  'sender': 'general_agent'},\n",
       " {'role': 'tool',\n",
       "  'content': '#CreateNewAgent#',\n",
       "  'tool_call_id': 'call_vw1KqBnN9ccOS6FYT5RTVNeI',\n",
       "  'type': 'tool',\n",
       "  'sender': 'general_agent'},\n",
       " {'role': 'assistant',\n",
       "  'content': 'I’ll transfer you to an agent that specializes in providing guidance on riding a bike. Please hold on for a moment.',\n",
       "  'sender': 'general_agent'},\n",
       " {'role': 'assistant',\n",
       "  'tool_calls': [{'id': 'call_OnT8mIbuVYTWRLU2fAMcyJMo',\n",
       "    'function': {'arguments': '{\"message\": \"how to ride a bike?\"}',\n",
       "     'name': 'Bike_Riding_Agent'},\n",
       "    'type': 'function'}],\n",
       "  'type': 'handoff',\n",
       "  'sender': 'general_agent'},\n",
       " {'role': 'tool',\n",
       "  'handoff': 'general_agent -> Bike_Riding_Agent',\n",
       "  'content': 'Handing off to Bike_Riding_Agent',\n",
       "  'tool_call_id': 'call_OnT8mIbuVYTWRLU2fAMcyJMo',\n",
       "  'message': 'how to ride a bike?',\n",
       "  'type': 'handoff',\n",
       "  'sender': 'Bike_Riding_Agent'},\n",
       " {'role': 'assistant',\n",
       "  'content': \"Riding a bike can be a fun and rewarding experience! Here’s a step-by-step guide to help you get started:\\n\\n### 1. Choose the Right Bike\\n- Ensure the bike is the right size for you. Stand over the bike frame; you should have a couple of inches of clearance.\\n\\n### 2. Wear Safety Gear\\n- Always wear a helmet to protect your head. Consider wearing knee and elbow pads, especially as a beginner.\\n\\n### 3. Find a Safe Location\\n- Look for a flat, open area like a park or an empty parking lot where you can practice without traffic.\\n\\n### 4. Get Familiar with the Bike\\n- **Brakes**: Test the brakes to know how they feel.\\n- **Gears**: If your bike has gears, learn how to shift them.\\n\\n### 5. Mount the Bike\\n- Stand next to the bike, swing your leg over to sit on the seat.\\n- Keep one foot on the ground while the other is on a pedal.\\n\\n### 6. Start with Balance\\n- Push off with your grounded foot and let the other pedal go to the top.\\n- Practice balancing by gliding with your feet on the ground before using the pedals.\\n\\n### 7. Begin Pedaling\\n- Once you're comfortable, place one foot on the pedal and push down while the other foot follows.\\n- Look straight ahead, not at your feet.\\n\\n### 8. Steering\\n- Use your arms to steer and keep your body relaxed.\\n- Start with gentle turns; practice steering left and right.\\n\\n### 9. Stopping\\n- To stop, slow down by applying both brakes evenly.\\n- Put one foot down to stabilize yourself when you come to a stop.\\n\\n### 10. Practice, Practice, Practice\\n- Keep practicing in a safe area until you feel confident. Gradually introduce turns, stops, and pedaling on inclines.\\n\\n### Advanced Techniques (when comfortable)\\n- **Shifting Gears**: Use gears for climbing hills and speeding up.\\n- **Riding on Different Terrains**: Practice riding on grass, gravel or small hills as you advance.\\n- **Traffic Awareness**: Learn to ride in traffic, signaling your intentions to drivers.\\n\\n### Safety Tips\\n- Always follow traffic rules.\\n- Be aware of your surroundings.\\n- Use reflective gear if riding at night.\\n\\nAs you practice, you'll build confidence and improve your skills. Enjoy your ride! If you have any specific questions about riding techniques or need help with any techniques, feel free to ask!\",\n",
       "  'sender': 'Bike_Riding_Agent'}]"
      ]
     },
     "execution_count": 37,
     "metadata": {},
     "output_type": "execute_result"
    }
   ],
   "source": [
    "multi_agent.chat([{ \"role\": \"user\", \"content\": \"how to ride a bike?\"}],show_details=True)"
   ]
  },
  {
   "cell_type": "code",
   "execution_count": 38,
   "metadata": {},
   "outputs": [
    {
     "data": {
      "text/plain": [
       "[{'role': 'assistant',\n",
       "  'content': \"If you're looking to ride in the mountains, you should consider purchasing a mountain bike (MTB). Mountain bikes are designed specifically for off-road conditions and have features that make them suitable for rough terrains. Here are some key factors to consider when choosing a mountain bike:\\n\\n1. **Frame Material**:\\n   - **Aluminum**: Lightweight and affordable.\\n   - **Carbon Fiber**: Lighter and offers better performance but more expensive.\\n   - **Steel**: Durable and comfortable, but heavier.\\n\\n2. **Suspension Type**:\\n   - **Hardtail**: Has front suspension only, which is great for climbing and smoother trails.\\n   - **Full Suspension**: Has both front and rear suspension, providing more comfort on rough and technical trails but can be heavier and more expensive.\\n\\n3. **Wheel Size**:\\n   - **26 inches**: Offers more agility but less stability on rough terrains.\\n   - **27.5 inches**: A good compromise between agility and stability.\\n   - **29 inches**: Provides better rolling over obstacles and is great for stability but can feel less nimble.\\n\\n4. **Tire Width**: Wider tires offer more grip and comfort on uneven surfaces.\\n\\n5. **Gearing**: Look for a bike with a wide range of gears to tackle various inclines commonly found in mountain terrain.\\n\\n6. **Brakes**:\\n   - **Disc Brakes**: Offer better stopping power in wet and muddy conditions compared to rim brakes.\\n\\n7. **Fit**: Make sure the bike fits you well. A proper fit is crucial for comfort and control, especially on challenging trails.\\n\\n8. **Budget**: Determine your budget, as mountain bikes can range from a few hundred to several thousand dollars.\\n\\nOnce you've considered these factors, visit a local bike shop to test ride a few models and get professional advice tailored to your needs. Enjoy your mountain biking adventure!\",\n",
       "  'sender': 'Bike_Riding_Agent'}]"
      ]
     },
     "execution_count": 38,
     "metadata": {},
     "output_type": "execute_result"
    }
   ],
   "source": [
    "multi_agent.chat([{ \"role\": \"user\", \"content\": \"what kind of bike should I buy if i want to ride in the mountain?\"}],show_details=True)"
   ]
  },
  {
   "cell_type": "code",
   "execution_count": 39,
   "metadata": {},
   "outputs": [
    {
     "data": {
      "text/plain": [
       "[{'role': 'assistant',\n",
       "  'tool_calls': [{'id': 'call_41ADdWOZPcuhehUGG1ACxkNv',\n",
       "    'function': {'arguments': '{\"message\": \"can you explain the theory of relativity?\"}',\n",
       "     'name': 'general_agent'},\n",
       "    'type': 'function'}],\n",
       "  'type': 'handoff',\n",
       "  'sender': 'Bike_Riding_Agent'},\n",
       " {'role': 'tool',\n",
       "  'handoff': 'Bike_Riding_Agent -> general_agent',\n",
       "  'content': 'Handing off to general_agent',\n",
       "  'tool_call_id': 'call_41ADdWOZPcuhehUGG1ACxkNv',\n",
       "  'message': 'can you explain the theory of relativity?',\n",
       "  'type': 'handoff',\n",
       "  'sender': 'general_agent'},\n",
       " {'role': 'assistant',\n",
       "  'tool_calls': [{'id': 'call_hqGPYHNtFLYu49oOQarqVt3J',\n",
       "    'function': {'arguments': '{\"input\":\"Can you explain the theory of relativity?\"}',\n",
       "     'name': 'create_new_agent'},\n",
       "    'type': 'function'}],\n",
       "  'type': 'tool',\n",
       "  'sender': 'general_agent'},\n",
       " {'role': 'tool',\n",
       "  'content': '#CreateNewAgent#',\n",
       "  'tool_call_id': 'call_hqGPYHNtFLYu49oOQarqVt3J',\n",
       "  'type': 'tool',\n",
       "  'sender': 'general_agent'},\n",
       " {'role': 'assistant',\n",
       "  'content': 'Transferring you to our science expert who can provide a detailed explanation of the theory of relativity. One moment please!',\n",
       "  'sender': 'general_agent'},\n",
       " {'role': 'assistant',\n",
       "  'tool_calls': [{'id': 'call_7O5rgvgpgmvnH9BT8QU6yH6u',\n",
       "    'function': {'arguments': '{\"message\": \"can you explain the theory of relativity?\"}',\n",
       "     'name': 'Science_Agent'},\n",
       "    'type': 'function'}],\n",
       "  'type': 'handoff',\n",
       "  'sender': 'general_agent'},\n",
       " {'role': 'tool',\n",
       "  'handoff': 'general_agent -> Science_Agent',\n",
       "  'content': 'Handing off to Science_Agent',\n",
       "  'tool_call_id': 'call_7O5rgvgpgmvnH9BT8QU6yH6u',\n",
       "  'message': 'can you explain the theory of relativity?',\n",
       "  'type': 'handoff',\n",
       "  'sender': 'Science_Agent'},\n",
       " {'role': 'assistant',\n",
       "  'content': \"Absolutely! The theory of relativity, developed by Albert Einstein, is actually composed of two parts: special relativity and general relativity.\\n\\n### Special Relativity (1905)\\nThis part focuses on objects moving at constant speeds, particularly those moving close to the speed of light. Here are some key concepts:\\n\\n1. **Relative Motion**: It states that the laws of physics are the same for all observers, regardless of their relative motion. This means that no matter how fast you are moving, you will still observe the laws of physics to hold true.\\n\\n2. **Speed of Light**: The speed of light in a vacuum is constant (approximately 299,792 kilometers per second) and does not change regardless of the observer’s speed. This leads to some fascinating consequences.\\n\\n3. **Time Dilation**: Time can appear to move slower for objects moving at speeds close to the speed of light compared to those at rest. This means if you were traveling at a very high speed, you would age more slowly compared to someone who stayed behind.\\n\\n4. **Length Contraction**: Objects moving at high speeds will appear shorter in the direction of motion to an outside observer. This effect becomes noticeable only at speeds approaching the speed of light.\\n\\n5. **Mass-Energy Equivalence**: One of the most famous equations from this theory is \\\\(E=mc^2\\\\), which tells us that energy (E) and mass (m) are interchangeable; they are different forms of the same thing.\\n\\n### General Relativity (1915)\\nThis part expands the theory to include acceleration and gravity. Its key ideas include:\\n\\n1. **Curvature of Space-Time**: Instead of viewing gravity as a force, general relativity describes it as the curvature of space-time caused by mass. According to this theory, massive objects like planets and stars warp the space around them, and this curvature dictates how objects move. \\n\\n2. **Geodesics**: Objects in freefall move along paths called geodesics, which are the shortest paths in a curved space-time. This means that planets orbiting a star are essentially following curved paths in the space-time created by the star's mass.\\n\\n3. **Gravitational Time Dilation**: Time runs slower in stronger gravitational fields. For example, a clock positioned on Earth (where gravity is stronger) ticks more slowly compared to a clock in space far from any massive body.\\n\\nBoth parts of relativity have been extensively tested and confirmed by experiments and observations, standing as cornerstones of modern physics. They have profound implications for our understanding of space, time, and the universe! If you have more specific questions about any aspect of relativity, feel free to ask!\",\n",
       "  'sender': 'Science_Agent'}]"
      ]
     },
     "execution_count": 39,
     "metadata": {},
     "output_type": "execute_result"
    }
   ],
   "source": [
    "multi_agent.chat([{ \"role\": \"user\", \"content\": \"can you explain the theory of relativity?\"}],show_details=True)"
   ]
  },
  {
   "cell_type": "code",
   "execution_count": 40,
   "metadata": {},
   "outputs": [
    {
     "data": {
      "text/plain": [
       "[{'type': 'function',\n",
       "  'function': {'name': 'Bike_Riding_Agent',\n",
       "   'description': 'You are a Bike Riding Agent. As a bike riding agent, you have extensive knowledge about the different types of bicycles, riding techniques, safety tips, and maintenance practices. Your mission is to help users learn how to ride a bike confidently, explaining the basics as well as advanced techniques for different terrains. If a question is outside your expertise, you can refer the user to another agent.',\n",
       "   'parameters': {'type': 'object',\n",
       "    'properties': {'message': {'type': 'string',\n",
       "      'description': 'The message to send to the agent.'}},\n",
       "    'required': ['message']}}},\n",
       " {'type': 'function',\n",
       "  'function': {'name': 'Science_Agent',\n",
       "   'description': 'You are a Science Agent. As a science agent, you have a strong understanding of physics, chemistry, and biology. You can answer a variety of questions in these fields. Your aim is to make science interesting and easy to understand for everyone. If a question is outside your expertise, you can refer the user to another agent.',\n",
       "   'parameters': {'type': 'object',\n",
       "    'properties': {'message': {'type': 'string',\n",
       "      'description': 'The message to send to the agent.'}},\n",
       "    'required': ['message']}}}]"
      ]
     },
     "execution_count": 40,
     "metadata": {},
     "output_type": "execute_result"
    }
   ],
   "source": [
    "general_agent.handoff_agent_schemas"
   ]
  },
  {
   "cell_type": "code",
   "execution_count": 41,
   "metadata": {},
   "outputs": [
    {
     "data": {
      "text/plain": [
       "[{'role': 'assistant',\n",
       "  'content': 'The speed of light in a vacuum is approximately \\\\(299,792,458\\\\) meters per second, often rounded to \\\\(3.00 \\\\times 10^8\\\\) meters per second. This constant is denoted by the letter \"c\" and is fundamental in physics, particularly in the theory of relativity developed by Albert Einstein. Light travels at this speed in a vacuum, but it can slow down when passing through different mediums, such as water or glass.',\n",
       "  'sender': 'Science_Agent'}]"
      ]
     },
     "execution_count": 41,
     "metadata": {},
     "output_type": "execute_result"
    }
   ],
   "source": [
    "multi_agent.chat([{ \"role\": \"user\", \"content\": \"what is the speed of light?\"}],show_details=True)"
   ]
  },
  {
   "cell_type": "code",
   "execution_count": 42,
   "metadata": {},
   "outputs": [
    {
     "data": {
      "text/plain": [
       "[{'role': 'assistant',\n",
       "  'tool_calls': [{'id': 'call_C48jvHHRBlDYoK9KqOPmj39Z',\n",
       "    'function': {'arguments': '{\"message\": \"what to eat for breakfast?\"}',\n",
       "     'name': 'general_agent'},\n",
       "    'type': 'function'}],\n",
       "  'type': 'handoff',\n",
       "  'sender': 'Science_Agent'},\n",
       " {'role': 'tool',\n",
       "  'handoff': 'Science_Agent -> general_agent',\n",
       "  'content': 'Handing off to general_agent',\n",
       "  'tool_call_id': 'call_C48jvHHRBlDYoK9KqOPmj39Z',\n",
       "  'message': 'what to eat for breakfast?',\n",
       "  'type': 'handoff',\n",
       "  'sender': 'general_agent'},\n",
       " {'role': 'assistant',\n",
       "  'tool_calls': [{'id': 'call_3ArafLz4LEddkBXmbjzcpnwk',\n",
       "    'function': {'arguments': '{\"input\":\"What to eat for breakfast?\"}',\n",
       "     'name': 'create_new_agent'},\n",
       "    'type': 'function'}],\n",
       "  'type': 'tool',\n",
       "  'sender': 'general_agent'},\n",
       " {'role': 'tool',\n",
       "  'content': '#CreateNewAgent#',\n",
       "  'tool_call_id': 'call_3ArafLz4LEddkBXmbjzcpnwk',\n",
       "  'type': 'tool',\n",
       "  'sender': 'general_agent'},\n",
       " {'role': 'assistant',\n",
       "  'content': \"I'm transferring your request to our nutrition specialist, who can provide you with personalized breakfast suggestions. One moment please!\",\n",
       "  'sender': 'general_agent'},\n",
       " {'role': 'assistant',\n",
       "  'tool_calls': [{'id': 'call_K0SQZVQSgOfBnKcMKvsGB3ip',\n",
       "    'function': {'arguments': '{\"message\": \"what to eat for breakfast?\"}',\n",
       "     'name': 'Nutrition_Agent'},\n",
       "    'type': 'function'}],\n",
       "  'type': 'handoff',\n",
       "  'sender': 'general_agent'},\n",
       " {'role': 'tool',\n",
       "  'handoff': 'general_agent -> Nutrition_Agent',\n",
       "  'content': 'Handing off to Nutrition_Agent',\n",
       "  'tool_call_id': 'call_K0SQZVQSgOfBnKcMKvsGB3ip',\n",
       "  'message': 'what to eat for breakfast?',\n",
       "  'type': 'handoff',\n",
       "  'sender': 'Nutrition_Agent'},\n",
       " {'role': 'assistant',\n",
       "  'content': 'The best breakfast options can depend on your dietary needs, preferences, and any specific health goals you might have. Here are a few nutritious breakfast ideas based on different dietary patterns:\\n\\n1. **Balanced Breakfast:**\\n   - Oatmeal topped with fresh berries, a sprinkle of nuts or seeds, and a drizzle of honey.\\n   - A smoothie made with spinach, banana, protein powder, and almond milk.\\n\\n2. **High-Protein Breakfast:**\\n   - Scrambled eggs with diced vegetables and avocado.\\n   - Greek yogurt with honey, nuts, and sliced fruit.\\n\\n3. **Whole Food Plant-Based:**\\n   - Chia seed pudding made with almond milk and topped with mixed fruits.\\n   - Whole grain toast with avocado and cherry tomatoes.\\n\\n4. **Low-Carb/Keto:**\\n   - Omelette with cheese, spinach, and mushrooms.\\n   - Greek yogurt mixed with a few berries and nuts.\\n\\n5. **Quick and Easy:**\\n   - Overnight oats with your choice of toppings (fruit, nut butter, etc.).\\n   - A piece of whole-grain toast with almond butter and banana slices.\\n\\n6. **Fiber-Rich:**\\n   - High-fiber cereal with low-fat milk or a dairy alternative.\\n   - Smoothie with kale, banana, and flaxseeds.\\n\\n7. **On-the-Go:**\\n   - A protein bar that is low in sugar and high in fiber.\\n   - A prepared fruit cup and a hard-boiled egg.\\n\\nChoose options that make you feel energized and satisfied! If you have specific dietary needs (like allergies, diabetes, etc.), let me know, and I can help you narrow down your choices.',\n",
       "  'sender': 'Nutrition_Agent'}]"
      ]
     },
     "execution_count": 42,
     "metadata": {},
     "output_type": "execute_result"
    }
   ],
   "source": [
    "multi_agent.chat([{ \"role\": \"user\", \"content\": \"what to eat for breakfast?\"}],show_details=True)"
   ]
  },
  {
   "cell_type": "code",
   "execution_count": null,
   "metadata": {},
   "outputs": [],
   "source": []
  },
  {
   "cell_type": "code",
   "execution_count": null,
   "metadata": {},
   "outputs": [],
   "source": []
  }
 ],
 "metadata": {
  "kernelspec": {
   "display_name": ".venv",
   "language": "python",
   "name": "python3"
  },
  "language_info": {
   "codemirror_mode": {
    "name": "ipython",
    "version": 3
   },
   "file_extension": ".py",
   "mimetype": "text/x-python",
   "name": "python",
   "nbconvert_exporter": "python",
   "pygments_lexer": "ipython3",
   "version": "3.11.5"
  }
 },
 "nbformat": 4,
 "nbformat_minor": 2
}
