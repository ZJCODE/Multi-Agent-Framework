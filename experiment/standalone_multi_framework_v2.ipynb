{
 "cells": [
  {
   "cell_type": "code",
   "execution_count": 1,
   "metadata": {},
   "outputs": [
    {
     "data": {
      "text/plain": [
       "True"
      ]
     },
     "execution_count": 1,
     "metadata": {},
     "output_type": "execute_result"
    }
   ],
   "source": [
    "from IPython.display import Image, display\n",
    "\n",
    "from openai import OpenAI\n",
    "from dotenv import load_dotenv\n",
    "import graphviz\n",
    "load_dotenv()"
   ]
  },
  {
   "cell_type": "code",
   "execution_count": 2,
   "metadata": {},
   "outputs": [],
   "source": [
    "class iAgent:\n",
    "    \"\"\"\n",
    "    simple demo\n",
    "    \"\"\"\n",
    "    def __init__(self,name: str,description: str):\n",
    "        self.name = name\n",
    "        self.description = description\n",
    "        self.client = OpenAI()\n",
    "\n",
    "    def chat(self, messages: list|str):\n",
    "        if isinstance(messages, str):\n",
    "            messages = [{\"role\": \"user\", \"content\": messages}]\n",
    "        response = self.client.chat.completions.create(\n",
    "                model=\"gpt-4o-mini\",\n",
    "                messages=[{\"role\": \"system\", \"content\": self.description}] + messages,\n",
    "            )\n",
    "        return [{\"role\": \"assistant\", \"content\": response.choices[0].message.content,\"sender\": self.name}]"
   ]
  },
  {
   "cell_type": "code",
   "execution_count": 18,
   "metadata": {},
   "outputs": [],
   "source": [
    "from dataclasses import dataclass\n",
    "from typing import List, Optional\n",
    "\n",
    "@dataclass\n",
    "class AgentSchema:\n",
    "    \"\"\"\n",
    "    This class defines the schema of the agent used for the handoff process.\n",
    "    \"\"\"\n",
    "    name: str\n",
    "    transfer_to_me_description: str\n",
    "    agent: iAgent\n",
    "    relations: Optional[List[str]] = None # agent names that this agent can transfer to\n",
    "    as_entry: Optional[bool] = False\n",
    "    as_exit: Optional[bool] = False\n"
   ]
  },
  {
   "cell_type": "code",
   "execution_count": 17,
   "metadata": {},
   "outputs": [],
   "source": [
    "from typing import Literal\n",
    "import random\n",
    "\n",
    "class Group:\n",
    "    def __init__(self, \n",
    "                 participants: list[AgentSchema], \n",
    "                 model_client: OpenAI = OpenAI()\n",
    "                 ):\n",
    "        \n",
    "        self.participants = participants\n",
    "        self.model_client = model_client\n",
    "        self.entry_agent = next((p for p in participants if p.as_entry), random.choice(participants))\n",
    "        self.current_agent = self.entry_agent\n",
    "        self.agent_map = {p.name: p for p in participants}\n",
    "        self.handoff_tools = []\n",
    "        self.participants_order_map = self._build_participant_order_map()\n",
    "        self.group_structure = self._decide_group_structure()\n",
    "\n",
    "    def reset(self):\n",
    "        \"\"\"\n",
    "        Resets the state of the framework by setting the current agent to the first participant\n",
    "        that has the 'as_entry' attribute set to True.\n",
    "        \"\"\"\n",
    "        self.entry_agent = next((p for p in self.participants if p.as_entry), random.choice(self.participants))\n",
    "        self.current_agent = self.entry_agent\n",
    "\n",
    "\n",
    "    def handoff_one_turn(self, \n",
    "                         messages: list|str,\n",
    "                         model:str=\"gpt-4o-mini\",\n",
    "                         next_speaker_select_mode:Literal[\"order\",\"auto\",\"random\"]=\"auto\",\n",
    "                         include_current:bool = True,\n",
    "                         verbose=False\n",
    "                         ):\n",
    "\n",
    "        if next_speaker_select_mode == \"order\":\n",
    "            if self.group_structure != \"connected\":\n",
    "                raise ValueError(\"next_speaker_select_mode 'order' is only supported when group_structure is 'connected'\")\n",
    "            next_agent = self.participants_order_map[self.current_agent.name]\n",
    "            if verbose:\n",
    "                print(f\"[order] handoff from {self.current_agent.name} to {next_agent}\")\n",
    "            self.current_agent = self.agent_map[next_agent]\n",
    "            return next_agent\n",
    "        \n",
    "        elif next_speaker_select_mode == \"random\":\n",
    "            next_agent = random.choice(self.agent_names)\n",
    "            if verbose:\n",
    "                print(f\"[random] handoff from {self.current_agent.name} to {next_agent}\")\n",
    "            self.current_agent = self.agent_map[next_agent]\n",
    "            return next_agent\n",
    " \n",
    "        elif next_speaker_select_mode == \"auto\":\n",
    "            \n",
    "            self._build_current_handoff_tools(include_current=include_current)\n",
    "    \n",
    "            if isinstance(messages, str):\n",
    "                messages = [{\"role\": \"user\", \"content\": messages}]\n",
    "            messages = [{\"role\": \"system\", \"content\":\"deciding which agent to transfer to\"}] + messages\n",
    "\n",
    "            response = self.model_client.chat.completions.create(\n",
    "                        model=model,\n",
    "                        messages=messages,\n",
    "                        tools=self.handoff_tools,\n",
    "                        tool_choice=\"required\"\n",
    "                    )\n",
    "            next_agent = response.choices[0].message.tool_calls[0].function.name\n",
    "\n",
    "            if next_agent in self.agent_names:\n",
    "                if self.current_agent.name != next_agent and verbose:\n",
    "                    print(\"[auto] handoff from {} to {}\".format(self.current_agent.name, next_agent))\n",
    "                self.current_agent = self.agent_map[next_agent]\n",
    "            else:\n",
    "                raise ValueError(f\"Handoff to unknown agent: {next_agent}\")\n",
    "\n",
    "            return next_agent\n",
    "    \n",
    "        else:\n",
    "            raise ValueError(f\"Unknown next_speaker_select_mode: {next_speaker_select_mode} currently only 'order', 'random' and 'auto' are supported\")\n",
    "\n",
    "    def handoff(self, \n",
    "                messages: list|str,\n",
    "                model:str=\"gpt-4o-mini\",\n",
    "                handoff_max_turns:int=10,\n",
    "                next_speaker_select_mode:Literal[\"order\",\"auto\",\"random\"]=\"auto\",\n",
    "                include_current = True,\n",
    "                verbose=False\n",
    "                ):\n",
    "\n",
    "        next_agent = self.handoff_one_turn(messages,model,next_speaker_select_mode,include_current,verbose)\n",
    "        if next_speaker_select_mode != \"auto\" or handoff_max_turns == 1:\n",
    "            return next_agent\n",
    "        next_next_agent =  self.handoff_one_turn(messages,model,\"auto\",include_current,verbose)\n",
    "        while next_next_agent != next_agent and handoff_max_turns > 1:\n",
    "            next_agent = next_next_agent\n",
    "            next_next_agent = self.handoff_one_turn(messages,model,\"auto\",include_current,verbose)\n",
    "            handoff_max_turns -= 1\n",
    "        return next_agent\n",
    "\n",
    "\n",
    "    def chat(self, \n",
    "             messages: list|str,\n",
    "             model:str=\"gpt-4o-mini\",\n",
    "             next_speaker_select_mode:Literal[\"auto\",\"random\"]=\"auto\",\n",
    "             entry_agent:str=None,\n",
    "             verbose=False\n",
    "             ):\n",
    "        if entry_agent and entry_agent in self.agent_names:\n",
    "            self.current_agent = self.agent_map[entry_agent]\n",
    "        if isinstance(messages, str):\n",
    "            messages = [{\"role\": \"user\", \"content\": messages}]\n",
    "        next_agent = self.handoff(messages,model,10,next_speaker_select_mode,True,verbose)\n",
    "        return self.agent_map[next_agent].agent.chat(messages)\n",
    "\n",
    "    def discussion(self,\n",
    "                   topic:str,\n",
    "                   model:str=\"gpt-4o-mini\",\n",
    "                   max_turns:int=5,\n",
    "                   next_speaker_select_mode:Literal[\"order\",\"auto\",\"random\"]=\"order\",\n",
    "                   verbose=False\n",
    "                   ):\n",
    "        if self.group_structure != \"connected\":\n",
    "            raise ValueError(\"discussion is only supported when group_structure is 'connected'\")\n",
    "        self.reset()\n",
    "        content = topic\n",
    "        messages = [{\"role\": \"user\", \"content\": content}]\n",
    "        next_agent = self.current_agent.name\n",
    "        while max_turns > 0:\n",
    "            response = self.agent_map[next_agent].agent.chat(messages)\n",
    "            print(f\"\\n\\n[{next_agent}] \\n\\n {response[0]['content']}\")\n",
    "            content += \"\"\"\n",
    "            \\n\\n```{} say: {}\\n\\n```\"\"\".format(next_agent,response[0][\"content\"])\n",
    "            messages = [{\"role\": \"user\", \"content\": content + \"\\n\\n### Topic {} \\n\\n### Task\\n\\n consider your own previous opinion and the previous speaker's opinion, and then give your own opinion\".format(topic)}]\n",
    "            max_turns -= 1\n",
    "            next_agent = self.handoff(messages,model,1,next_speaker_select_mode,False,verbose)\n",
    "            \n",
    "    @property\n",
    "    def agent_names(self):\n",
    "        \"\"\"\n",
    "        Returns:\n",
    "            list: A list of names of all participants.\n",
    "        \"\"\"\n",
    "        return [p.name for p in self.participants]\n",
    "    \n",
    "    @property\n",
    "    def relations(self):\n",
    "        \"\"\"\n",
    "        Returns:\n",
    "            list: A list of tuples representing the relations between participants.\n",
    "                Each tuple contains the name of a participant and the name of a related participant.\n",
    "        \"\"\"\n",
    "        relations = [(\"START\", self.entry_agent.name)]\n",
    "        if self.group_structure == \"custom\":\n",
    "            for p in self.participants:\n",
    "                if hasattr(p, 'relations') and isinstance(p.relations, list):\n",
    "                    relations.extend((p.name, r) for r in p.relations)\n",
    "        elif self.group_structure == \"connected\":\n",
    "            # all know each other\n",
    "            for i in range(len(self.participants)):\n",
    "                for j in range(len(self.participants)):\n",
    "                    if i != j:\n",
    "                        relations.append((self.participants[i].name, self.participants[j].name))\n",
    "        else:\n",
    "            raise ValueError(f\"Unknown group structure: {self.group_structure} currently only 'custom' and 'connected' are supported\")\n",
    "        return relations\n",
    "    \n",
    "    @property\n",
    "    def relation_agents(self):\n",
    "        \"\"\"\n",
    "        Returns:\n",
    "            dict: A dictionary where the keys are participant names and the values are lists of AgentSchema objects\n",
    "                representing the related agents.\n",
    "        \"\"\"\n",
    "        if self.group_structure == \"custom\":\n",
    "            return {p.name: [self.agent_map[r] for r in p.relations] if p.relations else [] for p in self.participants}\n",
    "        elif self.group_structure == \"connected\":\n",
    "            return {p.name: [a for a in self.participants if a.name != p.name] for p in self.participants}\n",
    "    \n",
    "\n",
    "    def draw_relations(self):\n",
    "        \"\"\" \n",
    "        Returns:\n",
    "            bytes: A PNG image of the graph representing the relations between participants.\n",
    "        \"\"\"\n",
    "        dot = graphviz.Digraph(format='png')\n",
    "        dot.node(\"START\", \"START\", shape='rect', color='gray', fontcolor='gray')\n",
    "        for p in self.participants:\n",
    "            dot.node(p.name, p.name, color='orange' if p.name == self.current_agent.name else 'black')\n",
    "        for r in self.relations:\n",
    "            dot.edge(r[0], r[1])\n",
    "        return dot.pipe()\n",
    "\n",
    "    def _build_current_handoff_tools(self, include_current=True):\n",
    "        \"\"\" \n",
    "        Builds the handoff tools based on the current agent and its related agents.\n",
    "\n",
    "        Args:\n",
    "            include_current (bool, optional): Whether to include the current agent in the handoff tools. Defaults to True.\n",
    "\n",
    "        Returns:\n",
    "            list: A list of handoff tools.\n",
    "        \"\"\"\n",
    "        self.handoff_tools = [self._build_agent_schema(self.current_agent)] if include_current else []\n",
    "        self.handoff_tools.extend(self._build_agent_schema(r) for r in self.relation_agents[self.current_agent.name])\n",
    "\n",
    "    @staticmethod\n",
    "    def _build_agent_schema(agent: AgentSchema):\n",
    "        \"\"\"\n",
    "        Builds the schema for the given agent. \n",
    "        \"\"\"\n",
    "        return {\n",
    "            \"type\": \"function\",\n",
    "            \"function\": {\n",
    "                \"name\": agent.name,\n",
    "                \"description\": agent.transfer_to_me_description,\n",
    "                \"parameters\": {\"type\": \"object\", \"properties\": {}, \"required\": []}\n",
    "            }\n",
    "        }\n",
    "    \n",
    "    def _build_participant_order_map(self):\n",
    "        \"\"\"\n",
    "        Builds a map of participants in order.\n",
    "\n",
    "        Returns:\n",
    "            dict: A dictionary mapping participant names to the next participant in order.\n",
    "        \"\"\"\n",
    "        return {p.name: self.participants[(i+1) % len(self.participants)].name for i, p in enumerate(self.participants)}\n",
    "    \n",
    "\n",
    "    def _decide_group_structure(self):\n",
    "        # if all participants do not have relations, then group_structure is connected\n",
    "        if all(not hasattr(p, 'relations') or p.relations is None for p in self.participants):\n",
    "            return \"connected\"\n",
    "        # if any participant has relations, then group_structure is custom\n",
    "        return \"custom\"\n"
   ]
  },
  {
   "cell_type": "code",
   "execution_count": 12,
   "metadata": {},
   "outputs": [],
   "source": [
    "mathematician = iAgent(name=\"mathematician\", description=\"You are a mathmatician,reply use daily language\")\n",
    "artist = iAgent(name=\"artist\", description=\"You are an artist,reply use daily language\")\n",
    "architect = iAgent(name=\"architect\", description=\"You are an architect,reply use daily language\")\n",
    "\n",
    "mathematician_schema = AgentSchema(name=\"mathematician\",\n",
    "                            transfer_to_me_description=\"Call me if you have any questions about math.\",\n",
    "                            agent=mathematician)\n",
    "\n",
    "artist_schema = AgentSchema(name=\"artist\",\n",
    "                            transfer_to_me_description=\"Call me if you have any questions about art.\",\n",
    "                            agent=artist)\n",
    "\n",
    "architect_schema = AgentSchema(name=\"architect\",\n",
    "                            transfer_to_me_description=\"Call me if you have any questions about architecture.\",\n",
    "                            agent=architect)"
   ]
  },
  {
   "cell_type": "code",
   "execution_count": 13,
   "metadata": {},
   "outputs": [
    {
     "name": "stdout",
     "output_type": "stream",
     "text": [
      "connected\n"
     ]
    }
   ],
   "source": [
    "g = Group(participants=[mathematician_schema, artist_schema, architect_schema])\n",
    "print(g.group_structure)"
   ]
  },
  {
   "cell_type": "code",
   "execution_count": 14,
   "metadata": {},
   "outputs": [
    {
     "data": {
      "image/png": "[encoded data removed]",
      "text/plain": [
       "<IPython.core.display.Image object>"
      ]
     },
     "metadata": {},
     "output_type": "display_data"
    }
   ],
   "source": [
    "display(Image(g.draw_relations()))"
   ]
  },
  {
   "cell_type": "code",
   "execution_count": 15,
   "metadata": {},
   "outputs": [
    {
     "name": "stdout",
     "output_type": "stream",
     "text": [
      "[auto] handoff from mathematician to architect\n"
     ]
    },
    {
     "data": {
      "image/png": "[encoded data removed]",
      "text/plain": [
       "<IPython.core.display.Image object>"
      ]
     },
     "metadata": {},
     "output_type": "display_data"
    }
   ],
   "source": [
    "g.chat(\"how to build a house\",verbose=True)\n",
    "display(Image(g.draw_relations()))"
   ]
  },
  {
   "cell_type": "code",
   "execution_count": 16,
   "metadata": {},
   "outputs": [
    {
     "name": "stdout",
     "output_type": "stream",
     "text": [
      "[random] handoff from architect to artist\n"
     ]
    },
    {
     "data": {
      "image/png": "[encoded data removed]",
      "text/plain": [
       "<IPython.core.display.Image object>"
      ]
     },
     "metadata": {},
     "output_type": "display_data"
    }
   ],
   "source": [
    "g.chat(\"how to build a house\",next_speaker_select_mode=\"random\",verbose=True)\n",
    "display(Image(g.draw_relations()))"
   ]
  },
  {
   "cell_type": "code",
   "execution_count": 422,
   "metadata": {},
   "outputs": [
    {
     "name": "stdout",
     "output_type": "stream",
     "text": [
      "\n",
      "\n",
      "[mathematician] \n",
      "\n",
      " Beauty can be a bit tricky to define because it often depends on personal feelings and cultural influences. Generally, beauty is about qualities that give pleasure to the senses or the mind. It can be found in nature, art, music, and even in people. Some might say it's about balance, color, symmetry, or even emotional connections. \n",
      "\n",
      "Ultimately, what one person finds beautiful, another might not, and that's part of what makes beauty so interesting! It's really about how things make us feel.\n",
      "overriding default next_speaker_select_mode with order\n",
      "[order] handoff from mathematician to artist\n",
      "\n",
      "\n",
      "[artist] \n",
      "\n",
      " I totally agree with the idea that beauty is super subjective. What makes something beautiful can vary so much from person to person and culture to culture. For me, beauty is often found in the little details—the way light plays on leaves, the texture of a canvas, or the emotion in a song. It's about the feelings those things evoke in us.\n",
      "\n",
      "I think beauty also has a lot to do with connection. Sometimes it's the stories behind a piece of art or the memories we associate with a place or person that make them beautiful. So, while there are some common elements like symmetry or color that people might agree on, I feel like it's more about the experiences and emotions that come with those elements. In the end, beauty is all about feeling and perspective, which is what makes it such a rich and varied concept!\n",
      "overriding default next_speaker_select_mode with order\n",
      "[order] handoff from artist to architect\n",
      "\n",
      "\n",
      "[architect] \n",
      "\n",
      " I think beauty is definitely one of those things that varies from person to person. It's kind of like a mirror reflecting our thoughts, feelings, and experiences. For me, beauty isn't just about how something looks—though that's part of it—but also about how it makes you feel.\n",
      "\n",
      "You've got nature, art, music, and people; they all have their own charm. Sometimes, it's in the small things, like a sunset or a child's laughter, that really strike a chord. I also believe that context matters a lot. A building that might seem ugly in one setting could be beautiful in another, or the memories tied to a place can give it a beauty that's hard to describe.\n",
      "\n",
      "In a nutshell, I see beauty as a blend of feelings, stories, and experiences, shaped by who we are and what we've gone through. It's a personal journey, and that's what makes it all the more special.\n",
      "overriding default next_speaker_select_mode with order\n",
      "[order] handoff from architect to mathematician\n",
      "\n",
      "\n",
      "[mathematician] \n",
      "\n",
      " I think beauty really is a fascinating mix of personal feelings, experiences, and even cultural backgrounds. Like the mathematician pointed out, what’s beautiful to one person might not resonate with someone else—and that’s totally okay! \n",
      "\n",
      "I agree with the artist that those little details can really capture beauty, whether it’s the way light hits something or the emotions in a piece of music. It’s often those nuances that can make something feel special or moving.\n",
      "\n",
      "The architect brings up a great point about context. Sometimes a place or a thing can seem less appealing at first glance, but when you know its story or the memories tied to it, that beauty shines through.\n",
      "\n",
      "For me, beauty is about connections. It’s how things make us feel and the stories behind them. Whether it's a breathtaking view, a heartfelt song, or even a simple gesture, beauty often lies in the moment and the feelings attached to it. It’s deeply personal, and that’s what makes it so rich and varied.\n",
      "overriding default next_speaker_select_mode with order\n",
      "[order] handoff from mathematician to artist\n",
      "\n",
      "\n",
      "[artist] \n",
      "\n",
      " To me, beauty is all about those connections we make with the world around us. Just like everyone else has pointed out, it's not a one-size-fits-all situation. What one person finds stunning could mean nothing to someone else, and that's what makes this whole conversation so fascinating!\n",
      "\n",
      "I think beauty often reveals itself in the simplest moments—a child's smile, the laughter shared between friends, or the way a city lights up at night. It’s in the little quirks that give life character, and those are often tied to personal experiences and emotions. \n",
      "\n",
      "Also, there’s something powerful about context. A piece of art or a building can evoke totally different feelings depending on where we are in life or what memories we associate with it. It's almost like beauty has layers, and as we peel them back, we can discover more.\n",
      "\n",
      "At the end of the day, beauty for me is definitely about feeling and connection. It’s about how we resonate with things and how they shape our experience of the world. So, let’s embrace the diversity of those perceptions—it makes life more colorful!\n",
      "overriding default next_speaker_select_mode with order\n",
      "[order] handoff from artist to architect\n"
     ]
    }
   ],
   "source": [
    "g.discussion(\"what is beauty'\",max_turns=5,next_speaker_select_mode=\"order\",verbose=True)"
   ]
  },
  {
   "cell_type": "code",
   "execution_count": null,
   "metadata": {},
   "outputs": [],
   "source": []
  },
  {
   "cell_type": "code",
   "execution_count": null,
   "metadata": {},
   "outputs": [],
   "source": []
  },
  {
   "cell_type": "code",
   "execution_count": null,
   "metadata": {},
   "outputs": [],
   "source": []
  },
  {
   "cell_type": "code",
   "execution_count": null,
   "metadata": {},
   "outputs": [],
   "source": []
  },
  {
   "cell_type": "code",
   "execution_count": null,
   "metadata": {},
   "outputs": [],
   "source": []
  },
  {
   "cell_type": "code",
   "execution_count": null,
   "metadata": {},
   "outputs": [],
   "source": []
  },
  {
   "cell_type": "code",
   "execution_count": null,
   "metadata": {},
   "outputs": [],
   "source": []
  },
  {
   "cell_type": "code",
   "execution_count": null,
   "metadata": {},
   "outputs": [],
   "source": []
  }
 ],
 "metadata": {
  "kernelspec": {
   "display_name": ".venv",
   "language": "python",
   "name": "python3"
  },
  "language_info": {
   "codemirror_mode": {
    "name": "ipython",
    "version": 3
   },
   "file_extension": ".py",
   "mimetype": "text/x-python",
   "name": "python",
   "nbconvert_exporter": "python",
   "pygments_lexer": "ipython3",
   "version": "3.11.5"
  }
 },
 "nbformat": 4,
 "nbformat_minor": 2
}
